{
 "cells": [
  {
   "cell_type": "markdown",
   "metadata": {},
   "source": [
    "# Open your new rest"
   ]
  },
  {
   "cell_type": "markdown",
   "metadata": {},
   "source": [
    "this repo includes insightful data analysis and visualizations on cafes and restaurants which are reviewed and rated on df2 in Bangkok"
   ]
  },
  {
   "cell_type": "code",
   "execution_count": 3,
   "metadata": {},
   "outputs": [],
   "source": [
    "import pandas as pd\n",
    "from pandas import Series,DataFrame\n",
    "import numpy as np\n",
    "\n",
    "# For Visualization\n",
    "import matplotlib.pyplot as plt\n",
    "import seaborn as sns\n",
    "import plotly\n",
    "import plotly.express as px\n",
    "import plotly.graph_objs as go\n",
    "from geopy.geocoders import Nominatim\n",
    "import folium\n",
    "from folium.plugins import HeatMap\n",
    "from folium.plugins import FastMarkerCluster\n",
    "from plotly import tools\n",
    "import re\n",
    "from plotly.offline import init_notebook_mode, plot, iplot\n"
   ]
  },
  {
   "cell_type": "markdown",
   "metadata": {},
   "source": [
    "## PrePro"
   ]
  },
  {
   "cell_type": "markdown",
   "metadata": {},
   "source": [
    "### read"
   ]
  },
  {
   "cell_type": "code",
   "execution_count": 4,
   "metadata": {},
   "outputs": [],
   "source": [
    "df = pd.read_csv('./dbs/zomato.csv')"
   ]
  },
  {
   "cell_type": "code",
   "execution_count": 5,
   "metadata": {},
   "outputs": [
    {
     "data": {
      "text/html": [
       "<div>\n",
       "<style scoped>\n",
       "    .dataframe tbody tr th:only-of-type {\n",
       "        vertical-align: middle;\n",
       "    }\n",
       "\n",
       "    .dataframe tbody tr th {\n",
       "        vertical-align: top;\n",
       "    }\n",
       "\n",
       "    .dataframe thead th {\n",
       "        text-align: right;\n",
       "    }\n",
       "</style>\n",
       "<table border=\"1\" class=\"dataframe\">\n",
       "  <thead>\n",
       "    <tr style=\"text-align: right;\">\n",
       "      <th></th>\n",
       "      <th>url</th>\n",
       "      <th>address</th>\n",
       "      <th>name</th>\n",
       "      <th>online_order</th>\n",
       "      <th>book_table</th>\n",
       "      <th>rate</th>\n",
       "      <th>votes</th>\n",
       "      <th>phone</th>\n",
       "      <th>location</th>\n",
       "      <th>rest_type</th>\n",
       "      <th>dish_liked</th>\n",
       "      <th>cuisines</th>\n",
       "      <th>approx_cost(for two people)</th>\n",
       "      <th>reviews_list</th>\n",
       "      <th>menu_item</th>\n",
       "      <th>listed_in(type)</th>\n",
       "      <th>listed_in(city)</th>\n",
       "    </tr>\n",
       "  </thead>\n",
       "  <tbody>\n",
       "    <tr>\n",
       "      <th>0</th>\n",
       "      <td>https://www.zomato.com/bangalore/jalsa-banasha...</td>\n",
       "      <td>942, 21st Main Road, 2nd Stage, Banashankari, ...</td>\n",
       "      <td>Jalsa</td>\n",
       "      <td>Yes</td>\n",
       "      <td>Yes</td>\n",
       "      <td>4.1/5</td>\n",
       "      <td>775</td>\n",
       "      <td>080 42297555\\r\\n+91 9743772233</td>\n",
       "      <td>Banashankari</td>\n",
       "      <td>Casual Dining</td>\n",
       "      <td>Pasta, Lunch Buffet, Masala Papad, Paneer Laja...</td>\n",
       "      <td>North Indian, Mughlai, Chinese</td>\n",
       "      <td>800</td>\n",
       "      <td>[('Rated 4.0', 'RATED\\n  A beautiful place to ...</td>\n",
       "      <td>[]</td>\n",
       "      <td>Buffet</td>\n",
       "      <td>Banashankari</td>\n",
       "    </tr>\n",
       "    <tr>\n",
       "      <th>1</th>\n",
       "      <td>https://www.zomato.com/bangalore/spice-elephan...</td>\n",
       "      <td>2nd Floor, 80 Feet Road, Near Big Bazaar, 6th ...</td>\n",
       "      <td>Spice Elephant</td>\n",
       "      <td>Yes</td>\n",
       "      <td>No</td>\n",
       "      <td>4.1/5</td>\n",
       "      <td>787</td>\n",
       "      <td>080 41714161</td>\n",
       "      <td>Banashankari</td>\n",
       "      <td>Casual Dining</td>\n",
       "      <td>Momos, Lunch Buffet, Chocolate Nirvana, Thai G...</td>\n",
       "      <td>Chinese, North Indian, Thai</td>\n",
       "      <td>800</td>\n",
       "      <td>[('Rated 4.0', 'RATED\\n  Had been here for din...</td>\n",
       "      <td>[]</td>\n",
       "      <td>Buffet</td>\n",
       "      <td>Banashankari</td>\n",
       "    </tr>\n",
       "    <tr>\n",
       "      <th>2</th>\n",
       "      <td>https://www.zomato.com/SanchurroBangalore?cont...</td>\n",
       "      <td>1112, Next to KIMS Medical College, 17th Cross...</td>\n",
       "      <td>San Churro Cafe</td>\n",
       "      <td>Yes</td>\n",
       "      <td>No</td>\n",
       "      <td>3.8/5</td>\n",
       "      <td>918</td>\n",
       "      <td>+91 9663487993</td>\n",
       "      <td>Banashankari</td>\n",
       "      <td>Cafe, Casual Dining</td>\n",
       "      <td>Churros, Cannelloni, Minestrone Soup, Hot Choc...</td>\n",
       "      <td>Cafe, Mexican, Italian</td>\n",
       "      <td>800</td>\n",
       "      <td>[('Rated 3.0', \"RATED\\n  Ambience is not that ...</td>\n",
       "      <td>[]</td>\n",
       "      <td>Buffet</td>\n",
       "      <td>Banashankari</td>\n",
       "    </tr>\n",
       "    <tr>\n",
       "      <th>3</th>\n",
       "      <td>https://www.zomato.com/bangalore/addhuri-udupi...</td>\n",
       "      <td>1st Floor, Annakuteera, 3rd Stage, Banashankar...</td>\n",
       "      <td>Addhuri Udupi Bhojana</td>\n",
       "      <td>No</td>\n",
       "      <td>No</td>\n",
       "      <td>3.7/5</td>\n",
       "      <td>88</td>\n",
       "      <td>+91 9620009302</td>\n",
       "      <td>Banashankari</td>\n",
       "      <td>Quick Bites</td>\n",
       "      <td>Masala Dosa</td>\n",
       "      <td>South Indian, North Indian</td>\n",
       "      <td>300</td>\n",
       "      <td>[('Rated 4.0', \"RATED\\n  Great food and proper...</td>\n",
       "      <td>[]</td>\n",
       "      <td>Buffet</td>\n",
       "      <td>Banashankari</td>\n",
       "    </tr>\n",
       "    <tr>\n",
       "      <th>4</th>\n",
       "      <td>https://www.zomato.com/bangalore/grand-village...</td>\n",
       "      <td>10, 3rd Floor, Lakshmi Associates, Gandhi Baza...</td>\n",
       "      <td>Grand Village</td>\n",
       "      <td>No</td>\n",
       "      <td>No</td>\n",
       "      <td>3.8/5</td>\n",
       "      <td>166</td>\n",
       "      <td>+91 8026612447\\r\\n+91 9901210005</td>\n",
       "      <td>Basavanagudi</td>\n",
       "      <td>Casual Dining</td>\n",
       "      <td>Panipuri, Gol Gappe</td>\n",
       "      <td>North Indian, Rajasthani</td>\n",
       "      <td>600</td>\n",
       "      <td>[('Rated 4.0', 'RATED\\n  Very good restaurant ...</td>\n",
       "      <td>[]</td>\n",
       "      <td>Buffet</td>\n",
       "      <td>Banashankari</td>\n",
       "    </tr>\n",
       "  </tbody>\n",
       "</table>\n",
       "</div>"
      ],
      "text/plain": [
       "                                                 url  \\\n",
       "0  https://www.zomato.com/bangalore/jalsa-banasha...   \n",
       "1  https://www.zomato.com/bangalore/spice-elephan...   \n",
       "2  https://www.zomato.com/SanchurroBangalore?cont...   \n",
       "3  https://www.zomato.com/bangalore/addhuri-udupi...   \n",
       "4  https://www.zomato.com/bangalore/grand-village...   \n",
       "\n",
       "                                             address                   name  \\\n",
       "0  942, 21st Main Road, 2nd Stage, Banashankari, ...                  Jalsa   \n",
       "1  2nd Floor, 80 Feet Road, Near Big Bazaar, 6th ...         Spice Elephant   \n",
       "2  1112, Next to KIMS Medical College, 17th Cross...        San Churro Cafe   \n",
       "3  1st Floor, Annakuteera, 3rd Stage, Banashankar...  Addhuri Udupi Bhojana   \n",
       "4  10, 3rd Floor, Lakshmi Associates, Gandhi Baza...          Grand Village   \n",
       "\n",
       "  online_order book_table   rate  votes                             phone  \\\n",
       "0          Yes        Yes  4.1/5    775    080 42297555\\r\\n+91 9743772233   \n",
       "1          Yes         No  4.1/5    787                      080 41714161   \n",
       "2          Yes         No  3.8/5    918                    +91 9663487993   \n",
       "3           No         No  3.7/5     88                    +91 9620009302   \n",
       "4           No         No  3.8/5    166  +91 8026612447\\r\\n+91 9901210005   \n",
       "\n",
       "       location            rest_type  \\\n",
       "0  Banashankari        Casual Dining   \n",
       "1  Banashankari        Casual Dining   \n",
       "2  Banashankari  Cafe, Casual Dining   \n",
       "3  Banashankari          Quick Bites   \n",
       "4  Basavanagudi        Casual Dining   \n",
       "\n",
       "                                          dish_liked  \\\n",
       "0  Pasta, Lunch Buffet, Masala Papad, Paneer Laja...   \n",
       "1  Momos, Lunch Buffet, Chocolate Nirvana, Thai G...   \n",
       "2  Churros, Cannelloni, Minestrone Soup, Hot Choc...   \n",
       "3                                        Masala Dosa   \n",
       "4                                Panipuri, Gol Gappe   \n",
       "\n",
       "                         cuisines approx_cost(for two people)  \\\n",
       "0  North Indian, Mughlai, Chinese                         800   \n",
       "1     Chinese, North Indian, Thai                         800   \n",
       "2          Cafe, Mexican, Italian                         800   \n",
       "3      South Indian, North Indian                         300   \n",
       "4        North Indian, Rajasthani                         600   \n",
       "\n",
       "                                        reviews_list menu_item  \\\n",
       "0  [('Rated 4.0', 'RATED\\n  A beautiful place to ...        []   \n",
       "1  [('Rated 4.0', 'RATED\\n  Had been here for din...        []   \n",
       "2  [('Rated 3.0', \"RATED\\n  Ambience is not that ...        []   \n",
       "3  [('Rated 4.0', \"RATED\\n  Great food and proper...        []   \n",
       "4  [('Rated 4.0', 'RATED\\n  Very good restaurant ...        []   \n",
       "\n",
       "  listed_in(type) listed_in(city)  \n",
       "0          Buffet    Banashankari  \n",
       "1          Buffet    Banashankari  \n",
       "2          Buffet    Banashankari  \n",
       "3          Buffet    Banashankari  \n",
       "4          Buffet    Banashankari  "
      ]
     },
     "execution_count": 5,
     "metadata": {},
     "output_type": "execute_result"
    }
   ],
   "source": [
    "df.head()"
   ]
  },
  {
   "cell_type": "code",
   "execution_count": 6,
   "metadata": {},
   "outputs": [
    {
     "name": "stdout",
     "output_type": "stream",
     "text": [
      "<class 'pandas.core.frame.DataFrame'>\n",
      "RangeIndex: 51717 entries, 0 to 51716\n",
      "Data columns (total 17 columns):\n",
      " #   Column                       Non-Null Count  Dtype \n",
      "---  ------                       --------------  ----- \n",
      " 0   url                          51717 non-null  object\n",
      " 1   address                      51717 non-null  object\n",
      " 2   name                         51717 non-null  object\n",
      " 3   online_order                 51717 non-null  object\n",
      " 4   book_table                   51717 non-null  object\n",
      " 5   rate                         43942 non-null  object\n",
      " 6   votes                        51717 non-null  int64 \n",
      " 7   phone                        50509 non-null  object\n",
      " 8   location                     51696 non-null  object\n",
      " 9   rest_type                    51490 non-null  object\n",
      " 10  dish_liked                   23639 non-null  object\n",
      " 11  cuisines                     51672 non-null  object\n",
      " 12  approx_cost(for two people)  51371 non-null  object\n",
      " 13  reviews_list                 51717 non-null  object\n",
      " 14  menu_item                    51717 non-null  object\n",
      " 15  listed_in(type)              51717 non-null  object\n",
      " 16  listed_in(city)              51717 non-null  object\n",
      "dtypes: int64(1), object(16)\n",
      "memory usage: 6.7+ MB\n"
     ]
    }
   ],
   "source": [
    "df.info()\n",
    "# we can fill nulls in location column with adress column info and also fill rates with rates in review_list rates \n",
    "# dish liked nulls fill be filled with None value to imply nothing we can't drop null values in the column\n",
    "# url adress phone columns are useless for our analysis"
   ]
  },
  {
   "cell_type": "code",
   "execution_count": 7,
   "metadata": {},
   "outputs": [],
   "source": [
    "df.drop_duplicates(inplace=True)"
   ]
  },
  {
   "cell_type": "code",
   "execution_count": 8,
   "metadata": {},
   "outputs": [],
   "source": [
    "df = df.rename(columns={'approx_cost(for two people)':'cost','listed_in(type)':'type',\n",
    "                                  'listed_in(city)':'city'})"
   ]
  },
  {
   "cell_type": "code",
   "execution_count": 9,
   "metadata": {},
   "outputs": [
    {
     "data": {
      "text/plain": [
       "0         4.1/5\n",
       "1         4.1/5\n",
       "2         3.8/5\n",
       "3         3.7/5\n",
       "4         3.8/5\n",
       "          ...  \n",
       "51712    3.6 /5\n",
       "51713       NaN\n",
       "51714       NaN\n",
       "51715    4.3 /5\n",
       "51716    3.4 /5\n",
       "Name: rate, Length: 51717, dtype: object"
      ]
     },
     "execution_count": 9,
     "metadata": {},
     "output_type": "execute_result"
    }
   ],
   "source": [
    "df['rate']"
   ]
  },
  {
   "cell_type": "markdown",
   "metadata": {},
   "source": [
    "#### Deal columns one by one"
   ]
  },
  {
   "cell_type": "markdown",
   "metadata": {},
   "source": [
    "##### menu_item"
   ]
  },
  {
   "cell_type": "code",
   "execution_count": 10,
   "metadata": {},
   "outputs": [
    {
     "data": {
      "text/plain": [
       "url             12100\n",
       "address         12100\n",
       "name            12100\n",
       "online_order    12100\n",
       "book_table      12100\n",
       "rate            11383\n",
       "votes           12100\n",
       "phone           11983\n",
       "location        12100\n",
       "rest_type       12060\n",
       "dish_liked       6852\n",
       "cuisines        12095\n",
       "cost            12100\n",
       "reviews_list    12100\n",
       "menu_item       12100\n",
       "type            12100\n",
       "city            12100\n",
       "dtype: int64"
      ]
     },
     "execution_count": 10,
     "metadata": {},
     "output_type": "execute_result"
    }
   ],
   "source": [
    "df.loc[df['menu_item'] != '[]'].count()\n",
    "# nearly 4/5 of columns don't have menu item info maybe it is better the drop menu_item column"
   ]
  },
  {
   "cell_type": "code",
   "execution_count": 11,
   "metadata": {},
   "outputs": [
    {
     "data": {
      "text/plain": [
       "nan"
      ]
     },
     "execution_count": 11,
     "metadata": {},
     "output_type": "execute_result"
    }
   ],
   "source": [
    "df['dish_liked'].iloc[1500]"
   ]
  },
  {
   "cell_type": "markdown",
   "metadata": {},
   "source": [
    "##### reviews_list\n",
    "we will check nan values in rate column and try to fill them with rates in reviews_list if rate is null and reviews_list = [] we will drop the row"
   ]
  },
  {
   "cell_type": "code",
   "execution_count": 12,
   "metadata": {},
   "outputs": [
    {
     "data": {
      "text/plain": [
       "False    43942\n",
       "True      7775\n",
       "Name: rate, dtype: int64"
      ]
     },
     "execution_count": 12,
     "metadata": {},
     "output_type": "execute_result"
    }
   ],
   "source": [
    "df['rate'].isnull().value_counts()\n",
    "# we have 7775 null rate"
   ]
  },
  {
   "cell_type": "code",
   "execution_count": 13,
   "metadata": {},
   "outputs": [],
   "source": [
    "df2= df.copy()"
   ]
  },
  {
   "cell_type": "code",
   "execution_count": 14,
   "metadata": {},
   "outputs": [
    {
     "data": {
      "text/plain": [
       "url             7595\n",
       "address         7595\n",
       "name            7595\n",
       "online_order    7595\n",
       "book_table      7595\n",
       "rate            2321\n",
       "votes           7595\n",
       "phone           7337\n",
       "location        7574\n",
       "rest_type       7525\n",
       "dish_liked       183\n",
       "cuisines        7565\n",
       "cost            7543\n",
       "reviews_list    7595\n",
       "menu_item       7595\n",
       "type            7595\n",
       "city            7595\n",
       "dtype: int64"
      ]
     },
     "execution_count": 14,
     "metadata": {},
     "output_type": "execute_result"
    }
   ],
   "source": [
    "df2[df2['reviews_list']=='[]'].count()"
   ]
  },
  {
   "cell_type": "code",
   "execution_count": 15,
   "metadata": {},
   "outputs": [],
   "source": [
    "prr = df[df['rate'].isna()]"
   ]
  },
  {
   "cell_type": "code",
   "execution_count": 16,
   "metadata": {},
   "outputs": [
    {
     "data": {
      "text/plain": [
       "url             2501\n",
       "address         2501\n",
       "name            2501\n",
       "online_order    2501\n",
       "book_table      2501\n",
       "rate               0\n",
       "votes           2501\n",
       "phone           2348\n",
       "location        2501\n",
       "rest_type       2492\n",
       "dish_liked        27\n",
       "cuisines        2495\n",
       "cost            2452\n",
       "reviews_list    2501\n",
       "menu_item       2501\n",
       "type            2501\n",
       "city            2501\n",
       "dtype: int64"
      ]
     },
     "execution_count": 16,
     "metadata": {},
     "output_type": "execute_result"
    }
   ],
   "source": [
    "prr[prr['reviews_list'] != '[]'].count()\n",
    "# we can fill 2501 of nan rate"
   ]
  },
  {
   "cell_type": "code",
   "execution_count": 17,
   "metadata": {},
   "outputs": [],
   "source": [
    "indi  = prr[prr['reviews_list'] == '[]' ].index\n",
    "df2.drop(indi,inplace=True)"
   ]
  },
  {
   "cell_type": "code",
   "execution_count": 18,
   "metadata": {},
   "outputs": [
    {
     "data": {
      "text/plain": [
       "url             2501\n",
       "address         2501\n",
       "name            2501\n",
       "online_order    2501\n",
       "book_table      2501\n",
       "rate               0\n",
       "votes           2501\n",
       "phone           2348\n",
       "location        2501\n",
       "rest_type       2492\n",
       "dish_liked        27\n",
       "cuisines        2495\n",
       "cost            2452\n",
       "reviews_list    2501\n",
       "menu_item       2501\n",
       "type            2501\n",
       "city            2501\n",
       "dtype: int64"
      ]
     },
     "execution_count": 18,
     "metadata": {},
     "output_type": "execute_result"
    }
   ],
   "source": [
    "df2[df2['rate'].isna()].count()"
   ]
  },
  {
   "cell_type": "code",
   "execution_count": 19,
   "metadata": {},
   "outputs": [],
   "source": [
    "df2.reset_index(inplace=True)"
   ]
  },
  {
   "cell_type": "code",
   "execution_count": 20,
   "metadata": {},
   "outputs": [
    {
     "data": {
      "text/plain": [
       "False    43942\n",
       "True      2501\n",
       "Name: rate, dtype: int64"
      ]
     },
     "execution_count": 20,
     "metadata": {},
     "output_type": "execute_result"
    }
   ],
   "source": [
    "df2['rate'].isna().value_counts()\n",
    "# we are going to fill this 2501 rate row now"
   ]
  },
  {
   "cell_type": "code",
   "execution_count": 21,
   "metadata": {},
   "outputs": [],
   "source": [
    "pat = re.compile('Rated [0-9]*\\.[0-9]+',)\n",
    "cs = []\n",
    "for i in range(len(df2['reviews_list'])):\n",
    "\n",
    "    rates = pat.findall(df2['reviews_list'][i])\n",
    "    k = 0\n",
    "    \n",
    "    for rate in rates:\n",
    "        k = k+int(rate.split('Rated ')[1].split('.')[0])\n",
    "    if len(rates) != 0:\n",
    "        if(pd.isnull(df2['rate'][i])):\n",
    "            k = k/len(rates)\n",
    "            cs.append(round(k,2))\n",
    "        else:\n",
    "            cs.append(df2['rate'][i])\n",
    "    else:\n",
    "        cs.append(df2['rate'][i])\n",
    "    # [int(rate.split('Rated ')[1].split('.')[0]) for rate in rates]"
   ]
  },
  {
   "cell_type": "code",
   "execution_count": 22,
   "metadata": {},
   "outputs": [
    {
     "data": {
      "text/plain": [
       "0         4.1/5\n",
       "1         4.1/5\n",
       "2         3.8/5\n",
       "3         3.7/5\n",
       "4         3.8/5\n",
       "          ...  \n",
       "46438       NaN\n",
       "46439    2.5 /5\n",
       "46440    3.6 /5\n",
       "46441    4.3 /5\n",
       "46442    3.4 /5\n",
       "Name: rate, Length: 46443, dtype: object"
      ]
     },
     "execution_count": 22,
     "metadata": {},
     "output_type": "execute_result"
    }
   ],
   "source": [
    "df2['rate']"
   ]
  },
  {
   "cell_type": "code",
   "execution_count": 23,
   "metadata": {},
   "outputs": [
    {
     "name": "stderr",
     "output_type": "stream",
     "text": [
      "C:\\Users\\emreb\\AppData\\Local\\Temp\\ipykernel_9536\\4222410133.py:2: SettingWithCopyWarning:\n",
      "\n",
      "\n",
      "A value is trying to be set on a copy of a slice from a DataFrame\n",
      "\n",
      "See the caveats in the documentation: https://pandas.pydata.org/pandas-docs/stable/user_guide/indexing.html#returning-a-view-versus-a-copy\n",
      "\n"
     ]
    },
    {
     "data": {
      "text/plain": [
       "0         4.1/5\n",
       "1         4.1/5\n",
       "2         3.8/5\n",
       "3         3.7/5\n",
       "4         3.8/5\n",
       "          ...  \n",
       "46438       4.0\n",
       "46439    2.5 /5\n",
       "46440    3.6 /5\n",
       "46441    4.3 /5\n",
       "46442    3.4 /5\n",
       "Name: rate, Length: 46443, dtype: object"
      ]
     },
     "execution_count": 23,
     "metadata": {},
     "output_type": "execute_result"
    }
   ],
   "source": [
    "\n",
    "for i in range(len(df2['rate'])):\n",
    "    df2['rate'][i] = cs[i]\n",
    "df2['rate']"
   ]
  },
  {
   "cell_type": "code",
   "execution_count": 24,
   "metadata": {},
   "outputs": [
    {
     "data": {
      "text/plain": [
       "False    46443\n",
       "Name: rate, dtype: int64"
      ]
     },
     "execution_count": 24,
     "metadata": {},
     "output_type": "execute_result"
    }
   ],
   "source": [
    "df2['rate'].isna().value_counts()"
   ]
  },
  {
   "cell_type": "code",
   "execution_count": 25,
   "metadata": {},
   "outputs": [
    {
     "data": {
      "text/html": [
       "<div>\n",
       "<style scoped>\n",
       "    .dataframe tbody tr th:only-of-type {\n",
       "        vertical-align: middle;\n",
       "    }\n",
       "\n",
       "    .dataframe tbody tr th {\n",
       "        vertical-align: top;\n",
       "    }\n",
       "\n",
       "    .dataframe thead th {\n",
       "        text-align: right;\n",
       "    }\n",
       "</style>\n",
       "<table border=\"1\" class=\"dataframe\">\n",
       "  <thead>\n",
       "    <tr style=\"text-align: right;\">\n",
       "      <th></th>\n",
       "      <th>index</th>\n",
       "      <th>url</th>\n",
       "      <th>address</th>\n",
       "      <th>name</th>\n",
       "      <th>online_order</th>\n",
       "      <th>book_table</th>\n",
       "      <th>rate</th>\n",
       "      <th>votes</th>\n",
       "      <th>phone</th>\n",
       "      <th>location</th>\n",
       "      <th>rest_type</th>\n",
       "      <th>dish_liked</th>\n",
       "      <th>cuisines</th>\n",
       "      <th>cost</th>\n",
       "      <th>reviews_list</th>\n",
       "      <th>menu_item</th>\n",
       "      <th>type</th>\n",
       "      <th>city</th>\n",
       "    </tr>\n",
       "  </thead>\n",
       "  <tbody>\n",
       "    <tr>\n",
       "      <th>72</th>\n",
       "      <td>72</td>\n",
       "      <td>https://www.zomato.com/bangalore/spicy-tandoor...</td>\n",
       "      <td>Opposite ICICi Bank, Hanuman Nagar, Banashanka...</td>\n",
       "      <td>Spicy Tandoor</td>\n",
       "      <td>No</td>\n",
       "      <td>No</td>\n",
       "      <td>NEW</td>\n",
       "      <td>0</td>\n",
       "      <td>+91 8050884222</td>\n",
       "      <td>Banashankari</td>\n",
       "      <td>Quick Bites</td>\n",
       "      <td>NaN</td>\n",
       "      <td>North Indian</td>\n",
       "      <td>150</td>\n",
       "      <td>[('Rated 4.0', 'RATED\\n  cost for chicken roll...</td>\n",
       "      <td>[]</td>\n",
       "      <td>Delivery</td>\n",
       "      <td>Banashankari</td>\n",
       "    </tr>\n",
       "    <tr>\n",
       "      <th>75</th>\n",
       "      <td>75</td>\n",
       "      <td>https://www.zomato.com/bangalore/om-sri-vinaya...</td>\n",
       "      <td>39, S B M Colony, Near-Sita Circle, 1st Stage,...</td>\n",
       "      <td>Om Sri Vinayaka Chats</td>\n",
       "      <td>No</td>\n",
       "      <td>No</td>\n",
       "      <td>NEW</td>\n",
       "      <td>0</td>\n",
       "      <td>+91 8553206035</td>\n",
       "      <td>Banashankari</td>\n",
       "      <td>Takeaway, Delivery</td>\n",
       "      <td>NaN</td>\n",
       "      <td>Street Food, Fast Food</td>\n",
       "      <td>500</td>\n",
       "      <td>[]</td>\n",
       "      <td>[]</td>\n",
       "      <td>Delivery</td>\n",
       "      <td>Banashankari</td>\n",
       "    </tr>\n",
       "    <tr>\n",
       "      <th>107</th>\n",
       "      <td>110</td>\n",
       "      <td>https://www.zomato.com/bangalore/hari-super-sa...</td>\n",
       "      <td>594, 24 The Cross BSK, Opposte Oriental Bank, ...</td>\n",
       "      <td>Hari Super Sandwich</td>\n",
       "      <td>No</td>\n",
       "      <td>No</td>\n",
       "      <td>NEW</td>\n",
       "      <td>0</td>\n",
       "      <td>+91 9886722163</td>\n",
       "      <td>Banashankari</td>\n",
       "      <td>Takeaway, Delivery</td>\n",
       "      <td>NaN</td>\n",
       "      <td>Sandwich, Pizza, Beverages</td>\n",
       "      <td>200</td>\n",
       "      <td>[('Rated 1.0', 'RATED\\n  I have been here many...</td>\n",
       "      <td>[]</td>\n",
       "      <td>Delivery</td>\n",
       "      <td>Banashankari</td>\n",
       "    </tr>\n",
       "    <tr>\n",
       "      <th>119</th>\n",
       "      <td>130</td>\n",
       "      <td>https://www.zomato.com/bangalore/roll-magic-fa...</td>\n",
       "      <td>28, 4th Cross Road, Dwaraka Nagar, Banashankar...</td>\n",
       "      <td>Roll Magic Fast Food</td>\n",
       "      <td>No</td>\n",
       "      <td>No</td>\n",
       "      <td>NEW</td>\n",
       "      <td>0</td>\n",
       "      <td>+91 9731409204</td>\n",
       "      <td>Banashankari</td>\n",
       "      <td>Takeaway, Delivery</td>\n",
       "      <td>NaN</td>\n",
       "      <td>Biryani, Rolls, Chinese</td>\n",
       "      <td>200</td>\n",
       "      <td>[]</td>\n",
       "      <td>[]</td>\n",
       "      <td>Delivery</td>\n",
       "      <td>Banashankari</td>\n",
       "    </tr>\n",
       "    <tr>\n",
       "      <th>120</th>\n",
       "      <td>131</td>\n",
       "      <td>https://www.zomato.com/bangalore/foodlieious-m...</td>\n",
       "      <td>3/16, 22 Main Road, Magenta Block, PES College...</td>\n",
       "      <td>Foodlieious Multi Cuisine</td>\n",
       "      <td>No</td>\n",
       "      <td>No</td>\n",
       "      <td>NEW</td>\n",
       "      <td>0</td>\n",
       "      <td>+91 9168753522\\r\\n+91 8217877100</td>\n",
       "      <td>Banashankari</td>\n",
       "      <td>Quick Bites</td>\n",
       "      <td>NaN</td>\n",
       "      <td>North Indian</td>\n",
       "      <td>100</td>\n",
       "      <td>[]</td>\n",
       "      <td>[]</td>\n",
       "      <td>Delivery</td>\n",
       "      <td>Banashankari</td>\n",
       "    </tr>\n",
       "    <tr>\n",
       "      <th>...</th>\n",
       "      <td>...</td>\n",
       "      <td>...</td>\n",
       "      <td>...</td>\n",
       "      <td>...</td>\n",
       "      <td>...</td>\n",
       "      <td>...</td>\n",
       "      <td>...</td>\n",
       "      <td>...</td>\n",
       "      <td>...</td>\n",
       "      <td>...</td>\n",
       "      <td>...</td>\n",
       "      <td>...</td>\n",
       "      <td>...</td>\n",
       "      <td>...</td>\n",
       "      <td>...</td>\n",
       "      <td>...</td>\n",
       "      <td>...</td>\n",
       "      <td>...</td>\n",
       "    </tr>\n",
       "    <tr>\n",
       "      <th>46326</th>\n",
       "      <td>51585</td>\n",
       "      <td>https://www.zomato.com/bangalore/wow-tiffin-fo...</td>\n",
       "      <td>Near Rama Temple, Immadihalli Road, Whitefield...</td>\n",
       "      <td>Wow Tiffin Food</td>\n",
       "      <td>No</td>\n",
       "      <td>No</td>\n",
       "      <td>NEW</td>\n",
       "      <td>0</td>\n",
       "      <td>+91 9535041209</td>\n",
       "      <td>Whitefield</td>\n",
       "      <td>Quick Bites</td>\n",
       "      <td>NaN</td>\n",
       "      <td>North Indian</td>\n",
       "      <td>200</td>\n",
       "      <td>[]</td>\n",
       "      <td>[]</td>\n",
       "      <td>Dine-out</td>\n",
       "      <td>Whitefield</td>\n",
       "    </tr>\n",
       "    <tr>\n",
       "      <th>46327</th>\n",
       "      <td>51586</td>\n",
       "      <td>https://www.zomato.com/bangalore/quick-bites-w...</td>\n",
       "      <td>119/5, Pattandur Agrahara, Near Brigade Tech p...</td>\n",
       "      <td>Quick Bites</td>\n",
       "      <td>Yes</td>\n",
       "      <td>No</td>\n",
       "      <td>NEW</td>\n",
       "      <td>0</td>\n",
       "      <td>+91 9742377087\\n+91 7899303299</td>\n",
       "      <td>Whitefield</td>\n",
       "      <td>Quick Bites</td>\n",
       "      <td>NaN</td>\n",
       "      <td>Chinese</td>\n",
       "      <td>200</td>\n",
       "      <td>[('Rated 5.0', 'RATED\\n  This is an awesome pl...</td>\n",
       "      <td>['Veg Chowmein + Manchurian', 'Paratha + Chick...</td>\n",
       "      <td>Dine-out</td>\n",
       "      <td>Whitefield</td>\n",
       "    </tr>\n",
       "    <tr>\n",
       "      <th>46343</th>\n",
       "      <td>51603</td>\n",
       "      <td>https://www.zomato.com/bangalore/shiv-sagar-1-...</td>\n",
       "      <td>Shop No 10, Food Court, 2nd Floor, Phoenix Mar...</td>\n",
       "      <td>Shiv sagar</td>\n",
       "      <td>Yes</td>\n",
       "      <td>No</td>\n",
       "      <td>NEW</td>\n",
       "      <td>0</td>\n",
       "      <td>+91 9513300048\\n+91 8067266097</td>\n",
       "      <td>Whitefield</td>\n",
       "      <td>Quick Bites, Food Court</td>\n",
       "      <td>NaN</td>\n",
       "      <td>South Indian, Chinese, North Indian</td>\n",
       "      <td>250</td>\n",
       "      <td>[('Rated 3.0', 'RATED\\n  A highly expensive pl...</td>\n",
       "      <td>['Malai Paneer Tikka', 'Paneer Kofta', 'Mushro...</td>\n",
       "      <td>Dine-out</td>\n",
       "      <td>Whitefield</td>\n",
       "    </tr>\n",
       "    <tr>\n",
       "      <th>46344</th>\n",
       "      <td>51604</td>\n",
       "      <td>https://www.zomato.com/bangalore/nawab-di-biry...</td>\n",
       "      <td>17, Thubarahalli Village, Hobli, Varthur Main ...</td>\n",
       "      <td>Nawab Di Biryani</td>\n",
       "      <td>No</td>\n",
       "      <td>No</td>\n",
       "      <td>NEW</td>\n",
       "      <td>0</td>\n",
       "      <td>+91 7899298400\\n+91 9818654628</td>\n",
       "      <td>Whitefield</td>\n",
       "      <td>Takeaway, Delivery</td>\n",
       "      <td>NaN</td>\n",
       "      <td>Biryani, Mughlai</td>\n",
       "      <td>400</td>\n",
       "      <td>[('Rated 3.0', 'RATED\\n  Biriyani had ordered ...</td>\n",
       "      <td>[]</td>\n",
       "      <td>Dine-out</td>\n",
       "      <td>Whitefield</td>\n",
       "    </tr>\n",
       "    <tr>\n",
       "      <th>46345</th>\n",
       "      <td>51605</td>\n",
       "      <td>https://www.zomato.com/bangalore/bong-connecti...</td>\n",
       "      <td>328/476, Immihalli Main Road, Byrappa Layout, ...</td>\n",
       "      <td>Bong Connections</td>\n",
       "      <td>No</td>\n",
       "      <td>No</td>\n",
       "      <td>NEW</td>\n",
       "      <td>0</td>\n",
       "      <td>+91 7209035062</td>\n",
       "      <td>Whitefield</td>\n",
       "      <td>Quick Bites</td>\n",
       "      <td>NaN</td>\n",
       "      <td>Chinese, North Indian</td>\n",
       "      <td>300</td>\n",
       "      <td>[]</td>\n",
       "      <td>[]</td>\n",
       "      <td>Dine-out</td>\n",
       "      <td>Whitefield</td>\n",
       "    </tr>\n",
       "  </tbody>\n",
       "</table>\n",
       "<p>2208 rows × 18 columns</p>\n",
       "</div>"
      ],
      "text/plain": [
       "       index                                                url  \\\n",
       "72        72  https://www.zomato.com/bangalore/spicy-tandoor...   \n",
       "75        75  https://www.zomato.com/bangalore/om-sri-vinaya...   \n",
       "107      110  https://www.zomato.com/bangalore/hari-super-sa...   \n",
       "119      130  https://www.zomato.com/bangalore/roll-magic-fa...   \n",
       "120      131  https://www.zomato.com/bangalore/foodlieious-m...   \n",
       "...      ...                                                ...   \n",
       "46326  51585  https://www.zomato.com/bangalore/wow-tiffin-fo...   \n",
       "46327  51586  https://www.zomato.com/bangalore/quick-bites-w...   \n",
       "46343  51603  https://www.zomato.com/bangalore/shiv-sagar-1-...   \n",
       "46344  51604  https://www.zomato.com/bangalore/nawab-di-biry...   \n",
       "46345  51605  https://www.zomato.com/bangalore/bong-connecti...   \n",
       "\n",
       "                                                 address  \\\n",
       "72     Opposite ICICi Bank, Hanuman Nagar, Banashanka...   \n",
       "75     39, S B M Colony, Near-Sita Circle, 1st Stage,...   \n",
       "107    594, 24 The Cross BSK, Opposte Oriental Bank, ...   \n",
       "119    28, 4th Cross Road, Dwaraka Nagar, Banashankar...   \n",
       "120    3/16, 22 Main Road, Magenta Block, PES College...   \n",
       "...                                                  ...   \n",
       "46326  Near Rama Temple, Immadihalli Road, Whitefield...   \n",
       "46327  119/5, Pattandur Agrahara, Near Brigade Tech p...   \n",
       "46343  Shop No 10, Food Court, 2nd Floor, Phoenix Mar...   \n",
       "46344  17, Thubarahalli Village, Hobli, Varthur Main ...   \n",
       "46345  328/476, Immihalli Main Road, Byrappa Layout, ...   \n",
       "\n",
       "                            name online_order book_table rate  votes  \\\n",
       "72                 Spicy Tandoor           No         No  NEW      0   \n",
       "75         Om Sri Vinayaka Chats           No         No  NEW      0   \n",
       "107          Hari Super Sandwich           No         No  NEW      0   \n",
       "119         Roll Magic Fast Food           No         No  NEW      0   \n",
       "120    Foodlieious Multi Cuisine           No         No  NEW      0   \n",
       "...                          ...          ...        ...  ...    ...   \n",
       "46326            Wow Tiffin Food           No         No  NEW      0   \n",
       "46327                Quick Bites          Yes         No  NEW      0   \n",
       "46343                 Shiv sagar          Yes         No  NEW      0   \n",
       "46344           Nawab Di Biryani           No         No  NEW      0   \n",
       "46345           Bong Connections           No         No  NEW      0   \n",
       "\n",
       "                                  phone      location  \\\n",
       "72                       +91 8050884222  Banashankari   \n",
       "75                       +91 8553206035  Banashankari   \n",
       "107                      +91 9886722163  Banashankari   \n",
       "119                      +91 9731409204  Banashankari   \n",
       "120    +91 9168753522\\r\\n+91 8217877100  Banashankari   \n",
       "...                                 ...           ...   \n",
       "46326                    +91 9535041209    Whitefield   \n",
       "46327    +91 9742377087\\n+91 7899303299    Whitefield   \n",
       "46343    +91 9513300048\\n+91 8067266097    Whitefield   \n",
       "46344    +91 7899298400\\n+91 9818654628    Whitefield   \n",
       "46345                    +91 7209035062    Whitefield   \n",
       "\n",
       "                     rest_type dish_liked  \\\n",
       "72                 Quick Bites        NaN   \n",
       "75          Takeaway, Delivery        NaN   \n",
       "107         Takeaway, Delivery        NaN   \n",
       "119         Takeaway, Delivery        NaN   \n",
       "120                Quick Bites        NaN   \n",
       "...                        ...        ...   \n",
       "46326              Quick Bites        NaN   \n",
       "46327              Quick Bites        NaN   \n",
       "46343  Quick Bites, Food Court        NaN   \n",
       "46344       Takeaway, Delivery        NaN   \n",
       "46345              Quick Bites        NaN   \n",
       "\n",
       "                                  cuisines cost  \\\n",
       "72                            North Indian  150   \n",
       "75                  Street Food, Fast Food  500   \n",
       "107             Sandwich, Pizza, Beverages  200   \n",
       "119                Biryani, Rolls, Chinese  200   \n",
       "120                           North Indian  100   \n",
       "...                                    ...  ...   \n",
       "46326                         North Indian  200   \n",
       "46327                              Chinese  200   \n",
       "46343  South Indian, Chinese, North Indian  250   \n",
       "46344                     Biryani, Mughlai  400   \n",
       "46345                Chinese, North Indian  300   \n",
       "\n",
       "                                            reviews_list  \\\n",
       "72     [('Rated 4.0', 'RATED\\n  cost for chicken roll...   \n",
       "75                                                    []   \n",
       "107    [('Rated 1.0', 'RATED\\n  I have been here many...   \n",
       "119                                                   []   \n",
       "120                                                   []   \n",
       "...                                                  ...   \n",
       "46326                                                 []   \n",
       "46327  [('Rated 5.0', 'RATED\\n  This is an awesome pl...   \n",
       "46343  [('Rated 3.0', 'RATED\\n  A highly expensive pl...   \n",
       "46344  [('Rated 3.0', 'RATED\\n  Biriyani had ordered ...   \n",
       "46345                                                 []   \n",
       "\n",
       "                                               menu_item      type  \\\n",
       "72                                                    []  Delivery   \n",
       "75                                                    []  Delivery   \n",
       "107                                                   []  Delivery   \n",
       "119                                                   []  Delivery   \n",
       "120                                                   []  Delivery   \n",
       "...                                                  ...       ...   \n",
       "46326                                                 []  Dine-out   \n",
       "46327  ['Veg Chowmein + Manchurian', 'Paratha + Chick...  Dine-out   \n",
       "46343  ['Malai Paneer Tikka', 'Paneer Kofta', 'Mushro...  Dine-out   \n",
       "46344                                                 []  Dine-out   \n",
       "46345                                                 []  Dine-out   \n",
       "\n",
       "               city  \n",
       "72     Banashankari  \n",
       "75     Banashankari  \n",
       "107    Banashankari  \n",
       "119    Banashankari  \n",
       "120    Banashankari  \n",
       "...             ...  \n",
       "46326    Whitefield  \n",
       "46327    Whitefield  \n",
       "46343    Whitefield  \n",
       "46344    Whitefield  \n",
       "46345    Whitefield  \n",
       "\n",
       "[2208 rows x 18 columns]"
      ]
     },
     "execution_count": 25,
     "metadata": {},
     "output_type": "execute_result"
    }
   ],
   "source": [
    "df2.loc[df2['rate']=='NEW']"
   ]
  },
  {
   "cell_type": "code",
   "execution_count": 26,
   "metadata": {},
   "outputs": [
    {
     "name": "stderr",
     "output_type": "stream",
     "text": [
      "C:\\Users\\emreb\\AppData\\Local\\Temp\\ipykernel_9536\\1872025914.py:3: DeprecationWarning:\n",
      "\n",
      "`np.str` is a deprecated alias for the builtin `str`. To silence this warning, use `str` by itself. Doing this will not modify any behavior and is safe. If you specifically wanted the numpy scalar type, use `np.str_` here.\n",
      "Deprecated in NumPy 1.20; for more details and guidance: https://numpy.org/devdocs/release/1.20.0-notes.html#deprecations\n",
      "\n"
     ]
    },
    {
     "data": {
      "text/plain": [
       "0    4.1\n",
       "1    4.1\n",
       "2    3.8\n",
       "3    3.7\n",
       "4    3.8\n",
       "Name: rate, dtype: float64"
      ]
     },
     "execution_count": 26,
     "metadata": {},
     "output_type": "execute_result"
    }
   ],
   "source": [
    "df2 = df2.loc[df2.rate !='NEW']\n",
    "df2 = df2.loc[df2.rate !='-'].reset_index(drop=True)\n",
    "remove_slash = lambda x: x.replace('/5', '') if type(x) == np.str else x\n",
    "df2.rate = df2.rate.apply(remove_slash).str.strip().astype('float')\n",
    "df2['rate'].head()"
   ]
  },
  {
   "cell_type": "code",
   "execution_count": 27,
   "metadata": {},
   "outputs": [
    {
     "name": "stdout",
     "output_type": "stream",
     "text": [
      "<class 'pandas.core.frame.DataFrame'>\n",
      "RangeIndex: 44166 entries, 0 to 44165\n",
      "Data columns (total 18 columns):\n",
      " #   Column        Non-Null Count  Dtype  \n",
      "---  ------        --------------  -----  \n",
      " 0   index         44166 non-null  int64  \n",
      " 1   url           44166 non-null  object \n",
      " 2   address       44166 non-null  object \n",
      " 3   name          44166 non-null  object \n",
      " 4   online_order  44166 non-null  object \n",
      " 5   book_table    44166 non-null  object \n",
      " 6   rate          41665 non-null  float64\n",
      " 7   votes         44166 non-null  int64  \n",
      " 8   phone         43199 non-null  object \n",
      " 9   location      44166 non-null  object \n",
      " 10  rest_type     44008 non-null  object \n",
      " 11  dish_liked    23489 non-null  object \n",
      " 12  cuisines      44149 non-null  object \n",
      " 13  cost          43870 non-null  object \n",
      " 14  reviews_list  44166 non-null  object \n",
      " 15  menu_item     44166 non-null  object \n",
      " 16  type          44166 non-null  object \n",
      " 17  city          44166 non-null  object \n",
      "dtypes: float64(1), int64(2), object(15)\n",
      "memory usage: 6.1+ MB\n"
     ]
    }
   ],
   "source": [
    "df2.info()\n",
    "# rest_type has a tiny misings, dish_liked is I donnow, we can fill approx_cost with mean"
   ]
  },
  {
   "cell_type": "markdown",
   "metadata": {},
   "source": [
    "#### Approx_cost"
   ]
  },
  {
   "cell_type": "code",
   "execution_count": 28,
   "metadata": {},
   "outputs": [],
   "source": [
    "df3 = df2.copy()"
   ]
  },
  {
   "cell_type": "code",
   "execution_count": 29,
   "metadata": {},
   "outputs": [],
   "source": [
    "df3.dropna(inplace=True,subset='cost')"
   ]
  },
  {
   "cell_type": "code",
   "execution_count": 30,
   "metadata": {},
   "outputs": [],
   "source": [
    "df3.reset_index(inplace=True)"
   ]
  },
  {
   "cell_type": "code",
   "execution_count": 31,
   "metadata": {},
   "outputs": [],
   "source": [
    "df3['cost'] = df3['cost'].astype(str).apply(lambda x: x.replace(',', ''))"
   ]
  },
  {
   "cell_type": "code",
   "execution_count": 32,
   "metadata": {},
   "outputs": [],
   "source": [
    "df4=df3.copy()"
   ]
  },
  {
   "cell_type": "code",
   "execution_count": null,
   "metadata": {},
   "outputs": [],
   "source": [
    "def convertto_int(df,columns):\n",
    "    for col in columns:\n",
    "        for i in range(len(df[col])):\n",
    "            if pd.isnull(df[col][i]) == False:\n",
    "                df[col] = df[col].astype('int64')\n",
    "            else:\n",
    "                pass\n",
    "\n",
    "col = ['cost']\n",
    "convertto_int(df4,col)"
   ]
  },
  {
   "cell_type": "code",
   "execution_count": 125,
   "metadata": {},
   "outputs": [
    {
     "data": {
      "text/plain": [
       "0         800\n",
       "1         800\n",
       "2         800\n",
       "3         300\n",
       "4         600\n",
       "         ... \n",
       "43864     800\n",
       "43866     800\n",
       "43867    1500\n",
       "43868    2500\n",
       "43869    1500\n",
       "Name: cost, Length: 41263, dtype: int64"
      ]
     },
     "execution_count": 125,
     "metadata": {},
     "output_type": "execute_result"
    }
   ],
   "source": [
    "pd.to_numeric(df4['cost'])"
   ]
  },
  {
   "cell_type": "code",
   "execution_count": 128,
   "metadata": {},
   "outputs": [
    {
     "data": {
      "text/plain": [
       "numpy.float64"
      ]
     },
     "execution_count": 128,
     "metadata": {},
     "output_type": "execute_result"
    }
   ],
   "source": [
    "type(df4['rate'][1])"
   ]
  },
  {
   "cell_type": "code",
   "execution_count": 34,
   "metadata": {},
   "outputs": [
    {
     "data": {
      "text/plain": [
       "False    43870\n",
       "Name: cost, dtype: int64"
      ]
     },
     "execution_count": 34,
     "metadata": {},
     "output_type": "execute_result"
    }
   ],
   "source": [
    "df4['cost'].isna().value_counts()"
   ]
  },
  {
   "cell_type": "code",
   "execution_count": 35,
   "metadata": {},
   "outputs": [],
   "source": [
    "# df2['cost'].fillna(df2['cost'].mean())"
   ]
  },
  {
   "cell_type": "code",
   "execution_count": 36,
   "metadata": {},
   "outputs": [],
   "source": [
    "df4= df4.drop(['url','phone'],axis=1)"
   ]
  },
  {
   "cell_type": "code",
   "execution_count": 37,
   "metadata": {},
   "outputs": [],
   "source": [
    "df4= df4.drop('dish_liked',axis=1)"
   ]
  },
  {
   "cell_type": "code",
   "execution_count": 38,
   "metadata": {},
   "outputs": [
    {
     "data": {
      "text/html": [
       "<div>\n",
       "<style scoped>\n",
       "    .dataframe tbody tr th:only-of-type {\n",
       "        vertical-align: middle;\n",
       "    }\n",
       "\n",
       "    .dataframe tbody tr th {\n",
       "        vertical-align: top;\n",
       "    }\n",
       "\n",
       "    .dataframe thead th {\n",
       "        text-align: right;\n",
       "    }\n",
       "</style>\n",
       "<table border=\"1\" class=\"dataframe\">\n",
       "  <thead>\n",
       "    <tr style=\"text-align: right;\">\n",
       "      <th></th>\n",
       "      <th>level_0</th>\n",
       "      <th>index</th>\n",
       "      <th>address</th>\n",
       "      <th>name</th>\n",
       "      <th>online_order</th>\n",
       "      <th>book_table</th>\n",
       "      <th>rate</th>\n",
       "      <th>votes</th>\n",
       "      <th>location</th>\n",
       "      <th>rest_type</th>\n",
       "      <th>cuisines</th>\n",
       "      <th>cost</th>\n",
       "      <th>reviews_list</th>\n",
       "      <th>menu_item</th>\n",
       "      <th>type</th>\n",
       "      <th>city</th>\n",
       "    </tr>\n",
       "  </thead>\n",
       "  <tbody>\n",
       "    <tr>\n",
       "      <th>0</th>\n",
       "      <td>0</td>\n",
       "      <td>0</td>\n",
       "      <td>942, 21st Main Road, 2nd Stage, Banashankari, ...</td>\n",
       "      <td>Jalsa</td>\n",
       "      <td>Yes</td>\n",
       "      <td>Yes</td>\n",
       "      <td>4.1</td>\n",
       "      <td>775</td>\n",
       "      <td>Banashankari</td>\n",
       "      <td>Casual Dining</td>\n",
       "      <td>North Indian, Mughlai, Chinese</td>\n",
       "      <td>800</td>\n",
       "      <td>[('Rated 4.0', 'RATED\\n  A beautiful place to ...</td>\n",
       "      <td>[]</td>\n",
       "      <td>Buffet</td>\n",
       "      <td>Banashankari</td>\n",
       "    </tr>\n",
       "    <tr>\n",
       "      <th>1</th>\n",
       "      <td>1</td>\n",
       "      <td>1</td>\n",
       "      <td>2nd Floor, 80 Feet Road, Near Big Bazaar, 6th ...</td>\n",
       "      <td>Spice Elephant</td>\n",
       "      <td>Yes</td>\n",
       "      <td>No</td>\n",
       "      <td>4.1</td>\n",
       "      <td>787</td>\n",
       "      <td>Banashankari</td>\n",
       "      <td>Casual Dining</td>\n",
       "      <td>Chinese, North Indian, Thai</td>\n",
       "      <td>800</td>\n",
       "      <td>[('Rated 4.0', 'RATED\\n  Had been here for din...</td>\n",
       "      <td>[]</td>\n",
       "      <td>Buffet</td>\n",
       "      <td>Banashankari</td>\n",
       "    </tr>\n",
       "    <tr>\n",
       "      <th>2</th>\n",
       "      <td>2</td>\n",
       "      <td>2</td>\n",
       "      <td>1112, Next to KIMS Medical College, 17th Cross...</td>\n",
       "      <td>San Churro Cafe</td>\n",
       "      <td>Yes</td>\n",
       "      <td>No</td>\n",
       "      <td>3.8</td>\n",
       "      <td>918</td>\n",
       "      <td>Banashankari</td>\n",
       "      <td>Cafe, Casual Dining</td>\n",
       "      <td>Cafe, Mexican, Italian</td>\n",
       "      <td>800</td>\n",
       "      <td>[('Rated 3.0', \"RATED\\n  Ambience is not that ...</td>\n",
       "      <td>[]</td>\n",
       "      <td>Buffet</td>\n",
       "      <td>Banashankari</td>\n",
       "    </tr>\n",
       "    <tr>\n",
       "      <th>3</th>\n",
       "      <td>3</td>\n",
       "      <td>3</td>\n",
       "      <td>1st Floor, Annakuteera, 3rd Stage, Banashankar...</td>\n",
       "      <td>Addhuri Udupi Bhojana</td>\n",
       "      <td>No</td>\n",
       "      <td>No</td>\n",
       "      <td>3.7</td>\n",
       "      <td>88</td>\n",
       "      <td>Banashankari</td>\n",
       "      <td>Quick Bites</td>\n",
       "      <td>South Indian, North Indian</td>\n",
       "      <td>300</td>\n",
       "      <td>[('Rated 4.0', \"RATED\\n  Great food and proper...</td>\n",
       "      <td>[]</td>\n",
       "      <td>Buffet</td>\n",
       "      <td>Banashankari</td>\n",
       "    </tr>\n",
       "    <tr>\n",
       "      <th>4</th>\n",
       "      <td>4</td>\n",
       "      <td>4</td>\n",
       "      <td>10, 3rd Floor, Lakshmi Associates, Gandhi Baza...</td>\n",
       "      <td>Grand Village</td>\n",
       "      <td>No</td>\n",
       "      <td>No</td>\n",
       "      <td>3.8</td>\n",
       "      <td>166</td>\n",
       "      <td>Basavanagudi</td>\n",
       "      <td>Casual Dining</td>\n",
       "      <td>North Indian, Rajasthani</td>\n",
       "      <td>600</td>\n",
       "      <td>[('Rated 4.0', 'RATED\\n  Very good restaurant ...</td>\n",
       "      <td>[]</td>\n",
       "      <td>Buffet</td>\n",
       "      <td>Banashankari</td>\n",
       "    </tr>\n",
       "    <tr>\n",
       "      <th>...</th>\n",
       "      <td>...</td>\n",
       "      <td>...</td>\n",
       "      <td>...</td>\n",
       "      <td>...</td>\n",
       "      <td>...</td>\n",
       "      <td>...</td>\n",
       "      <td>...</td>\n",
       "      <td>...</td>\n",
       "      <td>...</td>\n",
       "      <td>...</td>\n",
       "      <td>...</td>\n",
       "      <td>...</td>\n",
       "      <td>...</td>\n",
       "      <td>...</td>\n",
       "      <td>...</td>\n",
       "      <td>...</td>\n",
       "    </tr>\n",
       "    <tr>\n",
       "      <th>41258</th>\n",
       "      <td>44160</td>\n",
       "      <td>51709</td>\n",
       "      <td>136, SAP Labs India, KIADB Export Promotion In...</td>\n",
       "      <td>The Farm House Bar n Grill</td>\n",
       "      <td>No</td>\n",
       "      <td>No</td>\n",
       "      <td>3.7</td>\n",
       "      <td>34</td>\n",
       "      <td>Whitefield</td>\n",
       "      <td>Casual Dining, Bar</td>\n",
       "      <td>North Indian, Continental</td>\n",
       "      <td>800</td>\n",
       "      <td>[('Rated 4.0', 'RATED\\n  Ambience- Big and spa...</td>\n",
       "      <td>[]</td>\n",
       "      <td>Pubs and bars</td>\n",
       "      <td>Whitefield</td>\n",
       "    </tr>\n",
       "    <tr>\n",
       "      <th>41259</th>\n",
       "      <td>44162</td>\n",
       "      <td>51711</td>\n",
       "      <td>139/C1, Next To GR Tech Park, Pattandur Agraha...</td>\n",
       "      <td>Bhagini</td>\n",
       "      <td>No</td>\n",
       "      <td>No</td>\n",
       "      <td>2.5</td>\n",
       "      <td>81</td>\n",
       "      <td>Whitefield</td>\n",
       "      <td>Casual Dining, Bar</td>\n",
       "      <td>Andhra, South Indian, Chinese, North Indian</td>\n",
       "      <td>800</td>\n",
       "      <td>[('Rated 4.0', 'RATED\\n  A fine place to chill...</td>\n",
       "      <td>[]</td>\n",
       "      <td>Pubs and bars</td>\n",
       "      <td>Whitefield</td>\n",
       "    </tr>\n",
       "    <tr>\n",
       "      <th>41260</th>\n",
       "      <td>44163</td>\n",
       "      <td>51712</td>\n",
       "      <td>Four Points by Sheraton Bengaluru, 43/3, White...</td>\n",
       "      <td>Best Brews - Four Points by Sheraton Bengaluru...</td>\n",
       "      <td>No</td>\n",
       "      <td>No</td>\n",
       "      <td>3.6</td>\n",
       "      <td>27</td>\n",
       "      <td>Whitefield</td>\n",
       "      <td>Bar</td>\n",
       "      <td>Continental</td>\n",
       "      <td>1500</td>\n",
       "      <td>[('Rated 5.0', \"RATED\\n  Food and service are ...</td>\n",
       "      <td>[]</td>\n",
       "      <td>Pubs and bars</td>\n",
       "      <td>Whitefield</td>\n",
       "    </tr>\n",
       "    <tr>\n",
       "      <th>41261</th>\n",
       "      <td>44164</td>\n",
       "      <td>51715</td>\n",
       "      <td>Sheraton Grand Bengaluru Whitefield Hotel &amp; Co...</td>\n",
       "      <td>Chime - Sheraton Grand Bengaluru Whitefield Ho...</td>\n",
       "      <td>No</td>\n",
       "      <td>Yes</td>\n",
       "      <td>4.3</td>\n",
       "      <td>236</td>\n",
       "      <td>ITPL Main Road, Whitefield</td>\n",
       "      <td>Bar</td>\n",
       "      <td>Finger Food</td>\n",
       "      <td>2500</td>\n",
       "      <td>[('Rated 4.0', 'RATED\\n  Nice and friendly pla...</td>\n",
       "      <td>[]</td>\n",
       "      <td>Pubs and bars</td>\n",
       "      <td>Whitefield</td>\n",
       "    </tr>\n",
       "    <tr>\n",
       "      <th>41262</th>\n",
       "      <td>44165</td>\n",
       "      <td>51716</td>\n",
       "      <td>ITPL Main Road, KIADB Export Promotion Industr...</td>\n",
       "      <td>The Nest - The Den Bengaluru</td>\n",
       "      <td>No</td>\n",
       "      <td>No</td>\n",
       "      <td>3.4</td>\n",
       "      <td>13</td>\n",
       "      <td>ITPL Main Road, Whitefield</td>\n",
       "      <td>Bar, Casual Dining</td>\n",
       "      <td>Finger Food, North Indian, Continental</td>\n",
       "      <td>1500</td>\n",
       "      <td>[('Rated 5.0', 'RATED\\n  Great ambience , look...</td>\n",
       "      <td>[]</td>\n",
       "      <td>Pubs and bars</td>\n",
       "      <td>Whitefield</td>\n",
       "    </tr>\n",
       "  </tbody>\n",
       "</table>\n",
       "<p>41263 rows × 16 columns</p>\n",
       "</div>"
      ],
      "text/plain": [
       "       level_0  index                                            address  \\\n",
       "0            0      0  942, 21st Main Road, 2nd Stage, Banashankari, ...   \n",
       "1            1      1  2nd Floor, 80 Feet Road, Near Big Bazaar, 6th ...   \n",
       "2            2      2  1112, Next to KIMS Medical College, 17th Cross...   \n",
       "3            3      3  1st Floor, Annakuteera, 3rd Stage, Banashankar...   \n",
       "4            4      4  10, 3rd Floor, Lakshmi Associates, Gandhi Baza...   \n",
       "...        ...    ...                                                ...   \n",
       "41258    44160  51709  136, SAP Labs India, KIADB Export Promotion In...   \n",
       "41259    44162  51711  139/C1, Next To GR Tech Park, Pattandur Agraha...   \n",
       "41260    44163  51712  Four Points by Sheraton Bengaluru, 43/3, White...   \n",
       "41261    44164  51715  Sheraton Grand Bengaluru Whitefield Hotel & Co...   \n",
       "41262    44165  51716  ITPL Main Road, KIADB Export Promotion Industr...   \n",
       "\n",
       "                                                    name online_order  \\\n",
       "0                                                  Jalsa          Yes   \n",
       "1                                         Spice Elephant          Yes   \n",
       "2                                        San Churro Cafe          Yes   \n",
       "3                                  Addhuri Udupi Bhojana           No   \n",
       "4                                          Grand Village           No   \n",
       "...                                                  ...          ...   \n",
       "41258                         The Farm House Bar n Grill           No   \n",
       "41259                                            Bhagini           No   \n",
       "41260  Best Brews - Four Points by Sheraton Bengaluru...           No   \n",
       "41261  Chime - Sheraton Grand Bengaluru Whitefield Ho...           No   \n",
       "41262                       The Nest - The Den Bengaluru           No   \n",
       "\n",
       "      book_table  rate  votes                    location  \\\n",
       "0            Yes   4.1    775                Banashankari   \n",
       "1             No   4.1    787                Banashankari   \n",
       "2             No   3.8    918                Banashankari   \n",
       "3             No   3.7     88                Banashankari   \n",
       "4             No   3.8    166                Basavanagudi   \n",
       "...          ...   ...    ...                         ...   \n",
       "41258         No   3.7     34                  Whitefield   \n",
       "41259         No   2.5     81                  Whitefield   \n",
       "41260         No   3.6     27                  Whitefield   \n",
       "41261        Yes   4.3    236  ITPL Main Road, Whitefield   \n",
       "41262         No   3.4     13  ITPL Main Road, Whitefield   \n",
       "\n",
       "                 rest_type                                     cuisines  cost  \\\n",
       "0            Casual Dining               North Indian, Mughlai, Chinese   800   \n",
       "1            Casual Dining                  Chinese, North Indian, Thai   800   \n",
       "2      Cafe, Casual Dining                       Cafe, Mexican, Italian   800   \n",
       "3              Quick Bites                   South Indian, North Indian   300   \n",
       "4            Casual Dining                     North Indian, Rajasthani   600   \n",
       "...                    ...                                          ...   ...   \n",
       "41258   Casual Dining, Bar                    North Indian, Continental   800   \n",
       "41259   Casual Dining, Bar  Andhra, South Indian, Chinese, North Indian   800   \n",
       "41260                  Bar                                  Continental  1500   \n",
       "41261                  Bar                                  Finger Food  2500   \n",
       "41262   Bar, Casual Dining       Finger Food, North Indian, Continental  1500   \n",
       "\n",
       "                                            reviews_list menu_item  \\\n",
       "0      [('Rated 4.0', 'RATED\\n  A beautiful place to ...        []   \n",
       "1      [('Rated 4.0', 'RATED\\n  Had been here for din...        []   \n",
       "2      [('Rated 3.0', \"RATED\\n  Ambience is not that ...        []   \n",
       "3      [('Rated 4.0', \"RATED\\n  Great food and proper...        []   \n",
       "4      [('Rated 4.0', 'RATED\\n  Very good restaurant ...        []   \n",
       "...                                                  ...       ...   \n",
       "41258  [('Rated 4.0', 'RATED\\n  Ambience- Big and spa...        []   \n",
       "41259  [('Rated 4.0', 'RATED\\n  A fine place to chill...        []   \n",
       "41260  [('Rated 5.0', \"RATED\\n  Food and service are ...        []   \n",
       "41261  [('Rated 4.0', 'RATED\\n  Nice and friendly pla...        []   \n",
       "41262  [('Rated 5.0', 'RATED\\n  Great ambience , look...        []   \n",
       "\n",
       "                type          city  \n",
       "0             Buffet  Banashankari  \n",
       "1             Buffet  Banashankari  \n",
       "2             Buffet  Banashankari  \n",
       "3             Buffet  Banashankari  \n",
       "4             Buffet  Banashankari  \n",
       "...              ...           ...  \n",
       "41258  Pubs and bars    Whitefield  \n",
       "41259  Pubs and bars    Whitefield  \n",
       "41260  Pubs and bars    Whitefield  \n",
       "41261  Pubs and bars    Whitefield  \n",
       "41262  Pubs and bars    Whitefield  \n",
       "\n",
       "[41263 rows x 16 columns]"
      ]
     },
     "execution_count": 38,
     "metadata": {},
     "output_type": "execute_result"
    }
   ],
   "source": [
    "df4.dropna(inplace=True)\n",
    "df4.reset_index(drop=True)"
   ]
  },
  {
   "cell_type": "code",
   "execution_count": 39,
   "metadata": {},
   "outputs": [
    {
     "name": "stdout",
     "output_type": "stream",
     "text": [
      "<class 'pandas.core.frame.DataFrame'>\n",
      "Int64Index: 41263 entries, 0 to 43869\n",
      "Data columns (total 16 columns):\n",
      " #   Column        Non-Null Count  Dtype  \n",
      "---  ------        --------------  -----  \n",
      " 0   level_0       41263 non-null  int64  \n",
      " 1   index         41263 non-null  int64  \n",
      " 2   address       41263 non-null  object \n",
      " 3   name          41263 non-null  object \n",
      " 4   online_order  41263 non-null  object \n",
      " 5   book_table    41263 non-null  object \n",
      " 6   rate          41263 non-null  float64\n",
      " 7   votes         41263 non-null  int64  \n",
      " 8   location      41263 non-null  object \n",
      " 9   rest_type     41263 non-null  object \n",
      " 10  cuisines      41263 non-null  object \n",
      " 11  cost          41263 non-null  object \n",
      " 12  reviews_list  41263 non-null  object \n",
      " 13  menu_item     41263 non-null  object \n",
      " 14  type          41263 non-null  object \n",
      " 15  city          41263 non-null  object \n",
      "dtypes: float64(1), int64(3), object(12)\n",
      "memory usage: 5.4+ MB\n"
     ]
    }
   ],
   "source": [
    "df4.info()"
   ]
  },
  {
   "cell_type": "code",
   "execution_count": 40,
   "metadata": {},
   "outputs": [],
   "source": [
    "geolocator=Nominatim(user_agent=\"app\")\n"
   ]
  },
  {
   "cell_type": "code",
   "execution_count": 41,
   "metadata": {},
   "outputs": [],
   "source": [
    "locations=pd.DataFrame({\"Name\":df4['location'].unique()})"
   ]
  },
  {
   "cell_type": "code",
   "execution_count": 42,
   "metadata": {},
   "outputs": [
    {
     "data": {
      "text/plain": [
       "92"
      ]
     },
     "execution_count": 42,
     "metadata": {},
     "output_type": "execute_result"
    }
   ],
   "source": [
    "len(locations)"
   ]
  },
  {
   "cell_type": "code",
   "execution_count": 43,
   "metadata": {},
   "outputs": [],
   "source": [
    "lat=[]\n",
    "lon=[]\n",
    "for location in locations['Name']:\n",
    "    location = geolocator.geocode(location)    \n",
    "    if location is None:\n",
    "        lat.append(np.nan)\n",
    "        lon.append(np.nan)\n",
    "    else:\n",
    "        lat.append(location.latitude)\n",
    "        lon.append(location.longitude)"
   ]
  },
  {
   "cell_type": "code",
   "execution_count": 44,
   "metadata": {},
   "outputs": [],
   "source": [
    "locations['lat']=lat\n",
    "locations['lon']=lon"
   ]
  },
  {
   "cell_type": "markdown",
   "metadata": {},
   "source": [
    "#### Brand Loc"
   ]
  },
  {
   "cell_type": "code",
   "execution_count": 167,
   "metadata": {},
   "outputs": [],
   "source": [
    "brand_loc  = pd.DataFrame(df4['name'].value_counts().reset_index())\n",
    "brand_loc.columns=['Name','count']"
   ]
  },
  {
   "cell_type": "code",
   "execution_count": 168,
   "metadata": {},
   "outputs": [
    {
     "data": {
      "text/html": [
       "<div>\n",
       "<style scoped>\n",
       "    .dataframe tbody tr th:only-of-type {\n",
       "        vertical-align: middle;\n",
       "    }\n",
       "\n",
       "    .dataframe tbody tr th {\n",
       "        vertical-align: top;\n",
       "    }\n",
       "\n",
       "    .dataframe thead th {\n",
       "        text-align: right;\n",
       "    }\n",
       "</style>\n",
       "<table border=\"1\" class=\"dataframe\">\n",
       "  <thead>\n",
       "    <tr style=\"text-align: right;\">\n",
       "      <th></th>\n",
       "      <th>Name</th>\n",
       "      <th>count</th>\n",
       "    </tr>\n",
       "  </thead>\n",
       "  <tbody>\n",
       "    <tr>\n",
       "      <th>0</th>\n",
       "      <td>Cafe Coffee Day</td>\n",
       "      <td>86</td>\n",
       "    </tr>\n",
       "    <tr>\n",
       "      <th>1</th>\n",
       "      <td>Onesta</td>\n",
       "      <td>85</td>\n",
       "    </tr>\n",
       "    <tr>\n",
       "      <th>2</th>\n",
       "      <td>Empire Restaurant</td>\n",
       "      <td>69</td>\n",
       "    </tr>\n",
       "    <tr>\n",
       "      <th>3</th>\n",
       "      <td>Five Star Chicken</td>\n",
       "      <td>68</td>\n",
       "    </tr>\n",
       "    <tr>\n",
       "      <th>4</th>\n",
       "      <td>Kanti Sweets</td>\n",
       "      <td>68</td>\n",
       "    </tr>\n",
       "    <tr>\n",
       "      <th>...</th>\n",
       "      <td>...</td>\n",
       "      <td>...</td>\n",
       "    </tr>\n",
       "    <tr>\n",
       "      <th>6597</th>\n",
       "      <td>Saffron - Radisson Blu</td>\n",
       "      <td>1</td>\n",
       "    </tr>\n",
       "    <tr>\n",
       "      <th>6598</th>\n",
       "      <td>Silver Spoon</td>\n",
       "      <td>1</td>\n",
       "    </tr>\n",
       "    <tr>\n",
       "      <th>6599</th>\n",
       "      <td>Le Jardin By Bhagini</td>\n",
       "      <td>1</td>\n",
       "    </tr>\n",
       "    <tr>\n",
       "      <th>6600</th>\n",
       "      <td>The Kick-Ass Company Pub &amp; Diner</td>\n",
       "      <td>1</td>\n",
       "    </tr>\n",
       "    <tr>\n",
       "      <th>6601</th>\n",
       "      <td>SeeYa Restaurant</td>\n",
       "      <td>1</td>\n",
       "    </tr>\n",
       "  </tbody>\n",
       "</table>\n",
       "<p>6602 rows × 2 columns</p>\n",
       "</div>"
      ],
      "text/plain": [
       "                                  Name  count\n",
       "0                      Cafe Coffee Day     86\n",
       "1                               Onesta     85\n",
       "2                    Empire Restaurant     69\n",
       "3                    Five Star Chicken     68\n",
       "4                         Kanti Sweets     68\n",
       "...                                ...    ...\n",
       "6597            Saffron - Radisson Blu      1\n",
       "6598                      Silver Spoon      1\n",
       "6599              Le Jardin By Bhagini      1\n",
       "6600  The Kick-Ass Company Pub & Diner      1\n",
       "6601                  SeeYa Restaurant      1\n",
       "\n",
       "[6602 rows x 2 columns]"
      ]
     },
     "execution_count": 168,
     "metadata": {},
     "output_type": "execute_result"
    }
   ],
   "source": [
    "brand_loc"
   ]
  },
  {
   "cell_type": "code",
   "execution_count": 171,
   "metadata": {},
   "outputs": [],
   "source": [
    "brands=pd.DataFrame({\"Name\":df4['name'].unique()})"
   ]
  },
  {
   "cell_type": "code",
   "execution_count": 172,
   "metadata": {},
   "outputs": [
    {
     "name": "stderr",
     "output_type": "stream",
     "text": [
      "\n",
      "KeyboardInterrupt\n",
      "\n"
     ]
    }
   ],
   "source": [
    "lat=[]\n",
    "lon=[]\n",
    "for location in brands['Name']:\n",
    "    location = geolocator.geocode(location)    \n",
    "    if location is None:\n",
    "        lat.append(np.nan)\n",
    "        lon.append(np.nan)\n",
    "    else:\n",
    "        lat.append(location.latitude)\n",
    "        lon.append(location.longitude)"
   ]
  },
  {
   "cell_type": "code",
   "execution_count": 170,
   "metadata": {},
   "outputs": [
    {
     "data": {
      "text/html": [
       "<div>\n",
       "<style scoped>\n",
       "    .dataframe tbody tr th:only-of-type {\n",
       "        vertical-align: middle;\n",
       "    }\n",
       "\n",
       "    .dataframe tbody tr th {\n",
       "        vertical-align: top;\n",
       "    }\n",
       "\n",
       "    .dataframe thead th {\n",
       "        text-align: right;\n",
       "    }\n",
       "</style>\n",
       "<table border=\"1\" class=\"dataframe\">\n",
       "  <thead>\n",
       "    <tr style=\"text-align: right;\">\n",
       "      <th></th>\n",
       "      <th>Name</th>\n",
       "      <th>count</th>\n",
       "    </tr>\n",
       "  </thead>\n",
       "  <tbody>\n",
       "    <tr>\n",
       "      <th>0</th>\n",
       "      <td>Cafe Coffee Day</td>\n",
       "      <td>86</td>\n",
       "    </tr>\n",
       "    <tr>\n",
       "      <th>1</th>\n",
       "      <td>Onesta</td>\n",
       "      <td>85</td>\n",
       "    </tr>\n",
       "    <tr>\n",
       "      <th>2</th>\n",
       "      <td>Empire Restaurant</td>\n",
       "      <td>69</td>\n",
       "    </tr>\n",
       "    <tr>\n",
       "      <th>3</th>\n",
       "      <td>Five Star Chicken</td>\n",
       "      <td>68</td>\n",
       "    </tr>\n",
       "    <tr>\n",
       "      <th>4</th>\n",
       "      <td>Kanti Sweets</td>\n",
       "      <td>68</td>\n",
       "    </tr>\n",
       "    <tr>\n",
       "      <th>...</th>\n",
       "      <td>...</td>\n",
       "      <td>...</td>\n",
       "    </tr>\n",
       "    <tr>\n",
       "      <th>6597</th>\n",
       "      <td>Saffron - Radisson Blu</td>\n",
       "      <td>1</td>\n",
       "    </tr>\n",
       "    <tr>\n",
       "      <th>6598</th>\n",
       "      <td>Silver Spoon</td>\n",
       "      <td>1</td>\n",
       "    </tr>\n",
       "    <tr>\n",
       "      <th>6599</th>\n",
       "      <td>Le Jardin By Bhagini</td>\n",
       "      <td>1</td>\n",
       "    </tr>\n",
       "    <tr>\n",
       "      <th>6600</th>\n",
       "      <td>The Kick-Ass Company Pub &amp; Diner</td>\n",
       "      <td>1</td>\n",
       "    </tr>\n",
       "    <tr>\n",
       "      <th>6601</th>\n",
       "      <td>SeeYa Restaurant</td>\n",
       "      <td>1</td>\n",
       "    </tr>\n",
       "  </tbody>\n",
       "</table>\n",
       "<p>6602 rows × 2 columns</p>\n",
       "</div>"
      ],
      "text/plain": [
       "                                  Name  count\n",
       "0                      Cafe Coffee Day     86\n",
       "1                               Onesta     85\n",
       "2                    Empire Restaurant     69\n",
       "3                    Five Star Chicken     68\n",
       "4                         Kanti Sweets     68\n",
       "...                                ...    ...\n",
       "6597            Saffron - Radisson Blu      1\n",
       "6598                      Silver Spoon      1\n",
       "6599              Le Jardin By Bhagini      1\n",
       "6600  The Kick-Ass Company Pub & Diner      1\n",
       "6601                  SeeYa Restaurant      1\n",
       "\n",
       "[6602 rows x 2 columns]"
      ]
     },
     "execution_count": 170,
     "metadata": {},
     "output_type": "execute_result"
    }
   ],
   "source": [
    "brands"
   ]
  },
  {
   "cell_type": "code",
   "execution_count": 161,
   "metadata": {},
   "outputs": [],
   "source": [
    "brand_loc=brand_loc.merge(brands,on='Name',how=\"left\").dropna()"
   ]
  },
  {
   "cell_type": "code",
   "execution_count": 162,
   "metadata": {},
   "outputs": [],
   "source": [
    "b_map =  basemap=generateBaseMap()"
   ]
  },
  {
   "cell_type": "code",
   "execution_count": null,
   "metadata": {},
   "outputs": [],
   "source": [
    "\n",
    "for i in range(0,len(brand_loc)):\n",
    "   folium.Circle(\n",
    "      location=[brand_loc.iloc[i]['lat'], brand_loc.iloc[i]['lon']],\n",
    "      popup=brand_loc.iloc[i]['Name'],\n",
    "      radius=float(brand_loc.iloc[i]['count']),\n",
    "      color='crimson',\n",
    "      fill=True,\n",
    "      fill_color='crimson'\n",
    "   ).add_to(b_map)\n",
    "\n",
    "# Show the map again\n",
    "b_map"
   ]
  },
  {
   "cell_type": "markdown",
   "metadata": {},
   "source": [
    "#### Rest loc"
   ]
  },
  {
   "cell_type": "code",
   "execution_count": 45,
   "metadata": {},
   "outputs": [],
   "source": [
    "Rest_locations=pd.DataFrame(df4['location'].value_counts().reset_index())"
   ]
  },
  {
   "cell_type": "code",
   "execution_count": 46,
   "metadata": {},
   "outputs": [
    {
     "data": {
      "text/html": [
       "<div>\n",
       "<style scoped>\n",
       "    .dataframe tbody tr th:only-of-type {\n",
       "        vertical-align: middle;\n",
       "    }\n",
       "\n",
       "    .dataframe tbody tr th {\n",
       "        vertical-align: top;\n",
       "    }\n",
       "\n",
       "    .dataframe thead th {\n",
       "        text-align: right;\n",
       "    }\n",
       "</style>\n",
       "<table border=\"1\" class=\"dataframe\">\n",
       "  <thead>\n",
       "    <tr style=\"text-align: right;\">\n",
       "      <th></th>\n",
       "      <th>Name</th>\n",
       "      <th>count</th>\n",
       "    </tr>\n",
       "  </thead>\n",
       "  <tbody>\n",
       "    <tr>\n",
       "      <th>0</th>\n",
       "      <td>BTM</td>\n",
       "      <td>3879</td>\n",
       "    </tr>\n",
       "    <tr>\n",
       "      <th>1</th>\n",
       "      <td>Koramangala 5th Block</td>\n",
       "      <td>2297</td>\n",
       "    </tr>\n",
       "    <tr>\n",
       "      <th>2</th>\n",
       "      <td>HSR</td>\n",
       "      <td>1993</td>\n",
       "    </tr>\n",
       "    <tr>\n",
       "      <th>3</th>\n",
       "      <td>Indiranagar</td>\n",
       "      <td>1800</td>\n",
       "    </tr>\n",
       "    <tr>\n",
       "      <th>4</th>\n",
       "      <td>JP Nagar</td>\n",
       "      <td>1710</td>\n",
       "    </tr>\n",
       "  </tbody>\n",
       "</table>\n",
       "</div>"
      ],
      "text/plain": [
       "                    Name  count\n",
       "0                    BTM   3879\n",
       "1  Koramangala 5th Block   2297\n",
       "2                    HSR   1993\n",
       "3            Indiranagar   1800\n",
       "4               JP Nagar   1710"
      ]
     },
     "execution_count": 46,
     "metadata": {},
     "output_type": "execute_result"
    }
   ],
   "source": [
    "Rest_locations.columns=['Name','count']\n",
    "Rest_locations.head()"
   ]
  },
  {
   "cell_type": "code",
   "execution_count": 47,
   "metadata": {},
   "outputs": [
    {
     "name": "stdout",
     "output_type": "stream",
     "text": [
      "(92, 3)\n",
      "(92, 2)\n"
     ]
    }
   ],
   "source": [
    "print(locations.shape)\n",
    "print(Rest_locations.shape)"
   ]
  },
  {
   "cell_type": "code",
   "execution_count": 48,
   "metadata": {},
   "outputs": [
    {
     "data": {
      "text/html": [
       "<div>\n",
       "<style scoped>\n",
       "    .dataframe tbody tr th:only-of-type {\n",
       "        vertical-align: middle;\n",
       "    }\n",
       "\n",
       "    .dataframe tbody tr th {\n",
       "        vertical-align: top;\n",
       "    }\n",
       "\n",
       "    .dataframe thead th {\n",
       "        text-align: right;\n",
       "    }\n",
       "</style>\n",
       "<table border=\"1\" class=\"dataframe\">\n",
       "  <thead>\n",
       "    <tr style=\"text-align: right;\">\n",
       "      <th></th>\n",
       "      <th>Name</th>\n",
       "      <th>count</th>\n",
       "      <th>lat</th>\n",
       "      <th>lon</th>\n",
       "    </tr>\n",
       "  </thead>\n",
       "  <tbody>\n",
       "    <tr>\n",
       "      <th>0</th>\n",
       "      <td>BTM</td>\n",
       "      <td>3879</td>\n",
       "      <td>45.954851</td>\n",
       "      <td>-112.496595</td>\n",
       "    </tr>\n",
       "    <tr>\n",
       "      <th>1</th>\n",
       "      <td>Koramangala 5th Block</td>\n",
       "      <td>2297</td>\n",
       "      <td>12.934843</td>\n",
       "      <td>77.618977</td>\n",
       "    </tr>\n",
       "    <tr>\n",
       "      <th>2</th>\n",
       "      <td>HSR</td>\n",
       "      <td>1993</td>\n",
       "      <td>18.147500</td>\n",
       "      <td>41.538889</td>\n",
       "    </tr>\n",
       "    <tr>\n",
       "      <th>3</th>\n",
       "      <td>Indiranagar</td>\n",
       "      <td>1800</td>\n",
       "      <td>12.973291</td>\n",
       "      <td>77.640467</td>\n",
       "    </tr>\n",
       "    <tr>\n",
       "      <th>4</th>\n",
       "      <td>JP Nagar</td>\n",
       "      <td>1710</td>\n",
       "      <td>12.265594</td>\n",
       "      <td>76.646540</td>\n",
       "    </tr>\n",
       "  </tbody>\n",
       "</table>\n",
       "</div>"
      ],
      "text/plain": [
       "                    Name  count        lat         lon\n",
       "0                    BTM   3879  45.954851 -112.496595\n",
       "1  Koramangala 5th Block   2297  12.934843   77.618977\n",
       "2                    HSR   1993  18.147500   41.538889\n",
       "3            Indiranagar   1800  12.973291   77.640467\n",
       "4               JP Nagar   1710  12.265594   76.646540"
      ]
     },
     "execution_count": 48,
     "metadata": {},
     "output_type": "execute_result"
    }
   ],
   "source": [
    "Restaurant_locations=Rest_locations.merge(locations,on='Name',how=\"left\").dropna()\n",
    "Restaurant_locations.head()"
   ]
  },
  {
   "cell_type": "code",
   "execution_count": 49,
   "metadata": {},
   "outputs": [],
   "source": [
    "def generateBaseMap(default_location=[12.97, 77.59], default_zoom_start=12):\n",
    "    base_map = folium.Map(location=default_location, zoom_start=default_zoom_start)\n",
    "    return base_map"
   ]
  },
  {
   "cell_type": "code",
   "execution_count": 50,
   "metadata": {},
   "outputs": [],
   "source": [
    "basemap=generateBaseMap()"
   ]
  },
  {
   "cell_type": "code",
   "execution_count": null,
   "metadata": {},
   "outputs": [],
   "source": [
    "basemap"
   ]
  },
  {
   "cell_type": "code",
   "execution_count": 150,
   "metadata": {},
   "outputs": [
    {
     "data": {
      "text/html": [
       "<div>\n",
       "<style scoped>\n",
       "    .dataframe tbody tr th:only-of-type {\n",
       "        vertical-align: middle;\n",
       "    }\n",
       "\n",
       "    .dataframe tbody tr th {\n",
       "        vertical-align: top;\n",
       "    }\n",
       "\n",
       "    .dataframe thead th {\n",
       "        text-align: right;\n",
       "    }\n",
       "</style>\n",
       "<table border=\"1\" class=\"dataframe\">\n",
       "  <thead>\n",
       "    <tr style=\"text-align: right;\">\n",
       "      <th></th>\n",
       "      <th>Name</th>\n",
       "      <th>count</th>\n",
       "      <th>lat</th>\n",
       "      <th>lon</th>\n",
       "    </tr>\n",
       "  </thead>\n",
       "  <tbody>\n",
       "    <tr>\n",
       "      <th>0</th>\n",
       "      <td>BTM</td>\n",
       "      <td>3879</td>\n",
       "      <td>45.954851</td>\n",
       "      <td>-112.496595</td>\n",
       "    </tr>\n",
       "    <tr>\n",
       "      <th>1</th>\n",
       "      <td>Koramangala 5th Block</td>\n",
       "      <td>2297</td>\n",
       "      <td>12.934843</td>\n",
       "      <td>77.618977</td>\n",
       "    </tr>\n",
       "    <tr>\n",
       "      <th>2</th>\n",
       "      <td>HSR</td>\n",
       "      <td>1993</td>\n",
       "      <td>18.147500</td>\n",
       "      <td>41.538889</td>\n",
       "    </tr>\n",
       "    <tr>\n",
       "      <th>3</th>\n",
       "      <td>Indiranagar</td>\n",
       "      <td>1800</td>\n",
       "      <td>12.973291</td>\n",
       "      <td>77.640467</td>\n",
       "    </tr>\n",
       "    <tr>\n",
       "      <th>4</th>\n",
       "      <td>JP Nagar</td>\n",
       "      <td>1710</td>\n",
       "      <td>12.265594</td>\n",
       "      <td>76.646540</td>\n",
       "    </tr>\n",
       "    <tr>\n",
       "      <th>...</th>\n",
       "      <td>...</td>\n",
       "      <td>...</td>\n",
       "      <td>...</td>\n",
       "      <td>...</td>\n",
       "    </tr>\n",
       "    <tr>\n",
       "      <th>87</th>\n",
       "      <td>Yelahanka</td>\n",
       "      <td>4</td>\n",
       "      <td>13.100698</td>\n",
       "      <td>77.596345</td>\n",
       "    </tr>\n",
       "    <tr>\n",
       "      <th>88</th>\n",
       "      <td>West Bangalore</td>\n",
       "      <td>3</td>\n",
       "      <td>12.984852</td>\n",
       "      <td>77.540063</td>\n",
       "    </tr>\n",
       "    <tr>\n",
       "      <th>89</th>\n",
       "      <td>Rajarajeshwari Nagar</td>\n",
       "      <td>2</td>\n",
       "      <td>12.927441</td>\n",
       "      <td>77.515522</td>\n",
       "    </tr>\n",
       "    <tr>\n",
       "      <th>90</th>\n",
       "      <td>Nagarbhavi</td>\n",
       "      <td>1</td>\n",
       "      <td>12.959618</td>\n",
       "      <td>77.511267</td>\n",
       "    </tr>\n",
       "    <tr>\n",
       "      <th>91</th>\n",
       "      <td>Peenya</td>\n",
       "      <td>1</td>\n",
       "      <td>13.032942</td>\n",
       "      <td>77.527325</td>\n",
       "    </tr>\n",
       "  </tbody>\n",
       "</table>\n",
       "<p>91 rows × 4 columns</p>\n",
       "</div>"
      ],
      "text/plain": [
       "                     Name  count        lat         lon\n",
       "0                     BTM   3879  45.954851 -112.496595\n",
       "1   Koramangala 5th Block   2297  12.934843   77.618977\n",
       "2                     HSR   1993  18.147500   41.538889\n",
       "3             Indiranagar   1800  12.973291   77.640467\n",
       "4                JP Nagar   1710  12.265594   76.646540\n",
       "..                    ...    ...        ...         ...\n",
       "87              Yelahanka      4  13.100698   77.596345\n",
       "88         West Bangalore      3  12.984852   77.540063\n",
       "89   Rajarajeshwari Nagar      2  12.927441   77.515522\n",
       "90             Nagarbhavi      1  12.959618   77.511267\n",
       "91                 Peenya      1  13.032942   77.527325\n",
       "\n",
       "[91 rows x 4 columns]"
      ]
     },
     "execution_count": 150,
     "metadata": {},
     "output_type": "execute_result"
    }
   ],
   "source": [
    "Restaurant_locations[['lat','lon','count']]"
   ]
  },
  {
   "cell_type": "code",
   "execution_count": 53,
   "metadata": {},
   "outputs": [
    {
     "data": {
      "text/plain": [
       "<folium.plugins.heat_map.HeatMap at 0x271000e8a30>"
      ]
     },
     "execution_count": 53,
     "metadata": {},
     "output_type": "execute_result"
    }
   ],
   "source": [
    "HeatMap(Restaurant_locations[['lat','lon','count']],zoom=20,radius=15).add_to(basemap)"
   ]
  },
  {
   "cell_type": "code",
   "execution_count": 54,
   "metadata": {},
   "outputs": [
    {
     "data": {
      "text/html": [
       "<div style=\"width:100%;\"><div style=\"position:relative;width:100%;height:0;padding-bottom:60%;\"><span style=\"color:#565656\">Make this Notebook Trusted to load map: File -> Trust Notebook</span><iframe srcdoc=\"&lt;!DOCTYPE html&gt;\n",
       "&lt;head&gt;    \n",
       "    &lt;meta http-equiv=&quot;content-type&quot; content=&quot;text/html; charset=UTF-8&quot; /&gt;\n",
       "    \n",
       "        &lt;script&gt;\n",
       "            L_NO_TOUCH = false;\n",
       "            L_DISABLE_3D = false;\n",
       "        &lt;/script&gt;\n",
       "    \n",
       "    &lt;style&gt;html, body {width: 100%;height: 100%;margin: 0;padding: 0;}&lt;/style&gt;\n",
       "    &lt;style&gt;#map {position:absolute;top:0;bottom:0;right:0;left:0;}&lt;/style&gt;\n",
       "    &lt;script src=&quot;https://cdn.jsdelivr.net/npm/leaflet@1.6.0/dist/leaflet.js&quot;&gt;&lt;/script&gt;\n",
       "    &lt;script src=&quot;https://code.jquery.com/jquery-1.12.4.min.js&quot;&gt;&lt;/script&gt;\n",
       "    &lt;script src=&quot;https://maxcdn.bootstrapcdn.com/bootstrap/3.2.0/js/bootstrap.min.js&quot;&gt;&lt;/script&gt;\n",
       "    &lt;script src=&quot;https://cdnjs.cloudflare.com/ajax/libs/Leaflet.awesome-markers/2.0.2/leaflet.awesome-markers.js&quot;&gt;&lt;/script&gt;\n",
       "    &lt;link rel=&quot;stylesheet&quot; href=&quot;https://cdn.jsdelivr.net/npm/leaflet@1.6.0/dist/leaflet.css&quot;/&gt;\n",
       "    &lt;link rel=&quot;stylesheet&quot; href=&quot;https://maxcdn.bootstrapcdn.com/bootstrap/3.2.0/css/bootstrap.min.css&quot;/&gt;\n",
       "    &lt;link rel=&quot;stylesheet&quot; href=&quot;https://maxcdn.bootstrapcdn.com/bootstrap/3.2.0/css/bootstrap-theme.min.css&quot;/&gt;\n",
       "    &lt;link rel=&quot;stylesheet&quot; href=&quot;https://maxcdn.bootstrapcdn.com/font-awesome/4.6.3/css/font-awesome.min.css&quot;/&gt;\n",
       "    &lt;link rel=&quot;stylesheet&quot; href=&quot;https://cdnjs.cloudflare.com/ajax/libs/Leaflet.awesome-markers/2.0.2/leaflet.awesome-markers.css&quot;/&gt;\n",
       "    &lt;link rel=&quot;stylesheet&quot; href=&quot;https://cdn.jsdelivr.net/gh/python-visualization/folium/folium/templates/leaflet.awesome.rotate.min.css&quot;/&gt;\n",
       "    \n",
       "            &lt;meta name=&quot;viewport&quot; content=&quot;width=device-width,\n",
       "                initial-scale=1.0, maximum-scale=1.0, user-scalable=no&quot; /&gt;\n",
       "            &lt;style&gt;\n",
       "                #map_2680094047acce15715e7687abd3c9ae {\n",
       "                    position: relative;\n",
       "                    width: 100.0%;\n",
       "                    height: 100.0%;\n",
       "                    left: 0.0%;\n",
       "                    top: 0.0%;\n",
       "                }\n",
       "            &lt;/style&gt;\n",
       "        \n",
       "    &lt;script src=&quot;https://cdn.jsdelivr.net/gh/python-visualization/folium@master/folium/templates/leaflet_heat.min.js&quot;&gt;&lt;/script&gt;\n",
       "&lt;/head&gt;\n",
       "&lt;body&gt;    \n",
       "    \n",
       "            &lt;div class=&quot;folium-map&quot; id=&quot;map_2680094047acce15715e7687abd3c9ae&quot; &gt;&lt;/div&gt;\n",
       "        \n",
       "&lt;/body&gt;\n",
       "&lt;script&gt;    \n",
       "    \n",
       "            var map_2680094047acce15715e7687abd3c9ae = L.map(\n",
       "                &quot;map_2680094047acce15715e7687abd3c9ae&quot;,\n",
       "                {\n",
       "                    center: [12.97, 77.59],\n",
       "                    crs: L.CRS.EPSG3857,\n",
       "                    zoom: 12,\n",
       "                    zoomControl: true,\n",
       "                    preferCanvas: false,\n",
       "                }\n",
       "            );\n",
       "\n",
       "            \n",
       "\n",
       "        \n",
       "    \n",
       "            var tile_layer_40de95ec52d40a929877127671d3faf0 = L.tileLayer(\n",
       "                &quot;https://{s}.tile.openstreetmap.org/{z}/{x}/{y}.png&quot;,\n",
       "                {&quot;attribution&quot;: &quot;Data by \\u0026copy; \\u003ca href=\\&quot;http://openstreetmap.org\\&quot;\\u003eOpenStreetMap\\u003c/a\\u003e, under \\u003ca href=\\&quot;http://www.openstreetmap.org/copyright\\&quot;\\u003eODbL\\u003c/a\\u003e.&quot;, &quot;detectRetina&quot;: false, &quot;maxNativeZoom&quot;: 18, &quot;maxZoom&quot;: 18, &quot;minZoom&quot;: 0, &quot;noWrap&quot;: false, &quot;opacity&quot;: 1, &quot;subdomains&quot;: &quot;abc&quot;, &quot;tms&quot;: false}\n",
       "            ).addTo(map_2680094047acce15715e7687abd3c9ae);\n",
       "        \n",
       "    \n",
       "            var heat_map_4bb2f6c6b51e5b5813e46e516875c79d = L.heatLayer(\n",
       "                [[45.95485055, -112.49659530324134, 3879.0], [12.9348429, 77.6189768, 2297.0], [18.1475, 41.538889, 1993.0], [12.9732913, 77.6404672, 1800.0], [12.2655944, 76.6465404, 1710.0], [27.64392675, 83.05280519687284, 1634.0], [53.5533682, -2.2969019, 1568.0], [12.9552572, 77.6984163, 1410.0], [12.8905219, 77.598149, 1226.0], [12.9364846, 77.6134783, 1055.0], [12.9390255, 77.6238477, 1054.0], [50.7962518, -120.3174744, 1052.0], [12.93103185, 77.6782471, 997.0], [12.920441, 77.6653284, 854.0], [12.9275886, 77.6308832, 852.0], [12.9778793, 77.6246697, 849.0], [12.9327778, 77.6294052, 841.0], [12.848759900000001, 77.64825295827616, 834.0], [12.9755264, 77.6067902, 793.0], [15.8876779, 75.7046777, 744.0], [13.0221416, 77.6403368, 692.0], [13.0027353, 77.5703253, 641.0], [34.0702921, 74.8090203, 604.0], [40.5758225, -74.123824, 604.0], [12.9417261, 77.5755021, 595.0], [12.996845, 77.6130165, 566.0], [40.7097579, -74.0115904, 546.0], [33.5935063, -79.0345627, 543.0], [13.0407274, 77.5630658, 506.0], [13.0093455, 77.6377094, 493.0], [40.7652844, -76.373824, 481.0], [36.5348643, -79.0905056, 475.0], [13.0141618, 77.6518539, 468.0], [12.9882338, 77.554883, 461.0], [12.9624669, 77.6381958, 406.0], [22.478459, 88.3541291, 368.0], [36.632132, -82.121605, 353.0], [33.117255, -84.837311, 343.0], [18.5322493, 73.8499601124847, 277.0], [51.5153811, -0.0719678, 270.0], [12.945245, 77.6269144, 256.0], [12.9678074, 77.6568367, 247.0], [12.988721250000001, 77.58516877601824, 245.0], [12.9408685, 77.617338, 212.0], [12.9282918, 77.6254034, 191.0], [12.9489339, 77.5968273, 187.0], [12.9081487, 77.5553179, 158.0], [13.2227, 78.5541977, 157.0], [12.9089453, 77.6239038, 144.0], [12.9931876, 77.5753419, 142.0], [12.9802639, 77.6042636, 140.0], [51.1672717, 0.009662, 135.0], [12.2949102, 76.615262, 133.0], [12.973936, 77.6509982, 130.0], [13.0258087, 77.6305067, 114.0], [13.02383, 77.5529215, 112.0], [1.2847055, 103.84320655721689, 111.0], [13.0358698, 77.6323597, 99.0], [12.9846713, 77.6790908, 90.0], [12.8845448, 77.5701276, 89.0], [12.9243692, 77.6242433, 87.0], [12.9413238, 77.7471103, 84.0], [12.9866083, 77.7317181, 78.0], [39.76880625, -86.15345077251979, 75.0], [12.7450586, 77.8162805, 72.0], [22.8359967, 69.3405962, 62.0], [17.2510682, 80.1651978, 61.0], [13.0227204, 77.595715, 60.0], [15.8782951, 74.5084834, 58.0], [30.1915796, 74.9408769, 48.0], [18.4900796, 73.8475301, 45.0], [13.2923988, 77.7519261, 30.0], [12.9845687, 77.73766474151809, 28.0], [12.957998, 77.6037312, 27.0], [38.7801076, -121.5056438, 26.0], [12.9756527, 77.5553548, 24.0], [13.6510577, 77.4305219, 23.0], [13.0657047, 77.776182, 22.0], [12.5560169, 77.4249605, 19.0], [12.9467026, 77.5300705, 17.0], [12.9767936, 77.590082, 10.0], [13.007516, 77.695935, 10.0], [12.9176571, 77.4837568, 9.0], [12.9055682, 77.5455438, 9.0], [13.0101286, 77.5548006, 8.0], [13.0382184, 77.5919, 8.0], [13.1006982, 77.5963454, 4.0], [12.9848519, 77.5400626, 3.0], [12.9274413, 77.5155224, 2.0], [12.95961755, 77.51126721318181, 1.0], [13.0329419, 77.5273253, 1.0]],\n",
       "                {&quot;blur&quot;: 15, &quot;maxZoom&quot;: 18, &quot;minOpacity&quot;: 0.5, &quot;radius&quot;: 15, &quot;zoom&quot;: 20}\n",
       "            ).addTo(map_2680094047acce15715e7687abd3c9ae);\n",
       "        \n",
       "&lt;/script&gt;\" style=\"position:absolute;width:100%;height:100%;left:0;top:0;border:none !important;\" allowfullscreen webkitallowfullscreen mozallowfullscreen></iframe></div></div>"
      ],
      "text/plain": [
       "<folium.folium.Map at 0x2716ce0c8b0>"
      ]
     },
     "execution_count": 54,
     "metadata": {},
     "output_type": "execute_result"
    }
   ],
   "source": [
    "basemap"
   ]
  },
  {
   "cell_type": "code",
   "execution_count": 55,
   "metadata": {},
   "outputs": [
    {
     "data": {
      "text/html": [
       "<div style=\"width:100%;\"><div style=\"position:relative;width:100%;height:0;padding-bottom:60%;\"><span style=\"color:#565656\">Make this Notebook Trusted to load map: File -> Trust Notebook</span><iframe srcdoc=\"&lt;!DOCTYPE html&gt;\n",
       "&lt;head&gt;    \n",
       "    &lt;meta http-equiv=&quot;content-type&quot; content=&quot;text/html; charset=UTF-8&quot; /&gt;\n",
       "    \n",
       "        &lt;script&gt;\n",
       "            L_NO_TOUCH = false;\n",
       "            L_DISABLE_3D = false;\n",
       "        &lt;/script&gt;\n",
       "    \n",
       "    &lt;style&gt;html, body {width: 100%;height: 100%;margin: 0;padding: 0;}&lt;/style&gt;\n",
       "    &lt;style&gt;#map {position:absolute;top:0;bottom:0;right:0;left:0;}&lt;/style&gt;\n",
       "    &lt;script src=&quot;https://cdn.jsdelivr.net/npm/leaflet@1.6.0/dist/leaflet.js&quot;&gt;&lt;/script&gt;\n",
       "    &lt;script src=&quot;https://code.jquery.com/jquery-1.12.4.min.js&quot;&gt;&lt;/script&gt;\n",
       "    &lt;script src=&quot;https://maxcdn.bootstrapcdn.com/bootstrap/3.2.0/js/bootstrap.min.js&quot;&gt;&lt;/script&gt;\n",
       "    &lt;script src=&quot;https://cdnjs.cloudflare.com/ajax/libs/Leaflet.awesome-markers/2.0.2/leaflet.awesome-markers.js&quot;&gt;&lt;/script&gt;\n",
       "    &lt;link rel=&quot;stylesheet&quot; href=&quot;https://cdn.jsdelivr.net/npm/leaflet@1.6.0/dist/leaflet.css&quot;/&gt;\n",
       "    &lt;link rel=&quot;stylesheet&quot; href=&quot;https://maxcdn.bootstrapcdn.com/bootstrap/3.2.0/css/bootstrap.min.css&quot;/&gt;\n",
       "    &lt;link rel=&quot;stylesheet&quot; href=&quot;https://maxcdn.bootstrapcdn.com/bootstrap/3.2.0/css/bootstrap-theme.min.css&quot;/&gt;\n",
       "    &lt;link rel=&quot;stylesheet&quot; href=&quot;https://maxcdn.bootstrapcdn.com/font-awesome/4.6.3/css/font-awesome.min.css&quot;/&gt;\n",
       "    &lt;link rel=&quot;stylesheet&quot; href=&quot;https://cdnjs.cloudflare.com/ajax/libs/Leaflet.awesome-markers/2.0.2/leaflet.awesome-markers.css&quot;/&gt;\n",
       "    &lt;link rel=&quot;stylesheet&quot; href=&quot;https://cdn.jsdelivr.net/gh/python-visualization/folium/folium/templates/leaflet.awesome.rotate.min.css&quot;/&gt;\n",
       "    \n",
       "            &lt;meta name=&quot;viewport&quot; content=&quot;width=device-width,\n",
       "                initial-scale=1.0, maximum-scale=1.0, user-scalable=no&quot; /&gt;\n",
       "            &lt;style&gt;\n",
       "                #map_2680094047acce15715e7687abd3c9ae {\n",
       "                    position: relative;\n",
       "                    width: 100.0%;\n",
       "                    height: 100.0%;\n",
       "                    left: 0.0%;\n",
       "                    top: 0.0%;\n",
       "                }\n",
       "            &lt;/style&gt;\n",
       "        \n",
       "    &lt;script src=&quot;https://cdn.jsdelivr.net/gh/python-visualization/folium@master/folium/templates/leaflet_heat.min.js&quot;&gt;&lt;/script&gt;\n",
       "    &lt;script src=&quot;https://cdnjs.cloudflare.com/ajax/libs/leaflet.markercluster/1.1.0/leaflet.markercluster.js&quot;&gt;&lt;/script&gt;\n",
       "    &lt;link rel=&quot;stylesheet&quot; href=&quot;https://cdnjs.cloudflare.com/ajax/libs/leaflet.markercluster/1.1.0/MarkerCluster.css&quot;/&gt;\n",
       "    &lt;link rel=&quot;stylesheet&quot; href=&quot;https://cdnjs.cloudflare.com/ajax/libs/leaflet.markercluster/1.1.0/MarkerCluster.Default.css&quot;/&gt;\n",
       "&lt;/head&gt;\n",
       "&lt;body&gt;    \n",
       "    \n",
       "            &lt;div class=&quot;folium-map&quot; id=&quot;map_2680094047acce15715e7687abd3c9ae&quot; &gt;&lt;/div&gt;\n",
       "        \n",
       "&lt;/body&gt;\n",
       "&lt;script&gt;    \n",
       "    \n",
       "            var map_2680094047acce15715e7687abd3c9ae = L.map(\n",
       "                &quot;map_2680094047acce15715e7687abd3c9ae&quot;,\n",
       "                {\n",
       "                    center: [12.97, 77.59],\n",
       "                    crs: L.CRS.EPSG3857,\n",
       "                    zoom: 12,\n",
       "                    zoomControl: true,\n",
       "                    preferCanvas: false,\n",
       "                }\n",
       "            );\n",
       "\n",
       "            \n",
       "\n",
       "        \n",
       "    \n",
       "            var tile_layer_40de95ec52d40a929877127671d3faf0 = L.tileLayer(\n",
       "                &quot;https://{s}.tile.openstreetmap.org/{z}/{x}/{y}.png&quot;,\n",
       "                {&quot;attribution&quot;: &quot;Data by \\u0026copy; \\u003ca href=\\&quot;http://openstreetmap.org\\&quot;\\u003eOpenStreetMap\\u003c/a\\u003e, under \\u003ca href=\\&quot;http://www.openstreetmap.org/copyright\\&quot;\\u003eODbL\\u003c/a\\u003e.&quot;, &quot;detectRetina&quot;: false, &quot;maxNativeZoom&quot;: 18, &quot;maxZoom&quot;: 18, &quot;minZoom&quot;: 0, &quot;noWrap&quot;: false, &quot;opacity&quot;: 1, &quot;subdomains&quot;: &quot;abc&quot;, &quot;tms&quot;: false}\n",
       "            ).addTo(map_2680094047acce15715e7687abd3c9ae);\n",
       "        \n",
       "    \n",
       "            var heat_map_4bb2f6c6b51e5b5813e46e516875c79d = L.heatLayer(\n",
       "                [[45.95485055, -112.49659530324134, 3879.0], [12.9348429, 77.6189768, 2297.0], [18.1475, 41.538889, 1993.0], [12.9732913, 77.6404672, 1800.0], [12.2655944, 76.6465404, 1710.0], [27.64392675, 83.05280519687284, 1634.0], [53.5533682, -2.2969019, 1568.0], [12.9552572, 77.6984163, 1410.0], [12.8905219, 77.598149, 1226.0], [12.9364846, 77.6134783, 1055.0], [12.9390255, 77.6238477, 1054.0], [50.7962518, -120.3174744, 1052.0], [12.93103185, 77.6782471, 997.0], [12.920441, 77.6653284, 854.0], [12.9275886, 77.6308832, 852.0], [12.9778793, 77.6246697, 849.0], [12.9327778, 77.6294052, 841.0], [12.848759900000001, 77.64825295827616, 834.0], [12.9755264, 77.6067902, 793.0], [15.8876779, 75.7046777, 744.0], [13.0221416, 77.6403368, 692.0], [13.0027353, 77.5703253, 641.0], [34.0702921, 74.8090203, 604.0], [40.5758225, -74.123824, 604.0], [12.9417261, 77.5755021, 595.0], [12.996845, 77.6130165, 566.0], [40.7097579, -74.0115904, 546.0], [33.5935063, -79.0345627, 543.0], [13.0407274, 77.5630658, 506.0], [13.0093455, 77.6377094, 493.0], [40.7652844, -76.373824, 481.0], [36.5348643, -79.0905056, 475.0], [13.0141618, 77.6518539, 468.0], [12.9882338, 77.554883, 461.0], [12.9624669, 77.6381958, 406.0], [22.478459, 88.3541291, 368.0], [36.632132, -82.121605, 353.0], [33.117255, -84.837311, 343.0], [18.5322493, 73.8499601124847, 277.0], [51.5153811, -0.0719678, 270.0], [12.945245, 77.6269144, 256.0], [12.9678074, 77.6568367, 247.0], [12.988721250000001, 77.58516877601824, 245.0], [12.9408685, 77.617338, 212.0], [12.9282918, 77.6254034, 191.0], [12.9489339, 77.5968273, 187.0], [12.9081487, 77.5553179, 158.0], [13.2227, 78.5541977, 157.0], [12.9089453, 77.6239038, 144.0], [12.9931876, 77.5753419, 142.0], [12.9802639, 77.6042636, 140.0], [51.1672717, 0.009662, 135.0], [12.2949102, 76.615262, 133.0], [12.973936, 77.6509982, 130.0], [13.0258087, 77.6305067, 114.0], [13.02383, 77.5529215, 112.0], [1.2847055, 103.84320655721689, 111.0], [13.0358698, 77.6323597, 99.0], [12.9846713, 77.6790908, 90.0], [12.8845448, 77.5701276, 89.0], [12.9243692, 77.6242433, 87.0], [12.9413238, 77.7471103, 84.0], [12.9866083, 77.7317181, 78.0], [39.76880625, -86.15345077251979, 75.0], [12.7450586, 77.8162805, 72.0], [22.8359967, 69.3405962, 62.0], [17.2510682, 80.1651978, 61.0], [13.0227204, 77.595715, 60.0], [15.8782951, 74.5084834, 58.0], [30.1915796, 74.9408769, 48.0], [18.4900796, 73.8475301, 45.0], [13.2923988, 77.7519261, 30.0], [12.9845687, 77.73766474151809, 28.0], [12.957998, 77.6037312, 27.0], [38.7801076, -121.5056438, 26.0], [12.9756527, 77.5553548, 24.0], [13.6510577, 77.4305219, 23.0], [13.0657047, 77.776182, 22.0], [12.5560169, 77.4249605, 19.0], [12.9467026, 77.5300705, 17.0], [12.9767936, 77.590082, 10.0], [13.007516, 77.695935, 10.0], [12.9176571, 77.4837568, 9.0], [12.9055682, 77.5455438, 9.0], [13.0101286, 77.5548006, 8.0], [13.0382184, 77.5919, 8.0], [13.1006982, 77.5963454, 4.0], [12.9848519, 77.5400626, 3.0], [12.9274413, 77.5155224, 2.0], [12.95961755, 77.51126721318181, 1.0], [13.0329419, 77.5273253, 1.0]],\n",
       "                {&quot;blur&quot;: 15, &quot;maxZoom&quot;: 18, &quot;minOpacity&quot;: 0.5, &quot;radius&quot;: 15, &quot;zoom&quot;: 20}\n",
       "            ).addTo(map_2680094047acce15715e7687abd3c9ae);\n",
       "        \n",
       "    \n",
       "            var fast_marker_cluster_d8b0f741f0a55c2dc68ac48d53257e2e = (function(){\n",
       "                \n",
       "                var callback = function (row) {\n",
       "                    var icon = L.AwesomeMarkers.icon();\n",
       "                    var marker = L.marker(new L.LatLng(row[0], row[1]));\n",
       "                    marker.setIcon(icon);\n",
       "                    return marker;\n",
       "                };\n",
       "\n",
       "                var data = [[45.95485055, -112.49659530324134, 3879.0], [12.9348429, 77.6189768, 2297.0], [18.1475, 41.538889, 1993.0], [12.9732913, 77.6404672, 1800.0], [12.2655944, 76.6465404, 1710.0], [27.64392675, 83.05280519687284, 1634.0], [53.5533682, -2.2969019, 1568.0], [12.9552572, 77.6984163, 1410.0], [12.8905219, 77.598149, 1226.0], [12.9364846, 77.6134783, 1055.0], [12.9390255, 77.6238477, 1054.0], [50.7962518, -120.3174744, 1052.0], [12.93103185, 77.6782471, 997.0], [12.920441, 77.6653284, 854.0], [12.9275886, 77.6308832, 852.0], [12.9778793, 77.6246697, 849.0], [12.9327778, 77.6294052, 841.0], [12.848759900000001, 77.64825295827616, 834.0], [12.9755264, 77.6067902, 793.0], [15.8876779, 75.7046777, 744.0], [13.0221416, 77.6403368, 692.0], [13.0027353, 77.5703253, 641.0], [34.0702921, 74.8090203, 604.0], [40.5758225, -74.123824, 604.0], [12.9417261, 77.5755021, 595.0], [12.996845, 77.6130165, 566.0], [40.7097579, -74.0115904, 546.0], [33.5935063, -79.0345627, 543.0], [13.0407274, 77.5630658, 506.0], [13.0093455, 77.6377094, 493.0], [40.7652844, -76.373824, 481.0], [36.5348643, -79.0905056, 475.0], [13.0141618, 77.6518539, 468.0], [12.9882338, 77.554883, 461.0], [12.9624669, 77.6381958, 406.0], [22.478459, 88.3541291, 368.0], [36.632132, -82.121605, 353.0], [33.117255, -84.837311, 343.0], [18.5322493, 73.8499601124847, 277.0], [51.5153811, -0.0719678, 270.0], [12.945245, 77.6269144, 256.0], [12.9678074, 77.6568367, 247.0], [12.988721250000001, 77.58516877601824, 245.0], [12.9408685, 77.617338, 212.0], [12.9282918, 77.6254034, 191.0], [12.9489339, 77.5968273, 187.0], [12.9081487, 77.5553179, 158.0], [13.2227, 78.5541977, 157.0], [12.9089453, 77.6239038, 144.0], [12.9931876, 77.5753419, 142.0], [12.9802639, 77.6042636, 140.0], [51.1672717, 0.009662, 135.0], [12.2949102, 76.615262, 133.0], [12.973936, 77.6509982, 130.0], [13.0258087, 77.6305067, 114.0], [13.02383, 77.5529215, 112.0], [1.2847055, 103.84320655721689, 111.0], [13.0358698, 77.6323597, 99.0], [12.9846713, 77.6790908, 90.0], [12.8845448, 77.5701276, 89.0], [12.9243692, 77.6242433, 87.0], [12.9413238, 77.7471103, 84.0], [12.9866083, 77.7317181, 78.0], [39.76880625, -86.15345077251979, 75.0], [12.7450586, 77.8162805, 72.0], [22.8359967, 69.3405962, 62.0], [17.2510682, 80.1651978, 61.0], [13.0227204, 77.595715, 60.0], [15.8782951, 74.5084834, 58.0], [30.1915796, 74.9408769, 48.0], [18.4900796, 73.8475301, 45.0], [13.2923988, 77.7519261, 30.0], [12.9845687, 77.73766474151809, 28.0], [12.957998, 77.6037312, 27.0], [38.7801076, -121.5056438, 26.0], [12.9756527, 77.5553548, 24.0], [13.6510577, 77.4305219, 23.0], [13.0657047, 77.776182, 22.0], [12.5560169, 77.4249605, 19.0], [12.9467026, 77.5300705, 17.0], [12.9767936, 77.590082, 10.0], [13.007516, 77.695935, 10.0], [12.9176571, 77.4837568, 9.0], [12.9055682, 77.5455438, 9.0], [13.0101286, 77.5548006, 8.0], [13.0382184, 77.5919, 8.0], [13.1006982, 77.5963454, 4.0], [12.9848519, 77.5400626, 3.0], [12.9274413, 77.5155224, 2.0], [12.95961755, 77.51126721318181, 1.0], [13.0329419, 77.5273253, 1.0]];\n",
       "                var cluster = L.markerClusterGroup({});\n",
       "\n",
       "                for (var i = 0; i &lt; data.length; i++) {\n",
       "                    var row = data[i];\n",
       "                    var marker = callback(row);\n",
       "                    marker.addTo(cluster);\n",
       "                }\n",
       "\n",
       "                cluster.addTo(map_2680094047acce15715e7687abd3c9ae);\n",
       "                return cluster;\n",
       "            })();\n",
       "        \n",
       "&lt;/script&gt;\" style=\"position:absolute;width:100%;height:100%;left:0;top:0;border:none !important;\" allowfullscreen webkitallowfullscreen mozallowfullscreen></iframe></div></div>"
      ],
      "text/plain": [
       "<folium.folium.Map at 0x2716ce0c8b0>"
      ]
     },
     "execution_count": 55,
     "metadata": {},
     "output_type": "execute_result"
    }
   ],
   "source": [
    "FastMarkerCluster(data=Restaurant_locations[['lat','lon','count']].values.tolist()).add_to(basemap)\n",
    "\n",
    "basemap"
   ]
  },
  {
   "cell_type": "code",
   "execution_count": 56,
   "metadata": {},
   "outputs": [
    {
     "data": {
      "text/plain": [
       "numpy.float64"
      ]
     },
     "execution_count": 56,
     "metadata": {},
     "output_type": "execute_result"
    }
   ],
   "source": [
    "type(df4['rate'][4])"
   ]
  },
  {
   "cell_type": "code",
   "execution_count": 57,
   "metadata": {},
   "outputs": [
    {
     "data": {
      "text/plain": [
       "location\n",
       "Lavelle Road             4.141788\n",
       "Koramangala 3rd Block    4.020419\n",
       "St. Marks Road           4.017201\n",
       "Koramangala 5th Block    4.006661\n",
       "Church Street            3.992125\n",
       "                           ...   \n",
       "Rammurthy Nagar          3.346154\n",
       "North Bangalore          3.340000\n",
       "Peenya                   3.200000\n",
       "Bommanahalli             3.190972\n",
       "Old Madras Road          3.181818\n",
       "Name: rate, Length: 92, dtype: float64"
      ]
     },
     "execution_count": 57,
     "metadata": {},
     "output_type": "execute_result"
    }
   ],
   "source": [
    "df4.groupby(['location'])['rate'].mean().sort_values(ascending=False)"
   ]
  },
  {
   "cell_type": "code",
   "execution_count": 58,
   "metadata": {},
   "outputs": [],
   "source": [
    "avg_rating=df4.groupby(['location'])['rate'].mean().values\n"
   ]
  },
  {
   "cell_type": "code",
   "execution_count": 59,
   "metadata": {},
   "outputs": [],
   "source": [
    "loc=df4.groupby(['location'])['rate'].mean().index"
   ]
  },
  {
   "cell_type": "code",
   "execution_count": 60,
   "metadata": {},
   "outputs": [
    {
     "data": {
      "text/plain": [
       "Index(['BTM', 'Banashankari', 'Banaswadi', 'Bannerghatta Road', 'Basavanagudi',\n",
       "       'Basaveshwara Nagar', 'Bellandur', 'Bommanahalli', 'Brigade Road',\n",
       "       'Brookefield', 'CV Raman Nagar', 'Central Bangalore', 'Church Street',\n",
       "       'City Market', 'Commercial Street', 'Cunningham Road', 'Domlur',\n",
       "       'East Bangalore', 'Ejipura', 'Electronic City', 'Frazer Town',\n",
       "       'HBR Layout', 'HSR', 'Hebbal', 'Hennur', 'Hosur Road',\n",
       "       'ITPL Main Road, Whitefield', 'Indiranagar', 'Infantry Road',\n",
       "       'JP Nagar', 'Jalahalli', 'Jayanagar', 'Jeevan Bhima Nagar', 'KR Puram',\n",
       "       'Kaggadasapura', 'Kalyan Nagar', 'Kammanahalli', 'Kanakapura Road',\n",
       "       'Kengeri', 'Koramangala', 'Koramangala 1st Block',\n",
       "       'Koramangala 2nd Block', 'Koramangala 3rd Block',\n",
       "       'Koramangala 4th Block', 'Koramangala 5th Block',\n",
       "       'Koramangala 6th Block', 'Koramangala 7th Block',\n",
       "       'Koramangala 8th Block', 'Kumaraswamy Layout', 'Langford Town',\n",
       "       'Lavelle Road', 'MG Road', 'Magadi Road', 'Majestic', 'Malleshwaram',\n",
       "       'Marathahalli', 'Mysore Road', 'Nagarbhavi', 'Nagawara', 'New BEL Road',\n",
       "       'North Bangalore', 'Old Airport Road', 'Old Madras Road', 'Peenya',\n",
       "       'RT Nagar', 'Race Course Road', 'Rajajinagar', 'Rajarajeshwari Nagar',\n",
       "       'Rammurthy Nagar', 'Residency Road', 'Richmond Road', 'Sadashiv Nagar',\n",
       "       'Sahakara Nagar', 'Sanjay Nagar', 'Sankey Road', 'Sarjapur Road',\n",
       "       'Seshadripuram', 'Shanti Nagar', 'Shivajinagar', 'South Bangalore',\n",
       "       'St. Marks Road', 'Thippasandra', 'Ulsoor', 'Uttarahalli',\n",
       "       'Varthur Main Road, Whitefield', 'Vasanth Nagar', 'Vijay Nagar',\n",
       "       'West Bangalore', 'Whitefield', 'Wilson Garden', 'Yelahanka',\n",
       "       'Yeshwantpur'],\n",
       "      dtype='object', name='location')"
      ]
     },
     "execution_count": 60,
     "metadata": {},
     "output_type": "execute_result"
    }
   ],
   "source": [
    "loc"
   ]
  },
  {
   "cell_type": "code",
   "execution_count": 61,
   "metadata": {},
   "outputs": [],
   "source": [
    "geolocator=Nominatim(user_agent=\"app\")"
   ]
  },
  {
   "cell_type": "code",
   "execution_count": 62,
   "metadata": {},
   "outputs": [],
   "source": [
    "lat=[]\n",
    "lon=[]\n",
    "for location in loc:\n",
    "    location = geolocator.geocode(location)    \n",
    "    if location is None:\n",
    "        lat.append(np.nan)\n",
    "        lon.append(np.nan)\n",
    "    else:\n",
    "        lat.append(location.latitude)\n",
    "        lon.append(location.longitude)"
   ]
  },
  {
   "cell_type": "code",
   "execution_count": 63,
   "metadata": {},
   "outputs": [],
   "source": [
    "rating=pd.DataFrame()\n",
    "rating['location']=loc\n",
    "rating['lat']=lat\n",
    "rating['lon']=lon\n",
    "rating['avg_rating']=avg_rating"
   ]
  },
  {
   "cell_type": "code",
   "execution_count": 64,
   "metadata": {},
   "outputs": [],
   "source": [
    "rating=rating.dropna()"
   ]
  },
  {
   "cell_type": "code",
   "execution_count": 65,
   "metadata": {},
   "outputs": [
    {
     "data": {
      "text/html": [
       "<div style=\"width:100%;\"><div style=\"position:relative;width:100%;height:0;padding-bottom:60%;\"><span style=\"color:#565656\">Make this Notebook Trusted to load map: File -> Trust Notebook</span><iframe srcdoc=\"&lt;!DOCTYPE html&gt;\n",
       "&lt;head&gt;    \n",
       "    &lt;meta http-equiv=&quot;content-type&quot; content=&quot;text/html; charset=UTF-8&quot; /&gt;\n",
       "    \n",
       "        &lt;script&gt;\n",
       "            L_NO_TOUCH = false;\n",
       "            L_DISABLE_3D = false;\n",
       "        &lt;/script&gt;\n",
       "    \n",
       "    &lt;style&gt;html, body {width: 100%;height: 100%;margin: 0;padding: 0;}&lt;/style&gt;\n",
       "    &lt;style&gt;#map {position:absolute;top:0;bottom:0;right:0;left:0;}&lt;/style&gt;\n",
       "    &lt;script src=&quot;https://cdn.jsdelivr.net/npm/leaflet@1.6.0/dist/leaflet.js&quot;&gt;&lt;/script&gt;\n",
       "    &lt;script src=&quot;https://code.jquery.com/jquery-1.12.4.min.js&quot;&gt;&lt;/script&gt;\n",
       "    &lt;script src=&quot;https://maxcdn.bootstrapcdn.com/bootstrap/3.2.0/js/bootstrap.min.js&quot;&gt;&lt;/script&gt;\n",
       "    &lt;script src=&quot;https://cdnjs.cloudflare.com/ajax/libs/Leaflet.awesome-markers/2.0.2/leaflet.awesome-markers.js&quot;&gt;&lt;/script&gt;\n",
       "    &lt;link rel=&quot;stylesheet&quot; href=&quot;https://cdn.jsdelivr.net/npm/leaflet@1.6.0/dist/leaflet.css&quot;/&gt;\n",
       "    &lt;link rel=&quot;stylesheet&quot; href=&quot;https://maxcdn.bootstrapcdn.com/bootstrap/3.2.0/css/bootstrap.min.css&quot;/&gt;\n",
       "    &lt;link rel=&quot;stylesheet&quot; href=&quot;https://maxcdn.bootstrapcdn.com/bootstrap/3.2.0/css/bootstrap-theme.min.css&quot;/&gt;\n",
       "    &lt;link rel=&quot;stylesheet&quot; href=&quot;https://maxcdn.bootstrapcdn.com/font-awesome/4.6.3/css/font-awesome.min.css&quot;/&gt;\n",
       "    &lt;link rel=&quot;stylesheet&quot; href=&quot;https://cdnjs.cloudflare.com/ajax/libs/Leaflet.awesome-markers/2.0.2/leaflet.awesome-markers.css&quot;/&gt;\n",
       "    &lt;link rel=&quot;stylesheet&quot; href=&quot;https://cdn.jsdelivr.net/gh/python-visualization/folium/folium/templates/leaflet.awesome.rotate.min.css&quot;/&gt;\n",
       "    \n",
       "            &lt;meta name=&quot;viewport&quot; content=&quot;width=device-width,\n",
       "                initial-scale=1.0, maximum-scale=1.0, user-scalable=no&quot; /&gt;\n",
       "            &lt;style&gt;\n",
       "                #map_2680094047acce15715e7687abd3c9ae {\n",
       "                    position: relative;\n",
       "                    width: 100.0%;\n",
       "                    height: 100.0%;\n",
       "                    left: 0.0%;\n",
       "                    top: 0.0%;\n",
       "                }\n",
       "            &lt;/style&gt;\n",
       "        \n",
       "    &lt;script src=&quot;https://cdn.jsdelivr.net/gh/python-visualization/folium@master/folium/templates/leaflet_heat.min.js&quot;&gt;&lt;/script&gt;\n",
       "    &lt;script src=&quot;https://cdnjs.cloudflare.com/ajax/libs/leaflet.markercluster/1.1.0/leaflet.markercluster.js&quot;&gt;&lt;/script&gt;\n",
       "    &lt;link rel=&quot;stylesheet&quot; href=&quot;https://cdnjs.cloudflare.com/ajax/libs/leaflet.markercluster/1.1.0/MarkerCluster.css&quot;/&gt;\n",
       "    &lt;link rel=&quot;stylesheet&quot; href=&quot;https://cdnjs.cloudflare.com/ajax/libs/leaflet.markercluster/1.1.0/MarkerCluster.Default.css&quot;/&gt;\n",
       "&lt;/head&gt;\n",
       "&lt;body&gt;    \n",
       "    \n",
       "            &lt;div class=&quot;folium-map&quot; id=&quot;map_2680094047acce15715e7687abd3c9ae&quot; &gt;&lt;/div&gt;\n",
       "        \n",
       "&lt;/body&gt;\n",
       "&lt;script&gt;    \n",
       "    \n",
       "            var map_2680094047acce15715e7687abd3c9ae = L.map(\n",
       "                &quot;map_2680094047acce15715e7687abd3c9ae&quot;,\n",
       "                {\n",
       "                    center: [12.97, 77.59],\n",
       "                    crs: L.CRS.EPSG3857,\n",
       "                    zoom: 12,\n",
       "                    zoomControl: true,\n",
       "                    preferCanvas: false,\n",
       "                }\n",
       "            );\n",
       "\n",
       "            \n",
       "\n",
       "        \n",
       "    \n",
       "            var tile_layer_40de95ec52d40a929877127671d3faf0 = L.tileLayer(\n",
       "                &quot;https://{s}.tile.openstreetmap.org/{z}/{x}/{y}.png&quot;,\n",
       "                {&quot;attribution&quot;: &quot;Data by \\u0026copy; \\u003ca href=\\&quot;http://openstreetmap.org\\&quot;\\u003eOpenStreetMap\\u003c/a\\u003e, under \\u003ca href=\\&quot;http://www.openstreetmap.org/copyright\\&quot;\\u003eODbL\\u003c/a\\u003e.&quot;, &quot;detectRetina&quot;: false, &quot;maxNativeZoom&quot;: 18, &quot;maxZoom&quot;: 18, &quot;minZoom&quot;: 0, &quot;noWrap&quot;: false, &quot;opacity&quot;: 1, &quot;subdomains&quot;: &quot;abc&quot;, &quot;tms&quot;: false}\n",
       "            ).addTo(map_2680094047acce15715e7687abd3c9ae);\n",
       "        \n",
       "    \n",
       "            var heat_map_4bb2f6c6b51e5b5813e46e516875c79d = L.heatLayer(\n",
       "                [[45.95485055, -112.49659530324134, 3879.0], [12.9348429, 77.6189768, 2297.0], [18.1475, 41.538889, 1993.0], [12.9732913, 77.6404672, 1800.0], [12.2655944, 76.6465404, 1710.0], [27.64392675, 83.05280519687284, 1634.0], [53.5533682, -2.2969019, 1568.0], [12.9552572, 77.6984163, 1410.0], [12.8905219, 77.598149, 1226.0], [12.9364846, 77.6134783, 1055.0], [12.9390255, 77.6238477, 1054.0], [50.7962518, -120.3174744, 1052.0], [12.93103185, 77.6782471, 997.0], [12.920441, 77.6653284, 854.0], [12.9275886, 77.6308832, 852.0], [12.9778793, 77.6246697, 849.0], [12.9327778, 77.6294052, 841.0], [12.848759900000001, 77.64825295827616, 834.0], [12.9755264, 77.6067902, 793.0], [15.8876779, 75.7046777, 744.0], [13.0221416, 77.6403368, 692.0], [13.0027353, 77.5703253, 641.0], [34.0702921, 74.8090203, 604.0], [40.5758225, -74.123824, 604.0], [12.9417261, 77.5755021, 595.0], [12.996845, 77.6130165, 566.0], [40.7097579, -74.0115904, 546.0], [33.5935063, -79.0345627, 543.0], [13.0407274, 77.5630658, 506.0], [13.0093455, 77.6377094, 493.0], [40.7652844, -76.373824, 481.0], [36.5348643, -79.0905056, 475.0], [13.0141618, 77.6518539, 468.0], [12.9882338, 77.554883, 461.0], [12.9624669, 77.6381958, 406.0], [22.478459, 88.3541291, 368.0], [36.632132, -82.121605, 353.0], [33.117255, -84.837311, 343.0], [18.5322493, 73.8499601124847, 277.0], [51.5153811, -0.0719678, 270.0], [12.945245, 77.6269144, 256.0], [12.9678074, 77.6568367, 247.0], [12.988721250000001, 77.58516877601824, 245.0], [12.9408685, 77.617338, 212.0], [12.9282918, 77.6254034, 191.0], [12.9489339, 77.5968273, 187.0], [12.9081487, 77.5553179, 158.0], [13.2227, 78.5541977, 157.0], [12.9089453, 77.6239038, 144.0], [12.9931876, 77.5753419, 142.0], [12.9802639, 77.6042636, 140.0], [51.1672717, 0.009662, 135.0], [12.2949102, 76.615262, 133.0], [12.973936, 77.6509982, 130.0], [13.0258087, 77.6305067, 114.0], [13.02383, 77.5529215, 112.0], [1.2847055, 103.84320655721689, 111.0], [13.0358698, 77.6323597, 99.0], [12.9846713, 77.6790908, 90.0], [12.8845448, 77.5701276, 89.0], [12.9243692, 77.6242433, 87.0], [12.9413238, 77.7471103, 84.0], [12.9866083, 77.7317181, 78.0], [39.76880625, -86.15345077251979, 75.0], [12.7450586, 77.8162805, 72.0], [22.8359967, 69.3405962, 62.0], [17.2510682, 80.1651978, 61.0], [13.0227204, 77.595715, 60.0], [15.8782951, 74.5084834, 58.0], [30.1915796, 74.9408769, 48.0], [18.4900796, 73.8475301, 45.0], [13.2923988, 77.7519261, 30.0], [12.9845687, 77.73766474151809, 28.0], [12.957998, 77.6037312, 27.0], [38.7801076, -121.5056438, 26.0], [12.9756527, 77.5553548, 24.0], [13.6510577, 77.4305219, 23.0], [13.0657047, 77.776182, 22.0], [12.5560169, 77.4249605, 19.0], [12.9467026, 77.5300705, 17.0], [12.9767936, 77.590082, 10.0], [13.007516, 77.695935, 10.0], [12.9176571, 77.4837568, 9.0], [12.9055682, 77.5455438, 9.0], [13.0101286, 77.5548006, 8.0], [13.0382184, 77.5919, 8.0], [13.1006982, 77.5963454, 4.0], [12.9848519, 77.5400626, 3.0], [12.9274413, 77.5155224, 2.0], [12.95961755, 77.51126721318181, 1.0], [13.0329419, 77.5273253, 1.0]],\n",
       "                {&quot;blur&quot;: 15, &quot;maxZoom&quot;: 18, &quot;minOpacity&quot;: 0.5, &quot;radius&quot;: 15, &quot;zoom&quot;: 20}\n",
       "            ).addTo(map_2680094047acce15715e7687abd3c9ae);\n",
       "        \n",
       "    \n",
       "            var fast_marker_cluster_d8b0f741f0a55c2dc68ac48d53257e2e = (function(){\n",
       "                \n",
       "                var callback = function (row) {\n",
       "                    var icon = L.AwesomeMarkers.icon();\n",
       "                    var marker = L.marker(new L.LatLng(row[0], row[1]));\n",
       "                    marker.setIcon(icon);\n",
       "                    return marker;\n",
       "                };\n",
       "\n",
       "                var data = [[45.95485055, -112.49659530324134, 3879.0], [12.9348429, 77.6189768, 2297.0], [18.1475, 41.538889, 1993.0], [12.9732913, 77.6404672, 1800.0], [12.2655944, 76.6465404, 1710.0], [27.64392675, 83.05280519687284, 1634.0], [53.5533682, -2.2969019, 1568.0], [12.9552572, 77.6984163, 1410.0], [12.8905219, 77.598149, 1226.0], [12.9364846, 77.6134783, 1055.0], [12.9390255, 77.6238477, 1054.0], [50.7962518, -120.3174744, 1052.0], [12.93103185, 77.6782471, 997.0], [12.920441, 77.6653284, 854.0], [12.9275886, 77.6308832, 852.0], [12.9778793, 77.6246697, 849.0], [12.9327778, 77.6294052, 841.0], [12.848759900000001, 77.64825295827616, 834.0], [12.9755264, 77.6067902, 793.0], [15.8876779, 75.7046777, 744.0], [13.0221416, 77.6403368, 692.0], [13.0027353, 77.5703253, 641.0], [34.0702921, 74.8090203, 604.0], [40.5758225, -74.123824, 604.0], [12.9417261, 77.5755021, 595.0], [12.996845, 77.6130165, 566.0], [40.7097579, -74.0115904, 546.0], [33.5935063, -79.0345627, 543.0], [13.0407274, 77.5630658, 506.0], [13.0093455, 77.6377094, 493.0], [40.7652844, -76.373824, 481.0], [36.5348643, -79.0905056, 475.0], [13.0141618, 77.6518539, 468.0], [12.9882338, 77.554883, 461.0], [12.9624669, 77.6381958, 406.0], [22.478459, 88.3541291, 368.0], [36.632132, -82.121605, 353.0], [33.117255, -84.837311, 343.0], [18.5322493, 73.8499601124847, 277.0], [51.5153811, -0.0719678, 270.0], [12.945245, 77.6269144, 256.0], [12.9678074, 77.6568367, 247.0], [12.988721250000001, 77.58516877601824, 245.0], [12.9408685, 77.617338, 212.0], [12.9282918, 77.6254034, 191.0], [12.9489339, 77.5968273, 187.0], [12.9081487, 77.5553179, 158.0], [13.2227, 78.5541977, 157.0], [12.9089453, 77.6239038, 144.0], [12.9931876, 77.5753419, 142.0], [12.9802639, 77.6042636, 140.0], [51.1672717, 0.009662, 135.0], [12.2949102, 76.615262, 133.0], [12.973936, 77.6509982, 130.0], [13.0258087, 77.6305067, 114.0], [13.02383, 77.5529215, 112.0], [1.2847055, 103.84320655721689, 111.0], [13.0358698, 77.6323597, 99.0], [12.9846713, 77.6790908, 90.0], [12.8845448, 77.5701276, 89.0], [12.9243692, 77.6242433, 87.0], [12.9413238, 77.7471103, 84.0], [12.9866083, 77.7317181, 78.0], [39.76880625, -86.15345077251979, 75.0], [12.7450586, 77.8162805, 72.0], [22.8359967, 69.3405962, 62.0], [17.2510682, 80.1651978, 61.0], [13.0227204, 77.595715, 60.0], [15.8782951, 74.5084834, 58.0], [30.1915796, 74.9408769, 48.0], [18.4900796, 73.8475301, 45.0], [13.2923988, 77.7519261, 30.0], [12.9845687, 77.73766474151809, 28.0], [12.957998, 77.6037312, 27.0], [38.7801076, -121.5056438, 26.0], [12.9756527, 77.5553548, 24.0], [13.6510577, 77.4305219, 23.0], [13.0657047, 77.776182, 22.0], [12.5560169, 77.4249605, 19.0], [12.9467026, 77.5300705, 17.0], [12.9767936, 77.590082, 10.0], [13.007516, 77.695935, 10.0], [12.9176571, 77.4837568, 9.0], [12.9055682, 77.5455438, 9.0], [13.0101286, 77.5548006, 8.0], [13.0382184, 77.5919, 8.0], [13.1006982, 77.5963454, 4.0], [12.9848519, 77.5400626, 3.0], [12.9274413, 77.5155224, 2.0], [12.95961755, 77.51126721318181, 1.0], [13.0329419, 77.5273253, 1.0]];\n",
       "                var cluster = L.markerClusterGroup({});\n",
       "\n",
       "                for (var i = 0; i &lt; data.length; i++) {\n",
       "                    var row = data[i];\n",
       "                    var marker = callback(row);\n",
       "                    marker.addTo(cluster);\n",
       "                }\n",
       "\n",
       "                cluster.addTo(map_2680094047acce15715e7687abd3c9ae);\n",
       "                return cluster;\n",
       "            })();\n",
       "        \n",
       "    \n",
       "            var heat_map_daad157cb6f1bba0446443b5abc956f0 = L.heatLayer(\n",
       "                [[45.95485055, -112.49659530324134, 3.571410157257025], [15.8876779, 75.7046777, 3.6498655913978495], [13.0141618, 77.6518539, 3.4963675213675214], [12.8905219, 77.598149, 3.5098694942903754], [12.9417261, 77.5755021, 3.6710924369747904], [12.2949102, 76.615262, 3.6496240601503755], [12.93103185, 77.6782471, 3.531394182547643], [12.9089453, 77.6239038, 3.1909722222222223], [50.7962518, -120.3174744, 3.705228136882129], [33.5935063, -79.0345627, 3.5996316758747695], [17.2510682, 80.1651978, 3.4786885245901638], [13.0101286, 77.5548006, 3.625], [40.7097579, -74.0115904, 3.9921245421245417], [39.76880625, -86.15345077251979, 3.536], [51.5153811, -0.0719678, 3.5588888888888888], [36.5348643, -79.0905056, 3.9010526315789473], [12.9624669, 77.6381958, 3.5532019704433497], [12.9845687, 77.73766474151809, 3.475], [12.945245, 77.6269144, 3.479296875], [12.848759900000001, 77.64825295827616, 3.4931654676258996], [12.996845, 77.6130165, 3.611484098939929], [13.0358698, 77.6323597, 3.676767676767677], [18.1475, 41.538889, 3.678324134470647], [13.0382184, 77.5919, 3.6], [13.0258087, 77.6305067, 3.5026315789473683], [12.7450586, 77.8162805, 3.7902777777777774], [12.9866083, 77.7317181, 3.5756410256410254], [12.9732913, 77.6404672, 3.832888888888889], [12.9802639, 77.6042636, 3.7964285714285713], [12.2655944, 76.6465404, 3.677543859649123], [13.6510577, 77.4305219, 3.4869565217391307], [27.64392675, 83.05280519687284, 3.780171358629131], [12.9678074, 77.6568367, 3.5894736842105264], [13.007516, 77.695935, 3.54], [12.9846713, 77.6790908, 3.5122222222222224], [13.0221416, 77.6403368, 3.7830924855491332], [13.0093455, 77.6377094, 3.667951318458418], [12.5560169, 77.4249605, 3.478947368421052], [12.9176571, 77.4837568, 3.7222222222222223], [13.2923988, 77.7519261, 3.7266666666666666], [12.9275886, 77.6308832, 3.6968309859154926], [12.9243692, 77.6242433, 3.749425287356322], [12.9282918, 77.6254034, 4.020418848167539], [12.9327778, 77.6294052, 3.918668252080856], [12.9348429, 77.6189768, 4.006660861993905], [12.9390255, 77.6238477, 3.7823529411764705], [12.9364846, 77.6134783, 3.8529857819905216], [12.9408685, 77.617338, 3.7410377358490567], [12.9081487, 77.5553179, 3.4651898734177213], [12.957998, 77.6037312, 3.8074074074074074], [40.7652844, -76.373824, 4.141787941787942], [12.9755264, 77.6067902, 3.85031525851198], [12.9756527, 77.5553548, 3.4375], [1.2847055, 103.84320655721689, 3.501801801801802], [13.0027353, 77.5703253, 3.7605304212168487], [12.9552572, 77.6984163, 3.547304964539007], [12.9467026, 77.5300705, 3.658823529411765], [12.95961755, 77.51126721318181, 3.4], [13.2227, 78.5541977, 3.5031847133757963], [13.0407274, 77.5630658, 3.691699604743083], [12.9767936, 77.590082, 3.34], [36.632132, -82.121605, 3.6543909348441925], [13.0657047, 77.776182, 3.1818181818181817], [13.0329419, 77.5273253, 3.2], [13.0227204, 77.595715, 3.455], [51.1672717, 0.009662, 3.7822222222222224], [12.9882338, 77.554883, 3.615401301518438], [12.9274413, 77.5155224, 3.85], [34.0702921, 74.8090203, 3.864569536423841], [40.5758225, -74.123824, 3.8155629139072844], [15.8782951, 74.5084834, 3.839655172413793], [18.4900796, 73.8475301, 3.6333333333333333], [30.1915796, 74.9408769, 3.5], [38.7801076, -121.5056438, 3.965384615384615], [12.920441, 77.6653284, 3.693208430913349], [12.9931876, 77.5753419, 3.704929577464789], [22.478459, 88.3541291, 3.5222826086956522], [18.5322493, 73.8499601124847, 3.4989169675090253], [12.8845448, 77.5701276, 3.496629213483146], [33.117255, -84.837311, 4.017201166180758], [12.973936, 77.6509982, 3.554615384615385], [12.9778793, 77.6246697, 3.758303886925795], [12.9055682, 77.5455438, 3.511111111111111], [12.9413238, 77.7471103, 3.580952380952381], [12.988721250000001, 77.58516877601824, 3.6832653061224487], [22.8359967, 69.3405962, 3.611290322580645], [12.9848519, 77.5400626, 3.3666666666666667], [53.5533682, -2.2969019, 3.624744897959184], [12.9489339, 77.5968273, 3.536363636363636], [13.1006982, 77.5963454, 3.7], [13.02383, 77.5529215, 3.5026785714285715]],\n",
       "                {&quot;blur&quot;: 15, &quot;maxZoom&quot;: 18, &quot;minOpacity&quot;: 0.5, &quot;radius&quot;: 15, &quot;zoom&quot;: 20}\n",
       "            ).addTo(map_2680094047acce15715e7687abd3c9ae);\n",
       "        \n",
       "&lt;/script&gt;\" style=\"position:absolute;width:100%;height:100%;left:0;top:0;border:none !important;\" allowfullscreen webkitallowfullscreen mozallowfullscreen></iframe></div></div>"
      ],
      "text/plain": [
       "<folium.folium.Map at 0x2716ce0c8b0>"
      ]
     },
     "execution_count": 65,
     "metadata": {},
     "output_type": "execute_result"
    }
   ],
   "source": [
    "HeatMap(rating[['lat','lon','avg_rating']],zoom=20,radius=15).add_to(basemap)\n",
    "basemap"
   ]
  },
  {
   "cell_type": "code",
   "execution_count": 66,
   "metadata": {},
   "outputs": [
    {
     "data": {
      "text/html": [
       "<div>\n",
       "<style scoped>\n",
       "    .dataframe tbody tr th:only-of-type {\n",
       "        vertical-align: middle;\n",
       "    }\n",
       "\n",
       "    .dataframe tbody tr th {\n",
       "        vertical-align: top;\n",
       "    }\n",
       "\n",
       "    .dataframe thead th {\n",
       "        text-align: right;\n",
       "    }\n",
       "</style>\n",
       "<table border=\"1\" class=\"dataframe\">\n",
       "  <thead>\n",
       "    <tr style=\"text-align: right;\">\n",
       "      <th></th>\n",
       "      <th>level_0</th>\n",
       "      <th>index</th>\n",
       "      <th>address</th>\n",
       "      <th>name</th>\n",
       "      <th>online_order</th>\n",
       "      <th>book_table</th>\n",
       "      <th>rate</th>\n",
       "      <th>votes</th>\n",
       "      <th>location</th>\n",
       "      <th>rest_type</th>\n",
       "      <th>cuisines</th>\n",
       "      <th>cost</th>\n",
       "      <th>reviews_list</th>\n",
       "      <th>menu_item</th>\n",
       "      <th>type</th>\n",
       "      <th>city</th>\n",
       "    </tr>\n",
       "  </thead>\n",
       "  <tbody>\n",
       "    <tr>\n",
       "      <th>5</th>\n",
       "      <td>5</td>\n",
       "      <td>5</td>\n",
       "      <td>37, 5-1, 4th Floor, Bosco Court, Gandhi Bazaar...</td>\n",
       "      <td>Timepass Dinner</td>\n",
       "      <td>Yes</td>\n",
       "      <td>No</td>\n",
       "      <td>3.8</td>\n",
       "      <td>286</td>\n",
       "      <td>Basavanagudi</td>\n",
       "      <td>Casual Dining</td>\n",
       "      <td>North Indian</td>\n",
       "      <td>600</td>\n",
       "      <td>[('Rated 3.0', 'RATED\\n  Food 3/5\\nAmbience 3/...</td>\n",
       "      <td>[]</td>\n",
       "      <td>Buffet</td>\n",
       "      <td>Banashankari</td>\n",
       "    </tr>\n",
       "    <tr>\n",
       "      <th>50</th>\n",
       "      <td>50</td>\n",
       "      <td>50</td>\n",
       "      <td>276, Ground Floor, 100 Feet Outer Ring Road, B...</td>\n",
       "      <td>Petoo</td>\n",
       "      <td>No</td>\n",
       "      <td>No</td>\n",
       "      <td>3.7</td>\n",
       "      <td>21</td>\n",
       "      <td>Banashankari</td>\n",
       "      <td>Quick Bites</td>\n",
       "      <td>North Indian</td>\n",
       "      <td>450</td>\n",
       "      <td>[('Rated 2.0', 'RATED\\n  This is a neatly made...</td>\n",
       "      <td>[]</td>\n",
       "      <td>Delivery</td>\n",
       "      <td>Banashankari</td>\n",
       "    </tr>\n",
       "    <tr>\n",
       "      <th>85</th>\n",
       "      <td>85</td>\n",
       "      <td>87</td>\n",
       "      <td>38, 22nd Main, 22nd Cross, Opposite BDA, 2nd S...</td>\n",
       "      <td>Krishna Sagar</td>\n",
       "      <td>No</td>\n",
       "      <td>No</td>\n",
       "      <td>3.5</td>\n",
       "      <td>31</td>\n",
       "      <td>Banashankari</td>\n",
       "      <td>Quick Bites</td>\n",
       "      <td>North Indian</td>\n",
       "      <td>200</td>\n",
       "      <td>[('Rated 1.0', 'RATED\\n  Worst experience with...</td>\n",
       "      <td>[]</td>\n",
       "      <td>Delivery</td>\n",
       "      <td>Banashankari</td>\n",
       "    </tr>\n",
       "    <tr>\n",
       "      <th>90</th>\n",
       "      <td>90</td>\n",
       "      <td>94</td>\n",
       "      <td>304, Opposite Apollo Public School, 100 Feet R...</td>\n",
       "      <td>Nandhini Deluxe</td>\n",
       "      <td>No</td>\n",
       "      <td>No</td>\n",
       "      <td>2.6</td>\n",
       "      <td>283</td>\n",
       "      <td>Banashankari</td>\n",
       "      <td>Casual Dining</td>\n",
       "      <td>North Indian</td>\n",
       "      <td>600</td>\n",
       "      <td>[('Rated 3.0', 'RATED\\n  Ididnt like much.\\n\\n...</td>\n",
       "      <td>[]</td>\n",
       "      <td>Delivery</td>\n",
       "      <td>Banashankari</td>\n",
       "    </tr>\n",
       "    <tr>\n",
       "      <th>104</th>\n",
       "      <td>104</td>\n",
       "      <td>109</td>\n",
       "      <td>8, Katriguppe Main Road, Vivekananda Nagar, 3r...</td>\n",
       "      <td>Katriguppe Donne Biryani</td>\n",
       "      <td>No</td>\n",
       "      <td>No</td>\n",
       "      <td>3.2</td>\n",
       "      <td>4</td>\n",
       "      <td>Banashankari</td>\n",
       "      <td>Quick Bites</td>\n",
       "      <td>North Indian</td>\n",
       "      <td>300</td>\n",
       "      <td>[]</td>\n",
       "      <td>[]</td>\n",
       "      <td>Delivery</td>\n",
       "      <td>Banashankari</td>\n",
       "    </tr>\n",
       "  </tbody>\n",
       "</table>\n",
       "</div>"
      ],
      "text/plain": [
       "     level_0  index                                            address  \\\n",
       "5          5      5  37, 5-1, 4th Floor, Bosco Court, Gandhi Bazaar...   \n",
       "50        50     50  276, Ground Floor, 100 Feet Outer Ring Road, B...   \n",
       "85        85     87  38, 22nd Main, 22nd Cross, Opposite BDA, 2nd S...   \n",
       "90        90     94  304, Opposite Apollo Public School, 100 Feet R...   \n",
       "104      104    109  8, Katriguppe Main Road, Vivekananda Nagar, 3r...   \n",
       "\n",
       "                         name online_order book_table  rate  votes  \\\n",
       "5             Timepass Dinner          Yes         No   3.8    286   \n",
       "50                      Petoo           No         No   3.7     21   \n",
       "85              Krishna Sagar           No         No   3.5     31   \n",
       "90            Nandhini Deluxe           No         No   2.6    283   \n",
       "104  Katriguppe Donne Biryani           No         No   3.2      4   \n",
       "\n",
       "         location      rest_type      cuisines cost  \\\n",
       "5    Basavanagudi  Casual Dining  North Indian  600   \n",
       "50   Banashankari    Quick Bites  North Indian  450   \n",
       "85   Banashankari    Quick Bites  North Indian  200   \n",
       "90   Banashankari  Casual Dining  North Indian  600   \n",
       "104  Banashankari    Quick Bites  North Indian  300   \n",
       "\n",
       "                                          reviews_list menu_item      type  \\\n",
       "5    [('Rated 3.0', 'RATED\\n  Food 3/5\\nAmbience 3/...        []    Buffet   \n",
       "50   [('Rated 2.0', 'RATED\\n  This is a neatly made...        []  Delivery   \n",
       "85   [('Rated 1.0', 'RATED\\n  Worst experience with...        []  Delivery   \n",
       "90   [('Rated 3.0', 'RATED\\n  Ididnt like much.\\n\\n...        []  Delivery   \n",
       "104                                                 []        []  Delivery   \n",
       "\n",
       "             city  \n",
       "5    Banashankari  \n",
       "50   Banashankari  \n",
       "85   Banashankari  \n",
       "90   Banashankari  \n",
       "104  Banashankari  "
      ]
     },
     "execution_count": 66,
     "metadata": {},
     "output_type": "execute_result"
    }
   ],
   "source": [
    "df2= df4[df4['cuisines']=='North Indian']\n",
    "df2.head()"
   ]
  },
  {
   "cell_type": "code",
   "execution_count": 101,
   "metadata": {},
   "outputs": [],
   "source": [
    "plt.rcParams[\"figure.figsize\"] = (11,7)"
   ]
  },
  {
   "cell_type": "code",
   "execution_count": 120,
   "metadata": {},
   "outputs": [
    {
     "data": {
      "image/png": "[encoded data removed]",
      "text/plain": [
       "<Figure size 1100x700 with 1 Axes>"
      ]
     },
     "metadata": {},
     "output_type": "display_data"
    }
   ],
   "source": [
    "values = df4['cuisines'].value_counts()[:20]\n",
    "labels=values.index\n",
    "text=values.index\n",
    "\n",
    "colors = sns.color_palette('pastel')[0:len(labels)]\n",
    "plt.pie(values.values, labels=labels, colors=colors,autopct='%.0f%%')\n",
    "# displaying chart\n",
    "plt.show()"
   ]
  },
  {
   "cell_type": "code",
   "execution_count": 141,
   "metadata": {},
   "outputs": [
    {
     "data": {
      "text/plain": [
       "<AxesSubplot: xlabel='cost', ylabel='online_order'>"
      ]
     },
     "execution_count": 141,
     "metadata": {},
     "output_type": "execute_result"
    },
    {
     "data": {
      "image/png": "[encoded data removed]",
      "text/plain": [
       "<Figure size 1100x700 with 1 Axes>"
      ]
     },
     "metadata": {},
     "output_type": "display_data"
    }
   ],
   "source": [
    "sns.barplot(df4,x='cost',y='online_order',linewidth=1, edgecolor=\".2\",capsize=.2, errcolor=\".5\",orient=\"h\",hue='book_table')\n",
    "# e expect book table more available on restaurants which doesn't accept online orders"
   ]
  },
  {
   "cell_type": "code",
   "execution_count": 148,
   "metadata": {},
   "outputs": [
    {
     "data": {
      "text/plain": [
       "<AxesSubplot: xlabel='cost', ylabel='city'>"
      ]
     },
     "execution_count": 148,
     "metadata": {},
     "output_type": "execute_result"
    },
    {
     "data": {
      "image/png": "[encoded data removed]",
      "text/plain": [
       "<Figure size 1100x700 with 1 Axes>"
      ]
     },
     "metadata": {},
     "output_type": "display_data"
    }
   ],
   "source": [
    "sns.barplot(df4,x='cost',y='city',orient=\"h\")"
   ]
  },
  {
   "cell_type": "code",
   "execution_count": 146,
   "metadata": {},
   "outputs": [
    {
     "data": {
      "text/plain": [
       "7"
      ]
     },
     "execution_count": 146,
     "metadata": {},
     "output_type": "execute_result"
    }
   ],
   "source": [
    "df4.type.nunique()"
   ]
  }
 ],
 "metadata": {
  "kernelspec": {
   "display_name": "Python 3.8.8 ('datavisuenv': venv)",
   "language": "python",
   "name": "python3"
  },
  "language_info": {
   "codemirror_mode": {
    "name": "ipython",
    "version": 3
   },
   "file_extension": ".py",
   "mimetype": "text/x-python",
   "name": "python",
   "nbconvert_exporter": "python",
   "pygments_lexer": "ipython3",
   "version": "3.8.8"
  },
  "orig_nbformat": 4,
  "vscode": {
   "interpreter": {
    "hash": "6e54e68b4092a69f3cbb5e9783191ffa79733421530db111a3b691e76636262a"
   }
  }
 },
 "nbformat": 4,
 "nbformat_minor": 2
}

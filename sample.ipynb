{
 "cells": [
  {
   "cell_type": "markdown",
   "metadata": {},
   "source": [
    "# Restaurant Rate Predction"
   ]
  },
  {
   "cell_type": "markdown",
   "metadata": {},
   "source": [
    "- this repo includes insightful data analysis and visualizations on cafes and restaurants which are reviewed and rated on database in Bangkok.\n",
    "- Rate column is the target column and we will create regression model pipelines to get best results\n",
    "- Reviews_list column will be handled seperately by NLP to analye restaurants deeply\n"
   ]
  },
  {
   "cell_type": "code",
   "execution_count": 1,
   "metadata": {},
   "outputs": [],
   "source": [
    "import pandas as pd\n",
    "from pandas import Series,DataFrame\n",
    "import numpy as np\n",
    "import warnings\n",
    "warnings.filterwarnings('ignore')\n",
    "import random\n",
    "# For Visualization\n",
    "import matplotlib.pyplot as plt\n",
    "import seaborn as sns\n",
    "import plotly\n",
    "import plotly.express as px\n",
    "import plotly.graph_objs as go\n",
    "from geopy.geocoders import Nominatim\n",
    "import folium\n",
    "from folium.plugins import HeatMap\n",
    "from folium.plugins import FastMarkerCluster\n",
    "from tqdm import tqdm\n",
    "from plotly import tools\n",
    "import re\n",
    "from plotly.offline import init_notebook_mode, plot, iplot\n"
   ]
  },
  {
   "cell_type": "markdown",
   "metadata": {},
   "source": [
    "### PrePro"
   ]
  },
  {
   "cell_type": "markdown",
   "metadata": {},
   "source": [
    "#### read"
   ]
  },
  {
   "cell_type": "code",
   "execution_count": 2,
   "metadata": {},
   "outputs": [],
   "source": [
    "df = pd.read_csv('./dbs/zomato.csv')"
   ]
  },
  {
   "cell_type": "code",
   "execution_count": 3,
   "metadata": {},
   "outputs": [
    {
     "name": "stdout",
     "output_type": "stream",
     "text": [
      "<class 'pandas.core.frame.DataFrame'>\n",
      "RangeIndex: 51717 entries, 0 to 51716\n",
      "Data columns (total 17 columns):\n",
      " #   Column                       Non-Null Count  Dtype \n",
      "---  ------                       --------------  ----- \n",
      " 0   url                          51717 non-null  object\n",
      " 1   address                      51717 non-null  object\n",
      " 2   name                         51717 non-null  object\n",
      " 3   online_order                 51717 non-null  object\n",
      " 4   book_table                   51717 non-null  object\n",
      " 5   rate                         43942 non-null  object\n",
      " 6   votes                        51717 non-null  int64 \n",
      " 7   phone                        50509 non-null  object\n",
      " 8   location                     51696 non-null  object\n",
      " 9   rest_type                    51490 non-null  object\n",
      " 10  dish_liked                   23639 non-null  object\n",
      " 11  cuisines                     51672 non-null  object\n",
      " 12  approx_cost(for two people)  51371 non-null  object\n",
      " 13  reviews_list                 51717 non-null  object\n",
      " 14  menu_item                    51717 non-null  object\n",
      " 15  listed_in(type)              51717 non-null  object\n",
      " 16  listed_in(city)              51717 non-null  object\n",
      "dtypes: int64(1), object(16)\n",
      "memory usage: 6.7+ MB\n"
     ]
    }
   ],
   "source": [
    "df.info()\n",
    "# we can fill nulls in location column with adress column info and also fill rates with rates in review_list rates \n",
    "# dish liked nulls fill be filled with None value to imply nothing we can't drop null values in the column\n",
    "# url adress phone columns are useless for our analysis"
   ]
  },
  {
   "cell_type": "code",
   "execution_count": 4,
   "metadata": {},
   "outputs": [],
   "source": [
    "df = df.rename(columns={'approx_cost(for two people)':'cost','listed_in(type)':'type',\n",
    "                                  'listed_in(city)':'city'})"
   ]
  },
  {
   "cell_type": "code",
   "execution_count": 5,
   "metadata": {},
   "outputs": [
    {
     "data": {
      "text/html": [
       "<div>\n",
       "<style scoped>\n",
       "    .dataframe tbody tr th:only-of-type {\n",
       "        vertical-align: middle;\n",
       "    }\n",
       "\n",
       "    .dataframe tbody tr th {\n",
       "        vertical-align: top;\n",
       "    }\n",
       "\n",
       "    .dataframe thead th {\n",
       "        text-align: right;\n",
       "    }\n",
       "</style>\n",
       "<table border=\"1\" class=\"dataframe\">\n",
       "  <thead>\n",
       "    <tr style=\"text-align: right;\">\n",
       "      <th></th>\n",
       "      <th>url</th>\n",
       "      <th>address</th>\n",
       "      <th>name</th>\n",
       "      <th>online_order</th>\n",
       "      <th>book_table</th>\n",
       "      <th>rate</th>\n",
       "      <th>votes</th>\n",
       "      <th>phone</th>\n",
       "      <th>location</th>\n",
       "      <th>rest_type</th>\n",
       "      <th>dish_liked</th>\n",
       "      <th>cuisines</th>\n",
       "      <th>cost</th>\n",
       "      <th>reviews_list</th>\n",
       "      <th>menu_item</th>\n",
       "      <th>type</th>\n",
       "      <th>city</th>\n",
       "    </tr>\n",
       "  </thead>\n",
       "  <tbody>\n",
       "    <tr>\n",
       "      <th>0</th>\n",
       "      <td>https://www.zomato.com/bangalore/jalsa-banasha...</td>\n",
       "      <td>942, 21st Main Road, 2nd Stage, Banashankari, ...</td>\n",
       "      <td>Jalsa</td>\n",
       "      <td>Yes</td>\n",
       "      <td>Yes</td>\n",
       "      <td>4.1/5</td>\n",
       "      <td>775</td>\n",
       "      <td>080 42297555\\r\\n+91 9743772233</td>\n",
       "      <td>Banashankari</td>\n",
       "      <td>Casual Dining</td>\n",
       "      <td>Pasta, Lunch Buffet, Masala Papad, Paneer Laja...</td>\n",
       "      <td>North Indian, Mughlai, Chinese</td>\n",
       "      <td>800</td>\n",
       "      <td>[('Rated 4.0', 'RATED\\n  A beautiful place to ...</td>\n",
       "      <td>[]</td>\n",
       "      <td>Buffet</td>\n",
       "      <td>Banashankari</td>\n",
       "    </tr>\n",
       "    <tr>\n",
       "      <th>1</th>\n",
       "      <td>https://www.zomato.com/bangalore/spice-elephan...</td>\n",
       "      <td>2nd Floor, 80 Feet Road, Near Big Bazaar, 6th ...</td>\n",
       "      <td>Spice Elephant</td>\n",
       "      <td>Yes</td>\n",
       "      <td>No</td>\n",
       "      <td>4.1/5</td>\n",
       "      <td>787</td>\n",
       "      <td>080 41714161</td>\n",
       "      <td>Banashankari</td>\n",
       "      <td>Casual Dining</td>\n",
       "      <td>Momos, Lunch Buffet, Chocolate Nirvana, Thai G...</td>\n",
       "      <td>Chinese, North Indian, Thai</td>\n",
       "      <td>800</td>\n",
       "      <td>[('Rated 4.0', 'RATED\\n  Had been here for din...</td>\n",
       "      <td>[]</td>\n",
       "      <td>Buffet</td>\n",
       "      <td>Banashankari</td>\n",
       "    </tr>\n",
       "    <tr>\n",
       "      <th>2</th>\n",
       "      <td>https://www.zomato.com/SanchurroBangalore?cont...</td>\n",
       "      <td>1112, Next to KIMS Medical College, 17th Cross...</td>\n",
       "      <td>San Churro Cafe</td>\n",
       "      <td>Yes</td>\n",
       "      <td>No</td>\n",
       "      <td>3.8/5</td>\n",
       "      <td>918</td>\n",
       "      <td>+91 9663487993</td>\n",
       "      <td>Banashankari</td>\n",
       "      <td>Cafe, Casual Dining</td>\n",
       "      <td>Churros, Cannelloni, Minestrone Soup, Hot Choc...</td>\n",
       "      <td>Cafe, Mexican, Italian</td>\n",
       "      <td>800</td>\n",
       "      <td>[('Rated 3.0', \"RATED\\n  Ambience is not that ...</td>\n",
       "      <td>[]</td>\n",
       "      <td>Buffet</td>\n",
       "      <td>Banashankari</td>\n",
       "    </tr>\n",
       "    <tr>\n",
       "      <th>3</th>\n",
       "      <td>https://www.zomato.com/bangalore/addhuri-udupi...</td>\n",
       "      <td>1st Floor, Annakuteera, 3rd Stage, Banashankar...</td>\n",
       "      <td>Addhuri Udupi Bhojana</td>\n",
       "      <td>No</td>\n",
       "      <td>No</td>\n",
       "      <td>3.7/5</td>\n",
       "      <td>88</td>\n",
       "      <td>+91 9620009302</td>\n",
       "      <td>Banashankari</td>\n",
       "      <td>Quick Bites</td>\n",
       "      <td>Masala Dosa</td>\n",
       "      <td>South Indian, North Indian</td>\n",
       "      <td>300</td>\n",
       "      <td>[('Rated 4.0', \"RATED\\n  Great food and proper...</td>\n",
       "      <td>[]</td>\n",
       "      <td>Buffet</td>\n",
       "      <td>Banashankari</td>\n",
       "    </tr>\n",
       "    <tr>\n",
       "      <th>4</th>\n",
       "      <td>https://www.zomato.com/bangalore/grand-village...</td>\n",
       "      <td>10, 3rd Floor, Lakshmi Associates, Gandhi Baza...</td>\n",
       "      <td>Grand Village</td>\n",
       "      <td>No</td>\n",
       "      <td>No</td>\n",
       "      <td>3.8/5</td>\n",
       "      <td>166</td>\n",
       "      <td>+91 8026612447\\r\\n+91 9901210005</td>\n",
       "      <td>Basavanagudi</td>\n",
       "      <td>Casual Dining</td>\n",
       "      <td>Panipuri, Gol Gappe</td>\n",
       "      <td>North Indian, Rajasthani</td>\n",
       "      <td>600</td>\n",
       "      <td>[('Rated 4.0', 'RATED\\n  Very good restaurant ...</td>\n",
       "      <td>[]</td>\n",
       "      <td>Buffet</td>\n",
       "      <td>Banashankari</td>\n",
       "    </tr>\n",
       "  </tbody>\n",
       "</table>\n",
       "</div>"
      ],
      "text/plain": [
       "                                                 url  \\\n",
       "0  https://www.zomato.com/bangalore/jalsa-banasha...   \n",
       "1  https://www.zomato.com/bangalore/spice-elephan...   \n",
       "2  https://www.zomato.com/SanchurroBangalore?cont...   \n",
       "3  https://www.zomato.com/bangalore/addhuri-udupi...   \n",
       "4  https://www.zomato.com/bangalore/grand-village...   \n",
       "\n",
       "                                             address                   name  \\\n",
       "0  942, 21st Main Road, 2nd Stage, Banashankari, ...                  Jalsa   \n",
       "1  2nd Floor, 80 Feet Road, Near Big Bazaar, 6th ...         Spice Elephant   \n",
       "2  1112, Next to KIMS Medical College, 17th Cross...        San Churro Cafe   \n",
       "3  1st Floor, Annakuteera, 3rd Stage, Banashankar...  Addhuri Udupi Bhojana   \n",
       "4  10, 3rd Floor, Lakshmi Associates, Gandhi Baza...          Grand Village   \n",
       "\n",
       "  online_order book_table   rate  votes                             phone  \\\n",
       "0          Yes        Yes  4.1/5    775    080 42297555\\r\\n+91 9743772233   \n",
       "1          Yes         No  4.1/5    787                      080 41714161   \n",
       "2          Yes         No  3.8/5    918                    +91 9663487993   \n",
       "3           No         No  3.7/5     88                    +91 9620009302   \n",
       "4           No         No  3.8/5    166  +91 8026612447\\r\\n+91 9901210005   \n",
       "\n",
       "       location            rest_type  \\\n",
       "0  Banashankari        Casual Dining   \n",
       "1  Banashankari        Casual Dining   \n",
       "2  Banashankari  Cafe, Casual Dining   \n",
       "3  Banashankari          Quick Bites   \n",
       "4  Basavanagudi        Casual Dining   \n",
       "\n",
       "                                          dish_liked  \\\n",
       "0  Pasta, Lunch Buffet, Masala Papad, Paneer Laja...   \n",
       "1  Momos, Lunch Buffet, Chocolate Nirvana, Thai G...   \n",
       "2  Churros, Cannelloni, Minestrone Soup, Hot Choc...   \n",
       "3                                        Masala Dosa   \n",
       "4                                Panipuri, Gol Gappe   \n",
       "\n",
       "                         cuisines cost  \\\n",
       "0  North Indian, Mughlai, Chinese  800   \n",
       "1     Chinese, North Indian, Thai  800   \n",
       "2          Cafe, Mexican, Italian  800   \n",
       "3      South Indian, North Indian  300   \n",
       "4        North Indian, Rajasthani  600   \n",
       "\n",
       "                                        reviews_list menu_item    type  \\\n",
       "0  [('Rated 4.0', 'RATED\\n  A beautiful place to ...        []  Buffet   \n",
       "1  [('Rated 4.0', 'RATED\\n  Had been here for din...        []  Buffet   \n",
       "2  [('Rated 3.0', \"RATED\\n  Ambience is not that ...        []  Buffet   \n",
       "3  [('Rated 4.0', \"RATED\\n  Great food and proper...        []  Buffet   \n",
       "4  [('Rated 4.0', 'RATED\\n  Very good restaurant ...        []  Buffet   \n",
       "\n",
       "           city  \n",
       "0  Banashankari  \n",
       "1  Banashankari  \n",
       "2  Banashankari  \n",
       "3  Banashankari  \n",
       "4  Banashankari  "
      ]
     },
     "execution_count": 5,
     "metadata": {},
     "output_type": "execute_result"
    }
   ],
   "source": [
    "df.head()"
   ]
  },
  {
   "cell_type": "markdown",
   "metadata": {},
   "source": [
    "#### drop unnecssary columns"
   ]
  },
  {
   "cell_type": "code",
   "execution_count": 6,
   "metadata": {},
   "outputs": [],
   "source": [
    "df.drop_duplicates(inplace=True)"
   ]
  },
  {
   "cell_type": "code",
   "execution_count": 7,
   "metadata": {},
   "outputs": [],
   "source": [
    "drop_cols = ['url','phone','address']\n",
    "df = df.drop(columns=drop_cols,axis=1)"
   ]
  },
  {
   "cell_type": "markdown",
   "metadata": {},
   "source": [
    "#### Deal with NaN values"
   ]
  },
  {
   "cell_type": "code",
   "execution_count": 16,
   "metadata": {},
   "outputs": [
    {
     "data": {
      "text/plain": [
       "name                0\n",
       "online_order        0\n",
       "book_table          0\n",
       "rate             7775\n",
       "votes               0\n",
       "location           21\n",
       "rest_type         227\n",
       "dish_liked      28078\n",
       "cuisines           45\n",
       "cost              346\n",
       "reviews_list        0\n",
       "menu_item           0\n",
       "type                0\n",
       "city                0\n",
       "dtype: int64"
      ]
     },
     "execution_count": 16,
     "metadata": {},
     "output_type": "execute_result"
    }
   ],
   "source": [
    "df.isna().sum()\n",
    "# since our target is rate column, we can utilize rates in reviews_list column and fill nan values with average value in reviews_list, "
   ]
  },
  {
   "cell_type": "markdown",
   "metadata": {},
   "source": [
    "#### Deal columns one by one"
   ]
  },
  {
   "cell_type": "markdown",
   "metadata": {},
   "source": [
    "##### menu_item\n"
   ]
  },
  {
   "cell_type": "code",
   "execution_count": 8,
   "metadata": {},
   "outputs": [
    {
     "data": {
      "text/plain": [
       "12100"
      ]
     },
     "execution_count": 8,
     "metadata": {},
     "output_type": "execute_result"
    }
   ],
   "source": [
    "df['menu_item'].loc[df['menu_item'] != '[]'].count()\n",
    "# nearly 4/5 of columns don't have menu item we can fill it with dish_liked and foods that refered in reviews_list"
   ]
  },
  {
   "cell_type": "code",
   "execution_count": 9,
   "metadata": {},
   "outputs": [
    {
     "data": {
      "text/plain": [
       "\"['Chole Kulcha Meal', 'Upvas Aloo Paratha With Dahi', 'Singhada Aloo Paratha with Hare Tamatar Ki Sabji', 'Smoked Butter Chicken Combo', 'Paneer Methi Chaman Combo', 'Mutton Bhuna Combo', 'Rajma Masala Meal', 'Dal Makhani Veg Starter Combo', 'Dal Makhani Non-Veg Starter Combo', 'Malai Kofta Combo', 'Jumbo Chicken Wrap', 'Jumbo Veg Wrap', 'Jumbo Falafel Salsa Wrap', 'Chicken Overload Jumbo Wrap', 'Veg Pizza Wrap', 'Chicken Pizza Wrap', 'Mexican Potato Salsa Wrap', 'American Smokey Sausage Wrap', 'Makhani Falafel Wrap', 'Mutton Overload Wrap', 'Mac & Cheese Chicken Wrap', 'Mac & Cheese Veg Wrap', 'Barbeque Chicken Wrap', 'Mutton Boti Wrap', 'Masala Paneer Tikka Wrap', 'Fiery Paneer Tikka Wrap', 'Masala Chicken Tikka Wrap', 'Cheesy Corn Salsa Wrap', 'Chicken Mayo Wrap', 'Cheese Melt Chicken Wrap', 'Cheese Melt Paneer Wrap', 'Double Cheese Meatball Wrap', 'Reshmi Chicken Kebab Wrap', 'Egg Cheese Sausage Wrap', 'Double Egg Chatpata Wrap', 'Cheesy Potato Wrap', 'Veg Falafel Wrap', 'Chicken Bhuna Wrap', 'Chatpate Chole Wrap', 'Fiery Paneer Wrap', 'Fiery Chicken Wrap', 'Mac & Cheese Wrap', 'Hare Tamatar & Sabudana Wada Royal Thali', 'Singhada Aloo Paratha & Hare Tamatar Royal Satvik Meal', 'Smoked Butter Chicken With Omelette', 'Rajma Masala Royal Combo', 'Paneer Methi Chaman Royal Combo', 'Mutton Bhuna Royal Combo', 'Smoked Butter Chicken Royal Combo', 'Malai Kofta Royal Combo', 'Fusion Breakfast', 'Pan Cake', 'Aloo Paratha Combo', 'Chai for 4', 'Cheesy Chicken Meatballs', 'Peach Tea (Serves 4)', 'Falafel Nuggets with Mayo Dip', 'Potato Chilli Shots with Mayo Dip', 'Pan Cake', 'Kashmiri Kahwa (Serves 4)', 'Masala Chai (Serves 4)', 'Chai for 4 + Nature valley bar', 'Kulcha', 'Flavorful Rice Tub', 'Dal Makhani Bowl (Half KG)', 'Smoked Butter Chicken Bowl (Half KG)', 'Mutton Bhuna Bowl (Half KG)', 'Singhada Aloo Paratha Tub', 'Curd Bowl (Half KG)', 'Hare Tamatar Ki Subji (Half KG)', 'Rajma Masala Bowl (Half KG)', 'Triangle Paratha Tub', 'Malai Kofta Bowl (Half Kg)', 'Chocolate Fantasy', 'SWIG Jeera Masala', 'SWIG Green apple', 'Kesar Muesli', 'Gulab Jamun (Pack Of 2)', 'Plum Cake', 'Gulab Jamun (Pack of 1)', 'Moments', 'Hazelnut Brownie (Pack Of 1)', 'CheeseCake (Pack of 1)', 'Chocolate Decadence (Pack of 1)', 'Red Velvet Slice Cake (Pack of 1)', 'Mint Chaas']\""
      ]
     },
     "execution_count": 9,
     "metadata": {},
     "output_type": "execute_result"
    }
   ],
   "source": [
    "df['menu_item'].loc[df['menu_item'] != '[]'].iloc[1]"
   ]
  },
  {
   "cell_type": "code",
   "execution_count": 10,
   "metadata": {},
   "outputs": [
    {
     "data": {
      "text/plain": [
       "23639"
      ]
     },
     "execution_count": 10,
     "metadata": {},
     "output_type": "execute_result"
    }
   ],
   "source": [
    "df['dish_liked'].loc[df['dish_liked'] != '[]'].count()"
   ]
  },
  {
   "cell_type": "code",
   "execution_count": 11,
   "metadata": {},
   "outputs": [],
   "source": [
    "empty_menu_dish = df['dish_liked'].loc[df['menu_item'] == '[]']\n",
    "nan_dishes_menu = df['menu_item'].loc[pd.isnull(df['dish_liked'])]"
   ]
  },
  {
   "cell_type": "code",
   "execution_count": 12,
   "metadata": {},
   "outputs": [
    {
     "data": {
      "text/plain": [
       "22830"
      ]
     },
     "execution_count": 12,
     "metadata": {},
     "output_type": "execute_result"
    }
   ],
   "source": [
    "empty_menu_dish.isna().sum()"
   ]
  },
  {
   "cell_type": "code",
   "execution_count": 13,
   "metadata": {},
   "outputs": [
    {
     "data": {
      "text/plain": [
       "39617"
      ]
     },
     "execution_count": 13,
     "metadata": {},
     "output_type": "execute_result"
    }
   ],
   "source": [
    "len(empty_menu_dish)"
   ]
  },
  {
   "cell_type": "code",
   "execution_count": 56,
   "metadata": {},
   "outputs": [],
   "source": [
    "# wecan fill aroind 15000 menu item row with dish liked and can check food names in reviews_list"
   ]
  },
  {
   "cell_type": "markdown",
   "metadata": {},
   "source": [
    "We will going to append all unique foods in dish liked and menu item, goin to scan those names in reviews_list and if we coinciding with any of them we will append it to the menu item value of the correspending row"
   ]
  },
  {
   "cell_type": "code",
   "execution_count": 14,
   "metadata": {},
   "outputs": [
    {
     "name": "stdout",
     "output_type": "stream",
     "text": [
      "Pasta, Lunch Buffet, Masala Papad, Paneer Lajawab, Tomato Shorba, Dum Biryani, Sweet Corn Soup\n",
      "Momos, Lunch Buffet, Chocolate Nirvana, Thai Green Curry, Paneer Tikka, Dum Biryani, Chicken Biryani\n",
      "Churros, Cannelloni, Minestrone Soup, Hot Chocolate, Pink Sauce Pasta, Salsa, Veg Supreme Pizza\n",
      "Masala Dosa\n",
      "Panipuri, Gol Gappe\n",
      "Onion Rings, Pasta, Kadhai Paneer, Salads, Salad, Roti, Jeera Rice\n",
      "nan\n",
      "Farmhouse Pizza, Chocolate Banana, Virgin Mojito, Pasta, Paneer Tikka, Lime Soda, Prawn Pizza\n",
      "Pizza, Mocktails, Coffee, Nachos, Salad, Pasta, Sandwiches\n",
      "Waffles, Pasta, Coleslaw Sandwich, Choco Waffle, Tacos, Momos, Cheese Nachos\n"
     ]
    }
   ],
   "source": [
    "for dish in df['dish_liked'][:10]:\n",
    "    print(dish)"
   ]
  },
  {
   "cell_type": "code",
   "execution_count": 15,
   "metadata": {},
   "outputs": [],
   "source": [
    "df.dish_liked = df.dish_liked.apply(lambda x:x.lower().strip() if isinstance(x,str) else x)\n",
    "df.menu_item = df.menu_item.apply(lambda x:x.lower().strip() if isinstance(x,str) else x)"
   ]
  },
  {
   "cell_type": "code",
   "execution_count": 16,
   "metadata": {},
   "outputs": [],
   "source": [
    "foods_in_dished_like = df['dish_liked']\n",
    "foods_in_dished_like.dropna(inplace=True)\n",
    "foods_in_dished_like_column = [dish.split(',') for dish in foods_in_dished_like]"
   ]
  },
  {
   "cell_type": "code",
   "execution_count": 17,
   "metadata": {},
   "outputs": [],
   "source": [
    "foods_in_menu_item = df['menu_item'].loc[df['menu_item'] != '[]']\n",
    "foods_in_menu_item.dropna(inplace=True)\n",
    "foods_in_menu_item_column = [dish.split(',') for dish in foods_in_menu_item]"
   ]
  },
  {
   "cell_type": "code",
   "execution_count": 18,
   "metadata": {},
   "outputs": [],
   "source": [
    "merged_food_list = foods_in_dished_like_column+ foods_in_menu_item_column"
   ]
  },
  {
   "cell_type": "code",
   "execution_count": 19,
   "metadata": {},
   "outputs": [],
   "source": [
    "food_list = []\n",
    "for i in range(len(merged_food_list)):\n",
    "    for j in range(len(merged_food_list[i])):\n",
    "        food_list.append(merged_food_list[i][j])"
   ]
  },
  {
   "cell_type": "code",
   "execution_count": 20,
   "metadata": {},
   "outputs": [],
   "source": [
    "food_list = set(food_list)"
   ]
  },
  {
   "cell_type": "code",
   "execution_count": 21,
   "metadata": {},
   "outputs": [
    {
     "data": {
      "text/plain": [
       "143895"
      ]
     },
     "execution_count": 21,
     "metadata": {},
     "output_type": "execute_result"
    }
   ],
   "source": [
    "len(food_list)\n",
    "# we got our food list now"
   ]
  },
  {
   "cell_type": "code",
   "execution_count": 22,
   "metadata": {},
   "outputs": [],
   "source": [
    "food_listt = food_list"
   ]
  },
  {
   "cell_type": "code",
   "execution_count": 226,
   "metadata": {},
   "outputs": [],
   "source": [
    "# food_listt =     map(lambda x : x.strip().lower(),food_listt)\n",
    "# food_listt  = list(food_listt)\n",
    "# food_listt = set(food_listt)"
   ]
  },
  {
   "cell_type": "code",
   "execution_count": 23,
   "metadata": {},
   "outputs": [],
   "source": [
    "df2= df.copy()"
   ]
  },
  {
   "cell_type": "code",
   "execution_count": 24,
   "metadata": {},
   "outputs": [],
   "source": [
    "import unicodedata"
   ]
  },
  {
   "cell_type": "code",
   "execution_count": 25,
   "metadata": {},
   "outputs": [],
   "source": [
    "df['reviews_list'] = df['reviews_list'].apply(lambda val: unicodedata.normalize('NFKD', val).encode('ascii', 'ignore').decode())"
   ]
  },
  {
   "cell_type": "code",
   "execution_count": 26,
   "metadata": {},
   "outputs": [],
   "source": [
    "df['reviews_list'] = [i.replace(\"RATED\\\\n  \",'').replace('\\\\n','').replace('�','').replace('?','').replace('\\n','').strip().lower() for i in df.reviews_list]"
   ]
  },
  {
   "cell_type": "code",
   "execution_count": 27,
   "metadata": {},
   "outputs": [
    {
     "data": {
      "text/plain": [
       "{'biryani', 'buttermilk', 'chicken', 'rice'}"
      ]
     },
     "execution_count": 27,
     "metadata": {},
     "output_type": "execute_result"
    }
   ],
   "source": [
    "food_list.intersection(df.reviews_list[1000].split(' '))"
   ]
  },
  {
   "cell_type": "code",
   "execution_count": 28,
   "metadata": {},
   "outputs": [],
   "source": [
    "df['dish_n_reviews'] = df.reviews_list.apply(lambda x: ', '.join(list(food_list.intersection(x.split(' ')))))"
   ]
  },
  {
   "cell_type": "code",
   "execution_count": 29,
   "metadata": {},
   "outputs": [
    {
     "data": {
      "text/plain": [
       "0         paratha, chaap, chicken, halwa, breads, rice\n",
       "1    biryani, roti, momos, chicken, lassi, fish, ri...\n",
       "2    pizza, pasta, decor, nachos, cheesecake, churr...\n",
       "3                               vegetarian, roti, rice\n",
       "4                                      paratha, kulcha\n",
       "Name: dish_n_reviews, dtype: object"
      ]
     },
     "execution_count": 29,
     "metadata": {},
     "output_type": "execute_result"
    }
   ],
   "source": [
    "df.dish_n_reviews[:5]"
   ]
  },
  {
   "cell_type": "markdown",
   "metadata": {},
   "source": [
    "Nearly 80 % of the menu item values is [] this is extremely high, maybe we can add menu items from reviews_list and dish liked"
   ]
  },
  {
   "cell_type": "code",
   "execution_count": 30,
   "metadata": {},
   "outputs": [
    {
     "data": {
      "text/plain": [
       "nan"
      ]
     },
     "execution_count": 30,
     "metadata": {},
     "output_type": "execute_result"
    }
   ],
   "source": [
    "df['dish_liked'].iloc[1500]"
   ]
  },
  {
   "cell_type": "code",
   "execution_count": 31,
   "metadata": {},
   "outputs": [
    {
     "data": {
      "text/html": [
       "<div>\n",
       "<style scoped>\n",
       "    .dataframe tbody tr th:only-of-type {\n",
       "        vertical-align: middle;\n",
       "    }\n",
       "\n",
       "    .dataframe tbody tr th {\n",
       "        vertical-align: top;\n",
       "    }\n",
       "\n",
       "    .dataframe thead th {\n",
       "        text-align: right;\n",
       "    }\n",
       "</style>\n",
       "<table border=\"1\" class=\"dataframe\">\n",
       "  <thead>\n",
       "    <tr style=\"text-align: right;\">\n",
       "      <th></th>\n",
       "      <th>dish_liked</th>\n",
       "      <th>dish_n_reviews</th>\n",
       "    </tr>\n",
       "  </thead>\n",
       "  <tbody>\n",
       "    <tr>\n",
       "      <th>9076</th>\n",
       "      <td>NaN</td>\n",
       "      <td></td>\n",
       "    </tr>\n",
       "    <tr>\n",
       "      <th>39058</th>\n",
       "      <td>NaN</td>\n",
       "      <td>rolls, chicken, vada</td>\n",
       "    </tr>\n",
       "    <tr>\n",
       "      <th>1147</th>\n",
       "      <td>NaN</td>\n",
       "      <td></td>\n",
       "    </tr>\n",
       "    <tr>\n",
       "      <th>3142</th>\n",
       "      <td>NaN</td>\n",
       "      <td></td>\n",
       "    </tr>\n",
       "    <tr>\n",
       "      <th>2104</th>\n",
       "      <td>NaN</td>\n",
       "      <td>biryani, lemonade, chicken, salad, rice, tikka</td>\n",
       "    </tr>\n",
       "  </tbody>\n",
       "</table>\n",
       "</div>"
      ],
      "text/plain": [
       "      dish_liked                                  dish_n_reviews\n",
       "9076         NaN                                                \n",
       "39058        NaN                            rolls, chicken, vada\n",
       "1147         NaN                                                \n",
       "3142         NaN                                                \n",
       "2104         NaN  biryani, lemonade, chicken, salad, rice, tikka"
      ]
     },
     "execution_count": 31,
     "metadata": {},
     "output_type": "execute_result"
    }
   ],
   "source": [
    "df.query('dish_liked != dish_liked')[['dish_liked','dish_n_reviews']].sample(5,random_state=1)"
   ]
  },
  {
   "cell_type": "code",
   "execution_count": 32,
   "metadata": {},
   "outputs": [],
   "source": [
    "nan_index = df.query('dish_liked != dish_liked & dish_n_reviews == dish_n_reviews').index\n",
    "for i in nan_index:\n",
    "    df.loc[i,'dish_liked'] = df.loc[i,'dish_n_reviews']"
   ]
  },
  {
   "cell_type": "code",
   "execution_count": 33,
   "metadata": {},
   "outputs": [
    {
     "data": {
      "text/plain": [
       "0"
      ]
     },
     "execution_count": 33,
     "metadata": {},
     "output_type": "execute_result"
    }
   ],
   "source": [
    "df['dish_liked'].isna().sum()\n",
    "# nice job"
   ]
  },
  {
   "cell_type": "code",
   "execution_count": 34,
   "metadata": {},
   "outputs": [],
   "source": [
    "df.drop(columns=['dish_n_reviews'],axis=1,inplace=True)"
   ]
  },
  {
   "cell_type": "code",
   "execution_count": 35,
   "metadata": {},
   "outputs": [
    {
     "data": {
      "text/html": [
       "<div>\n",
       "<style scoped>\n",
       "    .dataframe tbody tr th:only-of-type {\n",
       "        vertical-align: middle;\n",
       "    }\n",
       "\n",
       "    .dataframe tbody tr th {\n",
       "        vertical-align: top;\n",
       "    }\n",
       "\n",
       "    .dataframe thead th {\n",
       "        text-align: right;\n",
       "    }\n",
       "</style>\n",
       "<table border=\"1\" class=\"dataframe\">\n",
       "  <thead>\n",
       "    <tr style=\"text-align: right;\">\n",
       "      <th></th>\n",
       "      <th>name</th>\n",
       "      <th>online_order</th>\n",
       "      <th>book_table</th>\n",
       "      <th>rate</th>\n",
       "      <th>votes</th>\n",
       "      <th>location</th>\n",
       "      <th>rest_type</th>\n",
       "      <th>dish_liked</th>\n",
       "      <th>cuisines</th>\n",
       "      <th>cost</th>\n",
       "      <th>reviews_list</th>\n",
       "      <th>menu_item</th>\n",
       "      <th>type</th>\n",
       "      <th>city</th>\n",
       "    </tr>\n",
       "  </thead>\n",
       "  <tbody>\n",
       "    <tr>\n",
       "      <th>0</th>\n",
       "      <td>Jalsa</td>\n",
       "      <td>Yes</td>\n",
       "      <td>Yes</td>\n",
       "      <td>4.1/5</td>\n",
       "      <td>775</td>\n",
       "      <td>Banashankari</td>\n",
       "      <td>Casual Dining</td>\n",
       "      <td>pasta, lunch buffet, masala papad, paneer laja...</td>\n",
       "      <td>North Indian, Mughlai, Chinese</td>\n",
       "      <td>800</td>\n",
       "      <td>[('rated 4.0', 'a beautiful place to dine in.t...</td>\n",
       "      <td>[]</td>\n",
       "      <td>Buffet</td>\n",
       "      <td>Banashankari</td>\n",
       "    </tr>\n",
       "  </tbody>\n",
       "</table>\n",
       "</div>"
      ],
      "text/plain": [
       "    name online_order book_table   rate  votes      location      rest_type  \\\n",
       "0  Jalsa          Yes        Yes  4.1/5    775  Banashankari  Casual Dining   \n",
       "\n",
       "                                          dish_liked  \\\n",
       "0  pasta, lunch buffet, masala papad, paneer laja...   \n",
       "\n",
       "                         cuisines cost  \\\n",
       "0  North Indian, Mughlai, Chinese  800   \n",
       "\n",
       "                                        reviews_list menu_item    type  \\\n",
       "0  [('rated 4.0', 'a beautiful place to dine in.t...        []  Buffet   \n",
       "\n",
       "           city  \n",
       "0  Banashankari  "
      ]
     },
     "execution_count": 35,
     "metadata": {},
     "output_type": "execute_result"
    }
   ],
   "source": [
    "df[:1]"
   ]
  },
  {
   "cell_type": "markdown",
   "metadata": {},
   "source": [
    "##### Reviews_list\n",
    "we will check nan values in rate column and try to fill them with rates in reviews_list if rate is null and reviews_list != []\n",
    "\n",
    "we will drop the row if reviews_list = [] and rate is nan\n",
    "\n",
    "After filling rate, we are going to clean text in the column and create new database with reviews_list and rates to work on it independently with gensim model."
   ]
  },
  {
   "cell_type": "code",
   "execution_count": 36,
   "metadata": {},
   "outputs": [],
   "source": [
    "df2= df.copy()"
   ]
  },
  {
   "cell_type": "markdown",
   "metadata": {},
   "source": [
    "### Fill Empty Rates from reviews_list rates"
   ]
  },
  {
   "cell_type": "code",
   "execution_count": 47,
   "metadata": {},
   "outputs": [],
   "source": [
    "df2 = df.copy()"
   ]
  },
  {
   "cell_type": "code",
   "execution_count": 48,
   "metadata": {},
   "outputs": [],
   "source": [
    "prr = df2[df2['rate'].isna()]"
   ]
  },
  {
   "cell_type": "code",
   "execution_count": 49,
   "metadata": {},
   "outputs": [
    {
     "data": {
      "text/plain": [
       "name            2501\n",
       "online_order    2501\n",
       "book_table      2501\n",
       "rate               0\n",
       "votes           2501\n",
       "location        2501\n",
       "rest_type       2492\n",
       "dish_liked      2501\n",
       "cuisines        2495\n",
       "cost            2452\n",
       "reviews_list    2501\n",
       "menu_item       2501\n",
       "type            2501\n",
       "city            2501\n",
       "dtype: int64"
      ]
     },
     "execution_count": 49,
     "metadata": {},
     "output_type": "execute_result"
    }
   ],
   "source": [
    "prr[prr['reviews_list'] != '[]'].count()\n",
    "# we can fill 2501 of nan rate"
   ]
  },
  {
   "cell_type": "code",
   "execution_count": 51,
   "metadata": {},
   "outputs": [],
   "source": [
    "indi  = prr[prr['reviews_list'] == '[]' ].index\n",
    "df2.drop(indi,inplace=True)"
   ]
  },
  {
   "cell_type": "code",
   "execution_count": 52,
   "metadata": {},
   "outputs": [
    {
     "data": {
      "text/plain": [
       "name            2501\n",
       "online_order    2501\n",
       "book_table      2501\n",
       "rate               0\n",
       "votes           2501\n",
       "location        2501\n",
       "rest_type       2492\n",
       "dish_liked      2501\n",
       "cuisines        2495\n",
       "cost            2452\n",
       "reviews_list    2501\n",
       "menu_item       2501\n",
       "type            2501\n",
       "city            2501\n",
       "dtype: int64"
      ]
     },
     "execution_count": 52,
     "metadata": {},
     "output_type": "execute_result"
    }
   ],
   "source": [
    "df2[df2['rate'].isna()].count()"
   ]
  },
  {
   "cell_type": "code",
   "execution_count": 53,
   "metadata": {},
   "outputs": [
    {
     "data": {
      "text/html": [
       "<div>\n",
       "<style scoped>\n",
       "    .dataframe tbody tr th:only-of-type {\n",
       "        vertical-align: middle;\n",
       "    }\n",
       "\n",
       "    .dataframe tbody tr th {\n",
       "        vertical-align: top;\n",
       "    }\n",
       "\n",
       "    .dataframe thead th {\n",
       "        text-align: right;\n",
       "    }\n",
       "</style>\n",
       "<table border=\"1\" class=\"dataframe\">\n",
       "  <thead>\n",
       "    <tr style=\"text-align: right;\">\n",
       "      <th></th>\n",
       "      <th>name</th>\n",
       "      <th>online_order</th>\n",
       "      <th>book_table</th>\n",
       "      <th>rate</th>\n",
       "      <th>votes</th>\n",
       "      <th>location</th>\n",
       "      <th>rest_type</th>\n",
       "      <th>dish_liked</th>\n",
       "      <th>cuisines</th>\n",
       "      <th>cost</th>\n",
       "      <th>reviews_list</th>\n",
       "      <th>menu_item</th>\n",
       "      <th>type</th>\n",
       "      <th>city</th>\n",
       "    </tr>\n",
       "  </thead>\n",
       "  <tbody>\n",
       "    <tr>\n",
       "      <th>0</th>\n",
       "      <td>Jalsa</td>\n",
       "      <td>Yes</td>\n",
       "      <td>Yes</td>\n",
       "      <td>4.1/5</td>\n",
       "      <td>775</td>\n",
       "      <td>Banashankari</td>\n",
       "      <td>Casual Dining</td>\n",
       "      <td>pasta, lunch buffet, masala papad, paneer laja...</td>\n",
       "      <td>North Indian, Mughlai, Chinese</td>\n",
       "      <td>800</td>\n",
       "      <td>[('rated 4.0', 'a beautiful place to dine in.t...</td>\n",
       "      <td>[]</td>\n",
       "      <td>Buffet</td>\n",
       "      <td>Banashankari</td>\n",
       "    </tr>\n",
       "    <tr>\n",
       "      <th>1</th>\n",
       "      <td>Spice Elephant</td>\n",
       "      <td>Yes</td>\n",
       "      <td>No</td>\n",
       "      <td>4.1/5</td>\n",
       "      <td>787</td>\n",
       "      <td>Banashankari</td>\n",
       "      <td>Casual Dining</td>\n",
       "      <td>momos, lunch buffet, chocolate nirvana, thai g...</td>\n",
       "      <td>Chinese, North Indian, Thai</td>\n",
       "      <td>800</td>\n",
       "      <td>[('rated 4.0', 'had been here for dinner with ...</td>\n",
       "      <td>[]</td>\n",
       "      <td>Buffet</td>\n",
       "      <td>Banashankari</td>\n",
       "    </tr>\n",
       "    <tr>\n",
       "      <th>2</th>\n",
       "      <td>San Churro Cafe</td>\n",
       "      <td>Yes</td>\n",
       "      <td>No</td>\n",
       "      <td>3.8/5</td>\n",
       "      <td>918</td>\n",
       "      <td>Banashankari</td>\n",
       "      <td>Cafe, Casual Dining</td>\n",
       "      <td>churros, cannelloni, minestrone soup, hot choc...</td>\n",
       "      <td>Cafe, Mexican, Italian</td>\n",
       "      <td>800</td>\n",
       "      <td>[('rated 3.0', \"ambience is not that good enou...</td>\n",
       "      <td>[]</td>\n",
       "      <td>Buffet</td>\n",
       "      <td>Banashankari</td>\n",
       "    </tr>\n",
       "    <tr>\n",
       "      <th>3</th>\n",
       "      <td>Addhuri Udupi Bhojana</td>\n",
       "      <td>No</td>\n",
       "      <td>No</td>\n",
       "      <td>3.7/5</td>\n",
       "      <td>88</td>\n",
       "      <td>Banashankari</td>\n",
       "      <td>Quick Bites</td>\n",
       "      <td>masala dosa</td>\n",
       "      <td>South Indian, North Indian</td>\n",
       "      <td>300</td>\n",
       "      <td>[('rated 4.0', \"great food and proper karnatak...</td>\n",
       "      <td>[]</td>\n",
       "      <td>Buffet</td>\n",
       "      <td>Banashankari</td>\n",
       "    </tr>\n",
       "    <tr>\n",
       "      <th>4</th>\n",
       "      <td>Grand Village</td>\n",
       "      <td>No</td>\n",
       "      <td>No</td>\n",
       "      <td>3.8/5</td>\n",
       "      <td>166</td>\n",
       "      <td>Basavanagudi</td>\n",
       "      <td>Casual Dining</td>\n",
       "      <td>panipuri, gol gappe</td>\n",
       "      <td>North Indian, Rajasthani</td>\n",
       "      <td>600</td>\n",
       "      <td>[('rated 4.0', 'very good restaurant in neighb...</td>\n",
       "      <td>[]</td>\n",
       "      <td>Buffet</td>\n",
       "      <td>Banashankari</td>\n",
       "    </tr>\n",
       "    <tr>\n",
       "      <th>...</th>\n",
       "      <td>...</td>\n",
       "      <td>...</td>\n",
       "      <td>...</td>\n",
       "      <td>...</td>\n",
       "      <td>...</td>\n",
       "      <td>...</td>\n",
       "      <td>...</td>\n",
       "      <td>...</td>\n",
       "      <td>...</td>\n",
       "      <td>...</td>\n",
       "      <td>...</td>\n",
       "      <td>...</td>\n",
       "      <td>...</td>\n",
       "      <td>...</td>\n",
       "    </tr>\n",
       "    <tr>\n",
       "      <th>46438</th>\n",
       "      <td>Topsy Turvey</td>\n",
       "      <td>No</td>\n",
       "      <td>No</td>\n",
       "      <td>NaN</td>\n",
       "      <td>0</td>\n",
       "      <td>Whitefield</td>\n",
       "      <td>Bar</td>\n",
       "      <td>vegetarian</td>\n",
       "      <td>Finger Food</td>\n",
       "      <td>900</td>\n",
       "      <td>[('rated 4.0', \"a divine joint for flavourful ...</td>\n",
       "      <td>[]</td>\n",
       "      <td>Pubs and bars</td>\n",
       "      <td>Whitefield</td>\n",
       "    </tr>\n",
       "    <tr>\n",
       "      <th>46439</th>\n",
       "      <td>Bhagini</td>\n",
       "      <td>No</td>\n",
       "      <td>No</td>\n",
       "      <td>2.5 /5</td>\n",
       "      <td>81</td>\n",
       "      <td>Whitefield</td>\n",
       "      <td>Casual Dining, Bar</td>\n",
       "      <td>biryani, andhra meal</td>\n",
       "      <td>Andhra, South Indian, Chinese, North Indian</td>\n",
       "      <td>800</td>\n",
       "      <td>[('rated 4.0', 'a fine place to chill after of...</td>\n",
       "      <td>[]</td>\n",
       "      <td>Pubs and bars</td>\n",
       "      <td>Whitefield</td>\n",
       "    </tr>\n",
       "    <tr>\n",
       "      <th>46440</th>\n",
       "      <td>Best Brews - Four Points by Sheraton Bengaluru...</td>\n",
       "      <td>No</td>\n",
       "      <td>No</td>\n",
       "      <td>3.6 /5</td>\n",
       "      <td>27</td>\n",
       "      <td>Whitefield</td>\n",
       "      <td>Bar</td>\n",
       "      <td>mocktails, chicken, cocktails</td>\n",
       "      <td>Continental</td>\n",
       "      <td>1,500</td>\n",
       "      <td>[('rated 5.0', \"food and service are incompara...</td>\n",
       "      <td>[]</td>\n",
       "      <td>Pubs and bars</td>\n",
       "      <td>Whitefield</td>\n",
       "    </tr>\n",
       "    <tr>\n",
       "      <th>46441</th>\n",
       "      <td>Chime - Sheraton Grand Bengaluru Whitefield Ho...</td>\n",
       "      <td>No</td>\n",
       "      <td>Yes</td>\n",
       "      <td>4.3 /5</td>\n",
       "      <td>236</td>\n",
       "      <td>ITPL Main Road, Whitefield</td>\n",
       "      <td>Bar</td>\n",
       "      <td>cocktails, pizza, buttermilk</td>\n",
       "      <td>Finger Food</td>\n",
       "      <td>2,500</td>\n",
       "      <td>[('rated 4.0', 'nice and friendly place and st...</td>\n",
       "      <td>[]</td>\n",
       "      <td>Pubs and bars</td>\n",
       "      <td>Whitefield</td>\n",
       "    </tr>\n",
       "    <tr>\n",
       "      <th>46442</th>\n",
       "      <td>The Nest - The Den Bengaluru</td>\n",
       "      <td>No</td>\n",
       "      <td>No</td>\n",
       "      <td>3.4 /5</td>\n",
       "      <td>13</td>\n",
       "      <td>ITPL Main Road, Whitefield</td>\n",
       "      <td>Bar, Casual Dining</td>\n",
       "      <td>mocktails</td>\n",
       "      <td>Finger Food, North Indian, Continental</td>\n",
       "      <td>1,500</td>\n",
       "      <td>[('rated 5.0', 'great ambience , looking nice ...</td>\n",
       "      <td>[]</td>\n",
       "      <td>Pubs and bars</td>\n",
       "      <td>Whitefield</td>\n",
       "    </tr>\n",
       "  </tbody>\n",
       "</table>\n",
       "<p>46443 rows × 14 columns</p>\n",
       "</div>"
      ],
      "text/plain": [
       "                                                    name online_order  \\\n",
       "0                                                  Jalsa          Yes   \n",
       "1                                         Spice Elephant          Yes   \n",
       "2                                        San Churro Cafe          Yes   \n",
       "3                                  Addhuri Udupi Bhojana           No   \n",
       "4                                          Grand Village           No   \n",
       "...                                                  ...          ...   \n",
       "46438                                       Topsy Turvey           No   \n",
       "46439                                            Bhagini           No   \n",
       "46440  Best Brews - Four Points by Sheraton Bengaluru...           No   \n",
       "46441  Chime - Sheraton Grand Bengaluru Whitefield Ho...           No   \n",
       "46442                       The Nest - The Den Bengaluru           No   \n",
       "\n",
       "      book_table    rate  votes                    location  \\\n",
       "0            Yes   4.1/5    775                Banashankari   \n",
       "1             No   4.1/5    787                Banashankari   \n",
       "2             No   3.8/5    918                Banashankari   \n",
       "3             No   3.7/5     88                Banashankari   \n",
       "4             No   3.8/5    166                Basavanagudi   \n",
       "...          ...     ...    ...                         ...   \n",
       "46438         No     NaN      0                  Whitefield   \n",
       "46439         No  2.5 /5     81                  Whitefield   \n",
       "46440         No  3.6 /5     27                  Whitefield   \n",
       "46441        Yes  4.3 /5    236  ITPL Main Road, Whitefield   \n",
       "46442         No  3.4 /5     13  ITPL Main Road, Whitefield   \n",
       "\n",
       "                 rest_type                                         dish_liked  \\\n",
       "0            Casual Dining  pasta, lunch buffet, masala papad, paneer laja...   \n",
       "1            Casual Dining  momos, lunch buffet, chocolate nirvana, thai g...   \n",
       "2      Cafe, Casual Dining  churros, cannelloni, minestrone soup, hot choc...   \n",
       "3              Quick Bites                                        masala dosa   \n",
       "4            Casual Dining                                panipuri, gol gappe   \n",
       "...                    ...                                                ...   \n",
       "46438                  Bar                                         vegetarian   \n",
       "46439   Casual Dining, Bar                               biryani, andhra meal   \n",
       "46440                  Bar                      mocktails, chicken, cocktails   \n",
       "46441                  Bar                       cocktails, pizza, buttermilk   \n",
       "46442   Bar, Casual Dining                                          mocktails   \n",
       "\n",
       "                                          cuisines   cost  \\\n",
       "0                   North Indian, Mughlai, Chinese    800   \n",
       "1                      Chinese, North Indian, Thai    800   \n",
       "2                           Cafe, Mexican, Italian    800   \n",
       "3                       South Indian, North Indian    300   \n",
       "4                         North Indian, Rajasthani    600   \n",
       "...                                            ...    ...   \n",
       "46438                                  Finger Food    900   \n",
       "46439  Andhra, South Indian, Chinese, North Indian    800   \n",
       "46440                                  Continental  1,500   \n",
       "46441                                  Finger Food  2,500   \n",
       "46442       Finger Food, North Indian, Continental  1,500   \n",
       "\n",
       "                                            reviews_list menu_item  \\\n",
       "0      [('rated 4.0', 'a beautiful place to dine in.t...        []   \n",
       "1      [('rated 4.0', 'had been here for dinner with ...        []   \n",
       "2      [('rated 3.0', \"ambience is not that good enou...        []   \n",
       "3      [('rated 4.0', \"great food and proper karnatak...        []   \n",
       "4      [('rated 4.0', 'very good restaurant in neighb...        []   \n",
       "...                                                  ...       ...   \n",
       "46438  [('rated 4.0', \"a divine joint for flavourful ...        []   \n",
       "46439  [('rated 4.0', 'a fine place to chill after of...        []   \n",
       "46440  [('rated 5.0', \"food and service are incompara...        []   \n",
       "46441  [('rated 4.0', 'nice and friendly place and st...        []   \n",
       "46442  [('rated 5.0', 'great ambience , looking nice ...        []   \n",
       "\n",
       "                type          city  \n",
       "0             Buffet  Banashankari  \n",
       "1             Buffet  Banashankari  \n",
       "2             Buffet  Banashankari  \n",
       "3             Buffet  Banashankari  \n",
       "4             Buffet  Banashankari  \n",
       "...              ...           ...  \n",
       "46438  Pubs and bars    Whitefield  \n",
       "46439  Pubs and bars    Whitefield  \n",
       "46440  Pubs and bars    Whitefield  \n",
       "46441  Pubs and bars    Whitefield  \n",
       "46442  Pubs and bars    Whitefield  \n",
       "\n",
       "[46443 rows x 14 columns]"
      ]
     },
     "execution_count": 53,
     "metadata": {},
     "output_type": "execute_result"
    }
   ],
   "source": [
    "df2.reset_index(drop=True)"
   ]
  },
  {
   "cell_type": "code",
   "execution_count": 54,
   "metadata": {},
   "outputs": [
    {
     "data": {
      "text/plain": [
       "False    43942\n",
       "True      2501\n",
       "Name: rate, dtype: int64"
      ]
     },
     "execution_count": 54,
     "metadata": {},
     "output_type": "execute_result"
    }
   ],
   "source": [
    "df2['rate'].isna().value_counts()\n",
    "# we are going to fill this 2501 rate row now"
   ]
  },
  {
   "cell_type": "code",
   "execution_count": 55,
   "metadata": {},
   "outputs": [
    {
     "ename": "KeyError",
     "evalue": "91",
     "output_type": "error",
     "traceback": [
      "\u001b[1;31m---------------------------------------------------------------------------\u001b[0m",
      "\u001b[1;31mKeyError\u001b[0m                                  Traceback (most recent call last)",
      "File \u001b[1;32mc:\\Users\\emreb\\Documents\\projects\\datavisu\\datavisuenv\\lib\\site-packages\\pandas\\core\\indexes\\base.py:3800\u001b[0m, in \u001b[0;36mIndex.get_loc\u001b[1;34m(self, key, method, tolerance)\u001b[0m\n\u001b[0;32m   3799\u001b[0m \u001b[39mtry\u001b[39;00m:\n\u001b[1;32m-> 3800\u001b[0m     \u001b[39mreturn\u001b[39;00m \u001b[39mself\u001b[39;49m\u001b[39m.\u001b[39;49m_engine\u001b[39m.\u001b[39;49mget_loc(casted_key)\n\u001b[0;32m   3801\u001b[0m \u001b[39mexcept\u001b[39;00m \u001b[39mKeyError\u001b[39;00m \u001b[39mas\u001b[39;00m err:\n",
      "File \u001b[1;32mc:\\Users\\emreb\\Documents\\projects\\datavisu\\datavisuenv\\lib\\site-packages\\pandas\\_libs\\index.pyx:138\u001b[0m, in \u001b[0;36mpandas._libs.index.IndexEngine.get_loc\u001b[1;34m()\u001b[0m\n",
      "File \u001b[1;32mc:\\Users\\emreb\\Documents\\projects\\datavisu\\datavisuenv\\lib\\site-packages\\pandas\\_libs\\index.pyx:165\u001b[0m, in \u001b[0;36mpandas._libs.index.IndexEngine.get_loc\u001b[1;34m()\u001b[0m\n",
      "File \u001b[1;32mpandas\\_libs\\hashtable_class_helper.pxi:2263\u001b[0m, in \u001b[0;36mpandas._libs.hashtable.Int64HashTable.get_item\u001b[1;34m()\u001b[0m\n",
      "File \u001b[1;32mpandas\\_libs\\hashtable_class_helper.pxi:2273\u001b[0m, in \u001b[0;36mpandas._libs.hashtable.Int64HashTable.get_item\u001b[1;34m()\u001b[0m\n",
      "\u001b[1;31mKeyError\u001b[0m: 91",
      "\nThe above exception was the direct cause of the following exception:\n",
      "\u001b[1;31mKeyError\u001b[0m                                  Traceback (most recent call last)",
      "Cell \u001b[1;32mIn [55], line 5\u001b[0m\n\u001b[0;32m      2\u001b[0m cs \u001b[38;5;241m=\u001b[39m []\n\u001b[0;32m      3\u001b[0m \u001b[38;5;28;01mfor\u001b[39;00m i \u001b[38;5;129;01min\u001b[39;00m \u001b[38;5;28mrange\u001b[39m(\u001b[38;5;28mlen\u001b[39m(df2[\u001b[38;5;124m'\u001b[39m\u001b[38;5;124mreviews_list\u001b[39m\u001b[38;5;124m'\u001b[39m])):\n\u001b[1;32m----> 5\u001b[0m     rates \u001b[38;5;241m=\u001b[39m pat\u001b[38;5;241m.\u001b[39mfindall(df2[\u001b[38;5;124m'\u001b[39m\u001b[38;5;124mreviews_list\u001b[39m\u001b[38;5;124m'\u001b[39m][i])\n\u001b[0;32m      6\u001b[0m     k \u001b[38;5;241m=\u001b[39m \u001b[38;5;241m0\u001b[39m\n\u001b[0;32m      8\u001b[0m     \u001b[38;5;28;01mfor\u001b[39;00m rate \u001b[38;5;129;01min\u001b[39;00m rates:\n",
      "File \u001b[1;32mc:\\Users\\emreb\\Documents\\projects\\datavisu\\datavisuenv\\lib\\site-packages\\pandas\\core\\series.py:982\u001b[0m, in \u001b[0;36mSeries.__getitem__\u001b[1;34m(self, key)\u001b[0m\n\u001b[0;32m    979\u001b[0m     \u001b[39mreturn\u001b[39;00m \u001b[39mself\u001b[39m\u001b[39m.\u001b[39m_values[key]\n\u001b[0;32m    981\u001b[0m \u001b[39melif\u001b[39;00m key_is_scalar:\n\u001b[1;32m--> 982\u001b[0m     \u001b[39mreturn\u001b[39;00m \u001b[39mself\u001b[39;49m\u001b[39m.\u001b[39;49m_get_value(key)\n\u001b[0;32m    984\u001b[0m \u001b[39mif\u001b[39;00m is_hashable(key):\n\u001b[0;32m    985\u001b[0m     \u001b[39m# Otherwise index.get_value will raise InvalidIndexError\u001b[39;00m\n\u001b[0;32m    986\u001b[0m     \u001b[39mtry\u001b[39;00m:\n\u001b[0;32m    987\u001b[0m         \u001b[39m# For labels that don't resolve as scalars like tuples and frozensets\u001b[39;00m\n",
      "File \u001b[1;32mc:\\Users\\emreb\\Documents\\projects\\datavisu\\datavisuenv\\lib\\site-packages\\pandas\\core\\series.py:1092\u001b[0m, in \u001b[0;36mSeries._get_value\u001b[1;34m(self, label, takeable)\u001b[0m\n\u001b[0;32m   1089\u001b[0m     \u001b[39mreturn\u001b[39;00m \u001b[39mself\u001b[39m\u001b[39m.\u001b[39m_values[label]\n\u001b[0;32m   1091\u001b[0m \u001b[39m# Similar to Index.get_value, but we do not fall back to positional\u001b[39;00m\n\u001b[1;32m-> 1092\u001b[0m loc \u001b[39m=\u001b[39m \u001b[39mself\u001b[39;49m\u001b[39m.\u001b[39;49mindex\u001b[39m.\u001b[39;49mget_loc(label)\n\u001b[0;32m   1093\u001b[0m \u001b[39mreturn\u001b[39;00m \u001b[39mself\u001b[39m\u001b[39m.\u001b[39mindex\u001b[39m.\u001b[39m_get_values_for_loc(\u001b[39mself\u001b[39m, loc, label)\n",
      "File \u001b[1;32mc:\\Users\\emreb\\Documents\\projects\\datavisu\\datavisuenv\\lib\\site-packages\\pandas\\core\\indexes\\base.py:3802\u001b[0m, in \u001b[0;36mIndex.get_loc\u001b[1;34m(self, key, method, tolerance)\u001b[0m\n\u001b[0;32m   3800\u001b[0m     \u001b[39mreturn\u001b[39;00m \u001b[39mself\u001b[39m\u001b[39m.\u001b[39m_engine\u001b[39m.\u001b[39mget_loc(casted_key)\n\u001b[0;32m   3801\u001b[0m \u001b[39mexcept\u001b[39;00m \u001b[39mKeyError\u001b[39;00m \u001b[39mas\u001b[39;00m err:\n\u001b[1;32m-> 3802\u001b[0m     \u001b[39mraise\u001b[39;00m \u001b[39mKeyError\u001b[39;00m(key) \u001b[39mfrom\u001b[39;00m \u001b[39merr\u001b[39;00m\n\u001b[0;32m   3803\u001b[0m \u001b[39mexcept\u001b[39;00m \u001b[39mTypeError\u001b[39;00m:\n\u001b[0;32m   3804\u001b[0m     \u001b[39m# If we have a listlike key, _check_indexing_error will raise\u001b[39;00m\n\u001b[0;32m   3805\u001b[0m     \u001b[39m#  InvalidIndexError. Otherwise we fall through and re-raise\u001b[39;00m\n\u001b[0;32m   3806\u001b[0m     \u001b[39m#  the TypeError.\u001b[39;00m\n\u001b[0;32m   3807\u001b[0m     \u001b[39mself\u001b[39m\u001b[39m.\u001b[39m_check_indexing_error(key)\n",
      "\u001b[1;31mKeyError\u001b[0m: 91"
     ]
    }
   ],
   "source": [
    "pat = re.compile('Rated [0-9]*\\.[0-9]+',)\n",
    "cs = []\n",
    "for i in range(len(df2['reviews_list'])):\n",
    "\n",
    "    rates = pat.findall(df2['reviews_list'][i])\n",
    "    k = 0\n",
    "    \n",
    "    for rate in rates:\n",
    "        k = k+int(rate.split('Rated ')[1].split('.')[0])\n",
    "    if len(rates) != 0:\n",
    "        if(pd.isnull(df2['rate'][i])):\n",
    "            k = k/len(rates)\n",
    "            cs.append(round(k,2))\n",
    "        else:\n",
    "            cs.append(df2['rate'][i])\n",
    "    else:\n",
    "        cs.append(df2['rate'][i])\n",
    "    # [int(rate.split('Rated ')[1].split('.')[0]) for rate in rates]"
   ]
  },
  {
   "cell_type": "code",
   "execution_count": null,
   "metadata": {},
   "outputs": [
    {
     "data": {
      "text/plain": [
       "0         4.1/5\n",
       "1         4.1/5\n",
       "2         3.8/5\n",
       "3         3.7/5\n",
       "4         3.8/5\n",
       "          ...  \n",
       "46438       NaN\n",
       "46439    2.5 /5\n",
       "46440    3.6 /5\n",
       "46441    4.3 /5\n",
       "46442    3.4 /5\n",
       "Name: rate, Length: 46443, dtype: object"
      ]
     },
     "execution_count": 288,
     "metadata": {},
     "output_type": "execute_result"
    }
   ],
   "source": [
    "for i in range(len(df2['rate'])):\n",
    "    df2['rate'][i] = cs[i]\n",
    "df2['rate']"
   ]
  },
  {
   "cell_type": "markdown",
   "metadata": {},
   "source": [
    "Now we are done with ratings in reviews list we can substract them, cause they are useless"
   ]
  },
  {
   "cell_type": "code",
   "execution_count": 56,
   "metadata": {},
   "outputs": [],
   "source": [
    "deleterate = ['rated [0-9]*\\.[0-9]+','rated',\"\\n\"]\n",
    "\n",
    "for dele in deleterate:\n",
    "\n",
    "\n",
    "    df2['reviews_list']=df2['reviews_list'].apply(lambda x : re.sub(dele,\"\",x))"
   ]
  },
  {
   "cell_type": "code",
   "execution_count": 57,
   "metadata": {},
   "outputs": [
    {
     "data": {
      "text/plain": [
       "0    4.1\n",
       "1    4.1\n",
       "2    3.8\n",
       "3    3.7\n",
       "4    3.8\n",
       "Name: rate, dtype: float64"
      ]
     },
     "execution_count": 57,
     "metadata": {},
     "output_type": "execute_result"
    }
   ],
   "source": [
    "df2 = df2.loc[df2.rate !='NEW']\n",
    "df2 = df2.loc[df2.rate !='-'].reset_index(drop=True)\n",
    "remove_slash = lambda x: x.replace('/5', '') if type(x) == np.str else x\n",
    "df2.rate = df2.rate.apply(remove_slash).str.strip().astype('float')\n",
    "df2['rate'].head()"
   ]
  },
  {
   "cell_type": "code",
   "execution_count": 58,
   "metadata": {},
   "outputs": [
    {
     "data": {
      "text/plain": [
       "44166"
      ]
     },
     "execution_count": 58,
     "metadata": {},
     "output_type": "execute_result"
    }
   ],
   "source": [
    "len(df2)"
   ]
  },
  {
   "cell_type": "code",
   "execution_count": 59,
   "metadata": {},
   "outputs": [
    {
     "name": "stdout",
     "output_type": "stream",
     "text": [
      "<class 'pandas.core.frame.DataFrame'>\n",
      "RangeIndex: 44166 entries, 0 to 44165\n",
      "Data columns (total 14 columns):\n",
      " #   Column        Non-Null Count  Dtype  \n",
      "---  ------        --------------  -----  \n",
      " 0   name          44166 non-null  object \n",
      " 1   online_order  44166 non-null  object \n",
      " 2   book_table    44166 non-null  object \n",
      " 3   rate          41665 non-null  float64\n",
      " 4   votes         44166 non-null  int64  \n",
      " 5   location      44166 non-null  object \n",
      " 6   rest_type     44008 non-null  object \n",
      " 7   dish_liked    44166 non-null  object \n",
      " 8   cuisines      44149 non-null  object \n",
      " 9   cost          43870 non-null  object \n",
      " 10  reviews_list  44166 non-null  object \n",
      " 11  menu_item     44166 non-null  object \n",
      " 12  type          44166 non-null  object \n",
      " 13  city          44166 non-null  object \n",
      "dtypes: float64(1), int64(1), object(12)\n",
      "memory usage: 4.7+ MB\n"
     ]
    }
   ],
   "source": [
    "df2.info()\n",
    "# rest_type has a tiny misings, dish_liked is I donnow, we can fill approx_cost with mean"
   ]
  },
  {
   "cell_type": "markdown",
   "metadata": {},
   "source": [
    "#### Approx_cost"
   ]
  },
  {
   "cell_type": "code",
   "execution_count": 60,
   "metadata": {},
   "outputs": [],
   "source": [
    "df3 = df2.copy()"
   ]
  },
  {
   "cell_type": "code",
   "execution_count": 61,
   "metadata": {},
   "outputs": [],
   "source": [
    "df3.dropna(inplace=True,subset='cost')"
   ]
  },
  {
   "cell_type": "code",
   "execution_count": 62,
   "metadata": {},
   "outputs": [
    {
     "data": {
      "text/html": [
       "<div>\n",
       "<style scoped>\n",
       "    .dataframe tbody tr th:only-of-type {\n",
       "        vertical-align: middle;\n",
       "    }\n",
       "\n",
       "    .dataframe tbody tr th {\n",
       "        vertical-align: top;\n",
       "    }\n",
       "\n",
       "    .dataframe thead th {\n",
       "        text-align: right;\n",
       "    }\n",
       "</style>\n",
       "<table border=\"1\" class=\"dataframe\">\n",
       "  <thead>\n",
       "    <tr style=\"text-align: right;\">\n",
       "      <th></th>\n",
       "      <th>name</th>\n",
       "      <th>online_order</th>\n",
       "      <th>book_table</th>\n",
       "      <th>rate</th>\n",
       "      <th>votes</th>\n",
       "      <th>location</th>\n",
       "      <th>rest_type</th>\n",
       "      <th>dish_liked</th>\n",
       "      <th>cuisines</th>\n",
       "      <th>cost</th>\n",
       "      <th>reviews_list</th>\n",
       "      <th>menu_item</th>\n",
       "      <th>type</th>\n",
       "      <th>city</th>\n",
       "    </tr>\n",
       "  </thead>\n",
       "  <tbody>\n",
       "    <tr>\n",
       "      <th>0</th>\n",
       "      <td>Jalsa</td>\n",
       "      <td>Yes</td>\n",
       "      <td>Yes</td>\n",
       "      <td>4.1</td>\n",
       "      <td>775</td>\n",
       "      <td>Banashankari</td>\n",
       "      <td>Casual Dining</td>\n",
       "      <td>pasta, lunch buffet, masala papad, paneer laja...</td>\n",
       "      <td>North Indian, Mughlai, Chinese</td>\n",
       "      <td>800</td>\n",
       "      <td>[('', 'a beautiful place to dine in.the interi...</td>\n",
       "      <td>[]</td>\n",
       "      <td>Buffet</td>\n",
       "      <td>Banashankari</td>\n",
       "    </tr>\n",
       "    <tr>\n",
       "      <th>1</th>\n",
       "      <td>Spice Elephant</td>\n",
       "      <td>Yes</td>\n",
       "      <td>No</td>\n",
       "      <td>4.1</td>\n",
       "      <td>787</td>\n",
       "      <td>Banashankari</td>\n",
       "      <td>Casual Dining</td>\n",
       "      <td>momos, lunch buffet, chocolate nirvana, thai g...</td>\n",
       "      <td>Chinese, North Indian, Thai</td>\n",
       "      <td>800</td>\n",
       "      <td>[('', 'had been here for dinner with family. t...</td>\n",
       "      <td>[]</td>\n",
       "      <td>Buffet</td>\n",
       "      <td>Banashankari</td>\n",
       "    </tr>\n",
       "    <tr>\n",
       "      <th>2</th>\n",
       "      <td>San Churro Cafe</td>\n",
       "      <td>Yes</td>\n",
       "      <td>No</td>\n",
       "      <td>3.8</td>\n",
       "      <td>918</td>\n",
       "      <td>Banashankari</td>\n",
       "      <td>Cafe, Casual Dining</td>\n",
       "      <td>churros, cannelloni, minestrone soup, hot choc...</td>\n",
       "      <td>Cafe, Mexican, Italian</td>\n",
       "      <td>800</td>\n",
       "      <td>[('', \"ambience is not that good enough and it...</td>\n",
       "      <td>[]</td>\n",
       "      <td>Buffet</td>\n",
       "      <td>Banashankari</td>\n",
       "    </tr>\n",
       "    <tr>\n",
       "      <th>3</th>\n",
       "      <td>Addhuri Udupi Bhojana</td>\n",
       "      <td>No</td>\n",
       "      <td>No</td>\n",
       "      <td>3.7</td>\n",
       "      <td>88</td>\n",
       "      <td>Banashankari</td>\n",
       "      <td>Quick Bites</td>\n",
       "      <td>masala dosa</td>\n",
       "      <td>South Indian, North Indian</td>\n",
       "      <td>300</td>\n",
       "      <td>[('', \"great food and proper karnataka style f...</td>\n",
       "      <td>[]</td>\n",
       "      <td>Buffet</td>\n",
       "      <td>Banashankari</td>\n",
       "    </tr>\n",
       "    <tr>\n",
       "      <th>4</th>\n",
       "      <td>Grand Village</td>\n",
       "      <td>No</td>\n",
       "      <td>No</td>\n",
       "      <td>3.8</td>\n",
       "      <td>166</td>\n",
       "      <td>Basavanagudi</td>\n",
       "      <td>Casual Dining</td>\n",
       "      <td>panipuri, gol gappe</td>\n",
       "      <td>North Indian, Rajasthani</td>\n",
       "      <td>600</td>\n",
       "      <td>[('', 'very good restaurant in neighbourhood. ...</td>\n",
       "      <td>[]</td>\n",
       "      <td>Buffet</td>\n",
       "      <td>Banashankari</td>\n",
       "    </tr>\n",
       "    <tr>\n",
       "      <th>...</th>\n",
       "      <td>...</td>\n",
       "      <td>...</td>\n",
       "      <td>...</td>\n",
       "      <td>...</td>\n",
       "      <td>...</td>\n",
       "      <td>...</td>\n",
       "      <td>...</td>\n",
       "      <td>...</td>\n",
       "      <td>...</td>\n",
       "      <td>...</td>\n",
       "      <td>...</td>\n",
       "      <td>...</td>\n",
       "      <td>...</td>\n",
       "      <td>...</td>\n",
       "    </tr>\n",
       "    <tr>\n",
       "      <th>43865</th>\n",
       "      <td>Topsy Turvey</td>\n",
       "      <td>No</td>\n",
       "      <td>No</td>\n",
       "      <td>NaN</td>\n",
       "      <td>0</td>\n",
       "      <td>Whitefield</td>\n",
       "      <td>Bar</td>\n",
       "      <td>vegetarian</td>\n",
       "      <td>Finger Food</td>\n",
       "      <td>900</td>\n",
       "      <td>[('', \"a divine joint for flavourful vegetaria...</td>\n",
       "      <td>[]</td>\n",
       "      <td>Pubs and bars</td>\n",
       "      <td>Whitefield</td>\n",
       "    </tr>\n",
       "    <tr>\n",
       "      <th>43866</th>\n",
       "      <td>Bhagini</td>\n",
       "      <td>No</td>\n",
       "      <td>No</td>\n",
       "      <td>2.5</td>\n",
       "      <td>81</td>\n",
       "      <td>Whitefield</td>\n",
       "      <td>Casual Dining, Bar</td>\n",
       "      <td>biryani, andhra meal</td>\n",
       "      <td>Andhra, South Indian, Chinese, North Indian</td>\n",
       "      <td>800</td>\n",
       "      <td>[('', 'a fine place to chill after office hour...</td>\n",
       "      <td>[]</td>\n",
       "      <td>Pubs and bars</td>\n",
       "      <td>Whitefield</td>\n",
       "    </tr>\n",
       "    <tr>\n",
       "      <th>43867</th>\n",
       "      <td>Best Brews - Four Points by Sheraton Bengaluru...</td>\n",
       "      <td>No</td>\n",
       "      <td>No</td>\n",
       "      <td>3.6</td>\n",
       "      <td>27</td>\n",
       "      <td>Whitefield</td>\n",
       "      <td>Bar</td>\n",
       "      <td>mocktails, chicken, cocktails</td>\n",
       "      <td>Continental</td>\n",
       "      <td>1,500</td>\n",
       "      <td>[('', \"food and service are incomparably excel...</td>\n",
       "      <td>[]</td>\n",
       "      <td>Pubs and bars</td>\n",
       "      <td>Whitefield</td>\n",
       "    </tr>\n",
       "    <tr>\n",
       "      <th>43868</th>\n",
       "      <td>Chime - Sheraton Grand Bengaluru Whitefield Ho...</td>\n",
       "      <td>No</td>\n",
       "      <td>Yes</td>\n",
       "      <td>4.3</td>\n",
       "      <td>236</td>\n",
       "      <td>ITPL Main Road, Whitefield</td>\n",
       "      <td>Bar</td>\n",
       "      <td>cocktails, pizza, buttermilk</td>\n",
       "      <td>Finger Food</td>\n",
       "      <td>2,500</td>\n",
       "      <td>[('', 'nice and friendly place and staff is aw...</td>\n",
       "      <td>[]</td>\n",
       "      <td>Pubs and bars</td>\n",
       "      <td>Whitefield</td>\n",
       "    </tr>\n",
       "    <tr>\n",
       "      <th>43869</th>\n",
       "      <td>The Nest - The Den Bengaluru</td>\n",
       "      <td>No</td>\n",
       "      <td>No</td>\n",
       "      <td>3.4</td>\n",
       "      <td>13</td>\n",
       "      <td>ITPL Main Road, Whitefield</td>\n",
       "      <td>Bar, Casual Dining</td>\n",
       "      <td>mocktails</td>\n",
       "      <td>Finger Food, North Indian, Continental</td>\n",
       "      <td>1,500</td>\n",
       "      <td>[('', 'great ambience , looking nice good sele...</td>\n",
       "      <td>[]</td>\n",
       "      <td>Pubs and bars</td>\n",
       "      <td>Whitefield</td>\n",
       "    </tr>\n",
       "  </tbody>\n",
       "</table>\n",
       "<p>43870 rows × 14 columns</p>\n",
       "</div>"
      ],
      "text/plain": [
       "                                                    name online_order  \\\n",
       "0                                                  Jalsa          Yes   \n",
       "1                                         Spice Elephant          Yes   \n",
       "2                                        San Churro Cafe          Yes   \n",
       "3                                  Addhuri Udupi Bhojana           No   \n",
       "4                                          Grand Village           No   \n",
       "...                                                  ...          ...   \n",
       "43865                                       Topsy Turvey           No   \n",
       "43866                                            Bhagini           No   \n",
       "43867  Best Brews - Four Points by Sheraton Bengaluru...           No   \n",
       "43868  Chime - Sheraton Grand Bengaluru Whitefield Ho...           No   \n",
       "43869                       The Nest - The Den Bengaluru           No   \n",
       "\n",
       "      book_table  rate  votes                    location  \\\n",
       "0            Yes   4.1    775                Banashankari   \n",
       "1             No   4.1    787                Banashankari   \n",
       "2             No   3.8    918                Banashankari   \n",
       "3             No   3.7     88                Banashankari   \n",
       "4             No   3.8    166                Basavanagudi   \n",
       "...          ...   ...    ...                         ...   \n",
       "43865         No   NaN      0                  Whitefield   \n",
       "43866         No   2.5     81                  Whitefield   \n",
       "43867         No   3.6     27                  Whitefield   \n",
       "43868        Yes   4.3    236  ITPL Main Road, Whitefield   \n",
       "43869         No   3.4     13  ITPL Main Road, Whitefield   \n",
       "\n",
       "                 rest_type                                         dish_liked  \\\n",
       "0            Casual Dining  pasta, lunch buffet, masala papad, paneer laja...   \n",
       "1            Casual Dining  momos, lunch buffet, chocolate nirvana, thai g...   \n",
       "2      Cafe, Casual Dining  churros, cannelloni, minestrone soup, hot choc...   \n",
       "3              Quick Bites                                        masala dosa   \n",
       "4            Casual Dining                                panipuri, gol gappe   \n",
       "...                    ...                                                ...   \n",
       "43865                  Bar                                         vegetarian   \n",
       "43866   Casual Dining, Bar                               biryani, andhra meal   \n",
       "43867                  Bar                      mocktails, chicken, cocktails   \n",
       "43868                  Bar                       cocktails, pizza, buttermilk   \n",
       "43869   Bar, Casual Dining                                          mocktails   \n",
       "\n",
       "                                          cuisines   cost  \\\n",
       "0                   North Indian, Mughlai, Chinese    800   \n",
       "1                      Chinese, North Indian, Thai    800   \n",
       "2                           Cafe, Mexican, Italian    800   \n",
       "3                       South Indian, North Indian    300   \n",
       "4                         North Indian, Rajasthani    600   \n",
       "...                                            ...    ...   \n",
       "43865                                  Finger Food    900   \n",
       "43866  Andhra, South Indian, Chinese, North Indian    800   \n",
       "43867                                  Continental  1,500   \n",
       "43868                                  Finger Food  2,500   \n",
       "43869       Finger Food, North Indian, Continental  1,500   \n",
       "\n",
       "                                            reviews_list menu_item  \\\n",
       "0      [('', 'a beautiful place to dine in.the interi...        []   \n",
       "1      [('', 'had been here for dinner with family. t...        []   \n",
       "2      [('', \"ambience is not that good enough and it...        []   \n",
       "3      [('', \"great food and proper karnataka style f...        []   \n",
       "4      [('', 'very good restaurant in neighbourhood. ...        []   \n",
       "...                                                  ...       ...   \n",
       "43865  [('', \"a divine joint for flavourful vegetaria...        []   \n",
       "43866  [('', 'a fine place to chill after office hour...        []   \n",
       "43867  [('', \"food and service are incomparably excel...        []   \n",
       "43868  [('', 'nice and friendly place and staff is aw...        []   \n",
       "43869  [('', 'great ambience , looking nice good sele...        []   \n",
       "\n",
       "                type          city  \n",
       "0             Buffet  Banashankari  \n",
       "1             Buffet  Banashankari  \n",
       "2             Buffet  Banashankari  \n",
       "3             Buffet  Banashankari  \n",
       "4             Buffet  Banashankari  \n",
       "...              ...           ...  \n",
       "43865  Pubs and bars    Whitefield  \n",
       "43866  Pubs and bars    Whitefield  \n",
       "43867  Pubs and bars    Whitefield  \n",
       "43868  Pubs and bars    Whitefield  \n",
       "43869  Pubs and bars    Whitefield  \n",
       "\n",
       "[43870 rows x 14 columns]"
      ]
     },
     "execution_count": 62,
     "metadata": {},
     "output_type": "execute_result"
    }
   ],
   "source": [
    "df3.reset_index(drop=True)"
   ]
  },
  {
   "cell_type": "code",
   "execution_count": 63,
   "metadata": {},
   "outputs": [],
   "source": [
    "df3['cost'] = df3['cost'].astype(str).apply(lambda x: x.replace(',', ''))"
   ]
  },
  {
   "cell_type": "code",
   "execution_count": 64,
   "metadata": {},
   "outputs": [],
   "source": [
    "df4=df3.copy()"
   ]
  },
  {
   "cell_type": "code",
   "execution_count": null,
   "metadata": {},
   "outputs": [],
   "source": [
    "# def convertto_int(df,columns):\n",
    "#     for col in columns:\n",
    "#         for i in range(len(df[col])):\n",
    "#             if pd.isnull(df[col][i]) == False:\n",
    "#                 df[col] = df[col].astype('int64')\n",
    "#             else:\n",
    "#                 pass\n",
    "\n",
    "# col = ['cost']\n",
    "# convertto_int(df4,col)"
   ]
  },
  {
   "cell_type": "code",
   "execution_count": 65,
   "metadata": {},
   "outputs": [
    {
     "data": {
      "text/plain": [
       "0         800\n",
       "1         800\n",
       "2         800\n",
       "3         300\n",
       "4         600\n",
       "         ... \n",
       "44161     900\n",
       "44162     800\n",
       "44163    1500\n",
       "44164    2500\n",
       "44165    1500\n",
       "Name: cost, Length: 43870, dtype: int64"
      ]
     },
     "execution_count": 65,
     "metadata": {},
     "output_type": "execute_result"
    }
   ],
   "source": [
    "pd.to_numeric(df4['cost'])"
   ]
  },
  {
   "cell_type": "code",
   "execution_count": null,
   "metadata": {},
   "outputs": [
    {
     "data": {
      "text/plain": [
       "numpy.float64"
      ]
     },
     "execution_count": 36,
     "metadata": {},
     "output_type": "execute_result"
    }
   ],
   "source": [
    "# type(df4['rate'][1])"
   ]
  },
  {
   "cell_type": "code",
   "execution_count": null,
   "metadata": {},
   "outputs": [
    {
     "data": {
      "text/plain": [
       "False    43870\n",
       "Name: cost, dtype: int64"
      ]
     },
     "execution_count": 37,
     "metadata": {},
     "output_type": "execute_result"
    }
   ],
   "source": [
    "# df4['cost'].isna().value_counts()"
   ]
  },
  {
   "cell_type": "code",
   "execution_count": null,
   "metadata": {},
   "outputs": [],
   "source": [
    "# df2['cost'].fillna(df2['cost'].mean())"
   ]
  },
  {
   "cell_type": "code",
   "execution_count": 66,
   "metadata": {},
   "outputs": [
    {
     "data": {
      "text/html": [
       "<div>\n",
       "<style scoped>\n",
       "    .dataframe tbody tr th:only-of-type {\n",
       "        vertical-align: middle;\n",
       "    }\n",
       "\n",
       "    .dataframe tbody tr th {\n",
       "        vertical-align: top;\n",
       "    }\n",
       "\n",
       "    .dataframe thead th {\n",
       "        text-align: right;\n",
       "    }\n",
       "</style>\n",
       "<table border=\"1\" class=\"dataframe\">\n",
       "  <thead>\n",
       "    <tr style=\"text-align: right;\">\n",
       "      <th></th>\n",
       "      <th>name</th>\n",
       "      <th>online_order</th>\n",
       "      <th>book_table</th>\n",
       "      <th>rate</th>\n",
       "      <th>votes</th>\n",
       "      <th>location</th>\n",
       "      <th>rest_type</th>\n",
       "      <th>dish_liked</th>\n",
       "      <th>cuisines</th>\n",
       "      <th>cost</th>\n",
       "      <th>reviews_list</th>\n",
       "      <th>menu_item</th>\n",
       "      <th>type</th>\n",
       "      <th>city</th>\n",
       "    </tr>\n",
       "  </thead>\n",
       "  <tbody>\n",
       "    <tr>\n",
       "      <th>0</th>\n",
       "      <td>Jalsa</td>\n",
       "      <td>Yes</td>\n",
       "      <td>Yes</td>\n",
       "      <td>4.1</td>\n",
       "      <td>775</td>\n",
       "      <td>Banashankari</td>\n",
       "      <td>Casual Dining</td>\n",
       "      <td>pasta, lunch buffet, masala papad, paneer laja...</td>\n",
       "      <td>North Indian, Mughlai, Chinese</td>\n",
       "      <td>800</td>\n",
       "      <td>[('', 'a beautiful place to dine in.the interi...</td>\n",
       "      <td>[]</td>\n",
       "      <td>Buffet</td>\n",
       "      <td>Banashankari</td>\n",
       "    </tr>\n",
       "    <tr>\n",
       "      <th>1</th>\n",
       "      <td>Spice Elephant</td>\n",
       "      <td>Yes</td>\n",
       "      <td>No</td>\n",
       "      <td>4.1</td>\n",
       "      <td>787</td>\n",
       "      <td>Banashankari</td>\n",
       "      <td>Casual Dining</td>\n",
       "      <td>momos, lunch buffet, chocolate nirvana, thai g...</td>\n",
       "      <td>Chinese, North Indian, Thai</td>\n",
       "      <td>800</td>\n",
       "      <td>[('', 'had been here for dinner with family. t...</td>\n",
       "      <td>[]</td>\n",
       "      <td>Buffet</td>\n",
       "      <td>Banashankari</td>\n",
       "    </tr>\n",
       "    <tr>\n",
       "      <th>2</th>\n",
       "      <td>San Churro Cafe</td>\n",
       "      <td>Yes</td>\n",
       "      <td>No</td>\n",
       "      <td>3.8</td>\n",
       "      <td>918</td>\n",
       "      <td>Banashankari</td>\n",
       "      <td>Cafe, Casual Dining</td>\n",
       "      <td>churros, cannelloni, minestrone soup, hot choc...</td>\n",
       "      <td>Cafe, Mexican, Italian</td>\n",
       "      <td>800</td>\n",
       "      <td>[('', \"ambience is not that good enough and it...</td>\n",
       "      <td>[]</td>\n",
       "      <td>Buffet</td>\n",
       "      <td>Banashankari</td>\n",
       "    </tr>\n",
       "    <tr>\n",
       "      <th>3</th>\n",
       "      <td>Addhuri Udupi Bhojana</td>\n",
       "      <td>No</td>\n",
       "      <td>No</td>\n",
       "      <td>3.7</td>\n",
       "      <td>88</td>\n",
       "      <td>Banashankari</td>\n",
       "      <td>Quick Bites</td>\n",
       "      <td>masala dosa</td>\n",
       "      <td>South Indian, North Indian</td>\n",
       "      <td>300</td>\n",
       "      <td>[('', \"great food and proper karnataka style f...</td>\n",
       "      <td>[]</td>\n",
       "      <td>Buffet</td>\n",
       "      <td>Banashankari</td>\n",
       "    </tr>\n",
       "    <tr>\n",
       "      <th>4</th>\n",
       "      <td>Grand Village</td>\n",
       "      <td>No</td>\n",
       "      <td>No</td>\n",
       "      <td>3.8</td>\n",
       "      <td>166</td>\n",
       "      <td>Basavanagudi</td>\n",
       "      <td>Casual Dining</td>\n",
       "      <td>panipuri, gol gappe</td>\n",
       "      <td>North Indian, Rajasthani</td>\n",
       "      <td>600</td>\n",
       "      <td>[('', 'very good restaurant in neighbourhood. ...</td>\n",
       "      <td>[]</td>\n",
       "      <td>Buffet</td>\n",
       "      <td>Banashankari</td>\n",
       "    </tr>\n",
       "    <tr>\n",
       "      <th>...</th>\n",
       "      <td>...</td>\n",
       "      <td>...</td>\n",
       "      <td>...</td>\n",
       "      <td>...</td>\n",
       "      <td>...</td>\n",
       "      <td>...</td>\n",
       "      <td>...</td>\n",
       "      <td>...</td>\n",
       "      <td>...</td>\n",
       "      <td>...</td>\n",
       "      <td>...</td>\n",
       "      <td>...</td>\n",
       "      <td>...</td>\n",
       "      <td>...</td>\n",
       "    </tr>\n",
       "    <tr>\n",
       "      <th>41258</th>\n",
       "      <td>The Farm House Bar n Grill</td>\n",
       "      <td>No</td>\n",
       "      <td>No</td>\n",
       "      <td>3.7</td>\n",
       "      <td>34</td>\n",
       "      <td>Whitefield</td>\n",
       "      <td>Casual Dining, Bar</td>\n",
       "      <td>rice, fish</td>\n",
       "      <td>North Indian, Continental</td>\n",
       "      <td>800</td>\n",
       "      <td>[('', 'ambience- big and spacious lawn was use...</td>\n",
       "      <td>[]</td>\n",
       "      <td>Pubs and bars</td>\n",
       "      <td>Whitefield</td>\n",
       "    </tr>\n",
       "    <tr>\n",
       "      <th>41259</th>\n",
       "      <td>Bhagini</td>\n",
       "      <td>No</td>\n",
       "      <td>No</td>\n",
       "      <td>2.5</td>\n",
       "      <td>81</td>\n",
       "      <td>Whitefield</td>\n",
       "      <td>Casual Dining, Bar</td>\n",
       "      <td>biryani, andhra meal</td>\n",
       "      <td>Andhra, South Indian, Chinese, North Indian</td>\n",
       "      <td>800</td>\n",
       "      <td>[('', 'a fine place to chill after office hour...</td>\n",
       "      <td>[]</td>\n",
       "      <td>Pubs and bars</td>\n",
       "      <td>Whitefield</td>\n",
       "    </tr>\n",
       "    <tr>\n",
       "      <th>41260</th>\n",
       "      <td>Best Brews - Four Points by Sheraton Bengaluru...</td>\n",
       "      <td>No</td>\n",
       "      <td>No</td>\n",
       "      <td>3.6</td>\n",
       "      <td>27</td>\n",
       "      <td>Whitefield</td>\n",
       "      <td>Bar</td>\n",
       "      <td>mocktails, chicken, cocktails</td>\n",
       "      <td>Continental</td>\n",
       "      <td>1500</td>\n",
       "      <td>[('', \"food and service are incomparably excel...</td>\n",
       "      <td>[]</td>\n",
       "      <td>Pubs and bars</td>\n",
       "      <td>Whitefield</td>\n",
       "    </tr>\n",
       "    <tr>\n",
       "      <th>41261</th>\n",
       "      <td>Chime - Sheraton Grand Bengaluru Whitefield Ho...</td>\n",
       "      <td>No</td>\n",
       "      <td>Yes</td>\n",
       "      <td>4.3</td>\n",
       "      <td>236</td>\n",
       "      <td>ITPL Main Road, Whitefield</td>\n",
       "      <td>Bar</td>\n",
       "      <td>cocktails, pizza, buttermilk</td>\n",
       "      <td>Finger Food</td>\n",
       "      <td>2500</td>\n",
       "      <td>[('', 'nice and friendly place and staff is aw...</td>\n",
       "      <td>[]</td>\n",
       "      <td>Pubs and bars</td>\n",
       "      <td>Whitefield</td>\n",
       "    </tr>\n",
       "    <tr>\n",
       "      <th>41262</th>\n",
       "      <td>The Nest - The Den Bengaluru</td>\n",
       "      <td>No</td>\n",
       "      <td>No</td>\n",
       "      <td>3.4</td>\n",
       "      <td>13</td>\n",
       "      <td>ITPL Main Road, Whitefield</td>\n",
       "      <td>Bar, Casual Dining</td>\n",
       "      <td>mocktails</td>\n",
       "      <td>Finger Food, North Indian, Continental</td>\n",
       "      <td>1500</td>\n",
       "      <td>[('', 'great ambience , looking nice good sele...</td>\n",
       "      <td>[]</td>\n",
       "      <td>Pubs and bars</td>\n",
       "      <td>Whitefield</td>\n",
       "    </tr>\n",
       "  </tbody>\n",
       "</table>\n",
       "<p>41263 rows × 14 columns</p>\n",
       "</div>"
      ],
      "text/plain": [
       "                                                    name online_order  \\\n",
       "0                                                  Jalsa          Yes   \n",
       "1                                         Spice Elephant          Yes   \n",
       "2                                        San Churro Cafe          Yes   \n",
       "3                                  Addhuri Udupi Bhojana           No   \n",
       "4                                          Grand Village           No   \n",
       "...                                                  ...          ...   \n",
       "41258                         The Farm House Bar n Grill           No   \n",
       "41259                                            Bhagini           No   \n",
       "41260  Best Brews - Four Points by Sheraton Bengaluru...           No   \n",
       "41261  Chime - Sheraton Grand Bengaluru Whitefield Ho...           No   \n",
       "41262                       The Nest - The Den Bengaluru           No   \n",
       "\n",
       "      book_table  rate  votes                    location  \\\n",
       "0            Yes   4.1    775                Banashankari   \n",
       "1             No   4.1    787                Banashankari   \n",
       "2             No   3.8    918                Banashankari   \n",
       "3             No   3.7     88                Banashankari   \n",
       "4             No   3.8    166                Basavanagudi   \n",
       "...          ...   ...    ...                         ...   \n",
       "41258         No   3.7     34                  Whitefield   \n",
       "41259         No   2.5     81                  Whitefield   \n",
       "41260         No   3.6     27                  Whitefield   \n",
       "41261        Yes   4.3    236  ITPL Main Road, Whitefield   \n",
       "41262         No   3.4     13  ITPL Main Road, Whitefield   \n",
       "\n",
       "                 rest_type                                         dish_liked  \\\n",
       "0            Casual Dining  pasta, lunch buffet, masala papad, paneer laja...   \n",
       "1            Casual Dining  momos, lunch buffet, chocolate nirvana, thai g...   \n",
       "2      Cafe, Casual Dining  churros, cannelloni, minestrone soup, hot choc...   \n",
       "3              Quick Bites                                        masala dosa   \n",
       "4            Casual Dining                                panipuri, gol gappe   \n",
       "...                    ...                                                ...   \n",
       "41258   Casual Dining, Bar                                         rice, fish   \n",
       "41259   Casual Dining, Bar                               biryani, andhra meal   \n",
       "41260                  Bar                      mocktails, chicken, cocktails   \n",
       "41261                  Bar                       cocktails, pizza, buttermilk   \n",
       "41262   Bar, Casual Dining                                          mocktails   \n",
       "\n",
       "                                          cuisines  cost  \\\n",
       "0                   North Indian, Mughlai, Chinese   800   \n",
       "1                      Chinese, North Indian, Thai   800   \n",
       "2                           Cafe, Mexican, Italian   800   \n",
       "3                       South Indian, North Indian   300   \n",
       "4                         North Indian, Rajasthani   600   \n",
       "...                                            ...   ...   \n",
       "41258                    North Indian, Continental   800   \n",
       "41259  Andhra, South Indian, Chinese, North Indian   800   \n",
       "41260                                  Continental  1500   \n",
       "41261                                  Finger Food  2500   \n",
       "41262       Finger Food, North Indian, Continental  1500   \n",
       "\n",
       "                                            reviews_list menu_item  \\\n",
       "0      [('', 'a beautiful place to dine in.the interi...        []   \n",
       "1      [('', 'had been here for dinner with family. t...        []   \n",
       "2      [('', \"ambience is not that good enough and it...        []   \n",
       "3      [('', \"great food and proper karnataka style f...        []   \n",
       "4      [('', 'very good restaurant in neighbourhood. ...        []   \n",
       "...                                                  ...       ...   \n",
       "41258  [('', 'ambience- big and spacious lawn was use...        []   \n",
       "41259  [('', 'a fine place to chill after office hour...        []   \n",
       "41260  [('', \"food and service are incomparably excel...        []   \n",
       "41261  [('', 'nice and friendly place and staff is aw...        []   \n",
       "41262  [('', 'great ambience , looking nice good sele...        []   \n",
       "\n",
       "                type          city  \n",
       "0             Buffet  Banashankari  \n",
       "1             Buffet  Banashankari  \n",
       "2             Buffet  Banashankari  \n",
       "3             Buffet  Banashankari  \n",
       "4             Buffet  Banashankari  \n",
       "...              ...           ...  \n",
       "41258  Pubs and bars    Whitefield  \n",
       "41259  Pubs and bars    Whitefield  \n",
       "41260  Pubs and bars    Whitefield  \n",
       "41261  Pubs and bars    Whitefield  \n",
       "41262  Pubs and bars    Whitefield  \n",
       "\n",
       "[41263 rows x 14 columns]"
      ]
     },
     "execution_count": 66,
     "metadata": {},
     "output_type": "execute_result"
    }
   ],
   "source": [
    "df4.dropna(inplace=True)\n",
    "df4.reset_index(drop=True)"
   ]
  },
  {
   "cell_type": "code",
   "execution_count": 67,
   "metadata": {},
   "outputs": [
    {
     "data": {
      "text/plain": [
       "0    [('', 'a beautiful place to dine in.the interi...\n",
       "Name: reviews_list, dtype: object"
      ]
     },
     "execution_count": 67,
     "metadata": {},
     "output_type": "execute_result"
    }
   ],
   "source": [
    "df4.reviews_list[:1]"
   ]
  },
  {
   "cell_type": "markdown",
   "metadata": {},
   "source": [
    "#### edited data saved as new xlsx and csv"
   ]
  },
  {
   "cell_type": "code",
   "execution_count": 68,
   "metadata": {},
   "outputs": [
    {
     "ename": "PermissionError",
     "evalue": "[Errno 13] Permission denied: './dbs/editedzomato.csv'",
     "output_type": "error",
     "traceback": [
      "\u001b[1;31m---------------------------------------------------------------------------\u001b[0m",
      "\u001b[1;31mPermissionError\u001b[0m                           Traceback (most recent call last)",
      "Cell \u001b[1;32mIn [68], line 2\u001b[0m\n\u001b[0;32m      1\u001b[0m df4\u001b[38;5;241m.\u001b[39mto_excel(\u001b[38;5;124m'\u001b[39m\u001b[38;5;124m./dbs/editedzomatos.xlsx\u001b[39m\u001b[38;5;124m'\u001b[39m)\n\u001b[1;32m----> 2\u001b[0m df4\u001b[38;5;241m.\u001b[39mto_csv(\u001b[38;5;124m'\u001b[39m\u001b[38;5;124m./dbs/editedzomato.csv\u001b[39m\u001b[38;5;124m'\u001b[39m)\n",
      "File \u001b[1;32mc:\\Users\\emreb\\Documents\\projects\\datavisu\\datavisuenv\\lib\\site-packages\\pandas\\util\\_decorators.py:211\u001b[0m, in \u001b[0;36mdeprecate_kwarg.<locals>._deprecate_kwarg.<locals>.wrapper\u001b[1;34m(*args, **kwargs)\u001b[0m\n\u001b[0;32m    209\u001b[0m     \u001b[39melse\u001b[39;00m:\n\u001b[0;32m    210\u001b[0m         kwargs[new_arg_name] \u001b[39m=\u001b[39m new_arg_value\n\u001b[1;32m--> 211\u001b[0m \u001b[39mreturn\u001b[39;00m func(\u001b[39m*\u001b[39;49margs, \u001b[39m*\u001b[39;49m\u001b[39m*\u001b[39;49mkwargs)\n",
      "File \u001b[1;32mc:\\Users\\emreb\\Documents\\projects\\datavisu\\datavisuenv\\lib\\site-packages\\pandas\\core\\generic.py:3721\u001b[0m, in \u001b[0;36mNDFrame.to_csv\u001b[1;34m(self, path_or_buf, sep, na_rep, float_format, columns, header, index, index_label, mode, encoding, compression, quoting, quotechar, lineterminator, chunksize, date_format, doublequote, escapechar, decimal, errors, storage_options)\u001b[0m\n\u001b[0;32m   3710\u001b[0m df \u001b[39m=\u001b[39m \u001b[39mself\u001b[39m \u001b[39mif\u001b[39;00m \u001b[39misinstance\u001b[39m(\u001b[39mself\u001b[39m, ABCDataFrame) \u001b[39melse\u001b[39;00m \u001b[39mself\u001b[39m\u001b[39m.\u001b[39mto_frame()\n\u001b[0;32m   3712\u001b[0m formatter \u001b[39m=\u001b[39m DataFrameFormatter(\n\u001b[0;32m   3713\u001b[0m     frame\u001b[39m=\u001b[39mdf,\n\u001b[0;32m   3714\u001b[0m     header\u001b[39m=\u001b[39mheader,\n\u001b[1;32m   (...)\u001b[0m\n\u001b[0;32m   3718\u001b[0m     decimal\u001b[39m=\u001b[39mdecimal,\n\u001b[0;32m   3719\u001b[0m )\n\u001b[1;32m-> 3721\u001b[0m \u001b[39mreturn\u001b[39;00m DataFrameRenderer(formatter)\u001b[39m.\u001b[39;49mto_csv(\n\u001b[0;32m   3722\u001b[0m     path_or_buf,\n\u001b[0;32m   3723\u001b[0m     lineterminator\u001b[39m=\u001b[39;49mlineterminator,\n\u001b[0;32m   3724\u001b[0m     sep\u001b[39m=\u001b[39;49msep,\n\u001b[0;32m   3725\u001b[0m     encoding\u001b[39m=\u001b[39;49mencoding,\n\u001b[0;32m   3726\u001b[0m     errors\u001b[39m=\u001b[39;49merrors,\n\u001b[0;32m   3727\u001b[0m     compression\u001b[39m=\u001b[39;49mcompression,\n\u001b[0;32m   3728\u001b[0m     quoting\u001b[39m=\u001b[39;49mquoting,\n\u001b[0;32m   3729\u001b[0m     columns\u001b[39m=\u001b[39;49mcolumns,\n\u001b[0;32m   3730\u001b[0m     index_label\u001b[39m=\u001b[39;49mindex_label,\n\u001b[0;32m   3731\u001b[0m     mode\u001b[39m=\u001b[39;49mmode,\n\u001b[0;32m   3732\u001b[0m     chunksize\u001b[39m=\u001b[39;49mchunksize,\n\u001b[0;32m   3733\u001b[0m     quotechar\u001b[39m=\u001b[39;49mquotechar,\n\u001b[0;32m   3734\u001b[0m     date_format\u001b[39m=\u001b[39;49mdate_format,\n\u001b[0;32m   3735\u001b[0m     doublequote\u001b[39m=\u001b[39;49mdoublequote,\n\u001b[0;32m   3736\u001b[0m     escapechar\u001b[39m=\u001b[39;49mescapechar,\n\u001b[0;32m   3737\u001b[0m     storage_options\u001b[39m=\u001b[39;49mstorage_options,\n\u001b[0;32m   3738\u001b[0m )\n",
      "File \u001b[1;32mc:\\Users\\emreb\\Documents\\projects\\datavisu\\datavisuenv\\lib\\site-packages\\pandas\\util\\_decorators.py:211\u001b[0m, in \u001b[0;36mdeprecate_kwarg.<locals>._deprecate_kwarg.<locals>.wrapper\u001b[1;34m(*args, **kwargs)\u001b[0m\n\u001b[0;32m    209\u001b[0m     \u001b[39melse\u001b[39;00m:\n\u001b[0;32m    210\u001b[0m         kwargs[new_arg_name] \u001b[39m=\u001b[39m new_arg_value\n\u001b[1;32m--> 211\u001b[0m \u001b[39mreturn\u001b[39;00m func(\u001b[39m*\u001b[39;49margs, \u001b[39m*\u001b[39;49m\u001b[39m*\u001b[39;49mkwargs)\n",
      "File \u001b[1;32mc:\\Users\\emreb\\Documents\\projects\\datavisu\\datavisuenv\\lib\\site-packages\\pandas\\io\\formats\\format.py:1189\u001b[0m, in \u001b[0;36mDataFrameRenderer.to_csv\u001b[1;34m(self, path_or_buf, encoding, sep, columns, index_label, mode, compression, quoting, quotechar, lineterminator, chunksize, date_format, doublequote, escapechar, errors, storage_options)\u001b[0m\n\u001b[0;32m   1168\u001b[0m     created_buffer \u001b[39m=\u001b[39m \u001b[39mFalse\u001b[39;00m\n\u001b[0;32m   1170\u001b[0m csv_formatter \u001b[39m=\u001b[39m CSVFormatter(\n\u001b[0;32m   1171\u001b[0m     path_or_buf\u001b[39m=\u001b[39mpath_or_buf,\n\u001b[0;32m   1172\u001b[0m     lineterminator\u001b[39m=\u001b[39mlineterminator,\n\u001b[1;32m   (...)\u001b[0m\n\u001b[0;32m   1187\u001b[0m     formatter\u001b[39m=\u001b[39m\u001b[39mself\u001b[39m\u001b[39m.\u001b[39mfmt,\n\u001b[0;32m   1188\u001b[0m )\n\u001b[1;32m-> 1189\u001b[0m csv_formatter\u001b[39m.\u001b[39;49msave()\n\u001b[0;32m   1191\u001b[0m \u001b[39mif\u001b[39;00m created_buffer:\n\u001b[0;32m   1192\u001b[0m     \u001b[39massert\u001b[39;00m \u001b[39misinstance\u001b[39m(path_or_buf, StringIO)\n",
      "File \u001b[1;32mc:\\Users\\emreb\\Documents\\projects\\datavisu\\datavisuenv\\lib\\site-packages\\pandas\\io\\formats\\csvs.py:241\u001b[0m, in \u001b[0;36mCSVFormatter.save\u001b[1;34m(self)\u001b[0m\n\u001b[0;32m    237\u001b[0m \u001b[39m\"\"\"\u001b[39;00m\n\u001b[0;32m    238\u001b[0m \u001b[39mCreate the writer & save.\u001b[39;00m\n\u001b[0;32m    239\u001b[0m \u001b[39m\"\"\"\u001b[39;00m\n\u001b[0;32m    240\u001b[0m \u001b[39m# apply compression and byte/text conversion\u001b[39;00m\n\u001b[1;32m--> 241\u001b[0m \u001b[39mwith\u001b[39;00m get_handle(\n\u001b[0;32m    242\u001b[0m     \u001b[39mself\u001b[39;49m\u001b[39m.\u001b[39;49mfilepath_or_buffer,\n\u001b[0;32m    243\u001b[0m     \u001b[39mself\u001b[39;49m\u001b[39m.\u001b[39;49mmode,\n\u001b[0;32m    244\u001b[0m     encoding\u001b[39m=\u001b[39;49m\u001b[39mself\u001b[39;49m\u001b[39m.\u001b[39;49mencoding,\n\u001b[0;32m    245\u001b[0m     errors\u001b[39m=\u001b[39;49m\u001b[39mself\u001b[39;49m\u001b[39m.\u001b[39;49merrors,\n\u001b[0;32m    246\u001b[0m     compression\u001b[39m=\u001b[39;49m\u001b[39mself\u001b[39;49m\u001b[39m.\u001b[39;49mcompression,\n\u001b[0;32m    247\u001b[0m     storage_options\u001b[39m=\u001b[39;49m\u001b[39mself\u001b[39;49m\u001b[39m.\u001b[39;49mstorage_options,\n\u001b[0;32m    248\u001b[0m ) \u001b[39mas\u001b[39;00m handles:\n\u001b[0;32m    249\u001b[0m \n\u001b[0;32m    250\u001b[0m     \u001b[39m# Note: self.encoding is irrelevant here\u001b[39;00m\n\u001b[0;32m    251\u001b[0m     \u001b[39mself\u001b[39m\u001b[39m.\u001b[39mwriter \u001b[39m=\u001b[39m csvlib\u001b[39m.\u001b[39mwriter(\n\u001b[0;32m    252\u001b[0m         handles\u001b[39m.\u001b[39mhandle,\n\u001b[0;32m    253\u001b[0m         lineterminator\u001b[39m=\u001b[39m\u001b[39mself\u001b[39m\u001b[39m.\u001b[39mlineterminator,\n\u001b[1;32m   (...)\u001b[0m\n\u001b[0;32m    258\u001b[0m         quotechar\u001b[39m=\u001b[39m\u001b[39mself\u001b[39m\u001b[39m.\u001b[39mquotechar,\n\u001b[0;32m    259\u001b[0m     )\n\u001b[0;32m    261\u001b[0m     \u001b[39mself\u001b[39m\u001b[39m.\u001b[39m_save()\n",
      "File \u001b[1;32mc:\\Users\\emreb\\Documents\\projects\\datavisu\\datavisuenv\\lib\\site-packages\\pandas\\io\\common.py:857\u001b[0m, in \u001b[0;36mget_handle\u001b[1;34m(path_or_buf, mode, encoding, compression, memory_map, is_text, errors, storage_options)\u001b[0m\n\u001b[0;32m    852\u001b[0m \u001b[39melif\u001b[39;00m \u001b[39misinstance\u001b[39m(handle, \u001b[39mstr\u001b[39m):\n\u001b[0;32m    853\u001b[0m     \u001b[39m# Check whether the filename is to be opened in binary mode.\u001b[39;00m\n\u001b[0;32m    854\u001b[0m     \u001b[39m# Binary mode does not support 'encoding' and 'newline'.\u001b[39;00m\n\u001b[0;32m    855\u001b[0m     \u001b[39mif\u001b[39;00m ioargs\u001b[39m.\u001b[39mencoding \u001b[39mand\u001b[39;00m \u001b[39m\"\u001b[39m\u001b[39mb\u001b[39m\u001b[39m\"\u001b[39m \u001b[39mnot\u001b[39;00m \u001b[39min\u001b[39;00m ioargs\u001b[39m.\u001b[39mmode:\n\u001b[0;32m    856\u001b[0m         \u001b[39m# Encoding\u001b[39;00m\n\u001b[1;32m--> 857\u001b[0m         handle \u001b[39m=\u001b[39m \u001b[39mopen\u001b[39;49m(\n\u001b[0;32m    858\u001b[0m             handle,\n\u001b[0;32m    859\u001b[0m             ioargs\u001b[39m.\u001b[39;49mmode,\n\u001b[0;32m    860\u001b[0m             encoding\u001b[39m=\u001b[39;49mioargs\u001b[39m.\u001b[39;49mencoding,\n\u001b[0;32m    861\u001b[0m             errors\u001b[39m=\u001b[39;49merrors,\n\u001b[0;32m    862\u001b[0m             newline\u001b[39m=\u001b[39;49m\u001b[39m\"\u001b[39;49m\u001b[39m\"\u001b[39;49m,\n\u001b[0;32m    863\u001b[0m         )\n\u001b[0;32m    864\u001b[0m     \u001b[39melse\u001b[39;00m:\n\u001b[0;32m    865\u001b[0m         \u001b[39m# Binary mode\u001b[39;00m\n\u001b[0;32m    866\u001b[0m         handle \u001b[39m=\u001b[39m \u001b[39mopen\u001b[39m(handle, ioargs\u001b[39m.\u001b[39mmode)\n",
      "\u001b[1;31mPermissionError\u001b[0m: [Errno 13] Permission denied: './dbs/editedzomato.csv'"
     ]
    }
   ],
   "source": [
    "df4.to_excel('./dbs/editedzomatos.xlsx')\n",
    "df4.to_csv('./dbs/editedzomato.csv')"
   ]
  },
  {
   "cell_type": "code",
   "execution_count": null,
   "metadata": {},
   "outputs": [],
   "source": [
    "# df4 = pd.read_excel('./dbs/editedzomatos.xlsx')\n",
    "df4 = pd.read_csv('./dbs/editedzomato.csv')"
   ]
  },
  {
   "cell_type": "markdown",
   "metadata": {},
   "source": [
    "### Maps and Charts"
   ]
  },
  {
   "cell_type": "code",
   "execution_count": 305,
   "metadata": {},
   "outputs": [
    {
     "data": {
      "text/plain": [
       "Text(0, 0.5, 'counts')"
      ]
     },
     "execution_count": 305,
     "metadata": {},
     "output_type": "execute_result"
    },
    {
     "data": {
      "image/png": "[encoded data removed]",
      "text/plain": [
       "<Figure size 800x300 with 1 Axes>"
      ]
     },
     "metadata": {},
     "output_type": "display_data"
    }
   ],
   "source": [
    "plt.figure(figsize=(8,3))\n",
    "ax =df4.rest_type.value_counts()[:10].plot(kind='bar')\n",
    "plt.title('Number of Restaurants in given location', weight='bold')\n",
    "plt.xlabel('Area')\n",
    "plt.ylabel('counts')"
   ]
  },
  {
   "cell_type": "code",
   "execution_count": null,
   "metadata": {},
   "outputs": [
    {
     "data": {
      "image/png": "[encoded data removed]",
      "text/plain": [
       "<Figure size 800x800 with 1 Axes>"
      ]
     },
     "metadata": {},
     "output_type": "display_data"
    }
   ],
   "source": [
    "plt.figure(figsize=(8,8))\n",
    "values = df4.cost.value_counts().iloc[:10]\n",
    "labels = df4['cost'].value_counts().iloc[:10].index\n",
    "plt.pie(values, labels=labels, autopct='%.2f')\n",
    "plt.title('Average cost for two person(in %) ', weight='bold')\n",
    "plt.show()"
   ]
  },
  {
   "cell_type": "code",
   "execution_count": 306,
   "metadata": {},
   "outputs": [],
   "source": [
    "geolocator=Nominatim(user_agent=\"app\")"
   ]
  },
  {
   "cell_type": "code",
   "execution_count": 307,
   "metadata": {},
   "outputs": [],
   "source": [
    "locations=pd.DataFrame({\"Name\":df4['location'].unique()})"
   ]
  },
  {
   "cell_type": "code",
   "execution_count": 308,
   "metadata": {},
   "outputs": [
    {
     "data": {
      "text/plain": [
       "92"
      ]
     },
     "execution_count": 308,
     "metadata": {},
     "output_type": "execute_result"
    }
   ],
   "source": [
    "len(locations)"
   ]
  },
  {
   "cell_type": "code",
   "execution_count": 309,
   "metadata": {},
   "outputs": [],
   "source": [
    "def lonlang(df,columname):\n",
    "    lat=[]\n",
    "    lon=[]\n",
    "    for location in df[columname]:\n",
    "        location = geolocator.geocode(location)    \n",
    "        if location is None:\n",
    "            lat.append(np.nan)\n",
    "            lon.append(np.nan)\n",
    "        else:\n",
    "            lat.append(location.latitude)\n",
    "            lon.append(location.longitude)\n",
    "    df['lon'] = lon\n",
    "    df['lat'] = lat\n",
    "    "
   ]
  },
  {
   "cell_type": "code",
   "execution_count": 310,
   "metadata": {},
   "outputs": [],
   "source": [
    "lonlang(locations,'Name')"
   ]
  },
  {
   "cell_type": "code",
   "execution_count": 311,
   "metadata": {},
   "outputs": [
    {
     "data": {
      "text/html": [
       "<div>\n",
       "<style scoped>\n",
       "    .dataframe tbody tr th:only-of-type {\n",
       "        vertical-align: middle;\n",
       "    }\n",
       "\n",
       "    .dataframe tbody tr th {\n",
       "        vertical-align: top;\n",
       "    }\n",
       "\n",
       "    .dataframe thead th {\n",
       "        text-align: right;\n",
       "    }\n",
       "</style>\n",
       "<table border=\"1\" class=\"dataframe\">\n",
       "  <thead>\n",
       "    <tr style=\"text-align: right;\">\n",
       "      <th></th>\n",
       "      <th>Name</th>\n",
       "      <th>lon</th>\n",
       "      <th>lat</th>\n",
       "    </tr>\n",
       "  </thead>\n",
       "  <tbody>\n",
       "    <tr>\n",
       "      <th>0</th>\n",
       "      <td>Banashankari</td>\n",
       "      <td>75.704678</td>\n",
       "      <td>15.887678</td>\n",
       "    </tr>\n",
       "    <tr>\n",
       "      <th>1</th>\n",
       "      <td>Basavanagudi</td>\n",
       "      <td>77.575502</td>\n",
       "      <td>12.941726</td>\n",
       "    </tr>\n",
       "    <tr>\n",
       "      <th>2</th>\n",
       "      <td>Mysore Road</td>\n",
       "      <td>77.530070</td>\n",
       "      <td>12.946703</td>\n",
       "    </tr>\n",
       "    <tr>\n",
       "      <th>3</th>\n",
       "      <td>Jayanagar</td>\n",
       "      <td>83.052805</td>\n",
       "      <td>27.643927</td>\n",
       "    </tr>\n",
       "    <tr>\n",
       "      <th>4</th>\n",
       "      <td>Kumaraswamy Layout</td>\n",
       "      <td>77.555318</td>\n",
       "      <td>12.908149</td>\n",
       "    </tr>\n",
       "    <tr>\n",
       "      <th>...</th>\n",
       "      <td>...</td>\n",
       "      <td>...</td>\n",
       "      <td>...</td>\n",
       "    </tr>\n",
       "    <tr>\n",
       "      <th>87</th>\n",
       "      <td>Jalahalli</td>\n",
       "      <td>77.430522</td>\n",
       "      <td>13.651058</td>\n",
       "    </tr>\n",
       "    <tr>\n",
       "      <th>88</th>\n",
       "      <td>Hebbal</td>\n",
       "      <td>77.591900</td>\n",
       "      <td>13.038218</td>\n",
       "    </tr>\n",
       "    <tr>\n",
       "      <th>89</th>\n",
       "      <td>Nagarbhavi</td>\n",
       "      <td>77.511267</td>\n",
       "      <td>12.959618</td>\n",
       "    </tr>\n",
       "    <tr>\n",
       "      <th>90</th>\n",
       "      <td>Peenya</td>\n",
       "      <td>77.527325</td>\n",
       "      <td>13.032942</td>\n",
       "    </tr>\n",
       "    <tr>\n",
       "      <th>91</th>\n",
       "      <td>KR Puram</td>\n",
       "      <td>77.695935</td>\n",
       "      <td>13.007516</td>\n",
       "    </tr>\n",
       "  </tbody>\n",
       "</table>\n",
       "<p>92 rows × 3 columns</p>\n",
       "</div>"
      ],
      "text/plain": [
       "                  Name        lon        lat\n",
       "0         Banashankari  75.704678  15.887678\n",
       "1         Basavanagudi  77.575502  12.941726\n",
       "2          Mysore Road  77.530070  12.946703\n",
       "3            Jayanagar  83.052805  27.643927\n",
       "4   Kumaraswamy Layout  77.555318  12.908149\n",
       "..                 ...        ...        ...\n",
       "87           Jalahalli  77.430522  13.651058\n",
       "88              Hebbal  77.591900  13.038218\n",
       "89          Nagarbhavi  77.511267  12.959618\n",
       "90              Peenya  77.527325  13.032942\n",
       "91            KR Puram  77.695935  13.007516\n",
       "\n",
       "[92 rows x 3 columns]"
      ]
     },
     "execution_count": 311,
     "metadata": {},
     "output_type": "execute_result"
    }
   ],
   "source": [
    "locations"
   ]
  },
  {
   "cell_type": "markdown",
   "metadata": {},
   "source": [
    "#### Brand Loc"
   ]
  },
  {
   "cell_type": "code",
   "execution_count": 313,
   "metadata": {},
   "outputs": [
    {
     "data": {
      "text/plain": [
       "array(['Buffet', 'Cafes', 'Delivery', 'Desserts', 'Dine-out',\n",
       "       'Drinks & nightlife', 'Pubs and bars'], dtype=object)"
      ]
     },
     "execution_count": 313,
     "metadata": {},
     "output_type": "execute_result"
    }
   ],
   "source": [
    "df4.type.unique()"
   ]
  },
  {
   "cell_type": "code",
   "execution_count": 314,
   "metadata": {},
   "outputs": [],
   "source": [
    "a= {'name':[],\"loca\":[],\"count\":[]}\n",
    "for b,c in  (df4.groupby(['location'])['name'].value_counts()).items():\n",
    "    a['name'].append(b[0])\n",
    "    a['loca'].append(b[1])\n",
    "    a['count'].append(c)"
   ]
  },
  {
   "cell_type": "code",
   "execution_count": 315,
   "metadata": {},
   "outputs": [
    {
     "data": {
      "text/plain": [
       "rest_type           location             \n",
       "Bakery              BTM                      44\n",
       "                    Sarjapur Road            42\n",
       "                    Ulsoor                   34\n",
       "                    JP Nagar                 31\n",
       "                    Koramangala 1st Block    29\n",
       "                                             ..\n",
       "Takeaway, Delivery  Sahakara Nagar            3\n",
       "                    Sanjay Nagar              3\n",
       "                    Wilson Garden             3\n",
       "                    CV Raman Nagar            2\n",
       "                    West Bangalore            1\n",
       "Name: location, Length: 1288, dtype: int64"
      ]
     },
     "execution_count": 315,
     "metadata": {},
     "output_type": "execute_result"
    }
   ],
   "source": [
    "df4.groupby('rest_type').location.value_counts()"
   ]
  },
  {
   "cell_type": "code",
   "execution_count": 316,
   "metadata": {},
   "outputs": [],
   "source": [
    "most_rest_loc = (df4.location.value_counts())[:10]"
   ]
  },
  {
   "cell_type": "code",
   "execution_count": 317,
   "metadata": {},
   "outputs": [],
   "source": [
    "plt.rcParams[\"figure.figsize\"] = (14,8)"
   ]
  },
  {
   "cell_type": "code",
   "execution_count": 318,
   "metadata": {},
   "outputs": [
    {
     "data": {
      "image/png": "[encoded data removed]",
      "text/plain": [
       "<Figure size 1400x800 with 1 Axes>"
      ]
     },
     "metadata": {},
     "output_type": "display_data"
    }
   ],
   "source": [
    "rest_loc = sns.barplot(x=most_rest_loc.keys(),y=most_rest_loc.values,)\n",
    "rest_loc.axes.set_title(\"Neighbourhood with most Restaurants\",fontsize=20)\n",
    "rest_loc.set_xlabel(\"Neighbourhood\",fontsize=15)\n",
    "rest_loc.set_ylabel(\"number of restaurants\",fontsize=15)\n",
    "rest_loc.tick_params(labelsize=7)\n"
   ]
  },
  {
   "cell_type": "code",
   "execution_count": null,
   "metadata": {},
   "outputs": [],
   "source": [
    "# brand_loc  = pd.DataFrame(df4['name'].value_counts().reset_index())\n",
    "# brand_loc.columns=['Name','count']"
   ]
  },
  {
   "cell_type": "code",
   "execution_count": null,
   "metadata": {},
   "outputs": [],
   "source": [
    "brand_loc = pd.DataFrame(a)"
   ]
  },
  {
   "cell_type": "code",
   "execution_count": null,
   "metadata": {},
   "outputs": [
    {
     "data": {
      "text/html": [
       "<div>\n",
       "<style scoped>\n",
       "    .dataframe tbody tr th:only-of-type {\n",
       "        vertical-align: middle;\n",
       "    }\n",
       "\n",
       "    .dataframe tbody tr th {\n",
       "        vertical-align: top;\n",
       "    }\n",
       "\n",
       "    .dataframe thead th {\n",
       "        text-align: right;\n",
       "    }\n",
       "</style>\n",
       "<table border=\"1\" class=\"dataframe\">\n",
       "  <thead>\n",
       "    <tr style=\"text-align: right;\">\n",
       "      <th></th>\n",
       "      <th>name</th>\n",
       "      <th>loca</th>\n",
       "      <th>count</th>\n",
       "    </tr>\n",
       "  </thead>\n",
       "  <tbody>\n",
       "    <tr>\n",
       "      <th>0</th>\n",
       "      <td>#FeelTheROLL</td>\n",
       "      <td>Bellandur</td>\n",
       "      <td>2</td>\n",
       "    </tr>\n",
       "    <tr>\n",
       "      <th>1</th>\n",
       "      <td>#L-81 Cafe</td>\n",
       "      <td>HSR</td>\n",
       "      <td>9</td>\n",
       "    </tr>\n",
       "    <tr>\n",
       "      <th>2</th>\n",
       "      <td>#refuel</td>\n",
       "      <td>Bannerghatta Road</td>\n",
       "      <td>3</td>\n",
       "    </tr>\n",
       "    <tr>\n",
       "      <th>3</th>\n",
       "      <td>1000 B.C</td>\n",
       "      <td>Koramangala 5th Block</td>\n",
       "      <td>6</td>\n",
       "    </tr>\n",
       "    <tr>\n",
       "      <th>4</th>\n",
       "      <td>100ÃÂÃÂÃÂÃÂÃÂÃÂÃÂÃÂ°C</td>\n",
       "      <td>BTM</td>\n",
       "      <td>3</td>\n",
       "    </tr>\n",
       "    <tr>\n",
       "      <th>...</th>\n",
       "      <td>...</td>\n",
       "      <td>...</td>\n",
       "      <td>...</td>\n",
       "    </tr>\n",
       "    <tr>\n",
       "      <th>9179</th>\n",
       "      <td>iFruit Live Ice Creams</td>\n",
       "      <td>Koramangala 1st Block</td>\n",
       "      <td>4</td>\n",
       "    </tr>\n",
       "    <tr>\n",
       "      <th>9180</th>\n",
       "      <td>iSpice Resto Cafe</td>\n",
       "      <td>Indiranagar</td>\n",
       "      <td>7</td>\n",
       "    </tr>\n",
       "    <tr>\n",
       "      <th>9181</th>\n",
       "      <td>nu.tree</td>\n",
       "      <td>Whitefield</td>\n",
       "      <td>4</td>\n",
       "    </tr>\n",
       "    <tr>\n",
       "      <th>9182</th>\n",
       "      <td>nu.tree</td>\n",
       "      <td>Sarjapur Road</td>\n",
       "      <td>3</td>\n",
       "    </tr>\n",
       "    <tr>\n",
       "      <th>9183</th>\n",
       "      <td>re:cess - Hilton Bangalore Embassy GolfLinks</td>\n",
       "      <td>Domlur</td>\n",
       "      <td>3</td>\n",
       "    </tr>\n",
       "  </tbody>\n",
       "</table>\n",
       "<p>9184 rows × 3 columns</p>\n",
       "</div>"
      ],
      "text/plain": [
       "                                              name                   loca  \\\n",
       "0                                     #FeelTheROLL              Bellandur   \n",
       "1                                       #L-81 Cafe                    HSR   \n",
       "2                                          #refuel      Bannerghatta Road   \n",
       "3                                         1000 B.C  Koramangala 5th Block   \n",
       "4             100ÃÂÃÂÃÂÃÂÃÂÃÂÃÂÃÂ°C                    BTM   \n",
       "...                                            ...                    ...   \n",
       "9179                        iFruit Live Ice Creams  Koramangala 1st Block   \n",
       "9180                             iSpice Resto Cafe            Indiranagar   \n",
       "9181                                       nu.tree             Whitefield   \n",
       "9182                                       nu.tree          Sarjapur Road   \n",
       "9183  re:cess - Hilton Bangalore Embassy GolfLinks                 Domlur   \n",
       "\n",
       "      count  \n",
       "0         2  \n",
       "1         9  \n",
       "2         3  \n",
       "3         6  \n",
       "4         3  \n",
       "...     ...  \n",
       "9179      4  \n",
       "9180      7  \n",
       "9181      4  \n",
       "9182      3  \n",
       "9183      3  \n",
       "\n",
       "[9184 rows x 3 columns]"
      ]
     },
     "execution_count": 196,
     "metadata": {},
     "output_type": "execute_result"
    }
   ],
   "source": [
    "brand_loc"
   ]
  },
  {
   "cell_type": "code",
   "execution_count": null,
   "metadata": {},
   "outputs": [],
   "source": [
    "brands=pd.DataFrame({\"Name\":df4['name'].unique()})"
   ]
  },
  {
   "cell_type": "code",
   "execution_count": null,
   "metadata": {},
   "outputs": [],
   "source": [
    "brr = brand_loc.copy()"
   ]
  },
  {
   "cell_type": "code",
   "execution_count": null,
   "metadata": {},
   "outputs": [],
   "source": [
    "# lat=[]\n",
    "# lon=[]\n",
    "# for location in brands['Name']:\n",
    "#     location = geolocator.geocode(location)    \n",
    "#     if location is None:\n",
    "#         lat.append(np.nan)\n",
    "#         lon.append(np.nan)\n",
    "#     else:\n",
    "#         lat.append(location.latitude)\n",
    "#         lon.append(location.longitude)\n",
    "lonlang(brr,'loca')"
   ]
  },
  {
   "cell_type": "code",
   "execution_count": null,
   "metadata": {},
   "outputs": [
    {
     "name": "stdout",
     "output_type": "stream",
     "text": [
      "Banashankari\n",
      "Basavanagudi\n",
      "Mysore Road\n",
      "Jayanagar\n",
      "Kumaraswamy Layout\n",
      "Rajarajeshwari Nagar\n",
      "Vijay Nagar\n",
      "Uttarahalli\n",
      "JP Nagar\n",
      "South Bangalore\n",
      "City Market\n",
      "Bannerghatta Road\n",
      "BTM\n",
      "Kanakapura Road\n",
      "Bommanahalli\n",
      "Electronic City\n",
      "Wilson Garden\n",
      "Shanti Nagar\n",
      "Koramangala 5th Block\n",
      "Richmond Road\n",
      "HSR\n",
      "Koramangala 7th Block\n",
      "Bellandur\n",
      "Sarjapur Road\n",
      "Marathahalli\n",
      "Whitefield\n",
      "East Bangalore\n",
      "Old Airport Road\n",
      "Indiranagar\n",
      "Koramangala 1st Block\n",
      "Frazer Town\n",
      "MG Road\n",
      "Brigade Road\n",
      "Lavelle Road\n",
      "Church Street\n",
      "Ulsoor\n",
      "Residency Road\n",
      "Shivajinagar\n",
      "Infantry Road\n",
      "St. Marks Road\n",
      "Cunningham Road\n",
      "Race Course Road\n",
      "Commercial Street\n",
      "Vasanth Nagar\n",
      "Domlur\n",
      "Koramangala 8th Block\n",
      "Ejipura\n",
      "Jeevan Bhima Nagar\n",
      "Old Madras Road\n",
      "Seshadripuram\n",
      "Kammanahalli\n",
      "Koramangala 6th Block\n",
      "Majestic\n",
      "Langford Town\n",
      "Central Bangalore\n",
      "Brookefield\n",
      "ITPL Main Road, Whitefield\n",
      "Varthur Main Road, Whitefield\n",
      "Koramangala 2nd Block\n",
      "Koramangala 3rd Block\n",
      "Koramangala 4th Block\n",
      "Koramangala\n",
      "Hosur Road\n",
      "RT Nagar\n",
      "Banaswadi\n",
      "North Bangalore\n",
      "Nagawara\n",
      "Hennur\n",
      "Kalyan Nagar\n",
      "HBR Layout\n",
      "Rammurthy Nagar\n",
      "Thippasandra\n",
      "CV Raman Nagar\n",
      "Kaggadasapura\n",
      "Kengeri\n",
      "Sankey Road\n",
      "Malleshwaram\n",
      "Sanjay Nagar\n",
      "Sadashiv Nagar\n",
      "Basaveshwara Nagar\n",
      "Rajajinagar\n",
      "Yeshwantpur\n",
      "New BEL Road\n",
      "West Bangalore\n",
      "Magadi Road\n",
      "Yelahanka\n",
      "Sahakara Nagar\n",
      "Jalahalli\n",
      "Hebbal\n",
      "Nagarbhavi\n",
      "Peenya\n",
      "KR Puram\n"
     ]
    }
   ],
   "source": [
    "for index, row in locations.iterrows():\n",
    "    if (row['Name'] == brr['loca']).any():\n",
    "        print(locations['Name'][index])"
   ]
  },
  {
   "cell_type": "code",
   "execution_count": null,
   "metadata": {},
   "outputs": [],
   "source": [
    "for i in range(len(brr['loca'])):\n",
    "    print(locations['lat'].where(brr['loca'] == locations['Name']))"
   ]
  },
  {
   "cell_type": "code",
   "execution_count": null,
   "metadata": {},
   "outputs": [],
   "source": [
    "for i in range(len(brr['loca'])):\n",
    "    for index, row in locations.iterrows():\n",
    "        if (row['Name'] == brr['loca']).any():\n",
    "            # if (brr['loca'][i] == locations['Name']).any():\n",
    "                brr.loc[brr['loca']==locations['Name'][index],'lat'] == locations['lat'][index]\n",
    "                brr.loc[brr['loca']==locations['Name'][index],'lon'] == locations['lon'][index]\n"
   ]
  },
  {
   "cell_type": "code",
   "execution_count": null,
   "metadata": {},
   "outputs": [
    {
     "data": {
      "text/plain": [
       "0       0.0\n",
       "1       0.0\n",
       "2       0.0\n",
       "3       0.0\n",
       "4       0.0\n",
       "       ... \n",
       "9179    0.0\n",
       "9180    0.0\n",
       "9181    0.0\n",
       "9182    0.0\n",
       "9183    0.0\n",
       "Name: lon, Length: 9184, dtype: float64"
      ]
     },
     "execution_count": 189,
     "metadata": {},
     "output_type": "execute_result"
    }
   ],
   "source": [
    "brr['lon']"
   ]
  },
  {
   "cell_type": "code",
   "execution_count": null,
   "metadata": {},
   "outputs": [],
   "source": [
    "# brand_loc=brand_loc.merge(brands,on='Name',how=\"left\").dropna()"
   ]
  },
  {
   "cell_type": "code",
   "execution_count": null,
   "metadata": {},
   "outputs": [],
   "source": [
    "b_map =  generateBaseMap()"
   ]
  },
  {
   "cell_type": "code",
   "execution_count": null,
   "metadata": {},
   "outputs": [],
   "source": [
    "\n",
    "for i in range(0,len(brr)):\n",
    "   folium.Circle(\n",
    "      location=[brr.iloc[i]['lat'], brr.iloc[i]['lon']],\n",
    "      popup=brr.iloc[i]['name'],\n",
    "      radius=float(brr.iloc[i]['count']),\n",
    "      color='crimson',\n",
    "      fill=True,\n",
    "      fill_color='crimson'\n",
    "   ).add_to(b_map)\n",
    "\n",
    "# Show the map again\n",
    "b_map"
   ]
  },
  {
   "cell_type": "markdown",
   "metadata": {},
   "source": [
    "#### Rest loc"
   ]
  },
  {
   "cell_type": "code",
   "execution_count": null,
   "metadata": {},
   "outputs": [],
   "source": [
    "Rest_locations=pd.DataFrame(df4['location'].value_counts().reset_index())"
   ]
  },
  {
   "cell_type": "code",
   "execution_count": null,
   "metadata": {},
   "outputs": [
    {
     "data": {
      "text/html": [
       "<div>\n",
       "<style scoped>\n",
       "    .dataframe tbody tr th:only-of-type {\n",
       "        vertical-align: middle;\n",
       "    }\n",
       "\n",
       "    .dataframe tbody tr th {\n",
       "        vertical-align: top;\n",
       "    }\n",
       "\n",
       "    .dataframe thead th {\n",
       "        text-align: right;\n",
       "    }\n",
       "</style>\n",
       "<table border=\"1\" class=\"dataframe\">\n",
       "  <thead>\n",
       "    <tr style=\"text-align: right;\">\n",
       "      <th></th>\n",
       "      <th>Name</th>\n",
       "      <th>count</th>\n",
       "    </tr>\n",
       "  </thead>\n",
       "  <tbody>\n",
       "    <tr>\n",
       "      <th>0</th>\n",
       "      <td>BTM</td>\n",
       "      <td>3879</td>\n",
       "    </tr>\n",
       "    <tr>\n",
       "      <th>1</th>\n",
       "      <td>Koramangala 5th Block</td>\n",
       "      <td>2297</td>\n",
       "    </tr>\n",
       "    <tr>\n",
       "      <th>2</th>\n",
       "      <td>HSR</td>\n",
       "      <td>1993</td>\n",
       "    </tr>\n",
       "    <tr>\n",
       "      <th>3</th>\n",
       "      <td>Indiranagar</td>\n",
       "      <td>1800</td>\n",
       "    </tr>\n",
       "    <tr>\n",
       "      <th>4</th>\n",
       "      <td>JP Nagar</td>\n",
       "      <td>1710</td>\n",
       "    </tr>\n",
       "  </tbody>\n",
       "</table>\n",
       "</div>"
      ],
      "text/plain": [
       "                    Name  count\n",
       "0                    BTM   3879\n",
       "1  Koramangala 5th Block   2297\n",
       "2                    HSR   1993\n",
       "3            Indiranagar   1800\n",
       "4               JP Nagar   1710"
      ]
     },
     "execution_count": 46,
     "metadata": {},
     "output_type": "execute_result"
    }
   ],
   "source": [
    "Rest_locations.columns=['Name','count']\n",
    "Rest_locations.head()"
   ]
  },
  {
   "cell_type": "code",
   "execution_count": null,
   "metadata": {},
   "outputs": [
    {
     "name": "stdout",
     "output_type": "stream",
     "text": [
      "(92, 3)\n",
      "(92, 2)\n"
     ]
    }
   ],
   "source": [
    "print(locations.shape)\n",
    "print(Rest_locations.shape)"
   ]
  },
  {
   "cell_type": "code",
   "execution_count": null,
   "metadata": {},
   "outputs": [
    {
     "data": {
      "text/html": [
       "<div>\n",
       "<style scoped>\n",
       "    .dataframe tbody tr th:only-of-type {\n",
       "        vertical-align: middle;\n",
       "    }\n",
       "\n",
       "    .dataframe tbody tr th {\n",
       "        vertical-align: top;\n",
       "    }\n",
       "\n",
       "    .dataframe thead th {\n",
       "        text-align: right;\n",
       "    }\n",
       "</style>\n",
       "<table border=\"1\" class=\"dataframe\">\n",
       "  <thead>\n",
       "    <tr style=\"text-align: right;\">\n",
       "      <th></th>\n",
       "      <th>Name</th>\n",
       "      <th>count</th>\n",
       "      <th>lat</th>\n",
       "      <th>lon</th>\n",
       "    </tr>\n",
       "  </thead>\n",
       "  <tbody>\n",
       "    <tr>\n",
       "      <th>0</th>\n",
       "      <td>BTM</td>\n",
       "      <td>3879</td>\n",
       "      <td>45.954851</td>\n",
       "      <td>-112.496595</td>\n",
       "    </tr>\n",
       "    <tr>\n",
       "      <th>1</th>\n",
       "      <td>Koramangala 5th Block</td>\n",
       "      <td>2297</td>\n",
       "      <td>12.934843</td>\n",
       "      <td>77.618977</td>\n",
       "    </tr>\n",
       "    <tr>\n",
       "      <th>2</th>\n",
       "      <td>HSR</td>\n",
       "      <td>1993</td>\n",
       "      <td>18.147500</td>\n",
       "      <td>41.538889</td>\n",
       "    </tr>\n",
       "    <tr>\n",
       "      <th>3</th>\n",
       "      <td>Indiranagar</td>\n",
       "      <td>1800</td>\n",
       "      <td>12.973291</td>\n",
       "      <td>77.640467</td>\n",
       "    </tr>\n",
       "    <tr>\n",
       "      <th>4</th>\n",
       "      <td>JP Nagar</td>\n",
       "      <td>1710</td>\n",
       "      <td>12.265594</td>\n",
       "      <td>76.646540</td>\n",
       "    </tr>\n",
       "  </tbody>\n",
       "</table>\n",
       "</div>"
      ],
      "text/plain": [
       "                    Name  count        lat         lon\n",
       "0                    BTM   3879  45.954851 -112.496595\n",
       "1  Koramangala 5th Block   2297  12.934843   77.618977\n",
       "2                    HSR   1993  18.147500   41.538889\n",
       "3            Indiranagar   1800  12.973291   77.640467\n",
       "4               JP Nagar   1710  12.265594   76.646540"
      ]
     },
     "execution_count": 48,
     "metadata": {},
     "output_type": "execute_result"
    }
   ],
   "source": [
    "Restaurant_locations=Rest_locations.merge(locations,on='Name',how=\"left\").dropna()\n",
    "Restaurant_locations.head()"
   ]
  },
  {
   "cell_type": "code",
   "execution_count": null,
   "metadata": {},
   "outputs": [],
   "source": [
    "def generateBaseMap(default_location=[12.97, 77.59], default_zoom_start=12):\n",
    "    base_map = folium.Map(location=default_location, zoom_start=default_zoom_start)\n",
    "    return base_map"
   ]
  },
  {
   "cell_type": "code",
   "execution_count": null,
   "metadata": {},
   "outputs": [],
   "source": [
    "basemap=generateBaseMap()"
   ]
  },
  {
   "cell_type": "code",
   "execution_count": null,
   "metadata": {},
   "outputs": [],
   "source": [
    "basemap"
   ]
  },
  {
   "cell_type": "code",
   "execution_count": null,
   "metadata": {},
   "outputs": [
    {
     "data": {
      "text/html": [
       "<div>\n",
       "<style scoped>\n",
       "    .dataframe tbody tr th:only-of-type {\n",
       "        vertical-align: middle;\n",
       "    }\n",
       "\n",
       "    .dataframe tbody tr th {\n",
       "        vertical-align: top;\n",
       "    }\n",
       "\n",
       "    .dataframe thead th {\n",
       "        text-align: right;\n",
       "    }\n",
       "</style>\n",
       "<table border=\"1\" class=\"dataframe\">\n",
       "  <thead>\n",
       "    <tr style=\"text-align: right;\">\n",
       "      <th></th>\n",
       "      <th>Name</th>\n",
       "      <th>count</th>\n",
       "      <th>lat</th>\n",
       "      <th>lon</th>\n",
       "    </tr>\n",
       "  </thead>\n",
       "  <tbody>\n",
       "    <tr>\n",
       "      <th>0</th>\n",
       "      <td>BTM</td>\n",
       "      <td>3879</td>\n",
       "      <td>45.954851</td>\n",
       "      <td>-112.496595</td>\n",
       "    </tr>\n",
       "    <tr>\n",
       "      <th>1</th>\n",
       "      <td>Koramangala 5th Block</td>\n",
       "      <td>2297</td>\n",
       "      <td>12.934843</td>\n",
       "      <td>77.618977</td>\n",
       "    </tr>\n",
       "    <tr>\n",
       "      <th>2</th>\n",
       "      <td>HSR</td>\n",
       "      <td>1993</td>\n",
       "      <td>18.147500</td>\n",
       "      <td>41.538889</td>\n",
       "    </tr>\n",
       "    <tr>\n",
       "      <th>3</th>\n",
       "      <td>Indiranagar</td>\n",
       "      <td>1800</td>\n",
       "      <td>12.973291</td>\n",
       "      <td>77.640467</td>\n",
       "    </tr>\n",
       "    <tr>\n",
       "      <th>4</th>\n",
       "      <td>JP Nagar</td>\n",
       "      <td>1710</td>\n",
       "      <td>12.265594</td>\n",
       "      <td>76.646540</td>\n",
       "    </tr>\n",
       "    <tr>\n",
       "      <th>...</th>\n",
       "      <td>...</td>\n",
       "      <td>...</td>\n",
       "      <td>...</td>\n",
       "      <td>...</td>\n",
       "    </tr>\n",
       "    <tr>\n",
       "      <th>87</th>\n",
       "      <td>Yelahanka</td>\n",
       "      <td>4</td>\n",
       "      <td>13.100698</td>\n",
       "      <td>77.596345</td>\n",
       "    </tr>\n",
       "    <tr>\n",
       "      <th>88</th>\n",
       "      <td>West Bangalore</td>\n",
       "      <td>3</td>\n",
       "      <td>12.984852</td>\n",
       "      <td>77.540063</td>\n",
       "    </tr>\n",
       "    <tr>\n",
       "      <th>89</th>\n",
       "      <td>Rajarajeshwari Nagar</td>\n",
       "      <td>2</td>\n",
       "      <td>12.927441</td>\n",
       "      <td>77.515522</td>\n",
       "    </tr>\n",
       "    <tr>\n",
       "      <th>90</th>\n",
       "      <td>Nagarbhavi</td>\n",
       "      <td>1</td>\n",
       "      <td>12.959618</td>\n",
       "      <td>77.511267</td>\n",
       "    </tr>\n",
       "    <tr>\n",
       "      <th>91</th>\n",
       "      <td>Peenya</td>\n",
       "      <td>1</td>\n",
       "      <td>13.032942</td>\n",
       "      <td>77.527325</td>\n",
       "    </tr>\n",
       "  </tbody>\n",
       "</table>\n",
       "<p>91 rows × 4 columns</p>\n",
       "</div>"
      ],
      "text/plain": [
       "                     Name  count        lat         lon\n",
       "0                     BTM   3879  45.954851 -112.496595\n",
       "1   Koramangala 5th Block   2297  12.934843   77.618977\n",
       "2                     HSR   1993  18.147500   41.538889\n",
       "3             Indiranagar   1800  12.973291   77.640467\n",
       "4                JP Nagar   1710  12.265594   76.646540\n",
       "..                    ...    ...        ...         ...\n",
       "87              Yelahanka      4  13.100698   77.596345\n",
       "88         West Bangalore      3  12.984852   77.540063\n",
       "89   Rajarajeshwari Nagar      2  12.927441   77.515522\n",
       "90             Nagarbhavi      1  12.959618   77.511267\n",
       "91                 Peenya      1  13.032942   77.527325\n",
       "\n",
       "[91 rows x 4 columns]"
      ]
     },
     "execution_count": 150,
     "metadata": {},
     "output_type": "execute_result"
    }
   ],
   "source": [
    "Restaurant_locations[['lat','lon','count']]"
   ]
  },
  {
   "cell_type": "code",
   "execution_count": null,
   "metadata": {},
   "outputs": [
    {
     "data": {
      "text/plain": [
       "<folium.plugins.heat_map.HeatMap at 0x271000e8a30>"
      ]
     },
     "execution_count": 53,
     "metadata": {},
     "output_type": "execute_result"
    }
   ],
   "source": [
    "HeatMap(Restaurant_locations[['lat','lon','count']],zoom=20,radius=15).add_to(basemap)"
   ]
  },
  {
   "cell_type": "code",
   "execution_count": null,
   "metadata": {},
   "outputs": [],
   "source": [
    "basemap"
   ]
  },
  {
   "cell_type": "code",
   "execution_count": null,
   "metadata": {},
   "outputs": [
    {
     "data": {
      "text/html": [
       "<div style=\"width:100%;\"><div style=\"position:relative;width:100%;height:0;padding-bottom:60%;\"><span style=\"color:#565656\">Make this Notebook Trusted to load map: File -> Trust Notebook</span><iframe srcdoc=\"&lt;!DOCTYPE html&gt;\n",
       "&lt;head&gt;    \n",
       "    &lt;meta http-equiv=&quot;content-type&quot; content=&quot;text/html; charset=UTF-8&quot; /&gt;\n",
       "    \n",
       "        &lt;script&gt;\n",
       "            L_NO_TOUCH = false;\n",
       "            L_DISABLE_3D = false;\n",
       "        &lt;/script&gt;\n",
       "    \n",
       "    &lt;style&gt;html, body {width: 100%;height: 100%;margin: 0;padding: 0;}&lt;/style&gt;\n",
       "    &lt;style&gt;#map {position:absolute;top:0;bottom:0;right:0;left:0;}&lt;/style&gt;\n",
       "    &lt;script src=&quot;https://cdn.jsdelivr.net/npm/leaflet@1.6.0/dist/leaflet.js&quot;&gt;&lt;/script&gt;\n",
       "    &lt;script src=&quot;https://code.jquery.com/jquery-1.12.4.min.js&quot;&gt;&lt;/script&gt;\n",
       "    &lt;script src=&quot;https://maxcdn.bootstrapcdn.com/bootstrap/3.2.0/js/bootstrap.min.js&quot;&gt;&lt;/script&gt;\n",
       "    &lt;script src=&quot;https://cdnjs.cloudflare.com/ajax/libs/Leaflet.awesome-markers/2.0.2/leaflet.awesome-markers.js&quot;&gt;&lt;/script&gt;\n",
       "    &lt;link rel=&quot;stylesheet&quot; href=&quot;https://cdn.jsdelivr.net/npm/leaflet@1.6.0/dist/leaflet.css&quot;/&gt;\n",
       "    &lt;link rel=&quot;stylesheet&quot; href=&quot;https://maxcdn.bootstrapcdn.com/bootstrap/3.2.0/css/bootstrap.min.css&quot;/&gt;\n",
       "    &lt;link rel=&quot;stylesheet&quot; href=&quot;https://maxcdn.bootstrapcdn.com/bootstrap/3.2.0/css/bootstrap-theme.min.css&quot;/&gt;\n",
       "    &lt;link rel=&quot;stylesheet&quot; href=&quot;https://maxcdn.bootstrapcdn.com/font-awesome/4.6.3/css/font-awesome.min.css&quot;/&gt;\n",
       "    &lt;link rel=&quot;stylesheet&quot; href=&quot;https://cdnjs.cloudflare.com/ajax/libs/Leaflet.awesome-markers/2.0.2/leaflet.awesome-markers.css&quot;/&gt;\n",
       "    &lt;link rel=&quot;stylesheet&quot; href=&quot;https://cdn.jsdelivr.net/gh/python-visualization/folium/folium/templates/leaflet.awesome.rotate.min.css&quot;/&gt;\n",
       "    \n",
       "            &lt;meta name=&quot;viewport&quot; content=&quot;width=device-width,\n",
       "                initial-scale=1.0, maximum-scale=1.0, user-scalable=no&quot; /&gt;\n",
       "            &lt;style&gt;\n",
       "                #map_2680094047acce15715e7687abd3c9ae {\n",
       "                    position: relative;\n",
       "                    width: 100.0%;\n",
       "                    height: 100.0%;\n",
       "                    left: 0.0%;\n",
       "                    top: 0.0%;\n",
       "                }\n",
       "            &lt;/style&gt;\n",
       "        \n",
       "    &lt;script src=&quot;https://cdn.jsdelivr.net/gh/python-visualization/folium@master/folium/templates/leaflet_heat.min.js&quot;&gt;&lt;/script&gt;\n",
       "    &lt;script src=&quot;https://cdnjs.cloudflare.com/ajax/libs/leaflet.markercluster/1.1.0/leaflet.markercluster.js&quot;&gt;&lt;/script&gt;\n",
       "    &lt;link rel=&quot;stylesheet&quot; href=&quot;https://cdnjs.cloudflare.com/ajax/libs/leaflet.markercluster/1.1.0/MarkerCluster.css&quot;/&gt;\n",
       "    &lt;link rel=&quot;stylesheet&quot; href=&quot;https://cdnjs.cloudflare.com/ajax/libs/leaflet.markercluster/1.1.0/MarkerCluster.Default.css&quot;/&gt;\n",
       "&lt;/head&gt;\n",
       "&lt;body&gt;    \n",
       "    \n",
       "            &lt;div class=&quot;folium-map&quot; id=&quot;map_2680094047acce15715e7687abd3c9ae&quot; &gt;&lt;/div&gt;\n",
       "        \n",
       "&lt;/body&gt;\n",
       "&lt;script&gt;    \n",
       "    \n",
       "            var map_2680094047acce15715e7687abd3c9ae = L.map(\n",
       "                &quot;map_2680094047acce15715e7687abd3c9ae&quot;,\n",
       "                {\n",
       "                    center: [12.97, 77.59],\n",
       "                    crs: L.CRS.EPSG3857,\n",
       "                    zoom: 12,\n",
       "                    zoomControl: true,\n",
       "                    preferCanvas: false,\n",
       "                }\n",
       "            );\n",
       "\n",
       "            \n",
       "\n",
       "        \n",
       "    \n",
       "            var tile_layer_40de95ec52d40a929877127671d3faf0 = L.tileLayer(\n",
       "                &quot;https://{s}.tile.openstreetmap.org/{z}/{x}/{y}.png&quot;,\n",
       "                {&quot;attribution&quot;: &quot;Data by \\u0026copy; \\u003ca href=\\&quot;http://openstreetmap.org\\&quot;\\u003eOpenStreetMap\\u003c/a\\u003e, under \\u003ca href=\\&quot;http://www.openstreetmap.org/copyright\\&quot;\\u003eODbL\\u003c/a\\u003e.&quot;, &quot;detectRetina&quot;: false, &quot;maxNativeZoom&quot;: 18, &quot;maxZoom&quot;: 18, &quot;minZoom&quot;: 0, &quot;noWrap&quot;: false, &quot;opacity&quot;: 1, &quot;subdomains&quot;: &quot;abc&quot;, &quot;tms&quot;: false}\n",
       "            ).addTo(map_2680094047acce15715e7687abd3c9ae);\n",
       "        \n",
       "    \n",
       "            var heat_map_4bb2f6c6b51e5b5813e46e516875c79d = L.heatLayer(\n",
       "                [[45.95485055, -112.49659530324134, 3879.0], [12.9348429, 77.6189768, 2297.0], [18.1475, 41.538889, 1993.0], [12.9732913, 77.6404672, 1800.0], [12.2655944, 76.6465404, 1710.0], [27.64392675, 83.05280519687284, 1634.0], [53.5533682, -2.2969019, 1568.0], [12.9552572, 77.6984163, 1410.0], [12.8905219, 77.598149, 1226.0], [12.9364846, 77.6134783, 1055.0], [12.9390255, 77.6238477, 1054.0], [50.7962518, -120.3174744, 1052.0], [12.93103185, 77.6782471, 997.0], [12.920441, 77.6653284, 854.0], [12.9275886, 77.6308832, 852.0], [12.9778793, 77.6246697, 849.0], [12.9327778, 77.6294052, 841.0], [12.848759900000001, 77.64825295827616, 834.0], [12.9755264, 77.6067902, 793.0], [15.8876779, 75.7046777, 744.0], [13.0221416, 77.6403368, 692.0], [13.0027353, 77.5703253, 641.0], [34.0702921, 74.8090203, 604.0], [40.5758225, -74.123824, 604.0], [12.9417261, 77.5755021, 595.0], [12.996845, 77.6130165, 566.0], [40.7097579, -74.0115904, 546.0], [33.5935063, -79.0345627, 543.0], [13.0407274, 77.5630658, 506.0], [13.0093455, 77.6377094, 493.0], [40.7652844, -76.373824, 481.0], [36.5348643, -79.0905056, 475.0], [13.0141618, 77.6518539, 468.0], [12.9882338, 77.554883, 461.0], [12.9624669, 77.6381958, 406.0], [22.478459, 88.3541291, 368.0], [36.632132, -82.121605, 353.0], [33.117255, -84.837311, 343.0], [18.5322493, 73.8499601124847, 277.0], [51.5153811, -0.0719678, 270.0], [12.945245, 77.6269144, 256.0], [12.9678074, 77.6568367, 247.0], [12.988721250000001, 77.58516877601824, 245.0], [12.9408685, 77.617338, 212.0], [12.9282918, 77.6254034, 191.0], [12.9489339, 77.5968273, 187.0], [12.9081487, 77.5553179, 158.0], [13.2227, 78.5541977, 157.0], [12.9089453, 77.6239038, 144.0], [12.9931876, 77.5753419, 142.0], [12.9802639, 77.6042636, 140.0], [51.1672717, 0.009662, 135.0], [12.2949102, 76.615262, 133.0], [12.973936, 77.6509982, 130.0], [13.0258087, 77.6305067, 114.0], [13.02383, 77.5529215, 112.0], [1.2847055, 103.84320655721689, 111.0], [13.0358698, 77.6323597, 99.0], [12.9846713, 77.6790908, 90.0], [12.8845448, 77.5701276, 89.0], [12.9243692, 77.6242433, 87.0], [12.9413238, 77.7471103, 84.0], [12.9866083, 77.7317181, 78.0], [39.76880625, -86.15345077251979, 75.0], [12.7450586, 77.8162805, 72.0], [22.8359967, 69.3405962, 62.0], [17.2510682, 80.1651978, 61.0], [13.0227204, 77.595715, 60.0], [15.8782951, 74.5084834, 58.0], [30.1915796, 74.9408769, 48.0], [18.4900796, 73.8475301, 45.0], [13.2923988, 77.7519261, 30.0], [12.9845687, 77.73766474151809, 28.0], [12.957998, 77.6037312, 27.0], [38.7801076, -121.5056438, 26.0], [12.9756527, 77.5553548, 24.0], [13.6510577, 77.4305219, 23.0], [13.0657047, 77.776182, 22.0], [12.5560169, 77.4249605, 19.0], [12.9467026, 77.5300705, 17.0], [12.9767936, 77.590082, 10.0], [13.007516, 77.695935, 10.0], [12.9176571, 77.4837568, 9.0], [12.9055682, 77.5455438, 9.0], [13.0101286, 77.5548006, 8.0], [13.0382184, 77.5919, 8.0], [13.1006982, 77.5963454, 4.0], [12.9848519, 77.5400626, 3.0], [12.9274413, 77.5155224, 2.0], [12.95961755, 77.51126721318181, 1.0], [13.0329419, 77.5273253, 1.0]],\n",
       "                {&quot;blur&quot;: 15, &quot;maxZoom&quot;: 18, &quot;minOpacity&quot;: 0.5, &quot;radius&quot;: 15, &quot;zoom&quot;: 20}\n",
       "            ).addTo(map_2680094047acce15715e7687abd3c9ae);\n",
       "        \n",
       "    \n",
       "            var fast_marker_cluster_d8b0f741f0a55c2dc68ac48d53257e2e = (function(){\n",
       "                \n",
       "                var callback = function (row) {\n",
       "                    var icon = L.AwesomeMarkers.icon();\n",
       "                    var marker = L.marker(new L.LatLng(row[0], row[1]));\n",
       "                    marker.setIcon(icon);\n",
       "                    return marker;\n",
       "                };\n",
       "\n",
       "                var data = [[45.95485055, -112.49659530324134, 3879.0], [12.9348429, 77.6189768, 2297.0], [18.1475, 41.538889, 1993.0], [12.9732913, 77.6404672, 1800.0], [12.2655944, 76.6465404, 1710.0], [27.64392675, 83.05280519687284, 1634.0], [53.5533682, -2.2969019, 1568.0], [12.9552572, 77.6984163, 1410.0], [12.8905219, 77.598149, 1226.0], [12.9364846, 77.6134783, 1055.0], [12.9390255, 77.6238477, 1054.0], [50.7962518, -120.3174744, 1052.0], [12.93103185, 77.6782471, 997.0], [12.920441, 77.6653284, 854.0], [12.9275886, 77.6308832, 852.0], [12.9778793, 77.6246697, 849.0], [12.9327778, 77.6294052, 841.0], [12.848759900000001, 77.64825295827616, 834.0], [12.9755264, 77.6067902, 793.0], [15.8876779, 75.7046777, 744.0], [13.0221416, 77.6403368, 692.0], [13.0027353, 77.5703253, 641.0], [34.0702921, 74.8090203, 604.0], [40.5758225, -74.123824, 604.0], [12.9417261, 77.5755021, 595.0], [12.996845, 77.6130165, 566.0], [40.7097579, -74.0115904, 546.0], [33.5935063, -79.0345627, 543.0], [13.0407274, 77.5630658, 506.0], [13.0093455, 77.6377094, 493.0], [40.7652844, -76.373824, 481.0], [36.5348643, -79.0905056, 475.0], [13.0141618, 77.6518539, 468.0], [12.9882338, 77.554883, 461.0], [12.9624669, 77.6381958, 406.0], [22.478459, 88.3541291, 368.0], [36.632132, -82.121605, 353.0], [33.117255, -84.837311, 343.0], [18.5322493, 73.8499601124847, 277.0], [51.5153811, -0.0719678, 270.0], [12.945245, 77.6269144, 256.0], [12.9678074, 77.6568367, 247.0], [12.988721250000001, 77.58516877601824, 245.0], [12.9408685, 77.617338, 212.0], [12.9282918, 77.6254034, 191.0], [12.9489339, 77.5968273, 187.0], [12.9081487, 77.5553179, 158.0], [13.2227, 78.5541977, 157.0], [12.9089453, 77.6239038, 144.0], [12.9931876, 77.5753419, 142.0], [12.9802639, 77.6042636, 140.0], [51.1672717, 0.009662, 135.0], [12.2949102, 76.615262, 133.0], [12.973936, 77.6509982, 130.0], [13.0258087, 77.6305067, 114.0], [13.02383, 77.5529215, 112.0], [1.2847055, 103.84320655721689, 111.0], [13.0358698, 77.6323597, 99.0], [12.9846713, 77.6790908, 90.0], [12.8845448, 77.5701276, 89.0], [12.9243692, 77.6242433, 87.0], [12.9413238, 77.7471103, 84.0], [12.9866083, 77.7317181, 78.0], [39.76880625, -86.15345077251979, 75.0], [12.7450586, 77.8162805, 72.0], [22.8359967, 69.3405962, 62.0], [17.2510682, 80.1651978, 61.0], [13.0227204, 77.595715, 60.0], [15.8782951, 74.5084834, 58.0], [30.1915796, 74.9408769, 48.0], [18.4900796, 73.8475301, 45.0], [13.2923988, 77.7519261, 30.0], [12.9845687, 77.73766474151809, 28.0], [12.957998, 77.6037312, 27.0], [38.7801076, -121.5056438, 26.0], [12.9756527, 77.5553548, 24.0], [13.6510577, 77.4305219, 23.0], [13.0657047, 77.776182, 22.0], [12.5560169, 77.4249605, 19.0], [12.9467026, 77.5300705, 17.0], [12.9767936, 77.590082, 10.0], [13.007516, 77.695935, 10.0], [12.9176571, 77.4837568, 9.0], [12.9055682, 77.5455438, 9.0], [13.0101286, 77.5548006, 8.0], [13.0382184, 77.5919, 8.0], [13.1006982, 77.5963454, 4.0], [12.9848519, 77.5400626, 3.0], [12.9274413, 77.5155224, 2.0], [12.95961755, 77.51126721318181, 1.0], [13.0329419, 77.5273253, 1.0]];\n",
       "                var cluster = L.markerClusterGroup({});\n",
       "\n",
       "                for (var i = 0; i &lt; data.length; i++) {\n",
       "                    var row = data[i];\n",
       "                    var marker = callback(row);\n",
       "                    marker.addTo(cluster);\n",
       "                }\n",
       "\n",
       "                cluster.addTo(map_2680094047acce15715e7687abd3c9ae);\n",
       "                return cluster;\n",
       "            })();\n",
       "        \n",
       "&lt;/script&gt;\" style=\"position:absolute;width:100%;height:100%;left:0;top:0;border:none !important;\" allowfullscreen webkitallowfullscreen mozallowfullscreen></iframe></div></div>"
      ],
      "text/plain": [
       "<folium.folium.Map at 0x2716ce0c8b0>"
      ]
     },
     "execution_count": 55,
     "metadata": {},
     "output_type": "execute_result"
    }
   ],
   "source": [
    "FastMarkerCluster(data=Restaurant_locations[['lat','lon','count']].values.tolist()).add_to(basemap)\n",
    "\n",
    "basemap"
   ]
  },
  {
   "cell_type": "markdown",
   "metadata": {},
   "source": [
    "#### Location and rate map"
   ]
  },
  {
   "cell_type": "code",
   "execution_count": null,
   "metadata": {},
   "outputs": [
    {
     "data": {
      "text/plain": [
       "location\n",
       "Lavelle Road             4.141788\n",
       "Koramangala 3rd Block    4.020419\n",
       "St. Marks Road           4.017201\n",
       "Koramangala 5th Block    4.006661\n",
       "Church Street            3.992125\n",
       "                           ...   \n",
       "Rammurthy Nagar          3.346154\n",
       "North Bangalore          3.340000\n",
       "Peenya                   3.200000\n",
       "Bommanahalli             3.190972\n",
       "Old Madras Road          3.181818\n",
       "Name: rate, Length: 92, dtype: float64"
      ]
     },
     "execution_count": 57,
     "metadata": {},
     "output_type": "execute_result"
    }
   ],
   "source": [
    "df4.groupby(['location'])['rate'].mean().sort_values(ascending=False)"
   ]
  },
  {
   "cell_type": "code",
   "execution_count": null,
   "metadata": {},
   "outputs": [],
   "source": [
    "avg_rating=df4.groupby(['location'])['rate'].mean().values[:10]"
   ]
  },
  {
   "cell_type": "code",
   "execution_count": null,
   "metadata": {},
   "outputs": [
    {
     "data": {
      "text/plain": [
       "BTM                      3879\n",
       "Koramangala 5th Block    2297\n",
       "HSR                      1993\n",
       "Indiranagar              1800\n",
       "JP Nagar                 1710\n",
       "Jayanagar                1634\n",
       "Whitefield               1568\n",
       "Marathahalli             1410\n",
       "Bannerghatta Road        1226\n",
       "Koramangala 7th Block    1055\n",
       "Name: location, dtype: int64"
      ]
     },
     "execution_count": 20,
     "metadata": {},
     "output_type": "execute_result"
    }
   ],
   "source": [
    "most_rest_loc"
   ]
  },
  {
   "cell_type": "code",
   "execution_count": null,
   "metadata": {},
   "outputs": [],
   "source": [
    "loc=df4.groupby(['location'])['rate'].mean().index"
   ]
  },
  {
   "cell_type": "code",
   "execution_count": null,
   "metadata": {},
   "outputs": [],
   "source": [
    "geolocator=Nominatim(user_agent=\"app\")"
   ]
  },
  {
   "cell_type": "code",
   "execution_count": null,
   "metadata": {},
   "outputs": [
    {
     "data": {
      "text/plain": [
       "0        4.1\n",
       "1        4.1\n",
       "2        3.8\n",
       "3        3.7\n",
       "4        3.8\n",
       "        ... \n",
       "41258    3.7\n",
       "41259    2.5\n",
       "41260    3.6\n",
       "41261    4.3\n",
       "41262    3.4\n",
       "Name: rate, Length: 41263, dtype: float64"
      ]
     },
     "execution_count": 15,
     "metadata": {},
     "output_type": "execute_result"
    }
   ],
   "source": [
    "df4['rate']"
   ]
  },
  {
   "cell_type": "code",
   "execution_count": null,
   "metadata": {},
   "outputs": [],
   "source": [
    "lat=[]\n",
    "lon=[]\n",
    "for location in loc:\n",
    "    location = geolocator.geocode(location)    \n",
    "    if location is None:\n",
    "        lat.append(np.nan)\n",
    "        lon.append(np.nan)\n",
    "    else:\n",
    "        lat.append(location.latitude)\n",
    "        lon.append(location.longitude)"
   ]
  },
  {
   "cell_type": "code",
   "execution_count": null,
   "metadata": {},
   "outputs": [],
   "source": [
    "rating=pd.DataFrame()\n",
    "rating['location']=loc\n",
    "rating['lat']=lat\n",
    "rating['lon']=lon\n",
    "rating['avg_rating']=avg_rating"
   ]
  },
  {
   "cell_type": "code",
   "execution_count": null,
   "metadata": {},
   "outputs": [],
   "source": [
    "rating=rating.dropna()"
   ]
  },
  {
   "cell_type": "code",
   "execution_count": null,
   "metadata": {},
   "outputs": [
    {
     "data": {
      "text/html": [
       "<div style=\"width:100%;\"><div style=\"position:relative;width:100%;height:0;padding-bottom:60%;\"><span style=\"color:#565656\">Make this Notebook Trusted to load map: File -> Trust Notebook</span><iframe srcdoc=\"&lt;!DOCTYPE html&gt;\n",
       "&lt;head&gt;    \n",
       "    &lt;meta http-equiv=&quot;content-type&quot; content=&quot;text/html; charset=UTF-8&quot; /&gt;\n",
       "    \n",
       "        &lt;script&gt;\n",
       "            L_NO_TOUCH = false;\n",
       "            L_DISABLE_3D = false;\n",
       "        &lt;/script&gt;\n",
       "    \n",
       "    &lt;style&gt;html, body {width: 100%;height: 100%;margin: 0;padding: 0;}&lt;/style&gt;\n",
       "    &lt;style&gt;#map {position:absolute;top:0;bottom:0;right:0;left:0;}&lt;/style&gt;\n",
       "    &lt;script src=&quot;https://cdn.jsdelivr.net/npm/leaflet@1.6.0/dist/leaflet.js&quot;&gt;&lt;/script&gt;\n",
       "    &lt;script src=&quot;https://code.jquery.com/jquery-1.12.4.min.js&quot;&gt;&lt;/script&gt;\n",
       "    &lt;script src=&quot;https://maxcdn.bootstrapcdn.com/bootstrap/3.2.0/js/bootstrap.min.js&quot;&gt;&lt;/script&gt;\n",
       "    &lt;script src=&quot;https://cdnjs.cloudflare.com/ajax/libs/Leaflet.awesome-markers/2.0.2/leaflet.awesome-markers.js&quot;&gt;&lt;/script&gt;\n",
       "    &lt;link rel=&quot;stylesheet&quot; href=&quot;https://cdn.jsdelivr.net/npm/leaflet@1.6.0/dist/leaflet.css&quot;/&gt;\n",
       "    &lt;link rel=&quot;stylesheet&quot; href=&quot;https://maxcdn.bootstrapcdn.com/bootstrap/3.2.0/css/bootstrap.min.css&quot;/&gt;\n",
       "    &lt;link rel=&quot;stylesheet&quot; href=&quot;https://maxcdn.bootstrapcdn.com/bootstrap/3.2.0/css/bootstrap-theme.min.css&quot;/&gt;\n",
       "    &lt;link rel=&quot;stylesheet&quot; href=&quot;https://maxcdn.bootstrapcdn.com/font-awesome/4.6.3/css/font-awesome.min.css&quot;/&gt;\n",
       "    &lt;link rel=&quot;stylesheet&quot; href=&quot;https://cdnjs.cloudflare.com/ajax/libs/Leaflet.awesome-markers/2.0.2/leaflet.awesome-markers.css&quot;/&gt;\n",
       "    &lt;link rel=&quot;stylesheet&quot; href=&quot;https://cdn.jsdelivr.net/gh/python-visualization/folium/folium/templates/leaflet.awesome.rotate.min.css&quot;/&gt;\n",
       "    \n",
       "            &lt;meta name=&quot;viewport&quot; content=&quot;width=device-width,\n",
       "                initial-scale=1.0, maximum-scale=1.0, user-scalable=no&quot; /&gt;\n",
       "            &lt;style&gt;\n",
       "                #map_36f011e01d97f5c9abfd20a5f7696b72 {\n",
       "                    position: relative;\n",
       "                    width: 100.0%;\n",
       "                    height: 100.0%;\n",
       "                    left: 0.0%;\n",
       "                    top: 0.0%;\n",
       "                }\n",
       "            &lt;/style&gt;\n",
       "        \n",
       "    &lt;script src=&quot;https://cdn.jsdelivr.net/gh/python-visualization/folium@master/folium/templates/leaflet_heat.min.js&quot;&gt;&lt;/script&gt;\n",
       "&lt;/head&gt;\n",
       "&lt;body&gt;    \n",
       "    \n",
       "            &lt;div class=&quot;folium-map&quot; id=&quot;map_36f011e01d97f5c9abfd20a5f7696b72&quot; &gt;&lt;/div&gt;\n",
       "        \n",
       "&lt;/body&gt;\n",
       "&lt;script&gt;    \n",
       "    \n",
       "            var map_36f011e01d97f5c9abfd20a5f7696b72 = L.map(\n",
       "                &quot;map_36f011e01d97f5c9abfd20a5f7696b72&quot;,\n",
       "                {\n",
       "                    center: [12.97, 77.59],\n",
       "                    crs: L.CRS.EPSG3857,\n",
       "                    zoom: 12,\n",
       "                    zoomControl: true,\n",
       "                    preferCanvas: false,\n",
       "                }\n",
       "            );\n",
       "\n",
       "            \n",
       "\n",
       "        \n",
       "    \n",
       "            var tile_layer_8c4b526b6446285109ac7a2efa4a853a = L.tileLayer(\n",
       "                &quot;https://{s}.tile.openstreetmap.org/{z}/{x}/{y}.png&quot;,\n",
       "                {&quot;attribution&quot;: &quot;Data by \\u0026copy; \\u003ca href=\\&quot;http://openstreetmap.org\\&quot;\\u003eOpenStreetMap\\u003c/a\\u003e, under \\u003ca href=\\&quot;http://www.openstreetmap.org/copyright\\&quot;\\u003eODbL\\u003c/a\\u003e.&quot;, &quot;detectRetina&quot;: false, &quot;maxNativeZoom&quot;: 18, &quot;maxZoom&quot;: 18, &quot;minZoom&quot;: 0, &quot;noWrap&quot;: false, &quot;opacity&quot;: 1, &quot;subdomains&quot;: &quot;abc&quot;, &quot;tms&quot;: false}\n",
       "            ).addTo(map_36f011e01d97f5c9abfd20a5f7696b72);\n",
       "        \n",
       "    \n",
       "            var heat_map_adca19003e6a67c90951d3c8831dc662 = L.heatLayer(\n",
       "                [[45.95485055, -112.49659530324134], [15.8876779, 75.7046777], [13.0141618, 77.6518539], [12.8905219, 77.598149], [12.9417261, 77.5755021], [12.2949102, 76.615262], [12.93103185, 77.6782471], [12.9089453, 77.6239038], [50.7962518, -120.3174744], [33.5935063, -79.0345627], [17.2510682, 80.1651978], [13.0101286, 77.5548006], [40.7097579, -74.0115904], [39.76880625, -86.15345077251979], [51.5153811, -0.0719678], [36.5348643, -79.0905056], [12.9624669, 77.6381958], [12.9845687, 77.73766474151809], [12.945245, 77.6269144], [12.848759900000001, 77.64825295827616], [12.996845, 77.6130165], [13.0358698, 77.6323597], [18.1475, 41.538889], [13.0382184, 77.5919], [13.0258087, 77.6305067], [12.7450586, 77.8162805], [12.9866083, 77.7317181], [12.9732913, 77.6404672], [12.9802639, 77.6042636], [12.2655944, 76.6465404], [13.6510577, 77.4305219], [27.64392675, 83.05280519687284], [12.9678074, 77.6568367], [13.007516, 77.695935], [12.9846713, 77.6790908], [13.0221416, 77.6403368], [13.0093455, 77.6377094], [12.5560169, 77.4249605], [12.9176571, 77.4837568], [13.2923988, 77.7519261], [12.9275886, 77.6308832], [12.9243692, 77.6242433], [12.9282918, 77.6254034], [12.9327778, 77.6294052], [12.9348429, 77.6189768], [12.9390255, 77.6238477], [12.9364846, 77.6134783], [12.9408685, 77.617338], [12.9081487, 77.5553179], [12.957998, 77.6037312], [40.7652844, -76.373824], [12.9755264, 77.6067902], [12.9756527, 77.5553548], [1.2847055, 103.84320655721689], [13.0027353, 77.5703253], [12.9552572, 77.6984163], [12.9467026, 77.5300705], [12.95961755, 77.51126721318181], [13.2227, 78.5541977], [13.0407274, 77.5630658], [12.9767936, 77.590082], [36.632132, -82.121605], [13.0657047, 77.776182], [13.0329419, 77.5273253], [13.0227204, 77.595715], [51.1672717, 0.009662], [12.9882338, 77.554883], [12.9274413, 77.5155224], [34.0702921, 74.8090203], [40.5758225, -74.123824], [15.8782951, 74.5084834], [18.4900796, 73.8475301], [30.1915796, 74.9408769], [38.7801076, -121.5056438], [12.920441, 77.6653284], [12.9931876, 77.5753419], [22.478459, 88.3541291], [18.5322493, 73.8499601124847], [12.8845448, 77.5701276], [33.117255, -84.837311], [12.973936, 77.6509982], [12.9778793, 77.6246697], [12.9055682, 77.5455438], [12.9413238, 77.7471103], [12.988721250000001, 77.58516877601824], [22.8359967, 69.3405962], [12.9848519, 77.5400626], [53.5533682, -2.2969019], [12.9489339, 77.5968273], [13.1006982, 77.5963454], [13.02383, 77.5529215]],\n",
       "                {&quot;blur&quot;: 15, &quot;maxZoom&quot;: 18, &quot;minOpacity&quot;: 0.5, &quot;radius&quot;: 15, &quot;zoom&quot;: 20}\n",
       "            ).addTo(map_36f011e01d97f5c9abfd20a5f7696b72);\n",
       "        \n",
       "    \n",
       "            var heat_map_642e4cfe5a05c9a268961b2642d5abde = L.heatLayer(\n",
       "                [[45.95485055, -112.49659530324134, 3.571410157257025], [15.8876779, 75.7046777, 3.6498655913978495], [13.0141618, 77.6518539, 3.4963675213675214], [12.8905219, 77.598149, 3.5098694942903754], [12.9417261, 77.5755021, 3.6710924369747904], [12.2949102, 76.615262, 3.6496240601503755], [12.93103185, 77.6782471, 3.531394182547643], [12.9089453, 77.6239038, 3.1909722222222223], [50.7962518, -120.3174744, 3.705228136882129], [33.5935063, -79.0345627, 3.5996316758747695], [17.2510682, 80.1651978, 3.4786885245901638], [13.0101286, 77.5548006, 3.625], [40.7097579, -74.0115904, 3.9921245421245417], [39.76880625, -86.15345077251979, 3.536], [51.5153811, -0.0719678, 3.5588888888888888], [36.5348643, -79.0905056, 3.9010526315789473], [12.9624669, 77.6381958, 3.5532019704433497], [12.9845687, 77.73766474151809, 3.475], [12.945245, 77.6269144, 3.479296875], [12.848759900000001, 77.64825295827616, 3.4931654676258996], [12.996845, 77.6130165, 3.611484098939929], [13.0358698, 77.6323597, 3.676767676767677], [18.1475, 41.538889, 3.678324134470647], [13.0382184, 77.5919, 3.6], [13.0258087, 77.6305067, 3.5026315789473683], [12.7450586, 77.8162805, 3.7902777777777774], [12.9866083, 77.7317181, 3.5756410256410254], [12.9732913, 77.6404672, 3.832888888888889], [12.9802639, 77.6042636, 3.7964285714285713], [12.2655944, 76.6465404, 3.677543859649123], [13.6510577, 77.4305219, 3.4869565217391307], [27.64392675, 83.05280519687284, 3.780171358629131], [12.9678074, 77.6568367, 3.5894736842105264], [13.007516, 77.695935, 3.54], [12.9846713, 77.6790908, 3.5122222222222224], [13.0221416, 77.6403368, 3.7830924855491332], [13.0093455, 77.6377094, 3.667951318458418], [12.5560169, 77.4249605, 3.478947368421052], [12.9176571, 77.4837568, 3.7222222222222223], [13.2923988, 77.7519261, 3.7266666666666666], [12.9275886, 77.6308832, 3.6968309859154926], [12.9243692, 77.6242433, 3.749425287356322], [12.9282918, 77.6254034, 4.020418848167539], [12.9327778, 77.6294052, 3.918668252080856], [12.9348429, 77.6189768, 4.006660861993905], [12.9390255, 77.6238477, 3.7823529411764705], [12.9364846, 77.6134783, 3.8529857819905216], [12.9408685, 77.617338, 3.7410377358490567], [12.9081487, 77.5553179, 3.4651898734177213], [12.957998, 77.6037312, 3.8074074074074074], [40.7652844, -76.373824, 4.141787941787942], [12.9755264, 77.6067902, 3.85031525851198], [12.9756527, 77.5553548, 3.4375], [1.2847055, 103.84320655721689, 3.501801801801802], [13.0027353, 77.5703253, 3.7605304212168487], [12.9552572, 77.6984163, 3.547304964539007], [12.9467026, 77.5300705, 3.658823529411765], [12.95961755, 77.51126721318181, 3.4], [13.2227, 78.5541977, 3.5031847133757963], [13.0407274, 77.5630658, 3.691699604743083], [12.9767936, 77.590082, 3.34], [36.632132, -82.121605, 3.6543909348441925], [13.0657047, 77.776182, 3.1818181818181817], [13.0329419, 77.5273253, 3.2], [13.0227204, 77.595715, 3.455], [51.1672717, 0.009662, 3.7822222222222224], [12.9882338, 77.554883, 3.615401301518438], [12.9274413, 77.5155224, 3.85], [34.0702921, 74.8090203, 3.864569536423841], [40.5758225, -74.123824, 3.8155629139072844], [15.8782951, 74.5084834, 3.839655172413793], [18.4900796, 73.8475301, 3.6333333333333333], [30.1915796, 74.9408769, 3.5], [38.7801076, -121.5056438, 3.965384615384615], [12.920441, 77.6653284, 3.693208430913349], [12.9931876, 77.5753419, 3.704929577464789], [22.478459, 88.3541291, 3.5222826086956522], [18.5322493, 73.8499601124847, 3.4989169675090253], [12.8845448, 77.5701276, 3.496629213483146], [33.117255, -84.837311, 4.017201166180758], [12.973936, 77.6509982, 3.554615384615385], [12.9778793, 77.6246697, 3.758303886925795], [12.9055682, 77.5455438, 3.511111111111111], [12.9413238, 77.7471103, 3.580952380952381], [12.988721250000001, 77.58516877601824, 3.6832653061224487], [22.8359967, 69.3405962, 3.611290322580645], [12.9848519, 77.5400626, 3.3666666666666667], [53.5533682, -2.2969019, 3.624744897959184], [12.9489339, 77.5968273, 3.536363636363636], [13.1006982, 77.5963454, 3.7], [13.02383, 77.5529215, 3.5026785714285715]],\n",
       "                {&quot;blur&quot;: 15, &quot;maxZoom&quot;: 18, &quot;minOpacity&quot;: 0.5, &quot;radius&quot;: 15, &quot;zoom&quot;: 20}\n",
       "            ).addTo(map_36f011e01d97f5c9abfd20a5f7696b72);\n",
       "        \n",
       "    \n",
       "            var heat_map_7ca24a3abfec0cb9c230ad6d304a4e96 = L.heatLayer(\n",
       "                [[45.95485055, -112.49659530324134, 3.571410157257025], [15.8876779, 75.7046777, 3.6498655913978495], [13.0141618, 77.6518539, 3.4963675213675214], [12.8905219, 77.598149, 3.5098694942903754], [12.9417261, 77.5755021, 3.6710924369747904], [12.2949102, 76.615262, 3.6496240601503755], [12.93103185, 77.6782471, 3.531394182547643], [12.9089453, 77.6239038, 3.1909722222222223], [50.7962518, -120.3174744, 3.705228136882129], [33.5935063, -79.0345627, 3.5996316758747695], [17.2510682, 80.1651978, 3.4786885245901638], [13.0101286, 77.5548006, 3.625], [40.7097579, -74.0115904, 3.9921245421245417], [39.76880625, -86.15345077251979, 3.536], [51.5153811, -0.0719678, 3.5588888888888888], [36.5348643, -79.0905056, 3.9010526315789473], [12.9624669, 77.6381958, 3.5532019704433497], [12.9845687, 77.73766474151809, 3.475], [12.945245, 77.6269144, 3.479296875], [12.848759900000001, 77.64825295827616, 3.4931654676258996], [12.996845, 77.6130165, 3.611484098939929], [13.0358698, 77.6323597, 3.676767676767677], [18.1475, 41.538889, 3.678324134470647], [13.0382184, 77.5919, 3.6], [13.0258087, 77.6305067, 3.5026315789473683], [12.7450586, 77.8162805, 3.7902777777777774], [12.9866083, 77.7317181, 3.5756410256410254], [12.9732913, 77.6404672, 3.832888888888889], [12.9802639, 77.6042636, 3.7964285714285713], [12.2655944, 76.6465404, 3.677543859649123], [13.6510577, 77.4305219, 3.4869565217391307], [27.64392675, 83.05280519687284, 3.780171358629131], [12.9678074, 77.6568367, 3.5894736842105264], [13.007516, 77.695935, 3.54], [12.9846713, 77.6790908, 3.5122222222222224], [13.0221416, 77.6403368, 3.7830924855491332], [13.0093455, 77.6377094, 3.667951318458418], [12.5560169, 77.4249605, 3.478947368421052], [12.9176571, 77.4837568, 3.7222222222222223], [13.2923988, 77.7519261, 3.7266666666666666], [12.9275886, 77.6308832, 3.6968309859154926], [12.9243692, 77.6242433, 3.749425287356322], [12.9282918, 77.6254034, 4.020418848167539], [12.9327778, 77.6294052, 3.918668252080856], [12.9348429, 77.6189768, 4.006660861993905], [12.9390255, 77.6238477, 3.7823529411764705], [12.9364846, 77.6134783, 3.8529857819905216], [12.9408685, 77.617338, 3.7410377358490567], [12.9081487, 77.5553179, 3.4651898734177213], [12.957998, 77.6037312, 3.8074074074074074], [40.7652844, -76.373824, 4.141787941787942], [12.9755264, 77.6067902, 3.85031525851198], [12.9756527, 77.5553548, 3.4375], [1.2847055, 103.84320655721689, 3.501801801801802], [13.0027353, 77.5703253, 3.7605304212168487], [12.9552572, 77.6984163, 3.547304964539007], [12.9467026, 77.5300705, 3.658823529411765], [12.95961755, 77.51126721318181, 3.4], [13.2227, 78.5541977, 3.5031847133757963], [13.0407274, 77.5630658, 3.691699604743083], [12.9767936, 77.590082, 3.34], [36.632132, -82.121605, 3.6543909348441925], [13.0657047, 77.776182, 3.1818181818181817], [13.0329419, 77.5273253, 3.2], [13.0227204, 77.595715, 3.455], [51.1672717, 0.009662, 3.7822222222222224], [12.9882338, 77.554883, 3.615401301518438], [12.9274413, 77.5155224, 3.85], [34.0702921, 74.8090203, 3.864569536423841], [40.5758225, -74.123824, 3.8155629139072844], [15.8782951, 74.5084834, 3.839655172413793], [18.4900796, 73.8475301, 3.6333333333333333], [30.1915796, 74.9408769, 3.5], [38.7801076, -121.5056438, 3.965384615384615], [12.920441, 77.6653284, 3.693208430913349], [12.9931876, 77.5753419, 3.704929577464789], [22.478459, 88.3541291, 3.5222826086956522], [18.5322493, 73.8499601124847, 3.4989169675090253], [12.8845448, 77.5701276, 3.496629213483146], [33.117255, -84.837311, 4.017201166180758], [12.973936, 77.6509982, 3.554615384615385], [12.9778793, 77.6246697, 3.758303886925795], [12.9055682, 77.5455438, 3.511111111111111], [12.9413238, 77.7471103, 3.580952380952381], [12.988721250000001, 77.58516877601824, 3.6832653061224487], [22.8359967, 69.3405962, 3.611290322580645], [12.9848519, 77.5400626, 3.3666666666666667], [53.5533682, -2.2969019, 3.624744897959184], [12.9489339, 77.5968273, 3.536363636363636], [13.1006982, 77.5963454, 3.7], [13.02383, 77.5529215, 3.5026785714285715]],\n",
       "                {&quot;blur&quot;: 15, &quot;maxZoom&quot;: 18, &quot;minOpacity&quot;: 0.5, &quot;radius&quot;: 15, &quot;zoom&quot;: 20}\n",
       "            ).addTo(map_36f011e01d97f5c9abfd20a5f7696b72);\n",
       "        \n",
       "&lt;/script&gt;\" style=\"position:absolute;width:100%;height:100%;left:0;top:0;border:none !important;\" allowfullscreen webkitallowfullscreen mozallowfullscreen></iframe></div></div>"
      ],
      "text/plain": [
       "<folium.folium.Map at 0x2eb436e4850>"
      ]
     },
     "execution_count": 68,
     "metadata": {},
     "output_type": "execute_result"
    }
   ],
   "source": [
    "HeatMap(rating[['lat','lon','avg_rating']],zoom=20,radius=15).add_to(basemap)\n",
    "basemap"
   ]
  },
  {
   "cell_type": "code",
   "execution_count": null,
   "metadata": {},
   "outputs": [
    {
     "data": {
      "text/html": [
       "<div>\n",
       "<style scoped>\n",
       "    .dataframe tbody tr th:only-of-type {\n",
       "        vertical-align: middle;\n",
       "    }\n",
       "\n",
       "    .dataframe tbody tr th {\n",
       "        vertical-align: top;\n",
       "    }\n",
       "\n",
       "    .dataframe thead th {\n",
       "        text-align: right;\n",
       "    }\n",
       "</style>\n",
       "<table border=\"1\" class=\"dataframe\">\n",
       "  <thead>\n",
       "    <tr style=\"text-align: right;\">\n",
       "      <th></th>\n",
       "      <th>level_0</th>\n",
       "      <th>index</th>\n",
       "      <th>address</th>\n",
       "      <th>name</th>\n",
       "      <th>online_order</th>\n",
       "      <th>book_table</th>\n",
       "      <th>rate</th>\n",
       "      <th>votes</th>\n",
       "      <th>location</th>\n",
       "      <th>rest_type</th>\n",
       "      <th>cuisines</th>\n",
       "      <th>cost</th>\n",
       "      <th>reviews_list</th>\n",
       "      <th>menu_item</th>\n",
       "      <th>type</th>\n",
       "      <th>city</th>\n",
       "    </tr>\n",
       "  </thead>\n",
       "  <tbody>\n",
       "    <tr>\n",
       "      <th>5</th>\n",
       "      <td>5</td>\n",
       "      <td>5</td>\n",
       "      <td>37, 5-1, 4th Floor, Bosco Court, Gandhi Bazaar...</td>\n",
       "      <td>Timepass Dinner</td>\n",
       "      <td>Yes</td>\n",
       "      <td>No</td>\n",
       "      <td>3.8</td>\n",
       "      <td>286</td>\n",
       "      <td>Basavanagudi</td>\n",
       "      <td>Casual Dining</td>\n",
       "      <td>North Indian</td>\n",
       "      <td>600</td>\n",
       "      <td>[('Rated 3.0', 'RATED\\n  Food 3/5\\nAmbience 3/...</td>\n",
       "      <td>[]</td>\n",
       "      <td>Buffet</td>\n",
       "      <td>Banashankari</td>\n",
       "    </tr>\n",
       "    <tr>\n",
       "      <th>50</th>\n",
       "      <td>50</td>\n",
       "      <td>50</td>\n",
       "      <td>276, Ground Floor, 100 Feet Outer Ring Road, B...</td>\n",
       "      <td>Petoo</td>\n",
       "      <td>No</td>\n",
       "      <td>No</td>\n",
       "      <td>3.7</td>\n",
       "      <td>21</td>\n",
       "      <td>Banashankari</td>\n",
       "      <td>Quick Bites</td>\n",
       "      <td>North Indian</td>\n",
       "      <td>450</td>\n",
       "      <td>[('Rated 2.0', 'RATED\\n  This is a neatly made...</td>\n",
       "      <td>[]</td>\n",
       "      <td>Delivery</td>\n",
       "      <td>Banashankari</td>\n",
       "    </tr>\n",
       "    <tr>\n",
       "      <th>85</th>\n",
       "      <td>85</td>\n",
       "      <td>87</td>\n",
       "      <td>38, 22nd Main, 22nd Cross, Opposite BDA, 2nd S...</td>\n",
       "      <td>Krishna Sagar</td>\n",
       "      <td>No</td>\n",
       "      <td>No</td>\n",
       "      <td>3.5</td>\n",
       "      <td>31</td>\n",
       "      <td>Banashankari</td>\n",
       "      <td>Quick Bites</td>\n",
       "      <td>North Indian</td>\n",
       "      <td>200</td>\n",
       "      <td>[('Rated 1.0', 'RATED\\n  Worst experience with...</td>\n",
       "      <td>[]</td>\n",
       "      <td>Delivery</td>\n",
       "      <td>Banashankari</td>\n",
       "    </tr>\n",
       "    <tr>\n",
       "      <th>90</th>\n",
       "      <td>90</td>\n",
       "      <td>94</td>\n",
       "      <td>304, Opposite Apollo Public School, 100 Feet R...</td>\n",
       "      <td>Nandhini Deluxe</td>\n",
       "      <td>No</td>\n",
       "      <td>No</td>\n",
       "      <td>2.6</td>\n",
       "      <td>283</td>\n",
       "      <td>Banashankari</td>\n",
       "      <td>Casual Dining</td>\n",
       "      <td>North Indian</td>\n",
       "      <td>600</td>\n",
       "      <td>[('Rated 3.0', 'RATED\\n  Ididnt like much.\\n\\n...</td>\n",
       "      <td>[]</td>\n",
       "      <td>Delivery</td>\n",
       "      <td>Banashankari</td>\n",
       "    </tr>\n",
       "    <tr>\n",
       "      <th>104</th>\n",
       "      <td>104</td>\n",
       "      <td>109</td>\n",
       "      <td>8, Katriguppe Main Road, Vivekananda Nagar, 3r...</td>\n",
       "      <td>Katriguppe Donne Biryani</td>\n",
       "      <td>No</td>\n",
       "      <td>No</td>\n",
       "      <td>3.2</td>\n",
       "      <td>4</td>\n",
       "      <td>Banashankari</td>\n",
       "      <td>Quick Bites</td>\n",
       "      <td>North Indian</td>\n",
       "      <td>300</td>\n",
       "      <td>[]</td>\n",
       "      <td>[]</td>\n",
       "      <td>Delivery</td>\n",
       "      <td>Banashankari</td>\n",
       "    </tr>\n",
       "  </tbody>\n",
       "</table>\n",
       "</div>"
      ],
      "text/plain": [
       "     level_0  index                                            address  \\\n",
       "5          5      5  37, 5-1, 4th Floor, Bosco Court, Gandhi Bazaar...   \n",
       "50        50     50  276, Ground Floor, 100 Feet Outer Ring Road, B...   \n",
       "85        85     87  38, 22nd Main, 22nd Cross, Opposite BDA, 2nd S...   \n",
       "90        90     94  304, Opposite Apollo Public School, 100 Feet R...   \n",
       "104      104    109  8, Katriguppe Main Road, Vivekananda Nagar, 3r...   \n",
       "\n",
       "                         name online_order book_table  rate  votes  \\\n",
       "5             Timepass Dinner          Yes         No   3.8    286   \n",
       "50                      Petoo           No         No   3.7     21   \n",
       "85              Krishna Sagar           No         No   3.5     31   \n",
       "90            Nandhini Deluxe           No         No   2.6    283   \n",
       "104  Katriguppe Donne Biryani           No         No   3.2      4   \n",
       "\n",
       "         location      rest_type      cuisines cost  \\\n",
       "5    Basavanagudi  Casual Dining  North Indian  600   \n",
       "50   Banashankari    Quick Bites  North Indian  450   \n",
       "85   Banashankari    Quick Bites  North Indian  200   \n",
       "90   Banashankari  Casual Dining  North Indian  600   \n",
       "104  Banashankari    Quick Bites  North Indian  300   \n",
       "\n",
       "                                          reviews_list menu_item      type  \\\n",
       "5    [('Rated 3.0', 'RATED\\n  Food 3/5\\nAmbience 3/...        []    Buffet   \n",
       "50   [('Rated 2.0', 'RATED\\n  This is a neatly made...        []  Delivery   \n",
       "85   [('Rated 1.0', 'RATED\\n  Worst experience with...        []  Delivery   \n",
       "90   [('Rated 3.0', 'RATED\\n  Ididnt like much.\\n\\n...        []  Delivery   \n",
       "104                                                 []        []  Delivery   \n",
       "\n",
       "             city  \n",
       "5    Banashankari  \n",
       "50   Banashankari  \n",
       "85   Banashankari  \n",
       "90   Banashankari  \n",
       "104  Banashankari  "
      ]
     },
     "execution_count": 66,
     "metadata": {},
     "output_type": "execute_result"
    }
   ],
   "source": [
    "df2= df4[df4['cuisines']=='North Indian']\n",
    "df2.head()"
   ]
  },
  {
   "cell_type": "code",
   "execution_count": null,
   "metadata": {},
   "outputs": [],
   "source": [
    "plt.rcParams[\"figure.figsize\"] = (11,7)"
   ]
  },
  {
   "cell_type": "code",
   "execution_count": null,
   "metadata": {},
   "outputs": [
    {
     "data": {
      "image/png": "[encoded data removed]",
      "text/plain": [
       "<Figure size 1100x700 with 1 Axes>"
      ]
     },
     "metadata": {},
     "output_type": "display_data"
    }
   ],
   "source": [
    "values = df4['cuisines'].value_counts()[:20]\n",
    "labels=values.index\n",
    "text=values.index\n",
    "\n",
    "colors = sns.color_palette('pastel')[0:len(labels)]\n",
    "plt.pie(values.values, labels=labels, colors=colors,autopct='%.0f%%')\n",
    "# displaying chart\n",
    "plt.show()"
   ]
  },
  {
   "cell_type": "code",
   "execution_count": null,
   "metadata": {},
   "outputs": [
    {
     "data": {
      "text/plain": [
       "<AxesSubplot: xlabel='cost', ylabel='online_order'>"
      ]
     },
     "execution_count": 141,
     "metadata": {},
     "output_type": "execute_result"
    },
    {
     "data": {
      "image/png": "[encoded data removed]",
      "text/plain": [
       "<Figure size 1100x700 with 1 Axes>"
      ]
     },
     "metadata": {},
     "output_type": "display_data"
    }
   ],
   "source": [
    "sns.barplot(df4,x='cost',y='online_order',linewidth=1, edgecolor=\".2\",capsize=.2, errcolor=\".5\",orient=\"h\",hue='book_table')\n",
    "# e expect book table more available on restaurants which doesn't accept online orders"
   ]
  },
  {
   "cell_type": "code",
   "execution_count": null,
   "metadata": {},
   "outputs": [
    {
     "ename": "NameError",
     "evalue": "name 'df4' is not defined",
     "output_type": "error",
     "traceback": [
      "\u001b[1;31m---------------------------------------------------------------------------\u001b[0m",
      "\u001b[1;31mNameError\u001b[0m                                 Traceback (most recent call last)",
      "Cell \u001b[1;32mIn [10], line 1\u001b[0m\n\u001b[1;32m----> 1\u001b[0m sns\u001b[38;5;241m.\u001b[39mbarplot(df4,x\u001b[38;5;241m=\u001b[39m\u001b[38;5;124m'\u001b[39m\u001b[38;5;124mcost\u001b[39m\u001b[38;5;124m'\u001b[39m,y\u001b[38;5;241m=\u001b[39m\u001b[38;5;124m'\u001b[39m\u001b[38;5;124mcity\u001b[39m\u001b[38;5;124m'\u001b[39m,orient\u001b[38;5;241m=\u001b[39m\u001b[38;5;124m\"\u001b[39m\u001b[38;5;124mh\u001b[39m\u001b[38;5;124m\"\u001b[39m)\n",
      "\u001b[1;31mNameError\u001b[0m: name 'df4' is not defined"
     ]
    }
   ],
   "source": [
    "sns.barplot(df4,x='cost',y='city',orient=\"h\")"
   ]
  },
  {
   "cell_type": "markdown",
   "metadata": {},
   "source": [
    "#### TYPe insights"
   ]
  },
  {
   "cell_type": "code",
   "execution_count": null,
   "metadata": {},
   "outputs": [],
   "source": [
    "avg_type_rating = df4.groupby('type')['rate'].mean()\n",
    "avg_type_cost = df4.groupby('type')['cost'].mean()\n",
    "avg_type = df4.type.unique()"
   ]
  },
  {
   "cell_type": "code",
   "execution_count": null,
   "metadata": {},
   "outputs": [
    {
     "data": {
      "text/plain": [
       "<AxesSubplot: ylabel='cost'>"
      ]
     },
     "execution_count": 45,
     "metadata": {},
     "output_type": "execute_result"
    },
    {
     "data": {
      "image/png": "[encoded data removed]",
      "text/plain": [
       "<Figure size 1200x600 with 2 Axes>"
      ]
     },
     "metadata": {},
     "output_type": "display_data"
    }
   ],
   "source": [
    "matplotlib.rc_file_defaults()\n",
    "ax1 = sns.set_style(style=None, rc=None )\n",
    "\n",
    "fig, ax1 = plt.subplots(figsize=(12,6))\n",
    "\n",
    "sns.lineplot(data = avg_type_rating, marker='o', sort = False, ax=ax1)\n",
    "ax2 = ax1.twinx()\n",
    "\n",
    "sns.barplot( x=avg_type, y=avg_type_cost, alpha=0.5, ax=ax2)"
   ]
  },
  {
   "cell_type": "code",
   "execution_count": null,
   "metadata": {},
   "outputs": [
    {
     "data": {
      "text/plain": [
       "Quick Bites                   13885\n",
       "Casual Dining                  9614\n",
       "Cafe                           3369\n",
       "Dessert Parlor                 1850\n",
       "Delivery                       1667\n",
       "                              ...  \n",
       "Food Court, Beverage Shop         2\n",
       "Dessert Parlor, Food Court        2\n",
       "Dessert Parlor, Kiosk             2\n",
       "Bakery, Beverage Shop             1\n",
       "Quick Bites, Kiosk                1\n",
       "Name: rest_type, Length: 87, dtype: int64"
      ]
     },
     "execution_count": 78,
     "metadata": {},
     "output_type": "execute_result"
    }
   ],
   "source": [
    "df4['rest_type'].value_counts()"
   ]
  },
  {
   "cell_type": "code",
   "execution_count": null,
   "metadata": {},
   "outputs": [
    {
     "data": {
      "image/png": "[encoded data removed]",
      "text/plain": [
       "<Figure size 1100x700 with 1 Axes>"
      ]
     },
     "metadata": {},
     "output_type": "display_data"
    }
   ],
   "source": [
    "values = df4['type'].value_counts()\n",
    "labels=values.index\n",
    "text=values.index\n",
    "\n",
    "colors = sns.color_palette('pastel')[0:len(labels)]\n",
    "plt.pie(values.values, labels=labels, colors=colors,autopct='%.0f%%')\n",
    "# displaying chart\n",
    "plt.show()"
   ]
  },
  {
   "cell_type": "code",
   "execution_count": null,
   "metadata": {},
   "outputs": [
    {
     "data": {
      "text/plain": [
       "Text(0.5, 0, 'count')"
      ]
     },
     "execution_count": 80,
     "metadata": {},
     "output_type": "execute_result"
    },
    {
     "data": {
      "image/png": "[encoded data removed]",
      "text/plain": [
       "<Figure size 1100x700 with 1 Axes>"
      ]
     },
     "metadata": {},
     "output_type": "display_data"
    }
   ],
   "source": [
    "rest=df4['rest_type'].value_counts()[:20]\n",
    "sns.barplot(x=rest,y=rest.index)\n",
    "plt.title(\"Restaurant types\")\n",
    "plt.xlabel(\"count\")"
   ]
  },
  {
   "cell_type": "code",
   "execution_count": null,
   "metadata": {},
   "outputs": [
    {
     "data": {
      "text/html": [
       "<div>\n",
       "<style scoped>\n",
       "    .dataframe tbody tr th:only-of-type {\n",
       "        vertical-align: middle;\n",
       "    }\n",
       "\n",
       "    .dataframe tbody tr th {\n",
       "        vertical-align: top;\n",
       "    }\n",
       "\n",
       "    .dataframe thead th {\n",
       "        text-align: right;\n",
       "    }\n",
       "</style>\n",
       "<table border=\"1\" class=\"dataframe\">\n",
       "  <thead>\n",
       "    <tr style=\"text-align: right;\">\n",
       "      <th></th>\n",
       "      <th>index</th>\n",
       "      <th>address</th>\n",
       "      <th>name</th>\n",
       "      <th>online_order</th>\n",
       "      <th>book_table</th>\n",
       "      <th>rate</th>\n",
       "      <th>votes</th>\n",
       "      <th>location</th>\n",
       "      <th>rest_type</th>\n",
       "      <th>cuisines</th>\n",
       "      <th>cost</th>\n",
       "      <th>reviews_list</th>\n",
       "      <th>menu_item</th>\n",
       "      <th>type</th>\n",
       "      <th>city</th>\n",
       "    </tr>\n",
       "  </thead>\n",
       "  <tbody>\n",
       "    <tr>\n",
       "      <th>0</th>\n",
       "      <td>0</td>\n",
       "      <td>942, 21st Main Road, 2nd Stage, Banashankari, ...</td>\n",
       "      <td>Jalsa</td>\n",
       "      <td>Yes</td>\n",
       "      <td>Yes</td>\n",
       "      <td>4.1</td>\n",
       "      <td>775</td>\n",
       "      <td>Banashankari</td>\n",
       "      <td>Casual Dining</td>\n",
       "      <td>North Indian, Mughlai, Chinese</td>\n",
       "      <td>800</td>\n",
       "      <td>[   A beautiful place to dine in.The interiors...</td>\n",
       "      <td>[]</td>\n",
       "      <td>Buffet</td>\n",
       "      <td>Banashankari</td>\n",
       "    </tr>\n",
       "    <tr>\n",
       "      <th>1</th>\n",
       "      <td>1</td>\n",
       "      <td>2nd Floor, 80 Feet Road, Near Big Bazaar, 6th ...</td>\n",
       "      <td>Spice Elephant</td>\n",
       "      <td>Yes</td>\n",
       "      <td>No</td>\n",
       "      <td>4.1</td>\n",
       "      <td>787</td>\n",
       "      <td>Banashankari</td>\n",
       "      <td>Casual Dining</td>\n",
       "      <td>Chinese, North Indian, Thai</td>\n",
       "      <td>800</td>\n",
       "      <td>[   Had been here for dinner with family. Turn...</td>\n",
       "      <td>[]</td>\n",
       "      <td>Buffet</td>\n",
       "      <td>Banashankari</td>\n",
       "    </tr>\n",
       "    <tr>\n",
       "      <th>2</th>\n",
       "      <td>2</td>\n",
       "      <td>1112, Next to KIMS Medical College, 17th Cross...</td>\n",
       "      <td>San Churro Cafe</td>\n",
       "      <td>Yes</td>\n",
       "      <td>No</td>\n",
       "      <td>3.8</td>\n",
       "      <td>918</td>\n",
       "      <td>Banashankari</td>\n",
       "      <td>Cafe, Casual Dining</td>\n",
       "      <td>Cafe, Mexican, Italian</td>\n",
       "      <td>800</td>\n",
       "      <td>[('', \"\\n  Ambience is not that good enough an...</td>\n",
       "      <td>[]</td>\n",
       "      <td>Buffet</td>\n",
       "      <td>Banashankari</td>\n",
       "    </tr>\n",
       "    <tr>\n",
       "      <th>3</th>\n",
       "      <td>3</td>\n",
       "      <td>1st Floor, Annakuteera, 3rd Stage, Banashankar...</td>\n",
       "      <td>Addhuri Udupi Bhojana</td>\n",
       "      <td>No</td>\n",
       "      <td>No</td>\n",
       "      <td>3.7</td>\n",
       "      <td>88</td>\n",
       "      <td>Banashankari</td>\n",
       "      <td>Quick Bites</td>\n",
       "      <td>South Indian, North Indian</td>\n",
       "      <td>300</td>\n",
       "      <td>[('', \"\\n  Great food and proper Karnataka sty...</td>\n",
       "      <td>[]</td>\n",
       "      <td>Buffet</td>\n",
       "      <td>Banashankari</td>\n",
       "    </tr>\n",
       "    <tr>\n",
       "      <th>4</th>\n",
       "      <td>4</td>\n",
       "      <td>10, 3rd Floor, Lakshmi Associates, Gandhi Baza...</td>\n",
       "      <td>Grand Village</td>\n",
       "      <td>No</td>\n",
       "      <td>No</td>\n",
       "      <td>3.8</td>\n",
       "      <td>166</td>\n",
       "      <td>Basavanagudi</td>\n",
       "      <td>Casual Dining</td>\n",
       "      <td>North Indian, Rajasthani</td>\n",
       "      <td>600</td>\n",
       "      <td>[   Very good restaurant in neighbourhood. Buf...</td>\n",
       "      <td>[]</td>\n",
       "      <td>Buffet</td>\n",
       "      <td>Banashankari</td>\n",
       "    </tr>\n",
       "    <tr>\n",
       "      <th>...</th>\n",
       "      <td>...</td>\n",
       "      <td>...</td>\n",
       "      <td>...</td>\n",
       "      <td>...</td>\n",
       "      <td>...</td>\n",
       "      <td>...</td>\n",
       "      <td>...</td>\n",
       "      <td>...</td>\n",
       "      <td>...</td>\n",
       "      <td>...</td>\n",
       "      <td>...</td>\n",
       "      <td>...</td>\n",
       "      <td>...</td>\n",
       "      <td>...</td>\n",
       "      <td>...</td>\n",
       "    </tr>\n",
       "    <tr>\n",
       "      <th>41258</th>\n",
       "      <td>51709</td>\n",
       "      <td>136, SAP Labs India, KIADB Export Promotion In...</td>\n",
       "      <td>The Farm House Bar n Grill</td>\n",
       "      <td>No</td>\n",
       "      <td>No</td>\n",
       "      <td>3.7</td>\n",
       "      <td>34</td>\n",
       "      <td>Whitefield</td>\n",
       "      <td>Casual Dining, Bar</td>\n",
       "      <td>North Indian, Continental</td>\n",
       "      <td>800</td>\n",
       "      <td>[   Ambience- Big and spacious lawn was used t...</td>\n",
       "      <td>[]</td>\n",
       "      <td>Pubs and bars</td>\n",
       "      <td>Whitefield</td>\n",
       "    </tr>\n",
       "    <tr>\n",
       "      <th>41259</th>\n",
       "      <td>51711</td>\n",
       "      <td>139/C1, Next To GR Tech Park, Pattandur Agraha...</td>\n",
       "      <td>Bhagini</td>\n",
       "      <td>No</td>\n",
       "      <td>No</td>\n",
       "      <td>2.5</td>\n",
       "      <td>81</td>\n",
       "      <td>Whitefield</td>\n",
       "      <td>Casual Dining, Bar</td>\n",
       "      <td>Andhra, South Indian, Chinese, North Indian</td>\n",
       "      <td>800</td>\n",
       "      <td>[   A fine place to chill after office hours, ...</td>\n",
       "      <td>[]</td>\n",
       "      <td>Pubs and bars</td>\n",
       "      <td>Whitefield</td>\n",
       "    </tr>\n",
       "    <tr>\n",
       "      <th>41260</th>\n",
       "      <td>51712</td>\n",
       "      <td>Four Points by Sheraton Bengaluru, 43/3, White...</td>\n",
       "      <td>Best Brews - Four Points by Sheraton Bengaluru...</td>\n",
       "      <td>No</td>\n",
       "      <td>No</td>\n",
       "      <td>3.6</td>\n",
       "      <td>27</td>\n",
       "      <td>Whitefield</td>\n",
       "      <td>Bar</td>\n",
       "      <td>Continental</td>\n",
       "      <td>1500</td>\n",
       "      <td>[('', \"\\n  Food and service are incomparably e...</td>\n",
       "      <td>[]</td>\n",
       "      <td>Pubs and bars</td>\n",
       "      <td>Whitefield</td>\n",
       "    </tr>\n",
       "    <tr>\n",
       "      <th>41261</th>\n",
       "      <td>51715</td>\n",
       "      <td>Sheraton Grand Bengaluru Whitefield Hotel &amp; Co...</td>\n",
       "      <td>Chime - Sheraton Grand Bengaluru Whitefield Ho...</td>\n",
       "      <td>No</td>\n",
       "      <td>Yes</td>\n",
       "      <td>4.3</td>\n",
       "      <td>236</td>\n",
       "      <td>ITPL Main Road, Whitefield</td>\n",
       "      <td>Bar</td>\n",
       "      <td>Finger Food</td>\n",
       "      <td>2500</td>\n",
       "      <td>[   Nice and friendly place and staff is aweso...</td>\n",
       "      <td>[]</td>\n",
       "      <td>Pubs and bars</td>\n",
       "      <td>Whitefield</td>\n",
       "    </tr>\n",
       "    <tr>\n",
       "      <th>41262</th>\n",
       "      <td>51716</td>\n",
       "      <td>ITPL Main Road, KIADB Export Promotion Industr...</td>\n",
       "      <td>The Nest - The Den Bengaluru</td>\n",
       "      <td>No</td>\n",
       "      <td>No</td>\n",
       "      <td>3.4</td>\n",
       "      <td>13</td>\n",
       "      <td>ITPL Main Road, Whitefield</td>\n",
       "      <td>Bar, Casual Dining</td>\n",
       "      <td>Finger Food, North Indian, Continental</td>\n",
       "      <td>1500</td>\n",
       "      <td>[   Great ambience , looking nice good selecti...</td>\n",
       "      <td>[]</td>\n",
       "      <td>Pubs and bars</td>\n",
       "      <td>Whitefield</td>\n",
       "    </tr>\n",
       "  </tbody>\n",
       "</table>\n",
       "<p>41263 rows × 15 columns</p>\n",
       "</div>"
      ],
      "text/plain": [
       "       index                                            address  \\\n",
       "0          0  942, 21st Main Road, 2nd Stage, Banashankari, ...   \n",
       "1          1  2nd Floor, 80 Feet Road, Near Big Bazaar, 6th ...   \n",
       "2          2  1112, Next to KIMS Medical College, 17th Cross...   \n",
       "3          3  1st Floor, Annakuteera, 3rd Stage, Banashankar...   \n",
       "4          4  10, 3rd Floor, Lakshmi Associates, Gandhi Baza...   \n",
       "...      ...                                                ...   \n",
       "41258  51709  136, SAP Labs India, KIADB Export Promotion In...   \n",
       "41259  51711  139/C1, Next To GR Tech Park, Pattandur Agraha...   \n",
       "41260  51712  Four Points by Sheraton Bengaluru, 43/3, White...   \n",
       "41261  51715  Sheraton Grand Bengaluru Whitefield Hotel & Co...   \n",
       "41262  51716  ITPL Main Road, KIADB Export Promotion Industr...   \n",
       "\n",
       "                                                    name online_order  \\\n",
       "0                                                  Jalsa          Yes   \n",
       "1                                         Spice Elephant          Yes   \n",
       "2                                        San Churro Cafe          Yes   \n",
       "3                                  Addhuri Udupi Bhojana           No   \n",
       "4                                          Grand Village           No   \n",
       "...                                                  ...          ...   \n",
       "41258                         The Farm House Bar n Grill           No   \n",
       "41259                                            Bhagini           No   \n",
       "41260  Best Brews - Four Points by Sheraton Bengaluru...           No   \n",
       "41261  Chime - Sheraton Grand Bengaluru Whitefield Ho...           No   \n",
       "41262                       The Nest - The Den Bengaluru           No   \n",
       "\n",
       "      book_table  rate  votes                    location  \\\n",
       "0            Yes   4.1    775                Banashankari   \n",
       "1             No   4.1    787                Banashankari   \n",
       "2             No   3.8    918                Banashankari   \n",
       "3             No   3.7     88                Banashankari   \n",
       "4             No   3.8    166                Basavanagudi   \n",
       "...          ...   ...    ...                         ...   \n",
       "41258         No   3.7     34                  Whitefield   \n",
       "41259         No   2.5     81                  Whitefield   \n",
       "41260         No   3.6     27                  Whitefield   \n",
       "41261        Yes   4.3    236  ITPL Main Road, Whitefield   \n",
       "41262         No   3.4     13  ITPL Main Road, Whitefield   \n",
       "\n",
       "                 rest_type                                     cuisines  cost  \\\n",
       "0            Casual Dining               North Indian, Mughlai, Chinese   800   \n",
       "1            Casual Dining                  Chinese, North Indian, Thai   800   \n",
       "2      Cafe, Casual Dining                       Cafe, Mexican, Italian   800   \n",
       "3              Quick Bites                   South Indian, North Indian   300   \n",
       "4            Casual Dining                     North Indian, Rajasthani   600   \n",
       "...                    ...                                          ...   ...   \n",
       "41258   Casual Dining, Bar                    North Indian, Continental   800   \n",
       "41259   Casual Dining, Bar  Andhra, South Indian, Chinese, North Indian   800   \n",
       "41260                  Bar                                  Continental  1500   \n",
       "41261                  Bar                                  Finger Food  2500   \n",
       "41262   Bar, Casual Dining       Finger Food, North Indian, Continental  1500   \n",
       "\n",
       "                                            reviews_list menu_item  \\\n",
       "0      [   A beautiful place to dine in.The interiors...        []   \n",
       "1      [   Had been here for dinner with family. Turn...        []   \n",
       "2      [('', \"\\n  Ambience is not that good enough an...        []   \n",
       "3      [('', \"\\n  Great food and proper Karnataka sty...        []   \n",
       "4      [   Very good restaurant in neighbourhood. Buf...        []   \n",
       "...                                                  ...       ...   \n",
       "41258  [   Ambience- Big and spacious lawn was used t...        []   \n",
       "41259  [   A fine place to chill after office hours, ...        []   \n",
       "41260  [('', \"\\n  Food and service are incomparably e...        []   \n",
       "41261  [   Nice and friendly place and staff is aweso...        []   \n",
       "41262  [   Great ambience , looking nice good selecti...        []   \n",
       "\n",
       "                type          city  \n",
       "0             Buffet  Banashankari  \n",
       "1             Buffet  Banashankari  \n",
       "2             Buffet  Banashankari  \n",
       "3             Buffet  Banashankari  \n",
       "4             Buffet  Banashankari  \n",
       "...              ...           ...  \n",
       "41258  Pubs and bars    Whitefield  \n",
       "41259  Pubs and bars    Whitefield  \n",
       "41260  Pubs and bars    Whitefield  \n",
       "41261  Pubs and bars    Whitefield  \n",
       "41262  Pubs and bars    Whitefield  \n",
       "\n",
       "[41263 rows x 15 columns]"
      ]
     },
     "execution_count": 86,
     "metadata": {},
     "output_type": "execute_result"
    }
   ],
   "source": [
    "df4"
   ]
  },
  {
   "cell_type": "markdown",
   "metadata": {},
   "source": [
    "##### REviews and ratings csv creation\n",
    "We will take reviews_lists seeprate them in a rows. \n",
    "Our dataframe will be constitued from review rating and restaurant name, then we will process it with NLP methods "
   ]
  },
  {
   "cell_type": "code",
   "execution_count": null,
   "metadata": {},
   "outputs": [
    {
     "name": "stderr",
     "output_type": "stream",
     "text": [
      "46443it [00:25, 1851.17it/s]\n"
     ]
    }
   ],
   "source": [
    "all_ratings = []\n",
    "\n",
    "for name,ratings in tqdm(zip(df2['name'],df2['reviews_list'])):\n",
    "    ratings = eval(ratings)\n",
    "    for score, doc in ratings:\n",
    "        if score:\n",
    "            score = score.strip(\"Rated\").strip()\n",
    "            doc = doc.strip('RATED').strip()\n",
    "            score = float(score)\n",
    "            all_ratings.append([name,score, doc])\n",
    "rating_df = pd.DataFrame(all_ratings,columns=['name','rating','review'])\n",
    "rating_df['review']=rating_df['review'].apply(lambda x : re.sub('[^a-zA-Z0-9\\s]',\"\",x))\n",
    "rating_df.to_csv(\"./dbs/ratingsandreviews.csv\")"
   ]
  },
  {
   "cell_type": "code",
   "execution_count": null,
   "metadata": {},
   "outputs": [
    {
     "data": {
      "text/html": [
       "<div>\n",
       "<style scoped>\n",
       "    .dataframe tbody tr th:only-of-type {\n",
       "        vertical-align: middle;\n",
       "    }\n",
       "\n",
       "    .dataframe tbody tr th {\n",
       "        vertical-align: top;\n",
       "    }\n",
       "\n",
       "    .dataframe thead th {\n",
       "        text-align: right;\n",
       "    }\n",
       "</style>\n",
       "<table border=\"1\" class=\"dataframe\">\n",
       "  <thead>\n",
       "    <tr style=\"text-align: right;\">\n",
       "      <th></th>\n",
       "      <th>name</th>\n",
       "      <th>rating</th>\n",
       "      <th>review</th>\n",
       "    </tr>\n",
       "  </thead>\n",
       "  <tbody>\n",
       "    <tr>\n",
       "      <th>0</th>\n",
       "      <td>Jalsa</td>\n",
       "      <td>4.0</td>\n",
       "      <td>A beautiful place to dine inThe interiors take...</td>\n",
       "    </tr>\n",
       "    <tr>\n",
       "      <th>1</th>\n",
       "      <td>Jalsa</td>\n",
       "      <td>4.0</td>\n",
       "      <td>I was here for dinner with my family on a week...</td>\n",
       "    </tr>\n",
       "    <tr>\n",
       "      <th>2</th>\n",
       "      <td>Jalsa</td>\n",
       "      <td>2.0</td>\n",
       "      <td>Its a restaurant near to Banashankari BDA Me a...</td>\n",
       "    </tr>\n",
       "    <tr>\n",
       "      <th>3</th>\n",
       "      <td>Jalsa</td>\n",
       "      <td>4.0</td>\n",
       "      <td>We went here on a weekend and one of us had th...</td>\n",
       "    </tr>\n",
       "    <tr>\n",
       "      <th>4</th>\n",
       "      <td>Jalsa</td>\n",
       "      <td>5.0</td>\n",
       "      <td>The best thing about the place is its ambiance...</td>\n",
       "    </tr>\n",
       "  </tbody>\n",
       "</table>\n",
       "</div>"
      ],
      "text/plain": [
       "    name  rating                                             review\n",
       "0  Jalsa     4.0  A beautiful place to dine inThe interiors take...\n",
       "1  Jalsa     4.0  I was here for dinner with my family on a week...\n",
       "2  Jalsa     2.0  Its a restaurant near to Banashankari BDA Me a...\n",
       "3  Jalsa     4.0  We went here on a weekend and one of us had th...\n",
       "4  Jalsa     5.0  The best thing about the place is its ambiance..."
      ]
     },
     "execution_count": 74,
     "metadata": {},
     "output_type": "execute_result"
    }
   ],
   "source": [
    "rating_df.head()"
   ]
  },
  {
   "cell_type": "code",
   "execution_count": null,
   "metadata": {},
   "outputs": [
    {
     "data": {
      "text/plain": [
       "Text(0.5, 1.0, 'rate vs oline order')"
      ]
     },
     "execution_count": 80,
     "metadata": {},
     "output_type": "execute_result"
    },
    {
     "data": {
      "image/png": "[encoded data removed]",
      "text/plain": [
       "<Figure size 1200x600 with 1 Axes>"
      ]
     },
     "metadata": {},
     "output_type": "display_data"
    }
   ],
   "source": [
    "plt.figure(figsize = (12,6))\n",
    "sns.countplot(x=df4['rate'], hue = df4['online_order'])\n",
    "plt.ylabel(\"Restaurants that Accept/Not Accepting online orders\")\n",
    "plt.title(\"rate vs oline order\",weight = 'bold')"
   ]
  },
  {
   "cell_type": "code",
   "execution_count": null,
   "metadata": {},
   "outputs": [],
   "source": []
  },
  {
   "cell_type": "markdown",
   "metadata": {},
   "source": [
    "### Model Progress\n",
    "We will implement our model now"
   ]
  },
  {
   "cell_type": "code",
   "execution_count": 323,
   "metadata": {},
   "outputs": [],
   "source": [
    "df = pd.read_csv('dbs/zomato.csv')"
   ]
  },
  {
   "cell_type": "code",
   "execution_count": 319,
   "metadata": {},
   "outputs": [],
   "source": [
    "def one_hot_encode(df, column):\n",
    "    # Get one hot encoding of columns B\n",
    "    df[column] = pd.get_dummies(df[column],drop_first=True)\n"
   ]
  },
  {
   "cell_type": "code",
   "execution_count": 320,
   "metadata": {},
   "outputs": [],
   "source": [
    "df5 = df.copy()"
   ]
  },
  {
   "cell_type": "code",
   "execution_count": 321,
   "metadata": {},
   "outputs": [],
   "source": [
    "one_hot_colums = ['book_table','online_order']\n",
    "for col in one_hot_colums:\n",
    "    one_hot_encode(df5,col)"
   ]
  },
  {
   "cell_type": "code",
   "execution_count": 324,
   "metadata": {},
   "outputs": [
    {
     "data": {
      "text/plain": [
       "Index(['level_0', 'index', 'name', 'online_order', 'book_table', 'rate',\n",
       "       'votes', 'location', 'rest_type', 'dish_liked', 'cuisines', 'cost',\n",
       "       'reviews_list', 'menu_item', 'type', 'city'],\n",
       "      dtype='object')"
      ]
     },
     "execution_count": 324,
     "metadata": {},
     "output_type": "execute_result"
    }
   ],
   "source": [
    "df5.columns"
   ]
  },
  {
   "cell_type": "code",
   "execution_count": null,
   "metadata": {},
   "outputs": [],
   "source": [
    "unnec_columns=['reviews_list','menu_item','address','type','url','phone','listed_in(city)']"
   ]
  },
  {
   "cell_type": "code",
   "execution_count": null,
   "metadata": {},
   "outputs": [],
   "source": [
    "def drop_unnecs(df,columns):\n",
    "    for col in columns:\n",
    "        if col in df.columns:\n",
    "\n",
    "            df.drop(col,axis=1,inplace=True)\n",
    "    return df"
   ]
  },
  {
   "cell_type": "code",
   "execution_count": null,
   "metadata": {},
   "outputs": [],
   "source": [
    "drop_unnecs(df5,unnec_columns)"
   ]
  },
  {
   "cell_type": "code",
   "execution_count": null,
   "metadata": {},
   "outputs": [
    {
     "data": {
      "text/plain": [
       "Index(['name', 'online_order', 'book_table', 'rate', 'votes', 'location',\n",
       "       'rest_type', 'cuisines', 'approx_cost(for two people)'],\n",
       "      dtype='object')"
      ]
     },
     "execution_count": 114,
     "metadata": {},
     "output_type": "execute_result"
    }
   ],
   "source": [
    "df5.columns"
   ]
  },
  {
   "cell_type": "code",
   "execution_count": null,
   "metadata": {},
   "outputs": [],
   "source": [
    "df5.dropna(inplace=True)"
   ]
  },
  {
   "cell_type": "code",
   "execution_count": null,
   "metadata": {},
   "outputs": [],
   "source": [
    "# df5.drop(columns=['dish_liked','listed_in(type)'], inplace  = True)"
   ]
  },
  {
   "cell_type": "code",
   "execution_count": null,
   "metadata": {},
   "outputs": [
    {
     "data": {
      "text/plain": [
       "Bites Quick       15011\n",
       "Casual Dining      9878\n",
       "Cafe               3491\n",
       "Dessert Parlor     1925\n",
       "Delivery           1777\n",
       "Name: rest_type, dtype: int64"
      ]
     },
     "execution_count": 118,
     "metadata": {},
     "output_type": "execute_result"
    }
   ],
   "source": [
    "df5['rest_type'] = df5['rest_type'].str.replace(',' , '') \n",
    "df5['rest_type'] = df5['rest_type'].astype(str).apply(lambda x: ' '.join(sorted(x.split())))\n",
    "df5['rest_type'].value_counts().head()"
   ]
  },
  {
   "cell_type": "code",
   "execution_count": null,
   "metadata": {},
   "outputs": [],
   "source": [
    "df6  = df5.copy()"
   ]
  },
  {
   "cell_type": "code",
   "execution_count": null,
   "metadata": {},
   "outputs": [
    {
     "name": "stderr",
     "output_type": "stream",
     "text": [
      "C:\\Users\\emreb\\AppData\\Local\\Temp\\ipykernel_20628\\1665189581.py:3: DeprecationWarning:\n",
      "\n",
      "`np.str` is a deprecated alias for the builtin `str`. To silence this warning, use `str` by itself. Doing this will not modify any behavior and is safe. If you specifically wanted the numpy scalar type, use `np.str_` here.\n",
      "Deprecated in NumPy 1.20; for more details and guidance: https://numpy.org/devdocs/release/1.20.0-notes.html#deprecations\n",
      "\n"
     ]
    },
    {
     "data": {
      "text/plain": [
       "0    4.1\n",
       "1    4.1\n",
       "2    3.8\n",
       "3    3.7\n",
       "4    3.8\n",
       "Name: rate, dtype: float64"
      ]
     },
     "execution_count": 145,
     "metadata": {},
     "output_type": "execute_result"
    }
   ],
   "source": [
    "df5 = df5.loc[df5.rate !='NEW']\n",
    "df5 = df5.loc[df5.rate !='-'].reset_index(drop=True)\n",
    "remove_slash = lambda x: x.replace('/5', '') if type(x) == np.str else x\n",
    "df5.rate = df5.rate.apply(remove_slash).str.strip().astype('float')\n",
    "df5['rate'].head()"
   ]
  },
  {
   "cell_type": "code",
   "execution_count": null,
   "metadata": {},
   "outputs": [
    {
     "data": {
      "text/html": [
       "<div>\n",
       "<style scoped>\n",
       "    .dataframe tbody tr th:only-of-type {\n",
       "        vertical-align: middle;\n",
       "    }\n",
       "\n",
       "    .dataframe tbody tr th {\n",
       "        vertical-align: top;\n",
       "    }\n",
       "\n",
       "    .dataframe thead th {\n",
       "        text-align: right;\n",
       "    }\n",
       "</style>\n",
       "<table border=\"1\" class=\"dataframe\">\n",
       "  <thead>\n",
       "    <tr style=\"text-align: right;\">\n",
       "      <th></th>\n",
       "      <th>name</th>\n",
       "      <th>online_order</th>\n",
       "      <th>book_table</th>\n",
       "      <th>rate</th>\n",
       "      <th>votes</th>\n",
       "      <th>location</th>\n",
       "      <th>rest_type</th>\n",
       "      <th>cuisines</th>\n",
       "      <th>approx_cost(for two people)</th>\n",
       "    </tr>\n",
       "  </thead>\n",
       "  <tbody>\n",
       "    <tr>\n",
       "      <th>0</th>\n",
       "      <td>Jalsa</td>\n",
       "      <td>1</td>\n",
       "      <td>1</td>\n",
       "      <td>4.1</td>\n",
       "      <td>775</td>\n",
       "      <td>Banashankari</td>\n",
       "      <td>Casual Dining</td>\n",
       "      <td>Chinese Indian Mughlai North</td>\n",
       "      <td>800</td>\n",
       "    </tr>\n",
       "    <tr>\n",
       "      <th>1</th>\n",
       "      <td>Spice Elephant</td>\n",
       "      <td>1</td>\n",
       "      <td>0</td>\n",
       "      <td>4.1</td>\n",
       "      <td>787</td>\n",
       "      <td>Banashankari</td>\n",
       "      <td>Casual Dining</td>\n",
       "      <td>Chinese Indian North Thai</td>\n",
       "      <td>800</td>\n",
       "    </tr>\n",
       "    <tr>\n",
       "      <th>2</th>\n",
       "      <td>San Churro Cafe</td>\n",
       "      <td>1</td>\n",
       "      <td>0</td>\n",
       "      <td>3.8</td>\n",
       "      <td>918</td>\n",
       "      <td>Banashankari</td>\n",
       "      <td>Cafe Casual Dining</td>\n",
       "      <td>Cafe Italian Mexican</td>\n",
       "      <td>800</td>\n",
       "    </tr>\n",
       "    <tr>\n",
       "      <th>3</th>\n",
       "      <td>Addhuri Udupi Bhojana</td>\n",
       "      <td>0</td>\n",
       "      <td>0</td>\n",
       "      <td>3.7</td>\n",
       "      <td>88</td>\n",
       "      <td>Banashankari</td>\n",
       "      <td>Bites Quick</td>\n",
       "      <td>Indian Indian North South</td>\n",
       "      <td>300</td>\n",
       "    </tr>\n",
       "    <tr>\n",
       "      <th>4</th>\n",
       "      <td>Grand Village</td>\n",
       "      <td>0</td>\n",
       "      <td>0</td>\n",
       "      <td>3.8</td>\n",
       "      <td>166</td>\n",
       "      <td>Basavanagudi</td>\n",
       "      <td>Casual Dining</td>\n",
       "      <td>Indian North Rajasthani</td>\n",
       "      <td>600</td>\n",
       "    </tr>\n",
       "    <tr>\n",
       "      <th>...</th>\n",
       "      <td>...</td>\n",
       "      <td>...</td>\n",
       "      <td>...</td>\n",
       "      <td>...</td>\n",
       "      <td>...</td>\n",
       "      <td>...</td>\n",
       "      <td>...</td>\n",
       "      <td>...</td>\n",
       "      <td>...</td>\n",
       "    </tr>\n",
       "    <tr>\n",
       "      <th>41405</th>\n",
       "      <td>The Farm House Bar n Grill</td>\n",
       "      <td>0</td>\n",
       "      <td>0</td>\n",
       "      <td>3.7</td>\n",
       "      <td>34</td>\n",
       "      <td>Whitefield</td>\n",
       "      <td>Bar Casual Dining</td>\n",
       "      <td>Continental Indian North</td>\n",
       "      <td>800</td>\n",
       "    </tr>\n",
       "    <tr>\n",
       "      <th>41406</th>\n",
       "      <td>Bhagini</td>\n",
       "      <td>0</td>\n",
       "      <td>0</td>\n",
       "      <td>2.5</td>\n",
       "      <td>81</td>\n",
       "      <td>Whitefield</td>\n",
       "      <td>Bar Casual Dining</td>\n",
       "      <td>Andhra Chinese Indian Indian North South</td>\n",
       "      <td>800</td>\n",
       "    </tr>\n",
       "    <tr>\n",
       "      <th>41407</th>\n",
       "      <td>Best Brews - Four Points by Sheraton Bengaluru...</td>\n",
       "      <td>0</td>\n",
       "      <td>0</td>\n",
       "      <td>3.6</td>\n",
       "      <td>27</td>\n",
       "      <td>Whitefield</td>\n",
       "      <td>Bar</td>\n",
       "      <td>Continental</td>\n",
       "      <td>1500</td>\n",
       "    </tr>\n",
       "    <tr>\n",
       "      <th>41408</th>\n",
       "      <td>Chime - Sheraton Grand Bengaluru Whitefield Ho...</td>\n",
       "      <td>0</td>\n",
       "      <td>1</td>\n",
       "      <td>4.3</td>\n",
       "      <td>236</td>\n",
       "      <td>ITPL Main Road, Whitefield</td>\n",
       "      <td>Bar</td>\n",
       "      <td>Finger Food</td>\n",
       "      <td>2500</td>\n",
       "    </tr>\n",
       "    <tr>\n",
       "      <th>41409</th>\n",
       "      <td>The Nest - The Den Bengaluru</td>\n",
       "      <td>0</td>\n",
       "      <td>0</td>\n",
       "      <td>3.4</td>\n",
       "      <td>13</td>\n",
       "      <td>ITPL Main Road, Whitefield</td>\n",
       "      <td>Bar Casual Dining</td>\n",
       "      <td>Continental Finger Food Indian North</td>\n",
       "      <td>1500</td>\n",
       "    </tr>\n",
       "  </tbody>\n",
       "</table>\n",
       "<p>41410 rows × 9 columns</p>\n",
       "</div>"
      ],
      "text/plain": [
       "                                                    name  online_order  \\\n",
       "0                                                  Jalsa             1   \n",
       "1                                         Spice Elephant             1   \n",
       "2                                        San Churro Cafe             1   \n",
       "3                                  Addhuri Udupi Bhojana             0   \n",
       "4                                          Grand Village             0   \n",
       "...                                                  ...           ...   \n",
       "41405                         The Farm House Bar n Grill             0   \n",
       "41406                                            Bhagini             0   \n",
       "41407  Best Brews - Four Points by Sheraton Bengaluru...             0   \n",
       "41408  Chime - Sheraton Grand Bengaluru Whitefield Ho...             0   \n",
       "41409                       The Nest - The Den Bengaluru             0   \n",
       "\n",
       "       book_table  rate  votes                    location  \\\n",
       "0               1   4.1    775                Banashankari   \n",
       "1               0   4.1    787                Banashankari   \n",
       "2               0   3.8    918                Banashankari   \n",
       "3               0   3.7     88                Banashankari   \n",
       "4               0   3.8    166                Basavanagudi   \n",
       "...           ...   ...    ...                         ...   \n",
       "41405           0   3.7     34                  Whitefield   \n",
       "41406           0   2.5     81                  Whitefield   \n",
       "41407           0   3.6     27                  Whitefield   \n",
       "41408           1   4.3    236  ITPL Main Road, Whitefield   \n",
       "41409           0   3.4     13  ITPL Main Road, Whitefield   \n",
       "\n",
       "                rest_type                                  cuisines  \\\n",
       "0           Casual Dining              Chinese Indian Mughlai North   \n",
       "1           Casual Dining                 Chinese Indian North Thai   \n",
       "2      Cafe Casual Dining                      Cafe Italian Mexican   \n",
       "3             Bites Quick                 Indian Indian North South   \n",
       "4           Casual Dining                   Indian North Rajasthani   \n",
       "...                   ...                                       ...   \n",
       "41405   Bar Casual Dining                  Continental Indian North   \n",
       "41406   Bar Casual Dining  Andhra Chinese Indian Indian North South   \n",
       "41407                 Bar                               Continental   \n",
       "41408                 Bar                               Finger Food   \n",
       "41409   Bar Casual Dining      Continental Finger Food Indian North   \n",
       "\n",
       "       approx_cost(for two people)  \n",
       "0                              800  \n",
       "1                              800  \n",
       "2                              800  \n",
       "3                              300  \n",
       "4                              600  \n",
       "...                            ...  \n",
       "41405                          800  \n",
       "41406                          800  \n",
       "41407                         1500  \n",
       "41408                         2500  \n",
       "41409                         1500  \n",
       "\n",
       "[41410 rows x 9 columns]"
      ]
     },
     "execution_count": 146,
     "metadata": {},
     "output_type": "execute_result"
    }
   ],
   "source": [
    "df5.reset_index(drop=True)"
   ]
  },
  {
   "cell_type": "code",
   "execution_count": null,
   "metadata": {},
   "outputs": [
    {
     "data": {
      "text/plain": [
       "Chinese Indian North                 2317\n",
       "Indian North                         2118\n",
       "Indian South                         1232\n",
       "Chinese Indian Indian North South    1059\n",
       "Bakery Desserts                       777\n",
       "Name: cuisines, dtype: int64"
      ]
     },
     "execution_count": 147,
     "metadata": {},
     "output_type": "execute_result"
    }
   ],
   "source": [
    "df5['cuisines'] = df5['cuisines'].str.replace(',' , '') \n",
    "df5['cuisines'] = df5['cuisines'].astype(str).apply(lambda x: ' '.join(sorted(x.split())))\n",
    "df5['cuisines'].value_counts().head()"
   ]
  },
  {
   "cell_type": "code",
   "execution_count": null,
   "metadata": {},
   "outputs": [],
   "source": [
    "# df5['approx_cost(for two people)'] = df5['approx_cost(for two people)'].str.replace(',' , '') \n",
    "# df5['approx_cost(for two people)'] = df5['approx_cost(for two people)'].apply(int)"
   ]
  },
  {
   "cell_type": "code",
   "execution_count": null,
   "metadata": {},
   "outputs": [],
   "source": [
    "x = df5.drop(['rate','name'],axis = 1)\n",
    "y = df5['rate']"
   ]
  },
  {
   "cell_type": "code",
   "execution_count": null,
   "metadata": {},
   "outputs": [],
   "source": [
    "from sklearn.linear_model import LinearRegression\n",
    "from sklearn import metrics\n",
    "from sklearn import linear_model\n",
    "from sklearn.model_selection import train_test_split, cross_val_score,GridSearchCV\n",
    "from sklearn.metrics import mean_squared_error, r2_score, mean_absolute_error,make_scorer\n",
    "from sklearn.preprocessing import StandardScaler, OneHotEncoder\n",
    "from joblib import dump,load"
   ]
  },
  {
   "cell_type": "code",
   "execution_count": null,
   "metadata": {},
   "outputs": [],
   "source": [
    "X_train,X_test,y_train,y_test = train_test_split(x,y,test_size = 0.2,random_state = 42)"
   ]
  },
  {
   "cell_type": "code",
   "execution_count": null,
   "metadata": {},
   "outputs": [
    {
     "data": {
      "text/plain": [
       "['dbs/pkl/more_feature_y_test']"
      ]
     },
     "execution_count": 157,
     "metadata": {},
     "output_type": "execute_result"
    }
   ],
   "source": [
    "# save to local disk\n",
    "dump(X_train, 'dbs/pkl/more_feature_X_train')\n",
    "dump(X_test, 'dbs/pkl/more_feature_X_test')\n",
    "dump(y_train, 'dbs/pkl/more_feature_y_train')\n",
    "dump(y_test, 'dbs/pkl/more_feature_y_test')"
   ]
  },
  {
   "cell_type": "code",
   "execution_count": null,
   "metadata": {},
   "outputs": [],
   "source": [
    "X_train = load('dbs/pkl/more_feature_X_train')\n",
    "X_test = load('dbs/pkl/more_feature_X_test')\n",
    "y_train = load('dbs/pkl/more_feature_y_train')\n",
    "y_test = load('dbs/pkl/more_feature_y_test')"
   ]
  },
  {
   "cell_type": "code",
   "execution_count": null,
   "metadata": {},
   "outputs": [],
   "source": [
    "one_enc = OneHotEncoder( handle_unknown='ignore')"
   ]
  },
  {
   "cell_type": "code",
   "execution_count": null,
   "metadata": {},
   "outputs": [],
   "source": [
    "def one_hot_fit_transform(df,name):\n",
    "    output_data = df[name].values.reshape(-1, 1)\n",
    "    return one_enc.fit_transform(output_data).toarray()\n",
    "\n",
    "# this method is for test data set\n",
    "def one_hot_transform(df,name):\n",
    "    output_data1 = df[name].values.reshape(-1, 1)\n",
    "    return one_enc.transform(output_data1).toarray()"
   ]
  },
  {
   "cell_type": "code",
   "execution_count": null,
   "metadata": {},
   "outputs": [],
   "source": [
    "tr_dummy_rest_type = one_hot_fit_transform(X_train,'rest_type' )\n",
    "te_dummy_rest_type= one_hot_transform(X_test,'rest_type' )\n",
    "\n",
    "# one hot encoding apply to 'location' features on train/test dataset\n",
    "tr_dummy_city = one_hot_fit_transform(X_train,'location' )\n",
    "te_dummy_city= one_hot_transform(X_test,'location')\n",
    "\n",
    "# one hot encoding apply to 'cuisines' features on train/test dataset\n",
    "tr_dummy_cuisines = one_hot_fit_transform(X_train,'cuisines' )\n",
    "te_dummy_cuisines=one_hot_transform(X_test,'cuisines')"
   ]
  },
  {
   "cell_type": "code",
   "execution_count": null,
   "metadata": {},
   "outputs": [
    {
     "data": {
      "text/plain": [
       "(33128, 1833)"
      ]
     },
     "execution_count": 162,
     "metadata": {},
     "output_type": "execute_result"
    }
   ],
   "source": [
    "tr =pd.DataFrame(np.column_stack([ tr_dummy_rest_type,tr_dummy_city, tr_dummy_cuisines]))\n",
    "\n",
    "## CONCAT both dataframe ### ie Tr and X_train(original dataframe)\n",
    "## https://stackoverflow.com/questions/45963799/pandas-concat-resulting-in-nan-rows\n",
    "\n",
    "l1=X_train.values.tolist()\n",
    "l2=tr.values.tolist()\n",
    "\n",
    "for i in range(len(l1)):\n",
    "    l1[i].extend(l2[i])\n",
    "\n",
    "X_train=pd.DataFrame(l1,columns=X_train.columns.tolist()+tr.columns.tolist())\n",
    "X_train.shape"
   ]
  },
  {
   "cell_type": "code",
   "execution_count": null,
   "metadata": {},
   "outputs": [
    {
     "data": {
      "text/plain": [
       "(8282, 1833)"
      ]
     },
     "execution_count": 166,
     "metadata": {},
     "output_type": "execute_result"
    }
   ],
   "source": [
    "te =pd.DataFrame(np.column_stack([ te_dummy_rest_type,te_dummy_city,te_dummy_cuisines]))\n",
    "\n",
    "## CONCAT both dataframe ### ie Te and X_test(original dataframe)\n",
    "## https://stackoverflow.com/questions/45963799/pandas-concat-resulting-in-nan-rows\n",
    "\n",
    "l3=X_test.values.tolist()\n",
    "l4=te.values.tolist()\n",
    "for i in range(len(l3)):\n",
    "    l3[i].extend(l4[i])\n",
    "\n",
    "X_test=pd.DataFrame(l3,columns=X_test.columns.tolist()+te.columns.tolist())\n",
    "X_test.shape"
   ]
  },
  {
   "cell_type": "code",
   "execution_count": null,
   "metadata": {},
   "outputs": [],
   "source": [
    "X_train =X_train.drop(['location','rest_type','cuisines',],axis = 1)\n",
    "X_test =X_test.drop(['location','rest_type','cuisines',],axis = 1)"
   ]
  },
  {
   "cell_type": "code",
   "execution_count": null,
   "metadata": {},
   "outputs": [
    {
     "data": {
      "text/plain": [
       "['dbs/max_features/more_feature_y_test']"
      ]
     },
     "execution_count": 168,
     "metadata": {},
     "output_type": "execute_result"
    }
   ],
   "source": [
    "dump(X_train, 'dbs/max_features/more_feature_X_train')\n",
    "dump(X_test, 'dbs/max_features/more_feature_X_test')\n",
    "dump(y_train, 'dbs/max_features/more_feature_y_train')\n",
    "dump(y_test, 'dbs/max_features/more_feature_y_test')"
   ]
  },
  {
   "cell_type": "code",
   "execution_count": null,
   "metadata": {},
   "outputs": [],
   "source": [
    "X_train= load('dbs/max_features/more_feature_X_train') \n",
    "X_test= load('dbs/max_features/more_feature_X_test')\n",
    "y_train= load('dbs/max_features/more_feature_y_train')\n",
    "y_test= load('dbs/max_features/more_feature_y_test')"
   ]
  },
  {
   "cell_type": "code",
   "execution_count": null,
   "metadata": {},
   "outputs": [],
   "source": [
    "def mse(y, y_pred):\n",
    "    return np.mean((y_pred - y)**2) \n",
    "\n",
    "mse_scorer = make_scorer(mse, greater_is_better=False)"
   ]
  },
  {
   "cell_type": "code",
   "execution_count": null,
   "metadata": {},
   "outputs": [],
   "source": [
    "import random"
   ]
  },
  {
   "cell_type": "code",
   "execution_count": null,
   "metadata": {},
   "outputs": [
    {
     "data": {
      "text/plain": [
       "2.01723304757305"
      ]
     },
     "execution_count": 171,
     "metadata": {},
     "output_type": "execute_result"
    }
   ],
   "source": [
    "rand_pred= np.zeros(y_test.shape[0])\n",
    "for i in range(y_test.shape[0]):\n",
    "    rand_probs = round(random.uniform(1.0, 5.0),2)\n",
    "    rand_pred[i] = rand_probs\n",
    "\n",
    "mse(y_test, rand_pred)"
   ]
  },
  {
   "cell_type": "code",
   "execution_count": null,
   "metadata": {},
   "outputs": [
    {
     "name": "stderr",
     "output_type": "stream",
     "text": [
      "c:\\Users\\emreb\\Documents\\projects\\datavisu\\datavisuenv\\lib\\site-packages\\sklearn\\utils\\validation.py:1858: FutureWarning:\n",
      "\n",
      "Feature names only support names that are all strings. Got feature names with dtypes: ['int', 'str']. An error will be raised in 1.2.\n",
      "\n",
      "c:\\Users\\emreb\\Documents\\projects\\datavisu\\datavisuenv\\lib\\site-packages\\sklearn\\utils\\validation.py:1858: FutureWarning:\n",
      "\n",
      "Feature names only support names that are all strings. Got feature names with dtypes: ['int', 'str']. An error will be raised in 1.2.\n",
      "\n"
     ]
    },
    {
     "data": {
      "text/plain": [
       "622177701557.1898"
      ]
     },
     "execution_count": 172,
     "metadata": {},
     "output_type": "execute_result"
    }
   ],
   "source": [
    "lr = LinearRegression()\n",
    "lr.fit(X_train,y_train)\n",
    "y_pred_lr = lr.predict(X_test)\n",
    "\n",
    "mse(y_test, y_pred_lr)"
   ]
  },
  {
   "cell_type": "code",
   "execution_count": null,
   "metadata": {},
   "outputs": [
    {
     "name": "stderr",
     "output_type": "stream",
     "text": [
      "c:\\Users\\emreb\\Documents\\projects\\datavisu\\datavisuenv\\lib\\site-packages\\sklearn\\utils\\validation.py:1858: FutureWarning:\n",
      "\n",
      "Feature names only support names that are all strings. Got feature names with dtypes: ['int', 'str']. An error will be raised in 1.2.\n",
      "\n",
      "c:\\Users\\emreb\\Documents\\projects\\datavisu\\datavisuenv\\lib\\site-packages\\sklearn\\utils\\validation.py:1858: FutureWarning:\n",
      "\n",
      "Feature names only support names that are all strings. Got feature names with dtypes: ['int', 'str']. An error will be raised in 1.2.\n",
      "\n"
     ]
    },
    {
     "data": {
      "text/plain": [
       "7.954136034431229e+29"
      ]
     },
     "execution_count": 173,
     "metadata": {},
     "output_type": "execute_result"
    }
   ],
   "source": [
    "sgdReg = linear_model.SGDRegressor()\n",
    "sgdReg.fit(X_train,y_train)\n",
    "y_pred_sgdr = sgdReg.predict(X_test)\n",
    "\n",
    "mse(y_test, y_pred_sgdr)"
   ]
  },
  {
   "cell_type": "code",
   "execution_count": null,
   "metadata": {},
   "outputs": [
    {
     "name": "stderr",
     "output_type": "stream",
     "text": [
      "c:\\Users\\emreb\\Documents\\projects\\datavisu\\datavisuenv\\lib\\site-packages\\sklearn\\utils\\validation.py:1858: FutureWarning:\n",
      "\n",
      "Feature names only support names that are all strings. Got feature names with dtypes: ['int', 'str']. An error will be raised in 1.2.\n",
      "\n",
      "c:\\Users\\emreb\\Documents\\projects\\datavisu\\datavisuenv\\lib\\site-packages\\sklearn\\utils\\validation.py:1858: FutureWarning:\n",
      "\n",
      "Feature names only support names that are all strings. Got feature names with dtypes: ['int', 'str']. An error will be raised in 1.2.\n",
      "\n"
     ]
    },
    {
     "data": {
      "text/plain": [
       "0.012160244513044463"
      ]
     },
     "execution_count": 174,
     "metadata": {},
     "output_type": "execute_result"
    }
   ],
   "source": [
    "from sklearn.ensemble import RandomForestRegressor\n",
    "\n",
    "rfr = RandomForestRegressor()\n",
    "rfr.fit(X_train,y_train)\n",
    "y_pred_rfr = rfr.predict(X_test)\n",
    "\n",
    "mse(y_test, y_pred_rfr)"
   ]
  },
  {
   "cell_type": "code",
   "execution_count": null,
   "metadata": {},
   "outputs": [
    {
     "name": "stdout",
     "output_type": "stream",
     "text": [
      "Fitting 10 folds for each of 4 candidates, totalling 40 fits\n"
     ]
    }
   ],
   "source": [
    "# tuned_parameters = {'n_estimators': [250,500,1000,1200]}\n",
    "\n",
    "# grd_regressor = GridSearchCV(RandomForestRegressor(), tuned_parameters, cv=10, \n",
    "#                    n_jobs=-1, verbose=1, scoring=mse_scorer)\n",
    "# grd_regressor.fit(X_train, y_train)"
   ]
  },
  {
   "cell_type": "code",
   "execution_count": null,
   "metadata": {},
   "outputs": [],
   "source": [
    "rfr = RandomForestRegressor(max_depth=None,n_estimators=200,min_samples_split= 2)\n",
    "rfr.fit(X_train,y_train)\n",
    "y_pred_rfr = rfr.predict(X_test)\n",
    "\n",
    "mse(y_test, y_pred_rfr)"
   ]
  },
  {
   "cell_type": "code",
   "execution_count": null,
   "metadata": {},
   "outputs": [],
   "source": [
    "Randpred = pd.DataFrame({ \"actual\": y_test, \"pred\": y_pred_rfr })\n",
    "Randpred"
   ]
  },
  {
   "cell_type": "code",
   "execution_count": null,
   "metadata": {},
   "outputs": [],
   "source": [
    "GridSearchCV()"
   ]
  }
 ],
 "metadata": {
  "kernelspec": {
   "display_name": "Python 3.8.8 ('datavisuenv': venv)",
   "language": "python",
   "name": "python3"
  },
  "language_info": {
   "codemirror_mode": {
    "name": "ipython",
    "version": 3
   },
   "file_extension": ".py",
   "mimetype": "text/x-python",
   "name": "python",
   "nbconvert_exporter": "python",
   "pygments_lexer": "ipython3",
   "version": "3.8.8"
  },
  "orig_nbformat": 4,
  "vscode": {
   "interpreter": {
    "hash": "6e54e68b4092a69f3cbb5e9783191ffa79733421530db111a3b691e76636262a"
   }
  }
 },
 "nbformat": 4,
 "nbformat_minor": 2
}
